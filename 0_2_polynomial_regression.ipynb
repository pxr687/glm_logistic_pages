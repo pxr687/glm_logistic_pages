{
 "cells": [
  {
   "cell_type": "markdown",
   "id": "8aae2668",
   "metadata": {},
   "source": [
    "## Polynomial regression\n",
    "\n",
    "On this page we will look at another extension of the linear model, called polynomial regression. Somewhat paradoxically, it lets us model more complex, curved and non-linear relationships. We'll see what this means specifically in a moment. What we will learn on this page applies to all generalized linear models, of which you will remember linear regression is a special case. With regard to other generalized linear models, the effect is the same - it lets us model more complex and non-linear relationships.\n",
    "\n",
    "You'll remember that all generalized linear models have the following form:\n",
    "\n",
    "$\\Large f(\\hat{\\mu}_i) = b_0 + b_1 x_{1i} + b_2 x_{2i} + ... b_k x_{ki}$\n",
    "\n",
    "Where, on the left hand side of the equals sign, we have $\\hat{\\mu}_i$ (our predicted outcome score), and $f()$ the *link* function. The link function, depending what it is, can force the predictions to fall on a specific scale, as we saw with logistic regression.\n",
    "\n",
    "What we will learn today about polynomial regression applies to the righthand side of the equation above and as such it can be used with every type of generalized linear model (GLM). The models we will use today use the identity link function (e.g. the same one as linear regression), so they produce predictions potentially ranging from negative to positive infinity. (Typically these are the models we would refer to as \"polynomial regression\", but the modifications to the right hand side of the equation can be used with any GLM).\n",
    "\n",
    "We will look at fitting polynomial regression models from both a \"Culture One\" and \"Culture Two\" perspective, and will continue exploring concepts relating to overfitting and underfitting, and balancing complexity and parsimony.\n",
    "\n",
    "The dataset we will use from this page is from the [UCI Machine Learning Repository](https://archive.ics.uci.edu/dataset/9/auto+mpg) and regards the fuel consumption of various models of cars. Here is a description of each of the variables in this dataset (from [here](https://www.kaggle.com/code/xshaimaa/auto-mpg-dataset-eda)):\n",
    "\n",
    "`mpg` - miles per galon of fuel (continuous variable)\n",
    "\n",
    "`cylinders` - number of engine cylinders (multi-valued discrete variable).\n",
    "\n",
    "`displacement` - [volume of air displaced by the engine] (continuous variable)\n",
    "\n",
    "`horsepower` - the power produced by engine to move the car (continuous variable)\n",
    "\n",
    "`weight` - car weight (continuous variable)\n",
    "\n",
    "`acceleration` - the acceleration an engine can get per second (continuous variable)\n",
    "\n",
    "`year` - car release year from 1970 to 1982(multi-valued discrete variable)\n",
    "\n",
    "`origin` - car manufacturing place (1 -> USA, 2 -> Europe, 3 -> Asia) (multi-valued discrete variable)\n",
    "\n",
    "`name` - car model name (unique for each instance)\n",
    "\n",
    "Let's begin by importing some libraries:"
   ]
  },
  {
   "cell_type": "code",
   "execution_count": 36,
   "id": "de03fa7b",
   "metadata": {},
   "outputs": [
    {
     "data": {
      "text/html": [
       "<div>\n",
       "<style scoped>\n",
       "    .dataframe tbody tr th:only-of-type {\n",
       "        vertical-align: middle;\n",
       "    }\n",
       "\n",
       "    .dataframe tbody tr th {\n",
       "        vertical-align: top;\n",
       "    }\n",
       "\n",
       "    .dataframe thead th {\n",
       "        text-align: right;\n",
       "    }\n",
       "</style>\n",
       "<table border=\"1\" class=\"dataframe\">\n",
       "  <thead>\n",
       "    <tr style=\"text-align: right;\">\n",
       "      <th></th>\n",
       "      <th>mpg</th>\n",
       "      <th>cylinders</th>\n",
       "      <th>displacement</th>\n",
       "      <th>horsepower</th>\n",
       "      <th>weight</th>\n",
       "      <th>acceleration</th>\n",
       "      <th>year</th>\n",
       "      <th>origin</th>\n",
       "      <th>name</th>\n",
       "    </tr>\n",
       "  </thead>\n",
       "  <tbody>\n",
       "    <tr>\n",
       "      <th>0</th>\n",
       "      <td>18.0</td>\n",
       "      <td>8</td>\n",
       "      <td>307.0</td>\n",
       "      <td>130</td>\n",
       "      <td>3504</td>\n",
       "      <td>12.0</td>\n",
       "      <td>70</td>\n",
       "      <td>1</td>\n",
       "      <td>chevrolet chevelle malibu</td>\n",
       "    </tr>\n",
       "    <tr>\n",
       "      <th>1</th>\n",
       "      <td>15.0</td>\n",
       "      <td>8</td>\n",
       "      <td>350.0</td>\n",
       "      <td>165</td>\n",
       "      <td>3693</td>\n",
       "      <td>11.5</td>\n",
       "      <td>70</td>\n",
       "      <td>1</td>\n",
       "      <td>buick skylark 320</td>\n",
       "    </tr>\n",
       "    <tr>\n",
       "      <th>2</th>\n",
       "      <td>18.0</td>\n",
       "      <td>8</td>\n",
       "      <td>318.0</td>\n",
       "      <td>150</td>\n",
       "      <td>3436</td>\n",
       "      <td>11.0</td>\n",
       "      <td>70</td>\n",
       "      <td>1</td>\n",
       "      <td>plymouth satellite</td>\n",
       "    </tr>\n",
       "    <tr>\n",
       "      <th>3</th>\n",
       "      <td>16.0</td>\n",
       "      <td>8</td>\n",
       "      <td>304.0</td>\n",
       "      <td>150</td>\n",
       "      <td>3433</td>\n",
       "      <td>12.0</td>\n",
       "      <td>70</td>\n",
       "      <td>1</td>\n",
       "      <td>amc rebel sst</td>\n",
       "    </tr>\n",
       "    <tr>\n",
       "      <th>4</th>\n",
       "      <td>17.0</td>\n",
       "      <td>8</td>\n",
       "      <td>302.0</td>\n",
       "      <td>140</td>\n",
       "      <td>3449</td>\n",
       "      <td>10.5</td>\n",
       "      <td>70</td>\n",
       "      <td>1</td>\n",
       "      <td>ford torino</td>\n",
       "    </tr>\n",
       "    <tr>\n",
       "      <th>5</th>\n",
       "      <td>15.0</td>\n",
       "      <td>8</td>\n",
       "      <td>429.0</td>\n",
       "      <td>198</td>\n",
       "      <td>4341</td>\n",
       "      <td>10.0</td>\n",
       "      <td>70</td>\n",
       "      <td>1</td>\n",
       "      <td>ford galaxie 500</td>\n",
       "    </tr>\n",
       "    <tr>\n",
       "      <th>6</th>\n",
       "      <td>14.0</td>\n",
       "      <td>8</td>\n",
       "      <td>454.0</td>\n",
       "      <td>220</td>\n",
       "      <td>4354</td>\n",
       "      <td>9.0</td>\n",
       "      <td>70</td>\n",
       "      <td>1</td>\n",
       "      <td>chevrolet impala</td>\n",
       "    </tr>\n",
       "    <tr>\n",
       "      <th>7</th>\n",
       "      <td>14.0</td>\n",
       "      <td>8</td>\n",
       "      <td>440.0</td>\n",
       "      <td>215</td>\n",
       "      <td>4312</td>\n",
       "      <td>8.5</td>\n",
       "      <td>70</td>\n",
       "      <td>1</td>\n",
       "      <td>plymouth fury iii</td>\n",
       "    </tr>\n",
       "    <tr>\n",
       "      <th>8</th>\n",
       "      <td>14.0</td>\n",
       "      <td>8</td>\n",
       "      <td>455.0</td>\n",
       "      <td>225</td>\n",
       "      <td>4425</td>\n",
       "      <td>10.0</td>\n",
       "      <td>70</td>\n",
       "      <td>1</td>\n",
       "      <td>pontiac catalina</td>\n",
       "    </tr>\n",
       "    <tr>\n",
       "      <th>9</th>\n",
       "      <td>15.0</td>\n",
       "      <td>8</td>\n",
       "      <td>390.0</td>\n",
       "      <td>190</td>\n",
       "      <td>3850</td>\n",
       "      <td>8.5</td>\n",
       "      <td>70</td>\n",
       "      <td>1</td>\n",
       "      <td>amc ambassador dpl</td>\n",
       "    </tr>\n",
       "    <tr>\n",
       "      <th>10</th>\n",
       "      <td>15.0</td>\n",
       "      <td>8</td>\n",
       "      <td>383.0</td>\n",
       "      <td>170</td>\n",
       "      <td>3563</td>\n",
       "      <td>10.0</td>\n",
       "      <td>70</td>\n",
       "      <td>1</td>\n",
       "      <td>dodge challenger se</td>\n",
       "    </tr>\n",
       "    <tr>\n",
       "      <th>11</th>\n",
       "      <td>14.0</td>\n",
       "      <td>8</td>\n",
       "      <td>340.0</td>\n",
       "      <td>160</td>\n",
       "      <td>3609</td>\n",
       "      <td>8.0</td>\n",
       "      <td>70</td>\n",
       "      <td>1</td>\n",
       "      <td>plymouth 'cuda 340</td>\n",
       "    </tr>\n",
       "    <tr>\n",
       "      <th>12</th>\n",
       "      <td>15.0</td>\n",
       "      <td>8</td>\n",
       "      <td>400.0</td>\n",
       "      <td>150</td>\n",
       "      <td>3761</td>\n",
       "      <td>9.5</td>\n",
       "      <td>70</td>\n",
       "      <td>1</td>\n",
       "      <td>chevrolet monte carlo</td>\n",
       "    </tr>\n",
       "    <tr>\n",
       "      <th>13</th>\n",
       "      <td>14.0</td>\n",
       "      <td>8</td>\n",
       "      <td>455.0</td>\n",
       "      <td>225</td>\n",
       "      <td>3086</td>\n",
       "      <td>10.0</td>\n",
       "      <td>70</td>\n",
       "      <td>1</td>\n",
       "      <td>buick estate wagon (sw)</td>\n",
       "    </tr>\n",
       "    <tr>\n",
       "      <th>14</th>\n",
       "      <td>24.0</td>\n",
       "      <td>4</td>\n",
       "      <td>113.0</td>\n",
       "      <td>95</td>\n",
       "      <td>2372</td>\n",
       "      <td>15.0</td>\n",
       "      <td>70</td>\n",
       "      <td>3</td>\n",
       "      <td>toyota corona mark ii</td>\n",
       "    </tr>\n",
       "    <tr>\n",
       "      <th>15</th>\n",
       "      <td>22.0</td>\n",
       "      <td>6</td>\n",
       "      <td>198.0</td>\n",
       "      <td>95</td>\n",
       "      <td>2833</td>\n",
       "      <td>15.5</td>\n",
       "      <td>70</td>\n",
       "      <td>1</td>\n",
       "      <td>plymouth duster</td>\n",
       "    </tr>\n",
       "    <tr>\n",
       "      <th>16</th>\n",
       "      <td>18.0</td>\n",
       "      <td>6</td>\n",
       "      <td>199.0</td>\n",
       "      <td>97</td>\n",
       "      <td>2774</td>\n",
       "      <td>15.5</td>\n",
       "      <td>70</td>\n",
       "      <td>1</td>\n",
       "      <td>amc hornet</td>\n",
       "    </tr>\n",
       "    <tr>\n",
       "      <th>17</th>\n",
       "      <td>21.0</td>\n",
       "      <td>6</td>\n",
       "      <td>200.0</td>\n",
       "      <td>85</td>\n",
       "      <td>2587</td>\n",
       "      <td>16.0</td>\n",
       "      <td>70</td>\n",
       "      <td>1</td>\n",
       "      <td>ford maverick</td>\n",
       "    </tr>\n",
       "    <tr>\n",
       "      <th>18</th>\n",
       "      <td>27.0</td>\n",
       "      <td>4</td>\n",
       "      <td>97.0</td>\n",
       "      <td>88</td>\n",
       "      <td>2130</td>\n",
       "      <td>14.5</td>\n",
       "      <td>70</td>\n",
       "      <td>3</td>\n",
       "      <td>datsun pl510</td>\n",
       "    </tr>\n",
       "    <tr>\n",
       "      <th>19</th>\n",
       "      <td>26.0</td>\n",
       "      <td>4</td>\n",
       "      <td>97.0</td>\n",
       "      <td>46</td>\n",
       "      <td>1835</td>\n",
       "      <td>20.5</td>\n",
       "      <td>70</td>\n",
       "      <td>2</td>\n",
       "      <td>volkswagen 1131 deluxe sedan</td>\n",
       "    </tr>\n",
       "  </tbody>\n",
       "</table>\n",
       "</div>"
      ],
      "text/plain": [
       "     mpg  cylinders  displacement  horsepower  weight  acceleration  year  \\\n",
       "0   18.0          8         307.0         130    3504          12.0    70   \n",
       "1   15.0          8         350.0         165    3693          11.5    70   \n",
       "2   18.0          8         318.0         150    3436          11.0    70   \n",
       "3   16.0          8         304.0         150    3433          12.0    70   \n",
       "4   17.0          8         302.0         140    3449          10.5    70   \n",
       "5   15.0          8         429.0         198    4341          10.0    70   \n",
       "6   14.0          8         454.0         220    4354           9.0    70   \n",
       "7   14.0          8         440.0         215    4312           8.5    70   \n",
       "8   14.0          8         455.0         225    4425          10.0    70   \n",
       "9   15.0          8         390.0         190    3850           8.5    70   \n",
       "10  15.0          8         383.0         170    3563          10.0    70   \n",
       "11  14.0          8         340.0         160    3609           8.0    70   \n",
       "12  15.0          8         400.0         150    3761           9.5    70   \n",
       "13  14.0          8         455.0         225    3086          10.0    70   \n",
       "14  24.0          4         113.0          95    2372          15.0    70   \n",
       "15  22.0          6         198.0          95    2833          15.5    70   \n",
       "16  18.0          6         199.0          97    2774          15.5    70   \n",
       "17  21.0          6         200.0          85    2587          16.0    70   \n",
       "18  27.0          4          97.0          88    2130          14.5    70   \n",
       "19  26.0          4          97.0          46    1835          20.5    70   \n",
       "\n",
       "    origin                          name  \n",
       "0        1     chevrolet chevelle malibu  \n",
       "1        1             buick skylark 320  \n",
       "2        1            plymouth satellite  \n",
       "3        1                 amc rebel sst  \n",
       "4        1                   ford torino  \n",
       "5        1              ford galaxie 500  \n",
       "6        1              chevrolet impala  \n",
       "7        1             plymouth fury iii  \n",
       "8        1              pontiac catalina  \n",
       "9        1            amc ambassador dpl  \n",
       "10       1           dodge challenger se  \n",
       "11       1            plymouth 'cuda 340  \n",
       "12       1         chevrolet monte carlo  \n",
       "13       1       buick estate wagon (sw)  \n",
       "14       3         toyota corona mark ii  \n",
       "15       1               plymouth duster  \n",
       "16       1                    amc hornet  \n",
       "17       1                 ford maverick  \n",
       "18       3                  datsun pl510  \n",
       "19       2  volkswagen 1131 deluxe sedan  "
      ]
     },
     "metadata": {},
     "output_type": "display_data"
    }
   ],
   "source": [
    "# library imports\n",
    "import numpy as np\n",
    "import pandas as pd\n",
    "import matplotlib.pyplot as plt\n",
    "import plotly.express as px\n",
    "import plotly.graph_objects as go\n",
    "import plotly.subplots as sp\n",
    "import statsmodels.formula.api as smf\n",
    "from jupyprint import jupyprint, arraytex\n",
    "from ipywidgets import interact\n",
    "\n",
    "# interactive plotting function\n",
    "def plotly_3D_polynomial(dataset, x1_string, x2_string, y_string, hover_string_list,\n",
    "                         x1_slope, x2_slope, intercept, x1_poly_slopes, model_title_string=''):\n",
    "    \"\"\"Interactive 3D scatter, via plotly.\"\"\"\n",
    "    \n",
    "    # create the scatterplot\n",
    "    scatter_3d = px.scatter_3d(dataset, x=x1_string, y=x2_string, z=y_string,\n",
    "                          hover_data= hover_string_list)\n",
    "\n",
    "    # generate the regression surface\n",
    "    x1 = np.linspace(np.min(dataset[x1_string]), np.max(dataset[x1_string]))\n",
    "    x2 = np.linspace(np.min(dataset[x2_string]), np.max(dataset[x2_string]))\n",
    "    x1, x2 = np.meshgrid(x1, x2)\n",
    "\n",
    "    # generate predictions without the polynomial term\n",
    "    y = x1_slope * x1 + x2_slope * x2 + intercept\n",
    "\n",
    "    # add in the polynomial term\n",
    "    for slope, degree in zip(x1_poly_slopes, np.arange(2, len(x1_poly_slopes)+2)):\n",
    "        y = y + slope * x1**degree\n",
    "    \n",
    "    scatter_3d.add_trace(go.Surface(x=x1, y=x2, z=y, opacity=0.6))\n",
    "                     \n",
    "    # add a title to the plot and adjust view angle\n",
    "    scatter_3d.update_layout(title=model_title_string,\n",
    "                             scene={'camera': {'up': {'x': 0, 'y': 0, 'z': 1},\n",
    "                                    'center': {'x': 0, 'y': 0, 'z': 0},\n",
    "                                    'eye': {'x': 1.6, 'y': -1.6, 'z': 0.6}}},\n",
    "                                     legend={\"yanchor\" : \"top\",\n",
    "                                        \"y\" : 0.99,\n",
    "                                        \"xanchor\" : \"left\",\n",
    "                                        \"x\" : 0.01})\n",
    "    # show the plot\n",
    "    scatter_3d.show()\n",
    "\n",
    "# import the data\n",
    "cars_df = pd.read_csv('data/Auto.csv')\n",
    "\n",
    "display(cars_df.head(20))"
   ]
  },
  {
   "cell_type": "markdown",
   "id": "fc22b894",
   "metadata": {},
   "source": [
    "The first model we will fit is specified below:\n",
    "\n",
    "`mpg ~ horsepower`\n",
    "\n",
    "...meaning we will predict `mpg` as a function of `horsepower`.\n",
    "\n",
    "As always, it's a good idea to start with graphically inspecting the data, so lets inspect a scatterplot of these two variables:"
   ]
  },
  {
   "cell_type": "code",
   "execution_count": 37,
   "id": "f41bd371",
   "metadata": {},
   "outputs": [
    {
     "data": {
      "application/vnd.plotly.v1+json": {
       "config": {
        "plotlyServerURL": "https://plot.ly"
       },
       "data": [
        {
         "customdata": [
          [
           "chevrolet chevelle malibu"
          ],
          [
           "buick skylark 320"
          ],
          [
           "plymouth satellite"
          ],
          [
           "amc rebel sst"
          ],
          [
           "ford torino"
          ],
          [
           "ford galaxie 500"
          ],
          [
           "chevrolet impala"
          ],
          [
           "plymouth fury iii"
          ],
          [
           "pontiac catalina"
          ],
          [
           "amc ambassador dpl"
          ],
          [
           "dodge challenger se"
          ],
          [
           "plymouth 'cuda 340"
          ],
          [
           "chevrolet monte carlo"
          ],
          [
           "buick estate wagon (sw)"
          ],
          [
           "toyota corona mark ii"
          ],
          [
           "plymouth duster"
          ],
          [
           "amc hornet"
          ],
          [
           "ford maverick"
          ],
          [
           "datsun pl510"
          ],
          [
           "volkswagen 1131 deluxe sedan"
          ],
          [
           "peugeot 504"
          ],
          [
           "audi 100 ls"
          ],
          [
           "saab 99e"
          ],
          [
           "bmw 2002"
          ],
          [
           "amc gremlin"
          ],
          [
           "ford f250"
          ],
          [
           "chevy c20"
          ],
          [
           "dodge d200"
          ],
          [
           "hi 1200d"
          ],
          [
           "datsun pl510"
          ],
          [
           "chevrolet vega 2300"
          ],
          [
           "toyota corona"
          ],
          [
           "amc gremlin"
          ],
          [
           "plymouth satellite custom"
          ],
          [
           "chevrolet chevelle malibu"
          ],
          [
           "ford torino 500"
          ],
          [
           "amc matador"
          ],
          [
           "chevrolet impala"
          ],
          [
           "pontiac catalina brougham"
          ],
          [
           "ford galaxie 500"
          ],
          [
           "plymouth fury iii"
          ],
          [
           "dodge monaco (sw)"
          ],
          [
           "ford country squire (sw)"
          ],
          [
           "pontiac safari (sw)"
          ],
          [
           "amc hornet sportabout (sw)"
          ],
          [
           "chevrolet vega (sw)"
          ],
          [
           "pontiac firebird"
          ],
          [
           "ford mustang"
          ],
          [
           "mercury capri 2000"
          ],
          [
           "opel 1900"
          ],
          [
           "peugeot 304"
          ],
          [
           "fiat 124b"
          ],
          [
           "toyota corolla 1200"
          ],
          [
           "datsun 1200"
          ],
          [
           "volkswagen model 111"
          ],
          [
           "plymouth cricket"
          ],
          [
           "toyota corona hardtop"
          ],
          [
           "dodge colt hardtop"
          ],
          [
           "volkswagen type 3"
          ],
          [
           "chevrolet vega"
          ],
          [
           "ford pinto runabout"
          ],
          [
           "chevrolet impala"
          ],
          [
           "pontiac catalina"
          ],
          [
           "plymouth fury iii"
          ],
          [
           "ford galaxie 500"
          ],
          [
           "amc ambassador sst"
          ],
          [
           "mercury marquis"
          ],
          [
           "buick lesabre custom"
          ],
          [
           "oldsmobile delta 88 royale"
          ],
          [
           "chrysler newport royal"
          ],
          [
           "mazda rx2 coupe"
          ],
          [
           "amc matador (sw)"
          ],
          [
           "chevrolet chevelle concours (sw)"
          ],
          [
           "ford gran torino (sw)"
          ],
          [
           "plymouth satellite custom (sw)"
          ],
          [
           "volvo 145e (sw)"
          ],
          [
           "volkswagen 411 (sw)"
          ],
          [
           "peugeot 504 (sw)"
          ],
          [
           "renault 12 (sw)"
          ],
          [
           "ford pinto (sw)"
          ],
          [
           "datsun 510 (sw)"
          ],
          [
           "toyouta corona mark ii (sw)"
          ],
          [
           "dodge colt (sw)"
          ],
          [
           "toyota corolla 1600 (sw)"
          ],
          [
           "buick century 350"
          ],
          [
           "amc matador"
          ],
          [
           "chevrolet malibu"
          ],
          [
           "ford gran torino"
          ],
          [
           "dodge coronet custom"
          ],
          [
           "mercury marquis brougham"
          ],
          [
           "chevrolet caprice classic"
          ],
          [
           "ford ltd"
          ],
          [
           "plymouth fury gran sedan"
          ],
          [
           "chrysler new yorker brougham"
          ],
          [
           "buick electra 225 custom"
          ],
          [
           "amc ambassador brougham"
          ],
          [
           "plymouth valiant"
          ],
          [
           "chevrolet nova custom"
          ],
          [
           "amc hornet"
          ],
          [
           "ford maverick"
          ],
          [
           "plymouth duster"
          ],
          [
           "volkswagen super beetle"
          ],
          [
           "chevrolet impala"
          ],
          [
           "ford country"
          ],
          [
           "plymouth custom suburb"
          ],
          [
           "oldsmobile vista cruiser"
          ],
          [
           "amc gremlin"
          ],
          [
           "toyota carina"
          ],
          [
           "chevrolet vega"
          ],
          [
           "datsun 610"
          ],
          [
           "maxda rx3"
          ],
          [
           "ford pinto"
          ],
          [
           "mercury capri v6"
          ],
          [
           "fiat 124 sport coupe"
          ],
          [
           "chevrolet monte carlo s"
          ],
          [
           "pontiac grand prix"
          ],
          [
           "fiat 128"
          ],
          [
           "opel manta"
          ],
          [
           "audi 100ls"
          ],
          [
           "volvo 144ea"
          ],
          [
           "dodge dart custom"
          ],
          [
           "saab 99le"
          ],
          [
           "toyota mark ii"
          ],
          [
           "oldsmobile omega"
          ],
          [
           "plymouth duster"
          ],
          [
           "amc hornet"
          ],
          [
           "chevrolet nova"
          ],
          [
           "datsun b210"
          ],
          [
           "ford pinto"
          ],
          [
           "toyota corolla 1200"
          ],
          [
           "chevrolet vega"
          ],
          [
           "chevrolet chevelle malibu classic"
          ],
          [
           "amc matador"
          ],
          [
           "plymouth satellite sebring"
          ],
          [
           "ford gran torino"
          ],
          [
           "buick century luxus (sw)"
          ],
          [
           "dodge coronet custom (sw)"
          ],
          [
           "ford gran torino (sw)"
          ],
          [
           "amc matador (sw)"
          ],
          [
           "audi fox"
          ],
          [
           "volkswagen dasher"
          ],
          [
           "opel manta"
          ],
          [
           "toyota corona"
          ],
          [
           "datsun 710"
          ],
          [
           "dodge colt"
          ],
          [
           "fiat 128"
          ],
          [
           "fiat 124 tc"
          ],
          [
           "honda civic"
          ],
          [
           "subaru"
          ],
          [
           "fiat x1.9"
          ],
          [
           "plymouth valiant custom"
          ],
          [
           "chevrolet nova"
          ],
          [
           "mercury monarch"
          ],
          [
           "ford maverick"
          ],
          [
           "pontiac catalina"
          ],
          [
           "chevrolet bel air"
          ],
          [
           "plymouth grand fury"
          ],
          [
           "ford ltd"
          ],
          [
           "buick century"
          ],
          [
           "chevroelt chevelle malibu"
          ],
          [
           "amc matador"
          ],
          [
           "plymouth fury"
          ],
          [
           "buick skyhawk"
          ],
          [
           "chevrolet monza 2+2"
          ],
          [
           "ford mustang ii"
          ],
          [
           "toyota corolla"
          ],
          [
           "ford pinto"
          ],
          [
           "amc gremlin"
          ],
          [
           "pontiac astro"
          ],
          [
           "toyota corona"
          ],
          [
           "volkswagen dasher"
          ],
          [
           "datsun 710"
          ],
          [
           "ford pinto"
          ],
          [
           "volkswagen rabbit"
          ],
          [
           "amc pacer"
          ],
          [
           "audi 100ls"
          ],
          [
           "peugeot 504"
          ],
          [
           "volvo 244dl"
          ],
          [
           "saab 99le"
          ],
          [
           "honda civic cvcc"
          ],
          [
           "fiat 131"
          ],
          [
           "opel 1900"
          ],
          [
           "capri ii"
          ],
          [
           "dodge colt"
          ],
          [
           "renault 12tl"
          ],
          [
           "chevrolet chevelle malibu classic"
          ],
          [
           "dodge coronet brougham"
          ],
          [
           "amc matador"
          ],
          [
           "ford gran torino"
          ],
          [
           "plymouth valiant"
          ],
          [
           "chevrolet nova"
          ],
          [
           "ford maverick"
          ],
          [
           "amc hornet"
          ],
          [
           "chevrolet chevette"
          ],
          [
           "chevrolet woody"
          ],
          [
           "vw rabbit"
          ],
          [
           "honda civic"
          ],
          [
           "dodge aspen se"
          ],
          [
           "ford granada ghia"
          ],
          [
           "pontiac ventura sj"
          ],
          [
           "amc pacer d/l"
          ],
          [
           "volkswagen rabbit"
          ],
          [
           "datsun b-210"
          ],
          [
           "toyota corolla"
          ],
          [
           "ford pinto"
          ],
          [
           "volvo 245"
          ],
          [
           "plymouth volare premier v8"
          ],
          [
           "peugeot 504"
          ],
          [
           "toyota mark ii"
          ],
          [
           "mercedes-benz 280s"
          ],
          [
           "cadillac seville"
          ],
          [
           "chevy c10"
          ],
          [
           "ford f108"
          ],
          [
           "dodge d100"
          ],
          [
           "honda accord cvcc"
          ],
          [
           "buick opel isuzu deluxe"
          ],
          [
           "renault 5 gtl"
          ],
          [
           "plymouth arrow gs"
          ],
          [
           "datsun f-10 hatchback"
          ],
          [
           "chevrolet caprice classic"
          ],
          [
           "oldsmobile cutlass supreme"
          ],
          [
           "dodge monaco brougham"
          ],
          [
           "mercury cougar brougham"
          ],
          [
           "chevrolet concours"
          ],
          [
           "buick skylark"
          ],
          [
           "plymouth volare custom"
          ],
          [
           "ford granada"
          ],
          [
           "pontiac grand prix lj"
          ],
          [
           "chevrolet monte carlo landau"
          ],
          [
           "chrysler cordoba"
          ],
          [
           "ford thunderbird"
          ],
          [
           "volkswagen rabbit custom"
          ],
          [
           "pontiac sunbird coupe"
          ],
          [
           "toyota corolla liftback"
          ],
          [
           "ford mustang ii 2+2"
          ],
          [
           "chevrolet chevette"
          ],
          [
           "dodge colt m/m"
          ],
          [
           "subaru dl"
          ],
          [
           "volkswagen dasher"
          ],
          [
           "datsun 810"
          ],
          [
           "bmw 320i"
          ],
          [
           "mazda rx-4"
          ],
          [
           "volkswagen rabbit custom diesel"
          ],
          [
           "ford fiesta"
          ],
          [
           "mazda glc deluxe"
          ],
          [
           "datsun b210 gx"
          ],
          [
           "honda civic cvcc"
          ],
          [
           "oldsmobile cutlass salon brougham"
          ],
          [
           "dodge diplomat"
          ],
          [
           "mercury monarch ghia"
          ],
          [
           "pontiac phoenix lj"
          ],
          [
           "chevrolet malibu"
          ],
          [
           "ford fairmont (auto)"
          ],
          [
           "ford fairmont (man)"
          ],
          [
           "plymouth volare"
          ],
          [
           "amc concord"
          ],
          [
           "buick century special"
          ],
          [
           "mercury zephyr"
          ],
          [
           "dodge aspen"
          ],
          [
           "amc concord d/l"
          ],
          [
           "chevrolet monte carlo landau"
          ],
          [
           "buick regal sport coupe (turbo)"
          ],
          [
           "ford futura"
          ],
          [
           "dodge magnum xe"
          ],
          [
           "chevrolet chevette"
          ],
          [
           "toyota corona"
          ],
          [
           "datsun 510"
          ],
          [
           "dodge omni"
          ],
          [
           "toyota celica gt liftback"
          ],
          [
           "plymouth sapporo"
          ],
          [
           "oldsmobile starfire sx"
          ],
          [
           "datsun 200-sx"
          ],
          [
           "audi 5000"
          ],
          [
           "volvo 264gl"
          ],
          [
           "saab 99gle"
          ],
          [
           "peugeot 604sl"
          ],
          [
           "volkswagen scirocco"
          ],
          [
           "honda accord lx"
          ],
          [
           "pontiac lemans v6"
          ],
          [
           "mercury zephyr 6"
          ],
          [
           "ford fairmont 4"
          ],
          [
           "amc concord dl 6"
          ],
          [
           "dodge aspen 6"
          ],
          [
           "chevrolet caprice classic"
          ],
          [
           "ford ltd landau"
          ],
          [
           "mercury grand marquis"
          ],
          [
           "dodge st. regis"
          ],
          [
           "buick estate wagon (sw)"
          ],
          [
           "ford country squire (sw)"
          ],
          [
           "chevrolet malibu classic (sw)"
          ],
          [
           "chrysler lebaron town @ country (sw)"
          ],
          [
           "vw rabbit custom"
          ],
          [
           "maxda glc deluxe"
          ],
          [
           "dodge colt hatchback custom"
          ],
          [
           "amc spirit dl"
          ],
          [
           "mercedes benz 300d"
          ],
          [
           "cadillac eldorado"
          ],
          [
           "peugeot 504"
          ],
          [
           "oldsmobile cutlass salon brougham"
          ],
          [
           "plymouth horizon"
          ],
          [
           "plymouth horizon tc3"
          ],
          [
           "datsun 210"
          ],
          [
           "fiat strada custom"
          ],
          [
           "buick skylark limited"
          ],
          [
           "chevrolet citation"
          ],
          [
           "oldsmobile omega brougham"
          ],
          [
           "pontiac phoenix"
          ],
          [
           "vw rabbit"
          ],
          [
           "toyota corolla tercel"
          ],
          [
           "chevrolet chevette"
          ],
          [
           "datsun 310"
          ],
          [
           "chevrolet citation"
          ],
          [
           "ford fairmont"
          ],
          [
           "amc concord"
          ],
          [
           "dodge aspen"
          ],
          [
           "audi 4000"
          ],
          [
           "toyota corona liftback"
          ],
          [
           "mazda 626"
          ],
          [
           "datsun 510 hatchback"
          ],
          [
           "toyota corolla"
          ],
          [
           "mazda glc"
          ],
          [
           "dodge colt"
          ],
          [
           "datsun 210"
          ],
          [
           "vw rabbit c (diesel)"
          ],
          [
           "vw dasher (diesel)"
          ],
          [
           "audi 5000s (diesel)"
          ],
          [
           "mercedes-benz 240d"
          ],
          [
           "honda civic 1500 gl"
          ],
          [
           "subaru dl"
          ],
          [
           "vokswagen rabbit"
          ],
          [
           "datsun 280-zx"
          ],
          [
           "mazda rx-7 gs"
          ],
          [
           "triumph tr7 coupe"
          ],
          [
           "honda accord"
          ],
          [
           "plymouth reliant"
          ],
          [
           "buick skylark"
          ],
          [
           "dodge aries wagon (sw)"
          ],
          [
           "chevrolet citation"
          ],
          [
           "plymouth reliant"
          ],
          [
           "toyota starlet"
          ],
          [
           "plymouth champ"
          ],
          [
           "honda civic 1300"
          ],
          [
           "subaru"
          ],
          [
           "datsun 210 mpg"
          ],
          [
           "toyota tercel"
          ],
          [
           "mazda glc 4"
          ],
          [
           "plymouth horizon 4"
          ],
          [
           "ford escort 4w"
          ],
          [
           "ford escort 2h"
          ],
          [
           "volkswagen jetta"
          ],
          [
           "honda prelude"
          ],
          [
           "toyota corolla"
          ],
          [
           "datsun 200sx"
          ],
          [
           "mazda 626"
          ],
          [
           "peugeot 505s turbo diesel"
          ],
          [
           "volvo diesel"
          ],
          [
           "toyota cressida"
          ],
          [
           "datsun 810 maxima"
          ],
          [
           "buick century"
          ],
          [
           "oldsmobile cutlass ls"
          ],
          [
           "ford granada gl"
          ],
          [
           "chrysler lebaron salon"
          ],
          [
           "chevrolet cavalier"
          ],
          [
           "chevrolet cavalier wagon"
          ],
          [
           "chevrolet cavalier 2-door"
          ],
          [
           "pontiac j2000 se hatchback"
          ],
          [
           "dodge aries se"
          ],
          [
           "pontiac phoenix"
          ],
          [
           "ford fairmont futura"
          ],
          [
           "volkswagen rabbit l"
          ],
          [
           "mazda glc custom l"
          ],
          [
           "mazda glc custom"
          ],
          [
           "plymouth horizon miser"
          ],
          [
           "mercury lynx l"
          ],
          [
           "nissan stanza xe"
          ],
          [
           "honda accord"
          ],
          [
           "toyota corolla"
          ],
          [
           "honda civic"
          ],
          [
           "honda civic (auto)"
          ],
          [
           "datsun 310 gx"
          ],
          [
           "buick century limited"
          ],
          [
           "oldsmobile cutlass ciera (diesel)"
          ],
          [
           "chrysler lebaron medallion"
          ],
          [
           "ford granada l"
          ],
          [
           "toyota celica gt"
          ],
          [
           "dodge charger 2.2"
          ],
          [
           "chevrolet camaro"
          ],
          [
           "ford mustang gl"
          ],
          [
           "vw pickup"
          ],
          [
           "dodge rampage"
          ],
          [
           "ford ranger"
          ],
          [
           "chevy s-10"
          ]
         ],
         "hovertemplate": "horsepower=%{x}<br>mpg=%{y}<br>name=%{customdata[0]}<extra></extra>",
         "legendgroup": "",
         "marker": {
          "color": "blue",
          "symbol": "circle"
         },
         "mode": "markers",
         "name": "",
         "orientation": "v",
         "showlegend": false,
         "type": "scatter",
         "x": [
          130,
          165,
          150,
          150,
          140,
          198,
          220,
          215,
          225,
          190,
          170,
          160,
          150,
          225,
          95,
          95,
          97,
          85,
          88,
          46,
          87,
          90,
          95,
          113,
          90,
          215,
          200,
          210,
          193,
          88,
          90,
          95,
          100,
          105,
          100,
          88,
          100,
          165,
          175,
          153,
          150,
          180,
          170,
          175,
          110,
          72,
          100,
          88,
          86,
          90,
          70,
          76,
          65,
          69,
          60,
          70,
          95,
          80,
          54,
          90,
          86,
          165,
          175,
          150,
          153,
          150,
          208,
          155,
          160,
          190,
          97,
          150,
          130,
          140,
          150,
          112,
          76,
          87,
          69,
          86,
          92,
          97,
          80,
          88,
          175,
          150,
          145,
          137,
          150,
          198,
          150,
          158,
          150,
          215,
          225,
          175,
          105,
          100,
          100,
          88,
          95,
          46,
          150,
          167,
          170,
          180,
          100,
          88,
          72,
          94,
          90,
          85,
          107,
          90,
          145,
          230,
          49,
          75,
          91,
          112,
          150,
          110,
          122,
          180,
          95,
          100,
          100,
          67,
          80,
          65,
          75,
          100,
          110,
          105,
          140,
          150,
          150,
          140,
          150,
          83,
          67,
          78,
          52,
          61,
          75,
          75,
          75,
          97,
          93,
          67,
          95,
          105,
          72,
          72,
          170,
          145,
          150,
          148,
          110,
          105,
          110,
          95,
          110,
          110,
          129,
          75,
          83,
          100,
          78,
          96,
          71,
          97,
          97,
          70,
          90,
          95,
          88,
          98,
          115,
          53,
          86,
          81,
          92,
          79,
          83,
          140,
          150,
          120,
          152,
          100,
          105,
          81,
          90,
          52,
          60,
          70,
          53,
          100,
          78,
          110,
          95,
          71,
          70,
          75,
          72,
          102,
          150,
          88,
          108,
          120,
          180,
          145,
          130,
          150,
          68,
          80,
          58,
          96,
          70,
          145,
          110,
          145,
          130,
          110,
          105,
          100,
          98,
          180,
          170,
          190,
          149,
          78,
          88,
          75,
          89,
          63,
          83,
          67,
          78,
          97,
          110,
          110,
          48,
          66,
          52,
          70,
          60,
          110,
          140,
          139,
          105,
          95,
          85,
          88,
          100,
          90,
          105,
          85,
          110,
          120,
          145,
          165,
          139,
          140,
          68,
          95,
          97,
          75,
          95,
          105,
          85,
          97,
          103,
          125,
          115,
          133,
          71,
          68,
          115,
          85,
          88,
          90,
          110,
          130,
          129,
          138,
          135,
          155,
          142,
          125,
          150,
          71,
          65,
          80,
          80,
          77,
          125,
          71,
          90,
          70,
          70,
          65,
          69,
          90,
          115,
          115,
          90,
          76,
          60,
          70,
          65,
          90,
          88,
          90,
          90,
          78,
          90,
          75,
          92,
          75,
          65,
          105,
          65,
          48,
          48,
          67,
          67,
          67,
          67,
          62,
          132,
          100,
          88,
          72,
          84,
          84,
          92,
          110,
          84,
          58,
          64,
          60,
          67,
          65,
          62,
          68,
          63,
          65,
          65,
          74,
          75,
          75,
          100,
          74,
          80,
          76,
          116,
          120,
          110,
          105,
          88,
          85,
          88,
          88,
          88,
          85,
          84,
          90,
          92,
          74,
          68,
          68,
          63,
          70,
          88,
          75,
          70,
          67,
          67,
          67,
          110,
          85,
          92,
          112,
          96,
          84,
          90,
          86,
          52,
          84,
          79,
          82
         ],
         "xaxis": "x",
         "y": [
          18,
          15,
          18,
          16,
          17,
          15,
          14,
          14,
          14,
          15,
          15,
          14,
          15,
          14,
          24,
          22,
          18,
          21,
          27,
          26,
          25,
          24,
          25,
          26,
          21,
          10,
          10,
          11,
          9,
          27,
          28,
          25,
          19,
          16,
          17,
          19,
          18,
          14,
          14,
          14,
          14,
          12,
          13,
          13,
          18,
          22,
          19,
          18,
          23,
          28,
          30,
          30,
          31,
          35,
          27,
          26,
          24,
          25,
          23,
          20,
          21,
          13,
          14,
          15,
          14,
          17,
          11,
          13,
          12,
          13,
          19,
          15,
          13,
          13,
          14,
          18,
          22,
          21,
          26,
          22,
          28,
          23,
          28,
          27,
          13,
          14,
          13,
          14,
          15,
          12,
          13,
          13,
          14,
          13,
          12,
          13,
          18,
          16,
          18,
          18,
          23,
          26,
          11,
          12,
          13,
          12,
          18,
          20,
          21,
          22,
          18,
          19,
          21,
          26,
          15,
          16,
          29,
          24,
          20,
          19,
          15,
          24,
          20,
          11,
          20,
          19,
          15,
          31,
          26,
          32,
          25,
          16,
          16,
          18,
          16,
          13,
          14,
          14,
          14,
          29,
          26,
          26,
          31,
          32,
          28,
          24,
          26,
          24,
          26,
          31,
          19,
          18,
          15,
          15,
          16,
          15,
          16,
          14,
          17,
          16,
          15,
          18,
          21,
          20,
          13,
          29,
          23,
          20,
          23,
          24,
          25,
          24,
          18,
          29,
          19,
          23,
          23,
          22,
          25,
          33,
          28,
          25,
          25,
          26,
          27,
          17.5,
          16,
          15.5,
          14.5,
          22,
          22,
          24,
          22.5,
          29,
          24.5,
          29,
          33,
          20,
          18,
          18.5,
          17.5,
          29.5,
          32,
          28,
          26.5,
          20,
          13,
          19,
          19,
          16.5,
          16.5,
          13,
          13,
          13,
          31.5,
          30,
          36,
          25.5,
          33.5,
          17.5,
          17,
          15.5,
          15,
          17.5,
          20.5,
          19,
          18.5,
          16,
          15.5,
          15.5,
          16,
          29,
          24.5,
          26,
          25.5,
          30.5,
          33.5,
          30,
          30.5,
          22,
          21.5,
          21.5,
          43.1,
          36.1,
          32.8,
          39.4,
          36.1,
          19.9,
          19.4,
          20.2,
          19.2,
          20.5,
          20.2,
          25.1,
          20.5,
          19.4,
          20.6,
          20.8,
          18.6,
          18.1,
          19.2,
          17.7,
          18.1,
          17.5,
          30,
          27.5,
          27.2,
          30.9,
          21.1,
          23.2,
          23.8,
          23.9,
          20.3,
          17,
          21.6,
          16.2,
          31.5,
          29.5,
          21.5,
          19.8,
          22.3,
          20.2,
          20.6,
          17,
          17.6,
          16.5,
          18.2,
          16.9,
          15.5,
          19.2,
          18.5,
          31.9,
          34.1,
          35.7,
          27.4,
          25.4,
          23,
          27.2,
          23.9,
          34.2,
          34.5,
          31.8,
          37.3,
          28.4,
          28.8,
          26.8,
          33.5,
          41.5,
          38.1,
          32.1,
          37.2,
          28,
          26.4,
          24.3,
          19.1,
          34.3,
          29.8,
          31.3,
          37,
          32.2,
          46.6,
          27.9,
          40.8,
          44.3,
          43.4,
          36.4,
          30,
          44.6,
          33.8,
          29.8,
          32.7,
          23.7,
          35,
          32.4,
          27.2,
          26.6,
          25.8,
          23.5,
          30,
          39.1,
          39,
          35.1,
          32.3,
          37,
          37.7,
          34.1,
          34.7,
          34.4,
          29.9,
          33,
          33.7,
          32.4,
          32.9,
          31.6,
          28.1,
          30.7,
          25.4,
          24.2,
          22.4,
          26.6,
          20.2,
          17.6,
          28,
          27,
          34,
          31,
          29,
          27,
          24,
          36,
          37,
          31,
          38,
          36,
          36,
          36,
          34,
          38,
          32,
          38,
          25,
          38,
          26,
          22,
          32,
          36,
          27,
          27,
          44,
          32,
          28,
          31
         ],
         "yaxis": "y"
        }
       ],
       "layout": {
        "height": 500,
        "legend": {
         "tracegroupgap": 0
        },
        "margin": {
         "t": 60
        },
        "template": {
         "data": {
          "bar": [
           {
            "error_x": {
             "color": "#2a3f5f"
            },
            "error_y": {
             "color": "#2a3f5f"
            },
            "marker": {
             "line": {
              "color": "#E5ECF6",
              "width": 0.5
             },
             "pattern": {
              "fillmode": "overlay",
              "size": 10,
              "solidity": 0.2
             }
            },
            "type": "bar"
           }
          ],
          "barpolar": [
           {
            "marker": {
             "line": {
              "color": "#E5ECF6",
              "width": 0.5
             },
             "pattern": {
              "fillmode": "overlay",
              "size": 10,
              "solidity": 0.2
             }
            },
            "type": "barpolar"
           }
          ],
          "carpet": [
           {
            "aaxis": {
             "endlinecolor": "#2a3f5f",
             "gridcolor": "white",
             "linecolor": "white",
             "minorgridcolor": "white",
             "startlinecolor": "#2a3f5f"
            },
            "baxis": {
             "endlinecolor": "#2a3f5f",
             "gridcolor": "white",
             "linecolor": "white",
             "minorgridcolor": "white",
             "startlinecolor": "#2a3f5f"
            },
            "type": "carpet"
           }
          ],
          "choropleth": [
           {
            "colorbar": {
             "outlinewidth": 0,
             "ticks": ""
            },
            "type": "choropleth"
           }
          ],
          "contour": [
           {
            "colorbar": {
             "outlinewidth": 0,
             "ticks": ""
            },
            "colorscale": [
             [
              0,
              "#0d0887"
             ],
             [
              0.1111111111111111,
              "#46039f"
             ],
             [
              0.2222222222222222,
              "#7201a8"
             ],
             [
              0.3333333333333333,
              "#9c179e"
             ],
             [
              0.4444444444444444,
              "#bd3786"
             ],
             [
              0.5555555555555556,
              "#d8576b"
             ],
             [
              0.6666666666666666,
              "#ed7953"
             ],
             [
              0.7777777777777778,
              "#fb9f3a"
             ],
             [
              0.8888888888888888,
              "#fdca26"
             ],
             [
              1,
              "#f0f921"
             ]
            ],
            "type": "contour"
           }
          ],
          "contourcarpet": [
           {
            "colorbar": {
             "outlinewidth": 0,
             "ticks": ""
            },
            "type": "contourcarpet"
           }
          ],
          "heatmap": [
           {
            "colorbar": {
             "outlinewidth": 0,
             "ticks": ""
            },
            "colorscale": [
             [
              0,
              "#0d0887"
             ],
             [
              0.1111111111111111,
              "#46039f"
             ],
             [
              0.2222222222222222,
              "#7201a8"
             ],
             [
              0.3333333333333333,
              "#9c179e"
             ],
             [
              0.4444444444444444,
              "#bd3786"
             ],
             [
              0.5555555555555556,
              "#d8576b"
             ],
             [
              0.6666666666666666,
              "#ed7953"
             ],
             [
              0.7777777777777778,
              "#fb9f3a"
             ],
             [
              0.8888888888888888,
              "#fdca26"
             ],
             [
              1,
              "#f0f921"
             ]
            ],
            "type": "heatmap"
           }
          ],
          "heatmapgl": [
           {
            "colorbar": {
             "outlinewidth": 0,
             "ticks": ""
            },
            "colorscale": [
             [
              0,
              "#0d0887"
             ],
             [
              0.1111111111111111,
              "#46039f"
             ],
             [
              0.2222222222222222,
              "#7201a8"
             ],
             [
              0.3333333333333333,
              "#9c179e"
             ],
             [
              0.4444444444444444,
              "#bd3786"
             ],
             [
              0.5555555555555556,
              "#d8576b"
             ],
             [
              0.6666666666666666,
              "#ed7953"
             ],
             [
              0.7777777777777778,
              "#fb9f3a"
             ],
             [
              0.8888888888888888,
              "#fdca26"
             ],
             [
              1,
              "#f0f921"
             ]
            ],
            "type": "heatmapgl"
           }
          ],
          "histogram": [
           {
            "marker": {
             "pattern": {
              "fillmode": "overlay",
              "size": 10,
              "solidity": 0.2
             }
            },
            "type": "histogram"
           }
          ],
          "histogram2d": [
           {
            "colorbar": {
             "outlinewidth": 0,
             "ticks": ""
            },
            "colorscale": [
             [
              0,
              "#0d0887"
             ],
             [
              0.1111111111111111,
              "#46039f"
             ],
             [
              0.2222222222222222,
              "#7201a8"
             ],
             [
              0.3333333333333333,
              "#9c179e"
             ],
             [
              0.4444444444444444,
              "#bd3786"
             ],
             [
              0.5555555555555556,
              "#d8576b"
             ],
             [
              0.6666666666666666,
              "#ed7953"
             ],
             [
              0.7777777777777778,
              "#fb9f3a"
             ],
             [
              0.8888888888888888,
              "#fdca26"
             ],
             [
              1,
              "#f0f921"
             ]
            ],
            "type": "histogram2d"
           }
          ],
          "histogram2dcontour": [
           {
            "colorbar": {
             "outlinewidth": 0,
             "ticks": ""
            },
            "colorscale": [
             [
              0,
              "#0d0887"
             ],
             [
              0.1111111111111111,
              "#46039f"
             ],
             [
              0.2222222222222222,
              "#7201a8"
             ],
             [
              0.3333333333333333,
              "#9c179e"
             ],
             [
              0.4444444444444444,
              "#bd3786"
             ],
             [
              0.5555555555555556,
              "#d8576b"
             ],
             [
              0.6666666666666666,
              "#ed7953"
             ],
             [
              0.7777777777777778,
              "#fb9f3a"
             ],
             [
              0.8888888888888888,
              "#fdca26"
             ],
             [
              1,
              "#f0f921"
             ]
            ],
            "type": "histogram2dcontour"
           }
          ],
          "mesh3d": [
           {
            "colorbar": {
             "outlinewidth": 0,
             "ticks": ""
            },
            "type": "mesh3d"
           }
          ],
          "parcoords": [
           {
            "line": {
             "colorbar": {
              "outlinewidth": 0,
              "ticks": ""
             }
            },
            "type": "parcoords"
           }
          ],
          "pie": [
           {
            "automargin": true,
            "type": "pie"
           }
          ],
          "scatter": [
           {
            "fillpattern": {
             "fillmode": "overlay",
             "size": 10,
             "solidity": 0.2
            },
            "type": "scatter"
           }
          ],
          "scatter3d": [
           {
            "line": {
             "colorbar": {
              "outlinewidth": 0,
              "ticks": ""
             }
            },
            "marker": {
             "colorbar": {
              "outlinewidth": 0,
              "ticks": ""
             }
            },
            "type": "scatter3d"
           }
          ],
          "scattercarpet": [
           {
            "marker": {
             "colorbar": {
              "outlinewidth": 0,
              "ticks": ""
             }
            },
            "type": "scattercarpet"
           }
          ],
          "scattergeo": [
           {
            "marker": {
             "colorbar": {
              "outlinewidth": 0,
              "ticks": ""
             }
            },
            "type": "scattergeo"
           }
          ],
          "scattergl": [
           {
            "marker": {
             "colorbar": {
              "outlinewidth": 0,
              "ticks": ""
             }
            },
            "type": "scattergl"
           }
          ],
          "scattermapbox": [
           {
            "marker": {
             "colorbar": {
              "outlinewidth": 0,
              "ticks": ""
             }
            },
            "type": "scattermapbox"
           }
          ],
          "scatterpolar": [
           {
            "marker": {
             "colorbar": {
              "outlinewidth": 0,
              "ticks": ""
             }
            },
            "type": "scatterpolar"
           }
          ],
          "scatterpolargl": [
           {
            "marker": {
             "colorbar": {
              "outlinewidth": 0,
              "ticks": ""
             }
            },
            "type": "scatterpolargl"
           }
          ],
          "scatterternary": [
           {
            "marker": {
             "colorbar": {
              "outlinewidth": 0,
              "ticks": ""
             }
            },
            "type": "scatterternary"
           }
          ],
          "surface": [
           {
            "colorbar": {
             "outlinewidth": 0,
             "ticks": ""
            },
            "colorscale": [
             [
              0,
              "#0d0887"
             ],
             [
              0.1111111111111111,
              "#46039f"
             ],
             [
              0.2222222222222222,
              "#7201a8"
             ],
             [
              0.3333333333333333,
              "#9c179e"
             ],
             [
              0.4444444444444444,
              "#bd3786"
             ],
             [
              0.5555555555555556,
              "#d8576b"
             ],
             [
              0.6666666666666666,
              "#ed7953"
             ],
             [
              0.7777777777777778,
              "#fb9f3a"
             ],
             [
              0.8888888888888888,
              "#fdca26"
             ],
             [
              1,
              "#f0f921"
             ]
            ],
            "type": "surface"
           }
          ],
          "table": [
           {
            "cells": {
             "fill": {
              "color": "#EBF0F8"
             },
             "line": {
              "color": "white"
             }
            },
            "header": {
             "fill": {
              "color": "#C8D4E3"
             },
             "line": {
              "color": "white"
             }
            },
            "type": "table"
           }
          ]
         },
         "layout": {
          "annotationdefaults": {
           "arrowcolor": "#2a3f5f",
           "arrowhead": 0,
           "arrowwidth": 1
          },
          "autotypenumbers": "strict",
          "coloraxis": {
           "colorbar": {
            "outlinewidth": 0,
            "ticks": ""
           }
          },
          "colorscale": {
           "diverging": [
            [
             0,
             "#8e0152"
            ],
            [
             0.1,
             "#c51b7d"
            ],
            [
             0.2,
             "#de77ae"
            ],
            [
             0.3,
             "#f1b6da"
            ],
            [
             0.4,
             "#fde0ef"
            ],
            [
             0.5,
             "#f7f7f7"
            ],
            [
             0.6,
             "#e6f5d0"
            ],
            [
             0.7,
             "#b8e186"
            ],
            [
             0.8,
             "#7fbc41"
            ],
            [
             0.9,
             "#4d9221"
            ],
            [
             1,
             "#276419"
            ]
           ],
           "sequential": [
            [
             0,
             "#0d0887"
            ],
            [
             0.1111111111111111,
             "#46039f"
            ],
            [
             0.2222222222222222,
             "#7201a8"
            ],
            [
             0.3333333333333333,
             "#9c179e"
            ],
            [
             0.4444444444444444,
             "#bd3786"
            ],
            [
             0.5555555555555556,
             "#d8576b"
            ],
            [
             0.6666666666666666,
             "#ed7953"
            ],
            [
             0.7777777777777778,
             "#fb9f3a"
            ],
            [
             0.8888888888888888,
             "#fdca26"
            ],
            [
             1,
             "#f0f921"
            ]
           ],
           "sequentialminus": [
            [
             0,
             "#0d0887"
            ],
            [
             0.1111111111111111,
             "#46039f"
            ],
            [
             0.2222222222222222,
             "#7201a8"
            ],
            [
             0.3333333333333333,
             "#9c179e"
            ],
            [
             0.4444444444444444,
             "#bd3786"
            ],
            [
             0.5555555555555556,
             "#d8576b"
            ],
            [
             0.6666666666666666,
             "#ed7953"
            ],
            [
             0.7777777777777778,
             "#fb9f3a"
            ],
            [
             0.8888888888888888,
             "#fdca26"
            ],
            [
             1,
             "#f0f921"
            ]
           ]
          },
          "colorway": [
           "#636efa",
           "#EF553B",
           "#00cc96",
           "#ab63fa",
           "#FFA15A",
           "#19d3f3",
           "#FF6692",
           "#B6E880",
           "#FF97FF",
           "#FECB52"
          ],
          "font": {
           "color": "#2a3f5f"
          },
          "geo": {
           "bgcolor": "white",
           "lakecolor": "white",
           "landcolor": "#E5ECF6",
           "showlakes": true,
           "showland": true,
           "subunitcolor": "white"
          },
          "hoverlabel": {
           "align": "left"
          },
          "hovermode": "closest",
          "mapbox": {
           "style": "light"
          },
          "paper_bgcolor": "white",
          "plot_bgcolor": "#E5ECF6",
          "polar": {
           "angularaxis": {
            "gridcolor": "white",
            "linecolor": "white",
            "ticks": ""
           },
           "bgcolor": "#E5ECF6",
           "radialaxis": {
            "gridcolor": "white",
            "linecolor": "white",
            "ticks": ""
           }
          },
          "scene": {
           "xaxis": {
            "backgroundcolor": "#E5ECF6",
            "gridcolor": "white",
            "gridwidth": 2,
            "linecolor": "white",
            "showbackground": true,
            "ticks": "",
            "zerolinecolor": "white"
           },
           "yaxis": {
            "backgroundcolor": "#E5ECF6",
            "gridcolor": "white",
            "gridwidth": 2,
            "linecolor": "white",
            "showbackground": true,
            "ticks": "",
            "zerolinecolor": "white"
           },
           "zaxis": {
            "backgroundcolor": "#E5ECF6",
            "gridcolor": "white",
            "gridwidth": 2,
            "linecolor": "white",
            "showbackground": true,
            "ticks": "",
            "zerolinecolor": "white"
           }
          },
          "shapedefaults": {
           "line": {
            "color": "#2a3f5f"
           }
          },
          "ternary": {
           "aaxis": {
            "gridcolor": "white",
            "linecolor": "white",
            "ticks": ""
           },
           "baxis": {
            "gridcolor": "white",
            "linecolor": "white",
            "ticks": ""
           },
           "bgcolor": "#E5ECF6",
           "caxis": {
            "gridcolor": "white",
            "linecolor": "white",
            "ticks": ""
           }
          },
          "title": {
           "x": 0.05
          },
          "xaxis": {
           "automargin": true,
           "gridcolor": "white",
           "linecolor": "white",
           "ticks": "",
           "title": {
            "standoff": 15
           },
           "zerolinecolor": "white",
           "zerolinewidth": 2
          },
          "yaxis": {
           "automargin": true,
           "gridcolor": "white",
           "linecolor": "white",
           "ticks": "",
           "title": {
            "standoff": 15
           },
           "zerolinecolor": "white",
           "zerolinewidth": 2
          }
         }
        },
        "width": 500,
        "xaxis": {
         "anchor": "y",
         "domain": [
          0,
          1
         ],
         "title": {
          "text": "horsepower"
         }
        },
        "yaxis": {
         "anchor": "x",
         "domain": [
          0,
          1
         ],
         "title": {
          "text": "mpg"
         }
        }
       }
      },
      "text/html": [
       "<div>                            <div id=\"3aed4230-d55c-4713-bc9b-c660139ee301\" class=\"plotly-graph-div\" style=\"height:500px; width:500px;\"></div>            <script type=\"text/javascript\">                require([\"plotly\"], function(Plotly) {                    window.PLOTLYENV=window.PLOTLYENV || {};                                    if (document.getElementById(\"3aed4230-d55c-4713-bc9b-c660139ee301\")) {                    Plotly.newPlot(                        \"3aed4230-d55c-4713-bc9b-c660139ee301\",                        [{\"customdata\":[[\"chevrolet chevelle malibu\"],[\"buick skylark 320\"],[\"plymouth satellite\"],[\"amc rebel sst\"],[\"ford torino\"],[\"ford galaxie 500\"],[\"chevrolet impala\"],[\"plymouth fury iii\"],[\"pontiac catalina\"],[\"amc ambassador dpl\"],[\"dodge challenger se\"],[\"plymouth 'cuda 340\"],[\"chevrolet monte carlo\"],[\"buick estate wagon (sw)\"],[\"toyota corona mark ii\"],[\"plymouth duster\"],[\"amc hornet\"],[\"ford maverick\"],[\"datsun pl510\"],[\"volkswagen 1131 deluxe sedan\"],[\"peugeot 504\"],[\"audi 100 ls\"],[\"saab 99e\"],[\"bmw 2002\"],[\"amc gremlin\"],[\"ford f250\"],[\"chevy c20\"],[\"dodge d200\"],[\"hi 1200d\"],[\"datsun pl510\"],[\"chevrolet vega 2300\"],[\"toyota corona\"],[\"amc gremlin\"],[\"plymouth satellite custom\"],[\"chevrolet chevelle malibu\"],[\"ford torino 500\"],[\"amc matador\"],[\"chevrolet impala\"],[\"pontiac catalina brougham\"],[\"ford galaxie 500\"],[\"plymouth fury iii\"],[\"dodge monaco (sw)\"],[\"ford country squire (sw)\"],[\"pontiac safari (sw)\"],[\"amc hornet sportabout (sw)\"],[\"chevrolet vega (sw)\"],[\"pontiac firebird\"],[\"ford mustang\"],[\"mercury capri 2000\"],[\"opel 1900\"],[\"peugeot 304\"],[\"fiat 124b\"],[\"toyota corolla 1200\"],[\"datsun 1200\"],[\"volkswagen model 111\"],[\"plymouth cricket\"],[\"toyota corona hardtop\"],[\"dodge colt hardtop\"],[\"volkswagen type 3\"],[\"chevrolet vega\"],[\"ford pinto runabout\"],[\"chevrolet impala\"],[\"pontiac catalina\"],[\"plymouth fury iii\"],[\"ford galaxie 500\"],[\"amc ambassador sst\"],[\"mercury marquis\"],[\"buick lesabre custom\"],[\"oldsmobile delta 88 royale\"],[\"chrysler newport royal\"],[\"mazda rx2 coupe\"],[\"amc matador (sw)\"],[\"chevrolet chevelle concours (sw)\"],[\"ford gran torino (sw)\"],[\"plymouth satellite custom (sw)\"],[\"volvo 145e (sw)\"],[\"volkswagen 411 (sw)\"],[\"peugeot 504 (sw)\"],[\"renault 12 (sw)\"],[\"ford pinto (sw)\"],[\"datsun 510 (sw)\"],[\"toyouta corona mark ii (sw)\"],[\"dodge colt (sw)\"],[\"toyota corolla 1600 (sw)\"],[\"buick century 350\"],[\"amc matador\"],[\"chevrolet malibu\"],[\"ford gran torino\"],[\"dodge coronet custom\"],[\"mercury marquis brougham\"],[\"chevrolet caprice classic\"],[\"ford ltd\"],[\"plymouth fury gran sedan\"],[\"chrysler new yorker brougham\"],[\"buick electra 225 custom\"],[\"amc ambassador brougham\"],[\"plymouth valiant\"],[\"chevrolet nova custom\"],[\"amc hornet\"],[\"ford maverick\"],[\"plymouth duster\"],[\"volkswagen super beetle\"],[\"chevrolet impala\"],[\"ford country\"],[\"plymouth custom suburb\"],[\"oldsmobile vista cruiser\"],[\"amc gremlin\"],[\"toyota carina\"],[\"chevrolet vega\"],[\"datsun 610\"],[\"maxda rx3\"],[\"ford pinto\"],[\"mercury capri v6\"],[\"fiat 124 sport coupe\"],[\"chevrolet monte carlo s\"],[\"pontiac grand prix\"],[\"fiat 128\"],[\"opel manta\"],[\"audi 100ls\"],[\"volvo 144ea\"],[\"dodge dart custom\"],[\"saab 99le\"],[\"toyota mark ii\"],[\"oldsmobile omega\"],[\"plymouth duster\"],[\"amc hornet\"],[\"chevrolet nova\"],[\"datsun b210\"],[\"ford pinto\"],[\"toyota corolla 1200\"],[\"chevrolet vega\"],[\"chevrolet chevelle malibu classic\"],[\"amc matador\"],[\"plymouth satellite sebring\"],[\"ford gran torino\"],[\"buick century luxus (sw)\"],[\"dodge coronet custom (sw)\"],[\"ford gran torino (sw)\"],[\"amc matador (sw)\"],[\"audi fox\"],[\"volkswagen dasher\"],[\"opel manta\"],[\"toyota corona\"],[\"datsun 710\"],[\"dodge colt\"],[\"fiat 128\"],[\"fiat 124 tc\"],[\"honda civic\"],[\"subaru\"],[\"fiat x1.9\"],[\"plymouth valiant custom\"],[\"chevrolet nova\"],[\"mercury monarch\"],[\"ford maverick\"],[\"pontiac catalina\"],[\"chevrolet bel air\"],[\"plymouth grand fury\"],[\"ford ltd\"],[\"buick century\"],[\"chevroelt chevelle malibu\"],[\"amc matador\"],[\"plymouth fury\"],[\"buick skyhawk\"],[\"chevrolet monza 2+2\"],[\"ford mustang ii\"],[\"toyota corolla\"],[\"ford pinto\"],[\"amc gremlin\"],[\"pontiac astro\"],[\"toyota corona\"],[\"volkswagen dasher\"],[\"datsun 710\"],[\"ford pinto\"],[\"volkswagen rabbit\"],[\"amc pacer\"],[\"audi 100ls\"],[\"peugeot 504\"],[\"volvo 244dl\"],[\"saab 99le\"],[\"honda civic cvcc\"],[\"fiat 131\"],[\"opel 1900\"],[\"capri ii\"],[\"dodge colt\"],[\"renault 12tl\"],[\"chevrolet chevelle malibu classic\"],[\"dodge coronet brougham\"],[\"amc matador\"],[\"ford gran torino\"],[\"plymouth valiant\"],[\"chevrolet nova\"],[\"ford maverick\"],[\"amc hornet\"],[\"chevrolet chevette\"],[\"chevrolet woody\"],[\"vw rabbit\"],[\"honda civic\"],[\"dodge aspen se\"],[\"ford granada ghia\"],[\"pontiac ventura sj\"],[\"amc pacer d\\u002fl\"],[\"volkswagen rabbit\"],[\"datsun b-210\"],[\"toyota corolla\"],[\"ford pinto\"],[\"volvo 245\"],[\"plymouth volare premier v8\"],[\"peugeot 504\"],[\"toyota mark ii\"],[\"mercedes-benz 280s\"],[\"cadillac seville\"],[\"chevy c10\"],[\"ford f108\"],[\"dodge d100\"],[\"honda accord cvcc\"],[\"buick opel isuzu deluxe\"],[\"renault 5 gtl\"],[\"plymouth arrow gs\"],[\"datsun f-10 hatchback\"],[\"chevrolet caprice classic\"],[\"oldsmobile cutlass supreme\"],[\"dodge monaco brougham\"],[\"mercury cougar brougham\"],[\"chevrolet concours\"],[\"buick skylark\"],[\"plymouth volare custom\"],[\"ford granada\"],[\"pontiac grand prix lj\"],[\"chevrolet monte carlo landau\"],[\"chrysler cordoba\"],[\"ford thunderbird\"],[\"volkswagen rabbit custom\"],[\"pontiac sunbird coupe\"],[\"toyota corolla liftback\"],[\"ford mustang ii 2+2\"],[\"chevrolet chevette\"],[\"dodge colt m\\u002fm\"],[\"subaru dl\"],[\"volkswagen dasher\"],[\"datsun 810\"],[\"bmw 320i\"],[\"mazda rx-4\"],[\"volkswagen rabbit custom diesel\"],[\"ford fiesta\"],[\"mazda glc deluxe\"],[\"datsun b210 gx\"],[\"honda civic cvcc\"],[\"oldsmobile cutlass salon brougham\"],[\"dodge diplomat\"],[\"mercury monarch ghia\"],[\"pontiac phoenix lj\"],[\"chevrolet malibu\"],[\"ford fairmont (auto)\"],[\"ford fairmont (man)\"],[\"plymouth volare\"],[\"amc concord\"],[\"buick century special\"],[\"mercury zephyr\"],[\"dodge aspen\"],[\"amc concord d\\u002fl\"],[\"chevrolet monte carlo landau\"],[\"buick regal sport coupe (turbo)\"],[\"ford futura\"],[\"dodge magnum xe\"],[\"chevrolet chevette\"],[\"toyota corona\"],[\"datsun 510\"],[\"dodge omni\"],[\"toyota celica gt liftback\"],[\"plymouth sapporo\"],[\"oldsmobile starfire sx\"],[\"datsun 200-sx\"],[\"audi 5000\"],[\"volvo 264gl\"],[\"saab 99gle\"],[\"peugeot 604sl\"],[\"volkswagen scirocco\"],[\"honda accord lx\"],[\"pontiac lemans v6\"],[\"mercury zephyr 6\"],[\"ford fairmont 4\"],[\"amc concord dl 6\"],[\"dodge aspen 6\"],[\"chevrolet caprice classic\"],[\"ford ltd landau\"],[\"mercury grand marquis\"],[\"dodge st. regis\"],[\"buick estate wagon (sw)\"],[\"ford country squire (sw)\"],[\"chevrolet malibu classic (sw)\"],[\"chrysler lebaron town @ country (sw)\"],[\"vw rabbit custom\"],[\"maxda glc deluxe\"],[\"dodge colt hatchback custom\"],[\"amc spirit dl\"],[\"mercedes benz 300d\"],[\"cadillac eldorado\"],[\"peugeot 504\"],[\"oldsmobile cutlass salon brougham\"],[\"plymouth horizon\"],[\"plymouth horizon tc3\"],[\"datsun 210\"],[\"fiat strada custom\"],[\"buick skylark limited\"],[\"chevrolet citation\"],[\"oldsmobile omega brougham\"],[\"pontiac phoenix\"],[\"vw rabbit\"],[\"toyota corolla tercel\"],[\"chevrolet chevette\"],[\"datsun 310\"],[\"chevrolet citation\"],[\"ford fairmont\"],[\"amc concord\"],[\"dodge aspen\"],[\"audi 4000\"],[\"toyota corona liftback\"],[\"mazda 626\"],[\"datsun 510 hatchback\"],[\"toyota corolla\"],[\"mazda glc\"],[\"dodge colt\"],[\"datsun 210\"],[\"vw rabbit c (diesel)\"],[\"vw dasher (diesel)\"],[\"audi 5000s (diesel)\"],[\"mercedes-benz 240d\"],[\"honda civic 1500 gl\"],[\"subaru dl\"],[\"vokswagen rabbit\"],[\"datsun 280-zx\"],[\"mazda rx-7 gs\"],[\"triumph tr7 coupe\"],[\"honda accord\"],[\"plymouth reliant\"],[\"buick skylark\"],[\"dodge aries wagon (sw)\"],[\"chevrolet citation\"],[\"plymouth reliant\"],[\"toyota starlet\"],[\"plymouth champ\"],[\"honda civic 1300\"],[\"subaru\"],[\"datsun 210 mpg\"],[\"toyota tercel\"],[\"mazda glc 4\"],[\"plymouth horizon 4\"],[\"ford escort 4w\"],[\"ford escort 2h\"],[\"volkswagen jetta\"],[\"honda prelude\"],[\"toyota corolla\"],[\"datsun 200sx\"],[\"mazda 626\"],[\"peugeot 505s turbo diesel\"],[\"volvo diesel\"],[\"toyota cressida\"],[\"datsun 810 maxima\"],[\"buick century\"],[\"oldsmobile cutlass ls\"],[\"ford granada gl\"],[\"chrysler lebaron salon\"],[\"chevrolet cavalier\"],[\"chevrolet cavalier wagon\"],[\"chevrolet cavalier 2-door\"],[\"pontiac j2000 se hatchback\"],[\"dodge aries se\"],[\"pontiac phoenix\"],[\"ford fairmont futura\"],[\"volkswagen rabbit l\"],[\"mazda glc custom l\"],[\"mazda glc custom\"],[\"plymouth horizon miser\"],[\"mercury lynx l\"],[\"nissan stanza xe\"],[\"honda accord\"],[\"toyota corolla\"],[\"honda civic\"],[\"honda civic (auto)\"],[\"datsun 310 gx\"],[\"buick century limited\"],[\"oldsmobile cutlass ciera (diesel)\"],[\"chrysler lebaron medallion\"],[\"ford granada l\"],[\"toyota celica gt\"],[\"dodge charger 2.2\"],[\"chevrolet camaro\"],[\"ford mustang gl\"],[\"vw pickup\"],[\"dodge rampage\"],[\"ford ranger\"],[\"chevy s-10\"]],\"hovertemplate\":\"horsepower=%{x}\\u003cbr\\u003empg=%{y}\\u003cbr\\u003ename=%{customdata[0]}\\u003cextra\\u003e\\u003c\\u002fextra\\u003e\",\"legendgroup\":\"\",\"marker\":{\"color\":\"blue\",\"symbol\":\"circle\"},\"mode\":\"markers\",\"name\":\"\",\"orientation\":\"v\",\"showlegend\":false,\"x\":[130,165,150,150,140,198,220,215,225,190,170,160,150,225,95,95,97,85,88,46,87,90,95,113,90,215,200,210,193,88,90,95,100,105,100,88,100,165,175,153,150,180,170,175,110,72,100,88,86,90,70,76,65,69,60,70,95,80,54,90,86,165,175,150,153,150,208,155,160,190,97,150,130,140,150,112,76,87,69,86,92,97,80,88,175,150,145,137,150,198,150,158,150,215,225,175,105,100,100,88,95,46,150,167,170,180,100,88,72,94,90,85,107,90,145,230,49,75,91,112,150,110,122,180,95,100,100,67,80,65,75,100,110,105,140,150,150,140,150,83,67,78,52,61,75,75,75,97,93,67,95,105,72,72,170,145,150,148,110,105,110,95,110,110,129,75,83,100,78,96,71,97,97,70,90,95,88,98,115,53,86,81,92,79,83,140,150,120,152,100,105,81,90,52,60,70,53,100,78,110,95,71,70,75,72,102,150,88,108,120,180,145,130,150,68,80,58,96,70,145,110,145,130,110,105,100,98,180,170,190,149,78,88,75,89,63,83,67,78,97,110,110,48,66,52,70,60,110,140,139,105,95,85,88,100,90,105,85,110,120,145,165,139,140,68,95,97,75,95,105,85,97,103,125,115,133,71,68,115,85,88,90,110,130,129,138,135,155,142,125,150,71,65,80,80,77,125,71,90,70,70,65,69,90,115,115,90,76,60,70,65,90,88,90,90,78,90,75,92,75,65,105,65,48,48,67,67,67,67,62,132,100,88,72,84,84,92,110,84,58,64,60,67,65,62,68,63,65,65,74,75,75,100,74,80,76,116,120,110,105,88,85,88,88,88,85,84,90,92,74,68,68,63,70,88,75,70,67,67,67,110,85,92,112,96,84,90,86,52,84,79,82],\"xaxis\":\"x\",\"y\":[18.0,15.0,18.0,16.0,17.0,15.0,14.0,14.0,14.0,15.0,15.0,14.0,15.0,14.0,24.0,22.0,18.0,21.0,27.0,26.0,25.0,24.0,25.0,26.0,21.0,10.0,10.0,11.0,9.0,27.0,28.0,25.0,19.0,16.0,17.0,19.0,18.0,14.0,14.0,14.0,14.0,12.0,13.0,13.0,18.0,22.0,19.0,18.0,23.0,28.0,30.0,30.0,31.0,35.0,27.0,26.0,24.0,25.0,23.0,20.0,21.0,13.0,14.0,15.0,14.0,17.0,11.0,13.0,12.0,13.0,19.0,15.0,13.0,13.0,14.0,18.0,22.0,21.0,26.0,22.0,28.0,23.0,28.0,27.0,13.0,14.0,13.0,14.0,15.0,12.0,13.0,13.0,14.0,13.0,12.0,13.0,18.0,16.0,18.0,18.0,23.0,26.0,11.0,12.0,13.0,12.0,18.0,20.0,21.0,22.0,18.0,19.0,21.0,26.0,15.0,16.0,29.0,24.0,20.0,19.0,15.0,24.0,20.0,11.0,20.0,19.0,15.0,31.0,26.0,32.0,25.0,16.0,16.0,18.0,16.0,13.0,14.0,14.0,14.0,29.0,26.0,26.0,31.0,32.0,28.0,24.0,26.0,24.0,26.0,31.0,19.0,18.0,15.0,15.0,16.0,15.0,16.0,14.0,17.0,16.0,15.0,18.0,21.0,20.0,13.0,29.0,23.0,20.0,23.0,24.0,25.0,24.0,18.0,29.0,19.0,23.0,23.0,22.0,25.0,33.0,28.0,25.0,25.0,26.0,27.0,17.5,16.0,15.5,14.5,22.0,22.0,24.0,22.5,29.0,24.5,29.0,33.0,20.0,18.0,18.5,17.5,29.5,32.0,28.0,26.5,20.0,13.0,19.0,19.0,16.5,16.5,13.0,13.0,13.0,31.5,30.0,36.0,25.5,33.5,17.5,17.0,15.5,15.0,17.5,20.5,19.0,18.5,16.0,15.5,15.5,16.0,29.0,24.5,26.0,25.5,30.5,33.5,30.0,30.5,22.0,21.5,21.5,43.1,36.1,32.8,39.4,36.1,19.9,19.4,20.2,19.2,20.5,20.2,25.1,20.5,19.4,20.6,20.8,18.6,18.1,19.2,17.7,18.1,17.5,30.0,27.5,27.2,30.9,21.1,23.2,23.8,23.9,20.3,17.0,21.6,16.2,31.5,29.5,21.5,19.8,22.3,20.2,20.6,17.0,17.6,16.5,18.2,16.9,15.5,19.2,18.5,31.9,34.1,35.7,27.4,25.4,23.0,27.2,23.9,34.2,34.5,31.8,37.3,28.4,28.8,26.8,33.5,41.5,38.1,32.1,37.2,28.0,26.4,24.3,19.1,34.3,29.8,31.3,37.0,32.2,46.6,27.9,40.8,44.3,43.4,36.4,30.0,44.6,33.8,29.8,32.7,23.7,35.0,32.4,27.2,26.6,25.8,23.5,30.0,39.1,39.0,35.1,32.3,37.0,37.7,34.1,34.7,34.4,29.9,33.0,33.7,32.4,32.9,31.6,28.1,30.7,25.4,24.2,22.4,26.6,20.2,17.6,28.0,27.0,34.0,31.0,29.0,27.0,24.0,36.0,37.0,31.0,38.0,36.0,36.0,36.0,34.0,38.0,32.0,38.0,25.0,38.0,26.0,22.0,32.0,36.0,27.0,27.0,44.0,32.0,28.0,31.0],\"yaxis\":\"y\",\"type\":\"scatter\"}],                        {\"template\":{\"data\":{\"histogram2dcontour\":[{\"type\":\"histogram2dcontour\",\"colorbar\":{\"outlinewidth\":0,\"ticks\":\"\"},\"colorscale\":[[0.0,\"#0d0887\"],[0.1111111111111111,\"#46039f\"],[0.2222222222222222,\"#7201a8\"],[0.3333333333333333,\"#9c179e\"],[0.4444444444444444,\"#bd3786\"],[0.5555555555555556,\"#d8576b\"],[0.6666666666666666,\"#ed7953\"],[0.7777777777777778,\"#fb9f3a\"],[0.8888888888888888,\"#fdca26\"],[1.0,\"#f0f921\"]]}],\"choropleth\":[{\"type\":\"choropleth\",\"colorbar\":{\"outlinewidth\":0,\"ticks\":\"\"}}],\"histogram2d\":[{\"type\":\"histogram2d\",\"colorbar\":{\"outlinewidth\":0,\"ticks\":\"\"},\"colorscale\":[[0.0,\"#0d0887\"],[0.1111111111111111,\"#46039f\"],[0.2222222222222222,\"#7201a8\"],[0.3333333333333333,\"#9c179e\"],[0.4444444444444444,\"#bd3786\"],[0.5555555555555556,\"#d8576b\"],[0.6666666666666666,\"#ed7953\"],[0.7777777777777778,\"#fb9f3a\"],[0.8888888888888888,\"#fdca26\"],[1.0,\"#f0f921\"]]}],\"heatmap\":[{\"type\":\"heatmap\",\"colorbar\":{\"outlinewidth\":0,\"ticks\":\"\"},\"colorscale\":[[0.0,\"#0d0887\"],[0.1111111111111111,\"#46039f\"],[0.2222222222222222,\"#7201a8\"],[0.3333333333333333,\"#9c179e\"],[0.4444444444444444,\"#bd3786\"],[0.5555555555555556,\"#d8576b\"],[0.6666666666666666,\"#ed7953\"],[0.7777777777777778,\"#fb9f3a\"],[0.8888888888888888,\"#fdca26\"],[1.0,\"#f0f921\"]]}],\"heatmapgl\":[{\"type\":\"heatmapgl\",\"colorbar\":{\"outlinewidth\":0,\"ticks\":\"\"},\"colorscale\":[[0.0,\"#0d0887\"],[0.1111111111111111,\"#46039f\"],[0.2222222222222222,\"#7201a8\"],[0.3333333333333333,\"#9c179e\"],[0.4444444444444444,\"#bd3786\"],[0.5555555555555556,\"#d8576b\"],[0.6666666666666666,\"#ed7953\"],[0.7777777777777778,\"#fb9f3a\"],[0.8888888888888888,\"#fdca26\"],[1.0,\"#f0f921\"]]}],\"contourcarpet\":[{\"type\":\"contourcarpet\",\"colorbar\":{\"outlinewidth\":0,\"ticks\":\"\"}}],\"contour\":[{\"type\":\"contour\",\"colorbar\":{\"outlinewidth\":0,\"ticks\":\"\"},\"colorscale\":[[0.0,\"#0d0887\"],[0.1111111111111111,\"#46039f\"],[0.2222222222222222,\"#7201a8\"],[0.3333333333333333,\"#9c179e\"],[0.4444444444444444,\"#bd3786\"],[0.5555555555555556,\"#d8576b\"],[0.6666666666666666,\"#ed7953\"],[0.7777777777777778,\"#fb9f3a\"],[0.8888888888888888,\"#fdca26\"],[1.0,\"#f0f921\"]]}],\"surface\":[{\"type\":\"surface\",\"colorbar\":{\"outlinewidth\":0,\"ticks\":\"\"},\"colorscale\":[[0.0,\"#0d0887\"],[0.1111111111111111,\"#46039f\"],[0.2222222222222222,\"#7201a8\"],[0.3333333333333333,\"#9c179e\"],[0.4444444444444444,\"#bd3786\"],[0.5555555555555556,\"#d8576b\"],[0.6666666666666666,\"#ed7953\"],[0.7777777777777778,\"#fb9f3a\"],[0.8888888888888888,\"#fdca26\"],[1.0,\"#f0f921\"]]}],\"mesh3d\":[{\"type\":\"mesh3d\",\"colorbar\":{\"outlinewidth\":0,\"ticks\":\"\"}}],\"scatter\":[{\"fillpattern\":{\"fillmode\":\"overlay\",\"size\":10,\"solidity\":0.2},\"type\":\"scatter\"}],\"parcoords\":[{\"type\":\"parcoords\",\"line\":{\"colorbar\":{\"outlinewidth\":0,\"ticks\":\"\"}}}],\"scatterpolargl\":[{\"type\":\"scatterpolargl\",\"marker\":{\"colorbar\":{\"outlinewidth\":0,\"ticks\":\"\"}}}],\"bar\":[{\"error_x\":{\"color\":\"#2a3f5f\"},\"error_y\":{\"color\":\"#2a3f5f\"},\"marker\":{\"line\":{\"color\":\"#E5ECF6\",\"width\":0.5},\"pattern\":{\"fillmode\":\"overlay\",\"size\":10,\"solidity\":0.2}},\"type\":\"bar\"}],\"scattergeo\":[{\"type\":\"scattergeo\",\"marker\":{\"colorbar\":{\"outlinewidth\":0,\"ticks\":\"\"}}}],\"scatterpolar\":[{\"type\":\"scatterpolar\",\"marker\":{\"colorbar\":{\"outlinewidth\":0,\"ticks\":\"\"}}}],\"histogram\":[{\"marker\":{\"pattern\":{\"fillmode\":\"overlay\",\"size\":10,\"solidity\":0.2}},\"type\":\"histogram\"}],\"scattergl\":[{\"type\":\"scattergl\",\"marker\":{\"colorbar\":{\"outlinewidth\":0,\"ticks\":\"\"}}}],\"scatter3d\":[{\"type\":\"scatter3d\",\"line\":{\"colorbar\":{\"outlinewidth\":0,\"ticks\":\"\"}},\"marker\":{\"colorbar\":{\"outlinewidth\":0,\"ticks\":\"\"}}}],\"scattermapbox\":[{\"type\":\"scattermapbox\",\"marker\":{\"colorbar\":{\"outlinewidth\":0,\"ticks\":\"\"}}}],\"scatterternary\":[{\"type\":\"scatterternary\",\"marker\":{\"colorbar\":{\"outlinewidth\":0,\"ticks\":\"\"}}}],\"scattercarpet\":[{\"type\":\"scattercarpet\",\"marker\":{\"colorbar\":{\"outlinewidth\":0,\"ticks\":\"\"}}}],\"carpet\":[{\"aaxis\":{\"endlinecolor\":\"#2a3f5f\",\"gridcolor\":\"white\",\"linecolor\":\"white\",\"minorgridcolor\":\"white\",\"startlinecolor\":\"#2a3f5f\"},\"baxis\":{\"endlinecolor\":\"#2a3f5f\",\"gridcolor\":\"white\",\"linecolor\":\"white\",\"minorgridcolor\":\"white\",\"startlinecolor\":\"#2a3f5f\"},\"type\":\"carpet\"}],\"table\":[{\"cells\":{\"fill\":{\"color\":\"#EBF0F8\"},\"line\":{\"color\":\"white\"}},\"header\":{\"fill\":{\"color\":\"#C8D4E3\"},\"line\":{\"color\":\"white\"}},\"type\":\"table\"}],\"barpolar\":[{\"marker\":{\"line\":{\"color\":\"#E5ECF6\",\"width\":0.5},\"pattern\":{\"fillmode\":\"overlay\",\"size\":10,\"solidity\":0.2}},\"type\":\"barpolar\"}],\"pie\":[{\"automargin\":true,\"type\":\"pie\"}]},\"layout\":{\"autotypenumbers\":\"strict\",\"colorway\":[\"#636efa\",\"#EF553B\",\"#00cc96\",\"#ab63fa\",\"#FFA15A\",\"#19d3f3\",\"#FF6692\",\"#B6E880\",\"#FF97FF\",\"#FECB52\"],\"font\":{\"color\":\"#2a3f5f\"},\"hovermode\":\"closest\",\"hoverlabel\":{\"align\":\"left\"},\"paper_bgcolor\":\"white\",\"plot_bgcolor\":\"#E5ECF6\",\"polar\":{\"bgcolor\":\"#E5ECF6\",\"angularaxis\":{\"gridcolor\":\"white\",\"linecolor\":\"white\",\"ticks\":\"\"},\"radialaxis\":{\"gridcolor\":\"white\",\"linecolor\":\"white\",\"ticks\":\"\"}},\"ternary\":{\"bgcolor\":\"#E5ECF6\",\"aaxis\":{\"gridcolor\":\"white\",\"linecolor\":\"white\",\"ticks\":\"\"},\"baxis\":{\"gridcolor\":\"white\",\"linecolor\":\"white\",\"ticks\":\"\"},\"caxis\":{\"gridcolor\":\"white\",\"linecolor\":\"white\",\"ticks\":\"\"}},\"coloraxis\":{\"colorbar\":{\"outlinewidth\":0,\"ticks\":\"\"}},\"colorscale\":{\"sequential\":[[0.0,\"#0d0887\"],[0.1111111111111111,\"#46039f\"],[0.2222222222222222,\"#7201a8\"],[0.3333333333333333,\"#9c179e\"],[0.4444444444444444,\"#bd3786\"],[0.5555555555555556,\"#d8576b\"],[0.6666666666666666,\"#ed7953\"],[0.7777777777777778,\"#fb9f3a\"],[0.8888888888888888,\"#fdca26\"],[1.0,\"#f0f921\"]],\"sequentialminus\":[[0.0,\"#0d0887\"],[0.1111111111111111,\"#46039f\"],[0.2222222222222222,\"#7201a8\"],[0.3333333333333333,\"#9c179e\"],[0.4444444444444444,\"#bd3786\"],[0.5555555555555556,\"#d8576b\"],[0.6666666666666666,\"#ed7953\"],[0.7777777777777778,\"#fb9f3a\"],[0.8888888888888888,\"#fdca26\"],[1.0,\"#f0f921\"]],\"diverging\":[[0,\"#8e0152\"],[0.1,\"#c51b7d\"],[0.2,\"#de77ae\"],[0.3,\"#f1b6da\"],[0.4,\"#fde0ef\"],[0.5,\"#f7f7f7\"],[0.6,\"#e6f5d0\"],[0.7,\"#b8e186\"],[0.8,\"#7fbc41\"],[0.9,\"#4d9221\"],[1,\"#276419\"]]},\"xaxis\":{\"gridcolor\":\"white\",\"linecolor\":\"white\",\"ticks\":\"\",\"title\":{\"standoff\":15},\"zerolinecolor\":\"white\",\"automargin\":true,\"zerolinewidth\":2},\"yaxis\":{\"gridcolor\":\"white\",\"linecolor\":\"white\",\"ticks\":\"\",\"title\":{\"standoff\":15},\"zerolinecolor\":\"white\",\"automargin\":true,\"zerolinewidth\":2},\"scene\":{\"xaxis\":{\"backgroundcolor\":\"#E5ECF6\",\"gridcolor\":\"white\",\"linecolor\":\"white\",\"showbackground\":true,\"ticks\":\"\",\"zerolinecolor\":\"white\",\"gridwidth\":2},\"yaxis\":{\"backgroundcolor\":\"#E5ECF6\",\"gridcolor\":\"white\",\"linecolor\":\"white\",\"showbackground\":true,\"ticks\":\"\",\"zerolinecolor\":\"white\",\"gridwidth\":2},\"zaxis\":{\"backgroundcolor\":\"#E5ECF6\",\"gridcolor\":\"white\",\"linecolor\":\"white\",\"showbackground\":true,\"ticks\":\"\",\"zerolinecolor\":\"white\",\"gridwidth\":2}},\"shapedefaults\":{\"line\":{\"color\":\"#2a3f5f\"}},\"annotationdefaults\":{\"arrowcolor\":\"#2a3f5f\",\"arrowhead\":0,\"arrowwidth\":1},\"geo\":{\"bgcolor\":\"white\",\"landcolor\":\"#E5ECF6\",\"subunitcolor\":\"white\",\"showland\":true,\"showlakes\":true,\"lakecolor\":\"white\"},\"title\":{\"x\":0.05},\"mapbox\":{\"style\":\"light\"}}},\"xaxis\":{\"anchor\":\"y\",\"domain\":[0.0,1.0],\"title\":{\"text\":\"horsepower\"}},\"yaxis\":{\"anchor\":\"x\",\"domain\":[0.0,1.0],\"title\":{\"text\":\"mpg\"}},\"legend\":{\"tracegroupgap\":0},\"margin\":{\"t\":60},\"width\":500,\"height\":500},                        {\"responsive\": true}                    ).then(function(){\n",
       "                            \n",
       "var gd = document.getElementById('3aed4230-d55c-4713-bc9b-c660139ee301');\n",
       "var x = new MutationObserver(function (mutations, observer) {{\n",
       "        var display = window.getComputedStyle(gd).display;\n",
       "        if (!display || display === 'none') {{\n",
       "            console.log([gd, 'removed!']);\n",
       "            Plotly.purge(gd);\n",
       "            observer.disconnect();\n",
       "        }}\n",
       "}});\n",
       "\n",
       "// Listen for the removal of the full notebook cells\n",
       "var notebookContainer = gd.closest('#notebook-container');\n",
       "if (notebookContainer) {{\n",
       "    x.observe(notebookContainer, {childList: true});\n",
       "}}\n",
       "\n",
       "// Listen for the clearing of the current output cell\n",
       "var outputEl = gd.closest('.output');\n",
       "if (outputEl) {{\n",
       "    x.observe(outputEl, {childList: true});\n",
       "}}\n",
       "\n",
       "                        })                };                });            </script>        </div>"
      ]
     },
     "metadata": {},
     "output_type": "display_data"
    }
   ],
   "source": [
    "# create a bivariate scatterplot of `mpg ~ horsepower`\n",
    "fig = px.scatter(x='horsepower', y='mpg', data_frame=cars_df, hover_data='name')\n",
    "fig.update_traces(marker={'color':'blue'})\n",
    "fig.update_layout(width=500, height=500)\n",
    "fig.show()"
   ]
  },
  {
   "cell_type": "markdown",
   "id": "09e93b59",
   "metadata": {},
   "source": [
    "From graphically inspecting the data we can see a clear curve in the relationship between the two variables. As we move along the `horsepower` axis the values of `mpg` generally get lower, but the rate at which they get lower is much steeper at lower values of `horsepower`. These are the sorts of relationships that polynomial regression lets us model.\n",
    "\n",
    "#### A Thought Experiment (of sorts)\n",
    "\n",
    "For the purposes of this page it will be conceptually useful to engage in a [thought experiment](https://plato.stanford.edu/Entries/thought-experiment/). Such thought experiments are more commonly used in philosophy than in data science, but they will be useful for thinking about certain aspects of model-fitting.\n",
    "\n",
    "In reality, the car models in this dataset are a subset of all the car models that existed in the 1970s/1980s. But I would like you to imagine that we are on a small island, and that this dataset is exhaustive of all the cars that exist on the island. For some of the variables, we may have to do a bit of additional imagining here - for instance, we will treat `origin` as reflecting which part of the island the model comes from etc.\n",
    "\n",
    "The key aspect here isto imagine that the points on the scatterplot above represent the complete population of the car models available on the island. We are going to restrict our analysis to a small random sample of these cars, to simulate the typical situation that a data analyst is in, but with the added benefit of being able to 'peek' at the population as a whole whenever we want.\n",
    "\n",
    "The code cell below takes a random sample of 30 cars from (what we are pretending is) the full population:"
   ]
  },
  {
   "cell_type": "code",
   "execution_count": 38,
   "id": "f872c96d",
   "metadata": {},
   "outputs": [
    {
     "data": {
      "text/html": [
       "<div>\n",
       "<style scoped>\n",
       "    .dataframe tbody tr th:only-of-type {\n",
       "        vertical-align: middle;\n",
       "    }\n",
       "\n",
       "    .dataframe tbody tr th {\n",
       "        vertical-align: top;\n",
       "    }\n",
       "\n",
       "    .dataframe thead th {\n",
       "        text-align: right;\n",
       "    }\n",
       "</style>\n",
       "<table border=\"1\" class=\"dataframe\">\n",
       "  <thead>\n",
       "    <tr style=\"text-align: right;\">\n",
       "      <th></th>\n",
       "      <th>mpg</th>\n",
       "      <th>cylinders</th>\n",
       "      <th>displacement</th>\n",
       "      <th>horsepower</th>\n",
       "      <th>weight</th>\n",
       "      <th>acceleration</th>\n",
       "      <th>year</th>\n",
       "      <th>origin</th>\n",
       "      <th>name</th>\n",
       "    </tr>\n",
       "  </thead>\n",
       "  <tbody>\n",
       "    <tr>\n",
       "      <th>359</th>\n",
       "      <td>26.6</td>\n",
       "      <td>8</td>\n",
       "      <td>350.0</td>\n",
       "      <td>105</td>\n",
       "      <td>3725</td>\n",
       "      <td>19.0</td>\n",
       "      <td>81</td>\n",
       "      <td>1</td>\n",
       "      <td>oldsmobile cutlass ls</td>\n",
       "    </tr>\n",
       "    <tr>\n",
       "      <th>368</th>\n",
       "      <td>24.0</td>\n",
       "      <td>4</td>\n",
       "      <td>140.0</td>\n",
       "      <td>92</td>\n",
       "      <td>2865</td>\n",
       "      <td>16.4</td>\n",
       "      <td>82</td>\n",
       "      <td>1</td>\n",
       "      <td>ford fairmont futura</td>\n",
       "    </tr>\n",
       "    <tr>\n",
       "      <th>126</th>\n",
       "      <td>15.0</td>\n",
       "      <td>6</td>\n",
       "      <td>250.0</td>\n",
       "      <td>100</td>\n",
       "      <td>3336</td>\n",
       "      <td>17.0</td>\n",
       "      <td>74</td>\n",
       "      <td>1</td>\n",
       "      <td>chevrolet nova</td>\n",
       "    </tr>\n",
       "    <tr>\n",
       "      <th>150</th>\n",
       "      <td>19.0</td>\n",
       "      <td>6</td>\n",
       "      <td>225.0</td>\n",
       "      <td>95</td>\n",
       "      <td>3264</td>\n",
       "      <td>16.0</td>\n",
       "      <td>75</td>\n",
       "      <td>1</td>\n",
       "      <td>plymouth valiant custom</td>\n",
       "    </tr>\n",
       "    <tr>\n",
       "      <th>217</th>\n",
       "      <td>25.5</td>\n",
       "      <td>4</td>\n",
       "      <td>122.0</td>\n",
       "      <td>96</td>\n",
       "      <td>2300</td>\n",
       "      <td>15.5</td>\n",
       "      <td>77</td>\n",
       "      <td>1</td>\n",
       "      <td>plymouth arrow gs</td>\n",
       "    </tr>\n",
       "    <tr>\n",
       "      <th>259</th>\n",
       "      <td>18.1</td>\n",
       "      <td>6</td>\n",
       "      <td>258.0</td>\n",
       "      <td>120</td>\n",
       "      <td>3410</td>\n",
       "      <td>15.1</td>\n",
       "      <td>78</td>\n",
       "      <td>1</td>\n",
       "      <td>amc concord d/l</td>\n",
       "    </tr>\n",
       "    <tr>\n",
       "      <th>228</th>\n",
       "      <td>15.5</td>\n",
       "      <td>8</td>\n",
       "      <td>350.0</td>\n",
       "      <td>170</td>\n",
       "      <td>4165</td>\n",
       "      <td>11.4</td>\n",
       "      <td>77</td>\n",
       "      <td>1</td>\n",
       "      <td>chevrolet monte carlo landau</td>\n",
       "    </tr>\n",
       "    <tr>\n",
       "      <th>129</th>\n",
       "      <td>32.0</td>\n",
       "      <td>4</td>\n",
       "      <td>71.0</td>\n",
       "      <td>65</td>\n",
       "      <td>1836</td>\n",
       "      <td>21.0</td>\n",
       "      <td>74</td>\n",
       "      <td>3</td>\n",
       "      <td>toyota corolla 1200</td>\n",
       "    </tr>\n",
       "    <tr>\n",
       "      <th>38</th>\n",
       "      <td>14.0</td>\n",
       "      <td>8</td>\n",
       "      <td>400.0</td>\n",
       "      <td>175</td>\n",
       "      <td>4464</td>\n",
       "      <td>11.5</td>\n",
       "      <td>71</td>\n",
       "      <td>1</td>\n",
       "      <td>pontiac catalina brougham</td>\n",
       "    </tr>\n",
       "    <tr>\n",
       "      <th>294</th>\n",
       "      <td>27.4</td>\n",
       "      <td>4</td>\n",
       "      <td>121.0</td>\n",
       "      <td>80</td>\n",
       "      <td>2670</td>\n",
       "      <td>15.0</td>\n",
       "      <td>79</td>\n",
       "      <td>1</td>\n",
       "      <td>amc spirit dl</td>\n",
       "    </tr>\n",
       "    <tr>\n",
       "      <th>0</th>\n",
       "      <td>18.0</td>\n",
       "      <td>8</td>\n",
       "      <td>307.0</td>\n",
       "      <td>130</td>\n",
       "      <td>3504</td>\n",
       "      <td>12.0</td>\n",
       "      <td>70</td>\n",
       "      <td>1</td>\n",
       "      <td>chevrolet chevelle malibu</td>\n",
       "    </tr>\n",
       "    <tr>\n",
       "      <th>360</th>\n",
       "      <td>20.2</td>\n",
       "      <td>6</td>\n",
       "      <td>200.0</td>\n",
       "      <td>88</td>\n",
       "      <td>3060</td>\n",
       "      <td>17.1</td>\n",
       "      <td>81</td>\n",
       "      <td>1</td>\n",
       "      <td>ford granada gl</td>\n",
       "    </tr>\n",
       "    <tr>\n",
       "      <th>35</th>\n",
       "      <td>19.0</td>\n",
       "      <td>6</td>\n",
       "      <td>250.0</td>\n",
       "      <td>88</td>\n",
       "      <td>3302</td>\n",
       "      <td>15.5</td>\n",
       "      <td>71</td>\n",
       "      <td>1</td>\n",
       "      <td>ford torino 500</td>\n",
       "    </tr>\n",
       "    <tr>\n",
       "      <th>181</th>\n",
       "      <td>25.0</td>\n",
       "      <td>4</td>\n",
       "      <td>116.0</td>\n",
       "      <td>81</td>\n",
       "      <td>2220</td>\n",
       "      <td>16.9</td>\n",
       "      <td>76</td>\n",
       "      <td>2</td>\n",
       "      <td>opel 1900</td>\n",
       "    </tr>\n",
       "    <tr>\n",
       "      <th>229</th>\n",
       "      <td>15.5</td>\n",
       "      <td>8</td>\n",
       "      <td>400.0</td>\n",
       "      <td>190</td>\n",
       "      <td>4325</td>\n",
       "      <td>12.2</td>\n",
       "      <td>77</td>\n",
       "      <td>1</td>\n",
       "      <td>chrysler cordoba</td>\n",
       "    </tr>\n",
       "    <tr>\n",
       "      <th>3</th>\n",
       "      <td>16.0</td>\n",
       "      <td>8</td>\n",
       "      <td>304.0</td>\n",
       "      <td>150</td>\n",
       "      <td>3433</td>\n",
       "      <td>12.0</td>\n",
       "      <td>70</td>\n",
       "      <td>1</td>\n",
       "      <td>amc rebel sst</td>\n",
       "    </tr>\n",
       "    <tr>\n",
       "      <th>78</th>\n",
       "      <td>26.0</td>\n",
       "      <td>4</td>\n",
       "      <td>96.0</td>\n",
       "      <td>69</td>\n",
       "      <td>2189</td>\n",
       "      <td>18.0</td>\n",
       "      <td>72</td>\n",
       "      <td>2</td>\n",
       "      <td>renault 12 (sw)</td>\n",
       "    </tr>\n",
       "    <tr>\n",
       "      <th>281</th>\n",
       "      <td>20.2</td>\n",
       "      <td>6</td>\n",
       "      <td>232.0</td>\n",
       "      <td>90</td>\n",
       "      <td>3265</td>\n",
       "      <td>18.2</td>\n",
       "      <td>79</td>\n",
       "      <td>1</td>\n",
       "      <td>amc concord dl 6</td>\n",
       "    </tr>\n",
       "    <tr>\n",
       "      <th>381</th>\n",
       "      <td>38.0</td>\n",
       "      <td>6</td>\n",
       "      <td>262.0</td>\n",
       "      <td>85</td>\n",
       "      <td>3015</td>\n",
       "      <td>17.0</td>\n",
       "      <td>82</td>\n",
       "      <td>1</td>\n",
       "      <td>oldsmobile cutlass ciera (diesel)</td>\n",
       "    </tr>\n",
       "    <tr>\n",
       "      <th>202</th>\n",
       "      <td>32.0</td>\n",
       "      <td>4</td>\n",
       "      <td>85.0</td>\n",
       "      <td>70</td>\n",
       "      <td>1990</td>\n",
       "      <td>17.0</td>\n",
       "      <td>76</td>\n",
       "      <td>3</td>\n",
       "      <td>datsun b-210</td>\n",
       "    </tr>\n",
       "    <tr>\n",
       "      <th>110</th>\n",
       "      <td>18.0</td>\n",
       "      <td>3</td>\n",
       "      <td>70.0</td>\n",
       "      <td>90</td>\n",
       "      <td>2124</td>\n",
       "      <td>13.5</td>\n",
       "      <td>73</td>\n",
       "      <td>3</td>\n",
       "      <td>maxda rx3</td>\n",
       "    </tr>\n",
       "    <tr>\n",
       "      <th>253</th>\n",
       "      <td>25.1</td>\n",
       "      <td>4</td>\n",
       "      <td>140.0</td>\n",
       "      <td>88</td>\n",
       "      <td>2720</td>\n",
       "      <td>15.4</td>\n",
       "      <td>78</td>\n",
       "      <td>1</td>\n",
       "      <td>ford fairmont (man)</td>\n",
       "    </tr>\n",
       "    <tr>\n",
       "      <th>353</th>\n",
       "      <td>31.6</td>\n",
       "      <td>4</td>\n",
       "      <td>120.0</td>\n",
       "      <td>74</td>\n",
       "      <td>2635</td>\n",
       "      <td>18.3</td>\n",
       "      <td>81</td>\n",
       "      <td>3</td>\n",
       "      <td>mazda 626</td>\n",
       "    </tr>\n",
       "    <tr>\n",
       "      <th>333</th>\n",
       "      <td>32.4</td>\n",
       "      <td>4</td>\n",
       "      <td>107.0</td>\n",
       "      <td>72</td>\n",
       "      <td>2290</td>\n",
       "      <td>17.0</td>\n",
       "      <td>80</td>\n",
       "      <td>3</td>\n",
       "      <td>honda accord</td>\n",
       "    </tr>\n",
       "    <tr>\n",
       "      <th>27</th>\n",
       "      <td>11.0</td>\n",
       "      <td>8</td>\n",
       "      <td>318.0</td>\n",
       "      <td>210</td>\n",
       "      <td>4382</td>\n",
       "      <td>13.5</td>\n",
       "      <td>70</td>\n",
       "      <td>1</td>\n",
       "      <td>dodge d200</td>\n",
       "    </tr>\n",
       "    <tr>\n",
       "      <th>148</th>\n",
       "      <td>26.0</td>\n",
       "      <td>4</td>\n",
       "      <td>108.0</td>\n",
       "      <td>93</td>\n",
       "      <td>2391</td>\n",
       "      <td>15.5</td>\n",
       "      <td>74</td>\n",
       "      <td>3</td>\n",
       "      <td>subaru</td>\n",
       "    </tr>\n",
       "    <tr>\n",
       "      <th>111</th>\n",
       "      <td>19.0</td>\n",
       "      <td>4</td>\n",
       "      <td>122.0</td>\n",
       "      <td>85</td>\n",
       "      <td>2310</td>\n",
       "      <td>18.5</td>\n",
       "      <td>73</td>\n",
       "      <td>1</td>\n",
       "      <td>ford pinto</td>\n",
       "    </tr>\n",
       "    <tr>\n",
       "      <th>92</th>\n",
       "      <td>14.0</td>\n",
       "      <td>8</td>\n",
       "      <td>318.0</td>\n",
       "      <td>150</td>\n",
       "      <td>4237</td>\n",
       "      <td>14.5</td>\n",
       "      <td>73</td>\n",
       "      <td>1</td>\n",
       "      <td>plymouth fury gran sedan</td>\n",
       "    </tr>\n",
       "    <tr>\n",
       "      <th>343</th>\n",
       "      <td>37.0</td>\n",
       "      <td>4</td>\n",
       "      <td>85.0</td>\n",
       "      <td>65</td>\n",
       "      <td>1975</td>\n",
       "      <td>19.4</td>\n",
       "      <td>81</td>\n",
       "      <td>3</td>\n",
       "      <td>datsun 210 mpg</td>\n",
       "    </tr>\n",
       "    <tr>\n",
       "      <th>76</th>\n",
       "      <td>22.0</td>\n",
       "      <td>4</td>\n",
       "      <td>121.0</td>\n",
       "      <td>76</td>\n",
       "      <td>2511</td>\n",
       "      <td>18.0</td>\n",
       "      <td>72</td>\n",
       "      <td>2</td>\n",
       "      <td>volkswagen 411 (sw)</td>\n",
       "    </tr>\n",
       "  </tbody>\n",
       "</table>\n",
       "</div>"
      ],
      "text/plain": [
       "      mpg  cylinders  displacement  horsepower  weight  acceleration  year  \\\n",
       "359  26.6          8         350.0         105    3725          19.0    81   \n",
       "368  24.0          4         140.0          92    2865          16.4    82   \n",
       "126  15.0          6         250.0         100    3336          17.0    74   \n",
       "150  19.0          6         225.0          95    3264          16.0    75   \n",
       "217  25.5          4         122.0          96    2300          15.5    77   \n",
       "259  18.1          6         258.0         120    3410          15.1    78   \n",
       "228  15.5          8         350.0         170    4165          11.4    77   \n",
       "129  32.0          4          71.0          65    1836          21.0    74   \n",
       "38   14.0          8         400.0         175    4464          11.5    71   \n",
       "294  27.4          4         121.0          80    2670          15.0    79   \n",
       "0    18.0          8         307.0         130    3504          12.0    70   \n",
       "360  20.2          6         200.0          88    3060          17.1    81   \n",
       "35   19.0          6         250.0          88    3302          15.5    71   \n",
       "181  25.0          4         116.0          81    2220          16.9    76   \n",
       "229  15.5          8         400.0         190    4325          12.2    77   \n",
       "3    16.0          8         304.0         150    3433          12.0    70   \n",
       "78   26.0          4          96.0          69    2189          18.0    72   \n",
       "281  20.2          6         232.0          90    3265          18.2    79   \n",
       "381  38.0          6         262.0          85    3015          17.0    82   \n",
       "202  32.0          4          85.0          70    1990          17.0    76   \n",
       "110  18.0          3          70.0          90    2124          13.5    73   \n",
       "253  25.1          4         140.0          88    2720          15.4    78   \n",
       "353  31.6          4         120.0          74    2635          18.3    81   \n",
       "333  32.4          4         107.0          72    2290          17.0    80   \n",
       "27   11.0          8         318.0         210    4382          13.5    70   \n",
       "148  26.0          4         108.0          93    2391          15.5    74   \n",
       "111  19.0          4         122.0          85    2310          18.5    73   \n",
       "92   14.0          8         318.0         150    4237          14.5    73   \n",
       "343  37.0          4          85.0          65    1975          19.4    81   \n",
       "76   22.0          4         121.0          76    2511          18.0    72   \n",
       "\n",
       "     origin                               name  \n",
       "359       1              oldsmobile cutlass ls  \n",
       "368       1               ford fairmont futura  \n",
       "126       1                     chevrolet nova  \n",
       "150       1            plymouth valiant custom  \n",
       "217       1                  plymouth arrow gs  \n",
       "259       1                    amc concord d/l  \n",
       "228       1       chevrolet monte carlo landau  \n",
       "129       3                toyota corolla 1200  \n",
       "38        1          pontiac catalina brougham  \n",
       "294       1                      amc spirit dl  \n",
       "0         1          chevrolet chevelle malibu  \n",
       "360       1                    ford granada gl  \n",
       "35        1                    ford torino 500  \n",
       "181       2                          opel 1900  \n",
       "229       1                   chrysler cordoba  \n",
       "3         1                      amc rebel sst  \n",
       "78        2                    renault 12 (sw)  \n",
       "281       1                   amc concord dl 6  \n",
       "381       1  oldsmobile cutlass ciera (diesel)  \n",
       "202       3                       datsun b-210  \n",
       "110       3                          maxda rx3  \n",
       "253       1                ford fairmont (man)  \n",
       "353       3                          mazda 626  \n",
       "333       3                       honda accord  \n",
       "27        1                         dodge d200  \n",
       "148       3                             subaru  \n",
       "111       1                         ford pinto  \n",
       "92        1           plymouth fury gran sedan  \n",
       "343       3                     datsun 210 mpg  \n",
       "76        2                volkswagen 411 (sw)  "
      ]
     },
     "execution_count": 38,
     "metadata": {},
     "output_type": "execute_result"
    }
   ],
   "source": [
    "# simulate the normal situation we are in, in data science,\n",
    "# by taking a random sample from the population data\n",
    "sample = cars_df.sample(30, random_state=30)\n",
    "\n",
    "# show the sample\n",
    "sample"
   ]
  },
  {
   "cell_type": "markdown",
   "id": "312d6c17",
   "metadata": {},
   "source": [
    "Lets play `mpg` as a function of `horsepower`, but using just our sample data:"
   ]
  },
  {
   "cell_type": "code",
   "execution_count": 39,
   "id": "3caf5d05",
   "metadata": {},
   "outputs": [
    {
     "data": {
      "application/vnd.plotly.v1+json": {
       "config": {
        "plotlyServerURL": "https://plot.ly"
       },
       "data": [
        {
         "customdata": [
          [
           "oldsmobile cutlass ls"
          ],
          [
           "ford fairmont futura"
          ],
          [
           "chevrolet nova"
          ],
          [
           "plymouth valiant custom"
          ],
          [
           "plymouth arrow gs"
          ],
          [
           "amc concord d/l"
          ],
          [
           "chevrolet monte carlo landau"
          ],
          [
           "toyota corolla 1200"
          ],
          [
           "pontiac catalina brougham"
          ],
          [
           "amc spirit dl"
          ],
          [
           "chevrolet chevelle malibu"
          ],
          [
           "ford granada gl"
          ],
          [
           "ford torino 500"
          ],
          [
           "opel 1900"
          ],
          [
           "chrysler cordoba"
          ],
          [
           "amc rebel sst"
          ],
          [
           "renault 12 (sw)"
          ],
          [
           "amc concord dl 6"
          ],
          [
           "oldsmobile cutlass ciera (diesel)"
          ],
          [
           "datsun b-210"
          ],
          [
           "maxda rx3"
          ],
          [
           "ford fairmont (man)"
          ],
          [
           "mazda 626"
          ],
          [
           "honda accord"
          ],
          [
           "dodge d200"
          ],
          [
           "subaru"
          ],
          [
           "ford pinto"
          ],
          [
           "plymouth fury gran sedan"
          ],
          [
           "datsun 210 mpg"
          ],
          [
           "volkswagen 411 (sw)"
          ]
         ],
         "hovertemplate": "horsepower=%{x}<br>mpg=%{y}<br>name=%{customdata[0]}<extra></extra>",
         "legendgroup": "",
         "marker": {
          "color": "red",
          "symbol": "circle"
         },
         "mode": "markers",
         "name": "",
         "orientation": "v",
         "showlegend": false,
         "type": "scatter",
         "x": [
          105,
          92,
          100,
          95,
          96,
          120,
          170,
          65,
          175,
          80,
          130,
          88,
          88,
          81,
          190,
          150,
          69,
          90,
          85,
          70,
          90,
          88,
          74,
          72,
          210,
          93,
          85,
          150,
          65,
          76
         ],
         "xaxis": "x",
         "y": [
          26.6,
          24,
          15,
          19,
          25.5,
          18.1,
          15.5,
          32,
          14,
          27.4,
          18,
          20.2,
          19,
          25,
          15.5,
          16,
          26,
          20.2,
          38,
          32,
          18,
          25.1,
          31.6,
          32.4,
          11,
          26,
          19,
          14,
          37,
          22
         ],
         "yaxis": "y"
        }
       ],
       "layout": {
        "height": 500,
        "legend": {
         "tracegroupgap": 0
        },
        "margin": {
         "t": 60
        },
        "template": {
         "data": {
          "bar": [
           {
            "error_x": {
             "color": "#2a3f5f"
            },
            "error_y": {
             "color": "#2a3f5f"
            },
            "marker": {
             "line": {
              "color": "#E5ECF6",
              "width": 0.5
             },
             "pattern": {
              "fillmode": "overlay",
              "size": 10,
              "solidity": 0.2
             }
            },
            "type": "bar"
           }
          ],
          "barpolar": [
           {
            "marker": {
             "line": {
              "color": "#E5ECF6",
              "width": 0.5
             },
             "pattern": {
              "fillmode": "overlay",
              "size": 10,
              "solidity": 0.2
             }
            },
            "type": "barpolar"
           }
          ],
          "carpet": [
           {
            "aaxis": {
             "endlinecolor": "#2a3f5f",
             "gridcolor": "white",
             "linecolor": "white",
             "minorgridcolor": "white",
             "startlinecolor": "#2a3f5f"
            },
            "baxis": {
             "endlinecolor": "#2a3f5f",
             "gridcolor": "white",
             "linecolor": "white",
             "minorgridcolor": "white",
             "startlinecolor": "#2a3f5f"
            },
            "type": "carpet"
           }
          ],
          "choropleth": [
           {
            "colorbar": {
             "outlinewidth": 0,
             "ticks": ""
            },
            "type": "choropleth"
           }
          ],
          "contour": [
           {
            "colorbar": {
             "outlinewidth": 0,
             "ticks": ""
            },
            "colorscale": [
             [
              0,
              "#0d0887"
             ],
             [
              0.1111111111111111,
              "#46039f"
             ],
             [
              0.2222222222222222,
              "#7201a8"
             ],
             [
              0.3333333333333333,
              "#9c179e"
             ],
             [
              0.4444444444444444,
              "#bd3786"
             ],
             [
              0.5555555555555556,
              "#d8576b"
             ],
             [
              0.6666666666666666,
              "#ed7953"
             ],
             [
              0.7777777777777778,
              "#fb9f3a"
             ],
             [
              0.8888888888888888,
              "#fdca26"
             ],
             [
              1,
              "#f0f921"
             ]
            ],
            "type": "contour"
           }
          ],
          "contourcarpet": [
           {
            "colorbar": {
             "outlinewidth": 0,
             "ticks": ""
            },
            "type": "contourcarpet"
           }
          ],
          "heatmap": [
           {
            "colorbar": {
             "outlinewidth": 0,
             "ticks": ""
            },
            "colorscale": [
             [
              0,
              "#0d0887"
             ],
             [
              0.1111111111111111,
              "#46039f"
             ],
             [
              0.2222222222222222,
              "#7201a8"
             ],
             [
              0.3333333333333333,
              "#9c179e"
             ],
             [
              0.4444444444444444,
              "#bd3786"
             ],
             [
              0.5555555555555556,
              "#d8576b"
             ],
             [
              0.6666666666666666,
              "#ed7953"
             ],
             [
              0.7777777777777778,
              "#fb9f3a"
             ],
             [
              0.8888888888888888,
              "#fdca26"
             ],
             [
              1,
              "#f0f921"
             ]
            ],
            "type": "heatmap"
           }
          ],
          "heatmapgl": [
           {
            "colorbar": {
             "outlinewidth": 0,
             "ticks": ""
            },
            "colorscale": [
             [
              0,
              "#0d0887"
             ],
             [
              0.1111111111111111,
              "#46039f"
             ],
             [
              0.2222222222222222,
              "#7201a8"
             ],
             [
              0.3333333333333333,
              "#9c179e"
             ],
             [
              0.4444444444444444,
              "#bd3786"
             ],
             [
              0.5555555555555556,
              "#d8576b"
             ],
             [
              0.6666666666666666,
              "#ed7953"
             ],
             [
              0.7777777777777778,
              "#fb9f3a"
             ],
             [
              0.8888888888888888,
              "#fdca26"
             ],
             [
              1,
              "#f0f921"
             ]
            ],
            "type": "heatmapgl"
           }
          ],
          "histogram": [
           {
            "marker": {
             "pattern": {
              "fillmode": "overlay",
              "size": 10,
              "solidity": 0.2
             }
            },
            "type": "histogram"
           }
          ],
          "histogram2d": [
           {
            "colorbar": {
             "outlinewidth": 0,
             "ticks": ""
            },
            "colorscale": [
             [
              0,
              "#0d0887"
             ],
             [
              0.1111111111111111,
              "#46039f"
             ],
             [
              0.2222222222222222,
              "#7201a8"
             ],
             [
              0.3333333333333333,
              "#9c179e"
             ],
             [
              0.4444444444444444,
              "#bd3786"
             ],
             [
              0.5555555555555556,
              "#d8576b"
             ],
             [
              0.6666666666666666,
              "#ed7953"
             ],
             [
              0.7777777777777778,
              "#fb9f3a"
             ],
             [
              0.8888888888888888,
              "#fdca26"
             ],
             [
              1,
              "#f0f921"
             ]
            ],
            "type": "histogram2d"
           }
          ],
          "histogram2dcontour": [
           {
            "colorbar": {
             "outlinewidth": 0,
             "ticks": ""
            },
            "colorscale": [
             [
              0,
              "#0d0887"
             ],
             [
              0.1111111111111111,
              "#46039f"
             ],
             [
              0.2222222222222222,
              "#7201a8"
             ],
             [
              0.3333333333333333,
              "#9c179e"
             ],
             [
              0.4444444444444444,
              "#bd3786"
             ],
             [
              0.5555555555555556,
              "#d8576b"
             ],
             [
              0.6666666666666666,
              "#ed7953"
             ],
             [
              0.7777777777777778,
              "#fb9f3a"
             ],
             [
              0.8888888888888888,
              "#fdca26"
             ],
             [
              1,
              "#f0f921"
             ]
            ],
            "type": "histogram2dcontour"
           }
          ],
          "mesh3d": [
           {
            "colorbar": {
             "outlinewidth": 0,
             "ticks": ""
            },
            "type": "mesh3d"
           }
          ],
          "parcoords": [
           {
            "line": {
             "colorbar": {
              "outlinewidth": 0,
              "ticks": ""
             }
            },
            "type": "parcoords"
           }
          ],
          "pie": [
           {
            "automargin": true,
            "type": "pie"
           }
          ],
          "scatter": [
           {
            "fillpattern": {
             "fillmode": "overlay",
             "size": 10,
             "solidity": 0.2
            },
            "type": "scatter"
           }
          ],
          "scatter3d": [
           {
            "line": {
             "colorbar": {
              "outlinewidth": 0,
              "ticks": ""
             }
            },
            "marker": {
             "colorbar": {
              "outlinewidth": 0,
              "ticks": ""
             }
            },
            "type": "scatter3d"
           }
          ],
          "scattercarpet": [
           {
            "marker": {
             "colorbar": {
              "outlinewidth": 0,
              "ticks": ""
             }
            },
            "type": "scattercarpet"
           }
          ],
          "scattergeo": [
           {
            "marker": {
             "colorbar": {
              "outlinewidth": 0,
              "ticks": ""
             }
            },
            "type": "scattergeo"
           }
          ],
          "scattergl": [
           {
            "marker": {
             "colorbar": {
              "outlinewidth": 0,
              "ticks": ""
             }
            },
            "type": "scattergl"
           }
          ],
          "scattermapbox": [
           {
            "marker": {
             "colorbar": {
              "outlinewidth": 0,
              "ticks": ""
             }
            },
            "type": "scattermapbox"
           }
          ],
          "scatterpolar": [
           {
            "marker": {
             "colorbar": {
              "outlinewidth": 0,
              "ticks": ""
             }
            },
            "type": "scatterpolar"
           }
          ],
          "scatterpolargl": [
           {
            "marker": {
             "colorbar": {
              "outlinewidth": 0,
              "ticks": ""
             }
            },
            "type": "scatterpolargl"
           }
          ],
          "scatterternary": [
           {
            "marker": {
             "colorbar": {
              "outlinewidth": 0,
              "ticks": ""
             }
            },
            "type": "scatterternary"
           }
          ],
          "surface": [
           {
            "colorbar": {
             "outlinewidth": 0,
             "ticks": ""
            },
            "colorscale": [
             [
              0,
              "#0d0887"
             ],
             [
              0.1111111111111111,
              "#46039f"
             ],
             [
              0.2222222222222222,
              "#7201a8"
             ],
             [
              0.3333333333333333,
              "#9c179e"
             ],
             [
              0.4444444444444444,
              "#bd3786"
             ],
             [
              0.5555555555555556,
              "#d8576b"
             ],
             [
              0.6666666666666666,
              "#ed7953"
             ],
             [
              0.7777777777777778,
              "#fb9f3a"
             ],
             [
              0.8888888888888888,
              "#fdca26"
             ],
             [
              1,
              "#f0f921"
             ]
            ],
            "type": "surface"
           }
          ],
          "table": [
           {
            "cells": {
             "fill": {
              "color": "#EBF0F8"
             },
             "line": {
              "color": "white"
             }
            },
            "header": {
             "fill": {
              "color": "#C8D4E3"
             },
             "line": {
              "color": "white"
             }
            },
            "type": "table"
           }
          ]
         },
         "layout": {
          "annotationdefaults": {
           "arrowcolor": "#2a3f5f",
           "arrowhead": 0,
           "arrowwidth": 1
          },
          "autotypenumbers": "strict",
          "coloraxis": {
           "colorbar": {
            "outlinewidth": 0,
            "ticks": ""
           }
          },
          "colorscale": {
           "diverging": [
            [
             0,
             "#8e0152"
            ],
            [
             0.1,
             "#c51b7d"
            ],
            [
             0.2,
             "#de77ae"
            ],
            [
             0.3,
             "#f1b6da"
            ],
            [
             0.4,
             "#fde0ef"
            ],
            [
             0.5,
             "#f7f7f7"
            ],
            [
             0.6,
             "#e6f5d0"
            ],
            [
             0.7,
             "#b8e186"
            ],
            [
             0.8,
             "#7fbc41"
            ],
            [
             0.9,
             "#4d9221"
            ],
            [
             1,
             "#276419"
            ]
           ],
           "sequential": [
            [
             0,
             "#0d0887"
            ],
            [
             0.1111111111111111,
             "#46039f"
            ],
            [
             0.2222222222222222,
             "#7201a8"
            ],
            [
             0.3333333333333333,
             "#9c179e"
            ],
            [
             0.4444444444444444,
             "#bd3786"
            ],
            [
             0.5555555555555556,
             "#d8576b"
            ],
            [
             0.6666666666666666,
             "#ed7953"
            ],
            [
             0.7777777777777778,
             "#fb9f3a"
            ],
            [
             0.8888888888888888,
             "#fdca26"
            ],
            [
             1,
             "#f0f921"
            ]
           ],
           "sequentialminus": [
            [
             0,
             "#0d0887"
            ],
            [
             0.1111111111111111,
             "#46039f"
            ],
            [
             0.2222222222222222,
             "#7201a8"
            ],
            [
             0.3333333333333333,
             "#9c179e"
            ],
            [
             0.4444444444444444,
             "#bd3786"
            ],
            [
             0.5555555555555556,
             "#d8576b"
            ],
            [
             0.6666666666666666,
             "#ed7953"
            ],
            [
             0.7777777777777778,
             "#fb9f3a"
            ],
            [
             0.8888888888888888,
             "#fdca26"
            ],
            [
             1,
             "#f0f921"
            ]
           ]
          },
          "colorway": [
           "#636efa",
           "#EF553B",
           "#00cc96",
           "#ab63fa",
           "#FFA15A",
           "#19d3f3",
           "#FF6692",
           "#B6E880",
           "#FF97FF",
           "#FECB52"
          ],
          "font": {
           "color": "#2a3f5f"
          },
          "geo": {
           "bgcolor": "white",
           "lakecolor": "white",
           "landcolor": "#E5ECF6",
           "showlakes": true,
           "showland": true,
           "subunitcolor": "white"
          },
          "hoverlabel": {
           "align": "left"
          },
          "hovermode": "closest",
          "mapbox": {
           "style": "light"
          },
          "paper_bgcolor": "white",
          "plot_bgcolor": "#E5ECF6",
          "polar": {
           "angularaxis": {
            "gridcolor": "white",
            "linecolor": "white",
            "ticks": ""
           },
           "bgcolor": "#E5ECF6",
           "radialaxis": {
            "gridcolor": "white",
            "linecolor": "white",
            "ticks": ""
           }
          },
          "scene": {
           "xaxis": {
            "backgroundcolor": "#E5ECF6",
            "gridcolor": "white",
            "gridwidth": 2,
            "linecolor": "white",
            "showbackground": true,
            "ticks": "",
            "zerolinecolor": "white"
           },
           "yaxis": {
            "backgroundcolor": "#E5ECF6",
            "gridcolor": "white",
            "gridwidth": 2,
            "linecolor": "white",
            "showbackground": true,
            "ticks": "",
            "zerolinecolor": "white"
           },
           "zaxis": {
            "backgroundcolor": "#E5ECF6",
            "gridcolor": "white",
            "gridwidth": 2,
            "linecolor": "white",
            "showbackground": true,
            "ticks": "",
            "zerolinecolor": "white"
           }
          },
          "shapedefaults": {
           "line": {
            "color": "#2a3f5f"
           }
          },
          "ternary": {
           "aaxis": {
            "gridcolor": "white",
            "linecolor": "white",
            "ticks": ""
           },
           "baxis": {
            "gridcolor": "white",
            "linecolor": "white",
            "ticks": ""
           },
           "bgcolor": "#E5ECF6",
           "caxis": {
            "gridcolor": "white",
            "linecolor": "white",
            "ticks": ""
           }
          },
          "title": {
           "x": 0.05
          },
          "xaxis": {
           "automargin": true,
           "gridcolor": "white",
           "linecolor": "white",
           "ticks": "",
           "title": {
            "standoff": 15
           },
           "zerolinecolor": "white",
           "zerolinewidth": 2
          },
          "yaxis": {
           "automargin": true,
           "gridcolor": "white",
           "linecolor": "white",
           "ticks": "",
           "title": {
            "standoff": 15
           },
           "zerolinecolor": "white",
           "zerolinewidth": 2
          }
         }
        },
        "width": 500,
        "xaxis": {
         "anchor": "y",
         "domain": [
          0,
          1
         ],
         "title": {
          "text": "horsepower"
         }
        },
        "yaxis": {
         "anchor": "x",
         "domain": [
          0,
          1
         ],
         "title": {
          "text": "mpg"
         }
        }
       }
      },
      "text/html": [
       "<div>                            <div id=\"29b2059e-d3d7-41b3-83af-f329ea70e4d9\" class=\"plotly-graph-div\" style=\"height:500px; width:500px;\"></div>            <script type=\"text/javascript\">                require([\"plotly\"], function(Plotly) {                    window.PLOTLYENV=window.PLOTLYENV || {};                                    if (document.getElementById(\"29b2059e-d3d7-41b3-83af-f329ea70e4d9\")) {                    Plotly.newPlot(                        \"29b2059e-d3d7-41b3-83af-f329ea70e4d9\",                        [{\"customdata\":[[\"oldsmobile cutlass ls\"],[\"ford fairmont futura\"],[\"chevrolet nova\"],[\"plymouth valiant custom\"],[\"plymouth arrow gs\"],[\"amc concord d\\u002fl\"],[\"chevrolet monte carlo landau\"],[\"toyota corolla 1200\"],[\"pontiac catalina brougham\"],[\"amc spirit dl\"],[\"chevrolet chevelle malibu\"],[\"ford granada gl\"],[\"ford torino 500\"],[\"opel 1900\"],[\"chrysler cordoba\"],[\"amc rebel sst\"],[\"renault 12 (sw)\"],[\"amc concord dl 6\"],[\"oldsmobile cutlass ciera (diesel)\"],[\"datsun b-210\"],[\"maxda rx3\"],[\"ford fairmont (man)\"],[\"mazda 626\"],[\"honda accord\"],[\"dodge d200\"],[\"subaru\"],[\"ford pinto\"],[\"plymouth fury gran sedan\"],[\"datsun 210 mpg\"],[\"volkswagen 411 (sw)\"]],\"hovertemplate\":\"horsepower=%{x}\\u003cbr\\u003empg=%{y}\\u003cbr\\u003ename=%{customdata[0]}\\u003cextra\\u003e\\u003c\\u002fextra\\u003e\",\"legendgroup\":\"\",\"marker\":{\"color\":\"red\",\"symbol\":\"circle\"},\"mode\":\"markers\",\"name\":\"\",\"orientation\":\"v\",\"showlegend\":false,\"x\":[105,92,100,95,96,120,170,65,175,80,130,88,88,81,190,150,69,90,85,70,90,88,74,72,210,93,85,150,65,76],\"xaxis\":\"x\",\"y\":[26.6,24.0,15.0,19.0,25.5,18.1,15.5,32.0,14.0,27.4,18.0,20.2,19.0,25.0,15.5,16.0,26.0,20.2,38.0,32.0,18.0,25.1,31.6,32.4,11.0,26.0,19.0,14.0,37.0,22.0],\"yaxis\":\"y\",\"type\":\"scatter\"}],                        {\"template\":{\"data\":{\"histogram2dcontour\":[{\"type\":\"histogram2dcontour\",\"colorbar\":{\"outlinewidth\":0,\"ticks\":\"\"},\"colorscale\":[[0.0,\"#0d0887\"],[0.1111111111111111,\"#46039f\"],[0.2222222222222222,\"#7201a8\"],[0.3333333333333333,\"#9c179e\"],[0.4444444444444444,\"#bd3786\"],[0.5555555555555556,\"#d8576b\"],[0.6666666666666666,\"#ed7953\"],[0.7777777777777778,\"#fb9f3a\"],[0.8888888888888888,\"#fdca26\"],[1.0,\"#f0f921\"]]}],\"choropleth\":[{\"type\":\"choropleth\",\"colorbar\":{\"outlinewidth\":0,\"ticks\":\"\"}}],\"histogram2d\":[{\"type\":\"histogram2d\",\"colorbar\":{\"outlinewidth\":0,\"ticks\":\"\"},\"colorscale\":[[0.0,\"#0d0887\"],[0.1111111111111111,\"#46039f\"],[0.2222222222222222,\"#7201a8\"],[0.3333333333333333,\"#9c179e\"],[0.4444444444444444,\"#bd3786\"],[0.5555555555555556,\"#d8576b\"],[0.6666666666666666,\"#ed7953\"],[0.7777777777777778,\"#fb9f3a\"],[0.8888888888888888,\"#fdca26\"],[1.0,\"#f0f921\"]]}],\"heatmap\":[{\"type\":\"heatmap\",\"colorbar\":{\"outlinewidth\":0,\"ticks\":\"\"},\"colorscale\":[[0.0,\"#0d0887\"],[0.1111111111111111,\"#46039f\"],[0.2222222222222222,\"#7201a8\"],[0.3333333333333333,\"#9c179e\"],[0.4444444444444444,\"#bd3786\"],[0.5555555555555556,\"#d8576b\"],[0.6666666666666666,\"#ed7953\"],[0.7777777777777778,\"#fb9f3a\"],[0.8888888888888888,\"#fdca26\"],[1.0,\"#f0f921\"]]}],\"heatmapgl\":[{\"type\":\"heatmapgl\",\"colorbar\":{\"outlinewidth\":0,\"ticks\":\"\"},\"colorscale\":[[0.0,\"#0d0887\"],[0.1111111111111111,\"#46039f\"],[0.2222222222222222,\"#7201a8\"],[0.3333333333333333,\"#9c179e\"],[0.4444444444444444,\"#bd3786\"],[0.5555555555555556,\"#d8576b\"],[0.6666666666666666,\"#ed7953\"],[0.7777777777777778,\"#fb9f3a\"],[0.8888888888888888,\"#fdca26\"],[1.0,\"#f0f921\"]]}],\"contourcarpet\":[{\"type\":\"contourcarpet\",\"colorbar\":{\"outlinewidth\":0,\"ticks\":\"\"}}],\"contour\":[{\"type\":\"contour\",\"colorbar\":{\"outlinewidth\":0,\"ticks\":\"\"},\"colorscale\":[[0.0,\"#0d0887\"],[0.1111111111111111,\"#46039f\"],[0.2222222222222222,\"#7201a8\"],[0.3333333333333333,\"#9c179e\"],[0.4444444444444444,\"#bd3786\"],[0.5555555555555556,\"#d8576b\"],[0.6666666666666666,\"#ed7953\"],[0.7777777777777778,\"#fb9f3a\"],[0.8888888888888888,\"#fdca26\"],[1.0,\"#f0f921\"]]}],\"surface\":[{\"type\":\"surface\",\"colorbar\":{\"outlinewidth\":0,\"ticks\":\"\"},\"colorscale\":[[0.0,\"#0d0887\"],[0.1111111111111111,\"#46039f\"],[0.2222222222222222,\"#7201a8\"],[0.3333333333333333,\"#9c179e\"],[0.4444444444444444,\"#bd3786\"],[0.5555555555555556,\"#d8576b\"],[0.6666666666666666,\"#ed7953\"],[0.7777777777777778,\"#fb9f3a\"],[0.8888888888888888,\"#fdca26\"],[1.0,\"#f0f921\"]]}],\"mesh3d\":[{\"type\":\"mesh3d\",\"colorbar\":{\"outlinewidth\":0,\"ticks\":\"\"}}],\"scatter\":[{\"fillpattern\":{\"fillmode\":\"overlay\",\"size\":10,\"solidity\":0.2},\"type\":\"scatter\"}],\"parcoords\":[{\"type\":\"parcoords\",\"line\":{\"colorbar\":{\"outlinewidth\":0,\"ticks\":\"\"}}}],\"scatterpolargl\":[{\"type\":\"scatterpolargl\",\"marker\":{\"colorbar\":{\"outlinewidth\":0,\"ticks\":\"\"}}}],\"bar\":[{\"error_x\":{\"color\":\"#2a3f5f\"},\"error_y\":{\"color\":\"#2a3f5f\"},\"marker\":{\"line\":{\"color\":\"#E5ECF6\",\"width\":0.5},\"pattern\":{\"fillmode\":\"overlay\",\"size\":10,\"solidity\":0.2}},\"type\":\"bar\"}],\"scattergeo\":[{\"type\":\"scattergeo\",\"marker\":{\"colorbar\":{\"outlinewidth\":0,\"ticks\":\"\"}}}],\"scatterpolar\":[{\"type\":\"scatterpolar\",\"marker\":{\"colorbar\":{\"outlinewidth\":0,\"ticks\":\"\"}}}],\"histogram\":[{\"marker\":{\"pattern\":{\"fillmode\":\"overlay\",\"size\":10,\"solidity\":0.2}},\"type\":\"histogram\"}],\"scattergl\":[{\"type\":\"scattergl\",\"marker\":{\"colorbar\":{\"outlinewidth\":0,\"ticks\":\"\"}}}],\"scatter3d\":[{\"type\":\"scatter3d\",\"line\":{\"colorbar\":{\"outlinewidth\":0,\"ticks\":\"\"}},\"marker\":{\"colorbar\":{\"outlinewidth\":0,\"ticks\":\"\"}}}],\"scattermapbox\":[{\"type\":\"scattermapbox\",\"marker\":{\"colorbar\":{\"outlinewidth\":0,\"ticks\":\"\"}}}],\"scatterternary\":[{\"type\":\"scatterternary\",\"marker\":{\"colorbar\":{\"outlinewidth\":0,\"ticks\":\"\"}}}],\"scattercarpet\":[{\"type\":\"scattercarpet\",\"marker\":{\"colorbar\":{\"outlinewidth\":0,\"ticks\":\"\"}}}],\"carpet\":[{\"aaxis\":{\"endlinecolor\":\"#2a3f5f\",\"gridcolor\":\"white\",\"linecolor\":\"white\",\"minorgridcolor\":\"white\",\"startlinecolor\":\"#2a3f5f\"},\"baxis\":{\"endlinecolor\":\"#2a3f5f\",\"gridcolor\":\"white\",\"linecolor\":\"white\",\"minorgridcolor\":\"white\",\"startlinecolor\":\"#2a3f5f\"},\"type\":\"carpet\"}],\"table\":[{\"cells\":{\"fill\":{\"color\":\"#EBF0F8\"},\"line\":{\"color\":\"white\"}},\"header\":{\"fill\":{\"color\":\"#C8D4E3\"},\"line\":{\"color\":\"white\"}},\"type\":\"table\"}],\"barpolar\":[{\"marker\":{\"line\":{\"color\":\"#E5ECF6\",\"width\":0.5},\"pattern\":{\"fillmode\":\"overlay\",\"size\":10,\"solidity\":0.2}},\"type\":\"barpolar\"}],\"pie\":[{\"automargin\":true,\"type\":\"pie\"}]},\"layout\":{\"autotypenumbers\":\"strict\",\"colorway\":[\"#636efa\",\"#EF553B\",\"#00cc96\",\"#ab63fa\",\"#FFA15A\",\"#19d3f3\",\"#FF6692\",\"#B6E880\",\"#FF97FF\",\"#FECB52\"],\"font\":{\"color\":\"#2a3f5f\"},\"hovermode\":\"closest\",\"hoverlabel\":{\"align\":\"left\"},\"paper_bgcolor\":\"white\",\"plot_bgcolor\":\"#E5ECF6\",\"polar\":{\"bgcolor\":\"#E5ECF6\",\"angularaxis\":{\"gridcolor\":\"white\",\"linecolor\":\"white\",\"ticks\":\"\"},\"radialaxis\":{\"gridcolor\":\"white\",\"linecolor\":\"white\",\"ticks\":\"\"}},\"ternary\":{\"bgcolor\":\"#E5ECF6\",\"aaxis\":{\"gridcolor\":\"white\",\"linecolor\":\"white\",\"ticks\":\"\"},\"baxis\":{\"gridcolor\":\"white\",\"linecolor\":\"white\",\"ticks\":\"\"},\"caxis\":{\"gridcolor\":\"white\",\"linecolor\":\"white\",\"ticks\":\"\"}},\"coloraxis\":{\"colorbar\":{\"outlinewidth\":0,\"ticks\":\"\"}},\"colorscale\":{\"sequential\":[[0.0,\"#0d0887\"],[0.1111111111111111,\"#46039f\"],[0.2222222222222222,\"#7201a8\"],[0.3333333333333333,\"#9c179e\"],[0.4444444444444444,\"#bd3786\"],[0.5555555555555556,\"#d8576b\"],[0.6666666666666666,\"#ed7953\"],[0.7777777777777778,\"#fb9f3a\"],[0.8888888888888888,\"#fdca26\"],[1.0,\"#f0f921\"]],\"sequentialminus\":[[0.0,\"#0d0887\"],[0.1111111111111111,\"#46039f\"],[0.2222222222222222,\"#7201a8\"],[0.3333333333333333,\"#9c179e\"],[0.4444444444444444,\"#bd3786\"],[0.5555555555555556,\"#d8576b\"],[0.6666666666666666,\"#ed7953\"],[0.7777777777777778,\"#fb9f3a\"],[0.8888888888888888,\"#fdca26\"],[1.0,\"#f0f921\"]],\"diverging\":[[0,\"#8e0152\"],[0.1,\"#c51b7d\"],[0.2,\"#de77ae\"],[0.3,\"#f1b6da\"],[0.4,\"#fde0ef\"],[0.5,\"#f7f7f7\"],[0.6,\"#e6f5d0\"],[0.7,\"#b8e186\"],[0.8,\"#7fbc41\"],[0.9,\"#4d9221\"],[1,\"#276419\"]]},\"xaxis\":{\"gridcolor\":\"white\",\"linecolor\":\"white\",\"ticks\":\"\",\"title\":{\"standoff\":15},\"zerolinecolor\":\"white\",\"automargin\":true,\"zerolinewidth\":2},\"yaxis\":{\"gridcolor\":\"white\",\"linecolor\":\"white\",\"ticks\":\"\",\"title\":{\"standoff\":15},\"zerolinecolor\":\"white\",\"automargin\":true,\"zerolinewidth\":2},\"scene\":{\"xaxis\":{\"backgroundcolor\":\"#E5ECF6\",\"gridcolor\":\"white\",\"linecolor\":\"white\",\"showbackground\":true,\"ticks\":\"\",\"zerolinecolor\":\"white\",\"gridwidth\":2},\"yaxis\":{\"backgroundcolor\":\"#E5ECF6\",\"gridcolor\":\"white\",\"linecolor\":\"white\",\"showbackground\":true,\"ticks\":\"\",\"zerolinecolor\":\"white\",\"gridwidth\":2},\"zaxis\":{\"backgroundcolor\":\"#E5ECF6\",\"gridcolor\":\"white\",\"linecolor\":\"white\",\"showbackground\":true,\"ticks\":\"\",\"zerolinecolor\":\"white\",\"gridwidth\":2}},\"shapedefaults\":{\"line\":{\"color\":\"#2a3f5f\"}},\"annotationdefaults\":{\"arrowcolor\":\"#2a3f5f\",\"arrowhead\":0,\"arrowwidth\":1},\"geo\":{\"bgcolor\":\"white\",\"landcolor\":\"#E5ECF6\",\"subunitcolor\":\"white\",\"showland\":true,\"showlakes\":true,\"lakecolor\":\"white\"},\"title\":{\"x\":0.05},\"mapbox\":{\"style\":\"light\"}}},\"xaxis\":{\"anchor\":\"y\",\"domain\":[0.0,1.0],\"title\":{\"text\":\"horsepower\"}},\"yaxis\":{\"anchor\":\"x\",\"domain\":[0.0,1.0],\"title\":{\"text\":\"mpg\"}},\"legend\":{\"tracegroupgap\":0},\"margin\":{\"t\":60},\"width\":500,\"height\":500},                        {\"responsive\": true}                    ).then(function(){\n",
       "                            \n",
       "var gd = document.getElementById('29b2059e-d3d7-41b3-83af-f329ea70e4d9');\n",
       "var x = new MutationObserver(function (mutations, observer) {{\n",
       "        var display = window.getComputedStyle(gd).display;\n",
       "        if (!display || display === 'none') {{\n",
       "            console.log([gd, 'removed!']);\n",
       "            Plotly.purge(gd);\n",
       "            observer.disconnect();\n",
       "        }}\n",
       "}});\n",
       "\n",
       "// Listen for the removal of the full notebook cells\n",
       "var notebookContainer = gd.closest('#notebook-container');\n",
       "if (notebookContainer) {{\n",
       "    x.observe(notebookContainer, {childList: true});\n",
       "}}\n",
       "\n",
       "// Listen for the clearing of the current output cell\n",
       "var outputEl = gd.closest('.output');\n",
       "if (outputEl) {{\n",
       "    x.observe(outputEl, {childList: true});\n",
       "}}\n",
       "\n",
       "                        })                };                });            </script>        </div>"
      ]
     },
     "metadata": {},
     "output_type": "display_data"
    }
   ],
   "source": [
    "# plot the data from the sample\n",
    "fig = px.scatter(x='horsepower', y='mpg', data_frame=sample, hover_data='name')\n",
    "fig.update_traces(marker={'color':'red'})\n",
    "fig.update_layout(width=500, height=500)\n",
    "fig.show()"
   ]
  },
  {
   "cell_type": "markdown",
   "id": "b5b3897c",
   "metadata": {},
   "source": [
    "To give you an intuition as to why we might want to use a polynomial regression model, lets fit the now (very familiar) linear regression model to our sample data. E.g. this will let us see why we would benefit from being able to model the curvature.\n",
    "\n",
    "As you know the equation for the linear regression model is:\n",
    "\n",
    "$ \\Large y_i = b_0 + b_1 \\times x_1 + \\varepsilon_i $\n",
    "\n",
    "When we drop the error vector ($\\varepsilon_i $) we get the equation for the \"systematic part\" of the model (e.g. the predictions/fitted values):\n",
    "\n",
    "$ \\Large \\hat{y}_i = b_0 + b_1 \\times x_1 $\n",
    "\n",
    "You'll remember that where there are $k$ predictors, and $n$ observations, the error vector is computed as follows:\n",
    "\n",
    "$$\n",
    "\\vec{\\varepsilon}= \\begin{bmatrix}\n",
    "           y_1 - \\hat{y}_1 \\\\\n",
    "           y_2 - \\hat{y}_2 \\\\\n",
    "           \\vdots \\\\\n",
    "           y_n - \\hat{y}_n\n",
    "         \\end{bmatrix}              \n",
    "$$\n",
    "\n",
    "\n",
    "We'll use the root mean squared error cost function - this returns the same parameter estimates as the sum of squares cost function, but gives us a sense of the average prediction error from the model, on the scale of the original target/outcome variable. The root mean squared error (RMSE) is the square root of the average of squared errors, and can be written as: \n",
    "\n",
    "$\\Large \\text{RMSE} = \\sqrt{\\frac{\\sum_{i=1}^{n} (y_i - \\hat{y}_i)^2}{n}}$\n",
    "\n",
    "Or, equivalently (you may sometimes see it written as:\n",
    "\n",
    "$\\Large \\text{RMSE} = \\sqrt{\\frac{1}{n} \\sum_{i=1}^{n} (y_i - \\hat{y}_i)^2}$\n",
    "\n",
    "The cell below defines this cost function (and you'll see from the last line it is much simpler in python than it looks to be from the formula...):"
   ]
  },
  {
   "cell_type": "code",
   "execution_count": 40,
   "id": "9e10ab12",
   "metadata": {},
   "outputs": [],
   "source": [
    "# define the root mean square error cost function for linear regression\n",
    "def rmse(intercept_and_slope, x1, y):\n",
    "    \n",
    "    # unpack the slope and intercept\n",
    "    intercept, slope = intercept_and_slope\n",
    "    \n",
    "    # generate predictions\n",
    "    y_hat = intercept + slope * x1\n",
    "    \n",
    "    # calculate the errors\n",
    "    errors = y - y_hat\n",
    "    \n",
    "    # return the root mean squared error\n",
    "    return np.sqrt(np.mean(errors**2))"
   ]
  },
  {
   "cell_type": "code",
   "execution_count": 41,
   "id": "cc0149e6",
   "metadata": {},
   "outputs": [
    {
     "data": {
      "text/plain": [
       "93.93023829772108"
      ]
     },
     "execution_count": 41,
     "metadata": {},
     "output_type": "execute_result"
    }
   ],
   "source": [
    "# test the cost function\n",
    "rmse([1, 1], sample['horsepower'], sample['mpg'])"
   ]
  },
  {
   "cell_type": "markdown",
   "id": "d9c55a4b",
   "metadata": {},
   "source": [
    "Using the familiar routine, we'll get our linear regression slope and intercept by passing our `rmse` cost function to `minimize`:"
   ]
  },
  {
   "cell_type": "code",
   "execution_count": 42,
   "id": "3f2ee0b1",
   "metadata": {},
   "outputs": [
    {
     "data": {
      "text/plain": [
       "  message: Optimization terminated successfully.\n",
       "  success: True\n",
       "   status: 0\n",
       "      fun: 4.744350009017296\n",
       "        x: [ 3.682e+01 -1.341e-01]\n",
       "      nit: 17\n",
       "      jac: [ 0.000e+00  1.788e-07]\n",
       " hess_inv: [[ 4.011e+01 -3.377e-01]\n",
       "            [-3.377e-01  3.224e-03]]\n",
       "     nfev: 57\n",
       "     njev: 19"
      ]
     },
     "execution_count": 42,
     "metadata": {},
     "output_type": "execute_result"
    }
   ],
   "source": [
    "from scipy.optimize import minimize\n",
    "\n",
    "# get the linear regression parameter estimates, via `minimize`\n",
    "lin_reg_1 = minimize(rmse,\n",
    "                     [1, 1],\n",
    "                     args=(sample['horsepower'],\n",
    "                     sample['mpg']))\n",
    "\n",
    "# show the output from `minimize`\n",
    "lin_reg_1"
   ]
  },
  {
   "cell_type": "markdown",
   "id": "885ead3c",
   "metadata": {},
   "source": [
    "Let's pull out the slope and intercept and store them as separate variables:"
   ]
  },
  {
   "cell_type": "code",
   "execution_count": 43,
   "id": "063dac1d",
   "metadata": {},
   "outputs": [
    {
     "data": {
      "text/markdown": [
       "From linear regression, the intercept is <b> 36.818 </b> and the slope is <b>-0.134 </b>."
      ],
      "text/plain": [
       "<IPython.core.display.Markdown object>"
      ]
     },
     "metadata": {},
     "output_type": "display_data"
    }
   ],
   "source": [
    "# get our parameter estimates\n",
    "intercept_lin_reg_1 = lin_reg_1.x[0]\n",
    "slope_lin_reg_1 = lin_reg_1.x[1]\n",
    "\n",
    "# show the parameter estimates\n",
    "jupyprint(f\"From linear regression, the intercept is <b> {intercept_lin_reg_1.round(3)} </b> and the slope is <b>{slope_lin_reg_1.round(3)} </b>.\")"
   ]
  },
  {
   "cell_type": "markdown",
   "id": "7f191bc6",
   "metadata": {},
   "source": [
    "Let's check these parameter estimates against `statsmodels`:"
   ]
  },
  {
   "cell_type": "code",
   "execution_count": 44,
   "id": "ce193c78",
   "metadata": {},
   "outputs": [
    {
     "data": {
      "text/html": [
       "<table class=\"simpletable\">\n",
       "<caption>OLS Regression Results</caption>\n",
       "<tr>\n",
       "  <th>Dep. Variable:</th>           <td>mpg</td>       <th>  R-squared:         </th> <td>   0.544</td>\n",
       "</tr>\n",
       "<tr>\n",
       "  <th>Model:</th>                   <td>OLS</td>       <th>  Adj. R-squared:    </th> <td>   0.527</td>\n",
       "</tr>\n",
       "<tr>\n",
       "  <th>Method:</th>             <td>Least Squares</td>  <th>  F-statistic:       </th> <td>   33.36</td>\n",
       "</tr>\n",
       "<tr>\n",
       "  <th>Date:</th>             <td>Fri, 23 Feb 2024</td> <th>  Prob (F-statistic):</th> <td>3.35e-06</td>\n",
       "</tr>\n",
       "<tr>\n",
       "  <th>Time:</th>                 <td>09:20:59</td>     <th>  Log-Likelihood:    </th> <td> -89.277</td>\n",
       "</tr>\n",
       "<tr>\n",
       "  <th>No. Observations:</th>      <td>    30</td>      <th>  AIC:               </th> <td>   182.6</td>\n",
       "</tr>\n",
       "<tr>\n",
       "  <th>Df Residuals:</th>          <td>    28</td>      <th>  BIC:               </th> <td>   185.4</td>\n",
       "</tr>\n",
       "<tr>\n",
       "  <th>Df Model:</th>              <td>     1</td>      <th>                     </th>     <td> </td>   \n",
       "</tr>\n",
       "<tr>\n",
       "  <th>Covariance Type:</th>      <td>nonrobust</td>    <th>                     </th>     <td> </td>   \n",
       "</tr>\n",
       "</table>\n",
       "<table class=\"simpletable\">\n",
       "<tr>\n",
       "       <td></td>         <th>coef</th>     <th>std err</th>      <th>t</th>      <th>P>|t|</th>  <th>[0.025</th>    <th>0.975]</th>  \n",
       "</tr>\n",
       "<tr>\n",
       "  <th>Intercept</th>  <td>   36.8183</td> <td>    2.592</td> <td>   14.204</td> <td> 0.000</td> <td>   31.509</td> <td>   42.128</td>\n",
       "</tr>\n",
       "<tr>\n",
       "  <th>horsepower</th> <td>   -0.1341</td> <td>    0.023</td> <td>   -5.776</td> <td> 0.000</td> <td>   -0.182</td> <td>   -0.087</td>\n",
       "</tr>\n",
       "</table>\n",
       "<table class=\"simpletable\">\n",
       "<tr>\n",
       "  <th>Omnibus:</th>       <td> 1.550</td> <th>  Durbin-Watson:     </th> <td>   1.855</td>\n",
       "</tr>\n",
       "<tr>\n",
       "  <th>Prob(Omnibus):</th> <td> 0.461</td> <th>  Jarque-Bera (JB):  </th> <td>   0.949</td>\n",
       "</tr>\n",
       "<tr>\n",
       "  <th>Skew:</th>          <td> 0.435</td> <th>  Prob(JB):          </th> <td>   0.622</td>\n",
       "</tr>\n",
       "<tr>\n",
       "  <th>Kurtosis:</th>      <td> 3.033</td> <th>  Cond. No.          </th> <td>    323.</td>\n",
       "</tr>\n",
       "</table><br/><br/>Notes:<br/>[1] Standard Errors assume that the covariance matrix of the errors is correctly specified."
      ],
      "text/plain": [
       "<class 'statsmodels.iolib.summary.Summary'>\n",
       "\"\"\"\n",
       "                            OLS Regression Results                            \n",
       "==============================================================================\n",
       "Dep. Variable:                    mpg   R-squared:                       0.544\n",
       "Model:                            OLS   Adj. R-squared:                  0.527\n",
       "Method:                 Least Squares   F-statistic:                     33.36\n",
       "Date:                Fri, 23 Feb 2024   Prob (F-statistic):           3.35e-06\n",
       "Time:                        09:20:59   Log-Likelihood:                -89.277\n",
       "No. Observations:                  30   AIC:                             182.6\n",
       "Df Residuals:                      28   BIC:                             185.4\n",
       "Df Model:                           1                                         \n",
       "Covariance Type:            nonrobust                                         \n",
       "==============================================================================\n",
       "                 coef    std err          t      P>|t|      [0.025      0.975]\n",
       "------------------------------------------------------------------------------\n",
       "Intercept     36.8183      2.592     14.204      0.000      31.509      42.128\n",
       "horsepower    -0.1341      0.023     -5.776      0.000      -0.182      -0.087\n",
       "==============================================================================\n",
       "Omnibus:                        1.550   Durbin-Watson:                   1.855\n",
       "Prob(Omnibus):                  0.461   Jarque-Bera (JB):                0.949\n",
       "Skew:                           0.435   Prob(JB):                        0.622\n",
       "Kurtosis:                       3.033   Cond. No.                         323.\n",
       "==============================================================================\n",
       "\n",
       "Notes:\n",
       "[1] Standard Errors assume that the covariance matrix of the errors is correctly specified.\n",
       "\"\"\""
      ]
     },
     "execution_count": 44,
     "metadata": {},
     "output_type": "execute_result"
    }
   ],
   "source": [
    "# fit a linear regression, `mpg ~ horsepower` using statsmodels\n",
    "lin_reg_1_sm = smf.ols('mpg ~ horsepower', data=sample).fit()\n",
    "lin_reg_1_sm.summary()"
   ]
  },
  {
   "cell_type": "markdown",
   "id": "d6973d0e",
   "metadata": {},
   "source": [
    "The plot below shows the best-fitting linear regression model, along with the errors:"
   ]
  },
  {
   "cell_type": "code",
   "execution_count": 45,
   "id": "128f16c9",
   "metadata": {},
   "outputs": [
    {
     "data": {
      "application/vnd.plotly.v1+json": {
       "config": {
        "plotlyServerURL": "https://plot.ly"
       },
       "data": [
        {
         "customdata": [
          [
           "oldsmobile cutlass ls"
          ],
          [
           "ford fairmont futura"
          ],
          [
           "chevrolet nova"
          ],
          [
           "plymouth valiant custom"
          ],
          [
           "plymouth arrow gs"
          ],
          [
           "amc concord d/l"
          ],
          [
           "chevrolet monte carlo landau"
          ],
          [
           "toyota corolla 1200"
          ],
          [
           "pontiac catalina brougham"
          ],
          [
           "amc spirit dl"
          ],
          [
           "chevrolet chevelle malibu"
          ],
          [
           "ford granada gl"
          ],
          [
           "ford torino 500"
          ],
          [
           "opel 1900"
          ],
          [
           "chrysler cordoba"
          ],
          [
           "amc rebel sst"
          ],
          [
           "renault 12 (sw)"
          ],
          [
           "amc concord dl 6"
          ],
          [
           "oldsmobile cutlass ciera (diesel)"
          ],
          [
           "datsun b-210"
          ],
          [
           "maxda rx3"
          ],
          [
           "ford fairmont (man)"
          ],
          [
           "mazda 626"
          ],
          [
           "honda accord"
          ],
          [
           "dodge d200"
          ],
          [
           "subaru"
          ],
          [
           "ford pinto"
          ],
          [
           "plymouth fury gran sedan"
          ],
          [
           "datsun 210 mpg"
          ],
          [
           "volkswagen 411 (sw)"
          ]
         ],
         "hovertemplate": "horsepower=%{x}<br>mpg=%{y}<br>name=%{customdata[0]}<extra></extra>",
         "legendgroup": "",
         "marker": {
          "color": "#636efa",
          "symbol": "circle"
         },
         "mode": "markers",
         "name": "",
         "orientation": "v",
         "showlegend": false,
         "type": "scatter",
         "x": [
          105,
          92,
          100,
          95,
          96,
          120,
          170,
          65,
          175,
          80,
          130,
          88,
          88,
          81,
          190,
          150,
          69,
          90,
          85,
          70,
          90,
          88,
          74,
          72,
          210,
          93,
          85,
          150,
          65,
          76
         ],
         "xaxis": "x",
         "y": [
          26.6,
          24,
          15,
          19,
          25.5,
          18.1,
          15.5,
          32,
          14,
          27.4,
          18,
          20.2,
          19,
          25,
          15.5,
          16,
          26,
          20.2,
          38,
          32,
          18,
          25.1,
          31.6,
          32.4,
          11,
          26,
          19,
          14,
          37,
          22
         ],
         "yaxis": "y"
        },
        {
         "name": "Linear Regression",
         "type": "scatter",
         "x": [
          65,
          67.95918367346938,
          70.91836734693878,
          73.87755102040816,
          76.83673469387755,
          79.79591836734694,
          82.75510204081633,
          85.71428571428572,
          88.6734693877551,
          91.63265306122449,
          94.59183673469389,
          97.55102040816327,
          100.51020408163265,
          103.46938775510205,
          106.42857142857143,
          109.38775510204081,
          112.34693877551021,
          115.3061224489796,
          118.26530612244898,
          121.22448979591837,
          124.18367346938776,
          127.14285714285714,
          130.10204081632654,
          133.0612244897959,
          136.0204081632653,
          138.9795918367347,
          141.9387755102041,
          144.89795918367346,
          147.85714285714286,
          150.81632653061223,
          153.77551020408163,
          156.73469387755102,
          159.69387755102042,
          162.6530612244898,
          165.6122448979592,
          168.57142857142856,
          171.53061224489795,
          174.48979591836735,
          177.44897959183675,
          180.40816326530611,
          183.3673469387755,
          186.32653061224488,
          189.28571428571428,
          192.24489795918367,
          195.20408163265307,
          198.16326530612244,
          201.12244897959184,
          204.08163265306123,
          207.0408163265306,
          210
         ],
         "y": [
          28.099608896616978,
          27.702680421604487,
          27.305751946591993,
          26.908823471579502,
          26.51189499656701,
          26.114966521554514,
          25.718038046542024,
          25.321109571529533,
          24.92418109651704,
          24.527252621504545,
          24.13032414649205,
          23.733395671479563,
          23.33646719646707,
          22.939538721454575,
          22.54261024644208,
          22.145681771429594,
          21.7487532964171,
          21.351824821404605,
          20.95489634639211,
          20.55796787137962,
          20.161039396367126,
          19.764110921354636,
          19.36718244634214,
          18.97025397132965,
          18.573325496317157,
          18.176397021304666,
          17.779468546292172,
          17.38254007127968,
          16.985611596267187,
          16.588683121254697,
          16.191754646242202,
          15.794826171229708,
          15.397897696217214,
          15.000969221204727,
          14.604040746192233,
          14.207112271179742,
          13.810183796167248,
          13.413255321154754,
          13.01632684614226,
          12.619398371129769,
          12.222469896117278,
          11.825541421104788,
          11.428612946092294,
          11.0316844710798,
          10.634755996067305,
          10.237827521054815,
          9.84089904604232,
          9.443970571029826,
          9.04704209601734,
          8.650113621004845
         ]
        },
        {
         "line": {
          "color": "lightblue",
          "dash": "dash"
         },
         "name": "Errors",
         "type": "scatter",
         "x": [
          null
         ],
         "y": [
          null
         ]
        }
       ],
       "layout": {
        "height": 500,
        "legend": {
         "tracegroupgap": 0
        },
        "margin": {
         "t": 60
        },
        "shapes": [
         {
          "line": {
           "color": "lightblue",
           "dash": "dash"
          },
          "name": "Errors",
          "x0": 105,
          "x1": 105,
          "y0": 26.6,
          "y1": 22.73423088955156
         },
         {
          "line": {
           "color": "lightblue",
           "dash": "dash"
          },
          "name": "",
          "x0": 92,
          "x1": 92,
          "y0": 24,
          "y1": 24.47797874184782
         },
         {
          "line": {
           "color": "lightblue",
           "dash": "dash"
          },
          "name": "",
          "x0": 100,
          "x1": 100,
          "y0": 15,
          "y1": 23.40490314043474
         },
         {
          "line": {
           "color": "lightblue",
           "dash": "dash"
          },
          "name": "",
          "x0": 95,
          "x1": 95,
          "y0": 19,
          "y1": 24.07557539131792
         },
         {
          "line": {
           "color": "lightblue",
           "dash": "dash"
          },
          "name": "",
          "x0": 96,
          "x1": 96,
          "y0": 25.5,
          "y1": 23.94144094114128
         },
         {
          "line": {
           "color": "lightblue",
           "dash": "dash"
          },
          "name": "",
          "x0": 120,
          "x1": 120,
          "y0": 18.1,
          "y1": 20.722214136902032
         },
         {
          "line": {
           "color": "lightblue",
           "dash": "dash"
          },
          "name": "",
          "x0": 170,
          "x1": 170,
          "y0": 15.5,
          "y1": 14.015491628070261
         },
         {
          "line": {
           "color": "lightblue",
           "dash": "dash"
          },
          "name": "",
          "x0": 65,
          "x1": 65,
          "y0": 32,
          "y1": 28.099608896616978
         },
         {
          "line": {
           "color": "lightblue",
           "dash": "dash"
          },
          "name": "",
          "x0": 175,
          "x1": 175,
          "y0": 14,
          "y1": 13.344819377187083
         },
         {
          "line": {
           "color": "lightblue",
           "dash": "dash"
          },
          "name": "",
          "x0": 80,
          "x1": 80,
          "y0": 27.4,
          "y1": 26.08759214396745
         },
         {
          "line": {
           "color": "lightblue",
           "dash": "dash"
          },
          "name": "",
          "x0": 130,
          "x1": 130,
          "y0": 18,
          "y1": 19.380869635135678
         },
         {
          "line": {
           "color": "lightblue",
           "dash": "dash"
          },
          "name": "",
          "x0": 88,
          "x1": 88,
          "y0": 20.2,
          "y1": 25.014516542554365
         },
         {
          "line": {
           "color": "lightblue",
           "dash": "dash"
          },
          "name": "",
          "x0": 88,
          "x1": 88,
          "y0": 19,
          "y1": 25.014516542554365
         },
         {
          "line": {
           "color": "lightblue",
           "dash": "dash"
          },
          "name": "",
          "x0": 81,
          "x1": 81,
          "y0": 25,
          "y1": 25.953457693790813
         },
         {
          "line": {
           "color": "lightblue",
           "dash": "dash"
          },
          "name": "",
          "x0": 190,
          "x1": 190,
          "y0": 15.5,
          "y1": 11.332802624537553
         },
         {
          "line": {
           "color": "lightblue",
           "dash": "dash"
          },
          "name": "",
          "x0": 150,
          "x1": 150,
          "y0": 16,
          "y1": 16.69818063160297
         },
         {
          "line": {
           "color": "lightblue",
           "dash": "dash"
          },
          "name": "",
          "x0": 69,
          "x1": 69,
          "y0": 26,
          "y1": 27.563071095910438
         },
         {
          "line": {
           "color": "lightblue",
           "dash": "dash"
          },
          "name": "",
          "x0": 90,
          "x1": 90,
          "y0": 20.2,
          "y1": 24.746247642201094
         },
         {
          "line": {
           "color": "lightblue",
           "dash": "dash"
          },
          "name": "",
          "x0": 85,
          "x1": 85,
          "y0": 38,
          "y1": 25.41691989308427
         },
         {
          "line": {
           "color": "lightblue",
           "dash": "dash"
          },
          "name": "",
          "x0": 70,
          "x1": 70,
          "y0": 32,
          "y1": 27.428936645733803
         },
         {
          "line": {
           "color": "lightblue",
           "dash": "dash"
          },
          "name": "",
          "x0": 90,
          "x1": 90,
          "y0": 18,
          "y1": 24.746247642201094
         },
         {
          "line": {
           "color": "lightblue",
           "dash": "dash"
          },
          "name": "",
          "x0": 88,
          "x1": 88,
          "y0": 25.1,
          "y1": 25.014516542554365
         },
         {
          "line": {
           "color": "lightblue",
           "dash": "dash"
          },
          "name": "",
          "x0": 74,
          "x1": 74,
          "y0": 31.6,
          "y1": 26.89239884502726
         },
         {
          "line": {
           "color": "lightblue",
           "dash": "dash"
          },
          "name": "",
          "x0": 72,
          "x1": 72,
          "y0": 32.4,
          "y1": 27.16066774538053
         },
         {
          "line": {
           "color": "lightblue",
           "dash": "dash"
          },
          "name": "",
          "x0": 210,
          "x1": 210,
          "y0": 11,
          "y1": 8.650113621004845
         },
         {
          "line": {
           "color": "lightblue",
           "dash": "dash"
          },
          "name": "",
          "x0": 93,
          "x1": 93,
          "y0": 26,
          "y1": 24.34384429167119
         },
         {
          "line": {
           "color": "lightblue",
           "dash": "dash"
          },
          "name": "",
          "x0": 85,
          "x1": 85,
          "y0": 19,
          "y1": 25.41691989308427
         },
         {
          "line": {
           "color": "lightblue",
           "dash": "dash"
          },
          "name": "",
          "x0": 150,
          "x1": 150,
          "y0": 14,
          "y1": 16.69818063160297
         },
         {
          "line": {
           "color": "lightblue",
           "dash": "dash"
          },
          "name": "",
          "x0": 65,
          "x1": 65,
          "y0": 37,
          "y1": 28.099608896616978
         },
         {
          "line": {
           "color": "lightblue",
           "dash": "dash"
          },
          "name": "",
          "x0": 76,
          "x1": 76,
          "y0": 22,
          "y1": 26.62412994467399
         }
        ],
        "template": {
         "data": {
          "bar": [
           {
            "error_x": {
             "color": "#2a3f5f"
            },
            "error_y": {
             "color": "#2a3f5f"
            },
            "marker": {
             "line": {
              "color": "#E5ECF6",
              "width": 0.5
             },
             "pattern": {
              "fillmode": "overlay",
              "size": 10,
              "solidity": 0.2
             }
            },
            "type": "bar"
           }
          ],
          "barpolar": [
           {
            "marker": {
             "line": {
              "color": "#E5ECF6",
              "width": 0.5
             },
             "pattern": {
              "fillmode": "overlay",
              "size": 10,
              "solidity": 0.2
             }
            },
            "type": "barpolar"
           }
          ],
          "carpet": [
           {
            "aaxis": {
             "endlinecolor": "#2a3f5f",
             "gridcolor": "white",
             "linecolor": "white",
             "minorgridcolor": "white",
             "startlinecolor": "#2a3f5f"
            },
            "baxis": {
             "endlinecolor": "#2a3f5f",
             "gridcolor": "white",
             "linecolor": "white",
             "minorgridcolor": "white",
             "startlinecolor": "#2a3f5f"
            },
            "type": "carpet"
           }
          ],
          "choropleth": [
           {
            "colorbar": {
             "outlinewidth": 0,
             "ticks": ""
            },
            "type": "choropleth"
           }
          ],
          "contour": [
           {
            "colorbar": {
             "outlinewidth": 0,
             "ticks": ""
            },
            "colorscale": [
             [
              0,
              "#0d0887"
             ],
             [
              0.1111111111111111,
              "#46039f"
             ],
             [
              0.2222222222222222,
              "#7201a8"
             ],
             [
              0.3333333333333333,
              "#9c179e"
             ],
             [
              0.4444444444444444,
              "#bd3786"
             ],
             [
              0.5555555555555556,
              "#d8576b"
             ],
             [
              0.6666666666666666,
              "#ed7953"
             ],
             [
              0.7777777777777778,
              "#fb9f3a"
             ],
             [
              0.8888888888888888,
              "#fdca26"
             ],
             [
              1,
              "#f0f921"
             ]
            ],
            "type": "contour"
           }
          ],
          "contourcarpet": [
           {
            "colorbar": {
             "outlinewidth": 0,
             "ticks": ""
            },
            "type": "contourcarpet"
           }
          ],
          "heatmap": [
           {
            "colorbar": {
             "outlinewidth": 0,
             "ticks": ""
            },
            "colorscale": [
             [
              0,
              "#0d0887"
             ],
             [
              0.1111111111111111,
              "#46039f"
             ],
             [
              0.2222222222222222,
              "#7201a8"
             ],
             [
              0.3333333333333333,
              "#9c179e"
             ],
             [
              0.4444444444444444,
              "#bd3786"
             ],
             [
              0.5555555555555556,
              "#d8576b"
             ],
             [
              0.6666666666666666,
              "#ed7953"
             ],
             [
              0.7777777777777778,
              "#fb9f3a"
             ],
             [
              0.8888888888888888,
              "#fdca26"
             ],
             [
              1,
              "#f0f921"
             ]
            ],
            "type": "heatmap"
           }
          ],
          "heatmapgl": [
           {
            "colorbar": {
             "outlinewidth": 0,
             "ticks": ""
            },
            "colorscale": [
             [
              0,
              "#0d0887"
             ],
             [
              0.1111111111111111,
              "#46039f"
             ],
             [
              0.2222222222222222,
              "#7201a8"
             ],
             [
              0.3333333333333333,
              "#9c179e"
             ],
             [
              0.4444444444444444,
              "#bd3786"
             ],
             [
              0.5555555555555556,
              "#d8576b"
             ],
             [
              0.6666666666666666,
              "#ed7953"
             ],
             [
              0.7777777777777778,
              "#fb9f3a"
             ],
             [
              0.8888888888888888,
              "#fdca26"
             ],
             [
              1,
              "#f0f921"
             ]
            ],
            "type": "heatmapgl"
           }
          ],
          "histogram": [
           {
            "marker": {
             "pattern": {
              "fillmode": "overlay",
              "size": 10,
              "solidity": 0.2
             }
            },
            "type": "histogram"
           }
          ],
          "histogram2d": [
           {
            "colorbar": {
             "outlinewidth": 0,
             "ticks": ""
            },
            "colorscale": [
             [
              0,
              "#0d0887"
             ],
             [
              0.1111111111111111,
              "#46039f"
             ],
             [
              0.2222222222222222,
              "#7201a8"
             ],
             [
              0.3333333333333333,
              "#9c179e"
             ],
             [
              0.4444444444444444,
              "#bd3786"
             ],
             [
              0.5555555555555556,
              "#d8576b"
             ],
             [
              0.6666666666666666,
              "#ed7953"
             ],
             [
              0.7777777777777778,
              "#fb9f3a"
             ],
             [
              0.8888888888888888,
              "#fdca26"
             ],
             [
              1,
              "#f0f921"
             ]
            ],
            "type": "histogram2d"
           }
          ],
          "histogram2dcontour": [
           {
            "colorbar": {
             "outlinewidth": 0,
             "ticks": ""
            },
            "colorscale": [
             [
              0,
              "#0d0887"
             ],
             [
              0.1111111111111111,
              "#46039f"
             ],
             [
              0.2222222222222222,
              "#7201a8"
             ],
             [
              0.3333333333333333,
              "#9c179e"
             ],
             [
              0.4444444444444444,
              "#bd3786"
             ],
             [
              0.5555555555555556,
              "#d8576b"
             ],
             [
              0.6666666666666666,
              "#ed7953"
             ],
             [
              0.7777777777777778,
              "#fb9f3a"
             ],
             [
              0.8888888888888888,
              "#fdca26"
             ],
             [
              1,
              "#f0f921"
             ]
            ],
            "type": "histogram2dcontour"
           }
          ],
          "mesh3d": [
           {
            "colorbar": {
             "outlinewidth": 0,
             "ticks": ""
            },
            "type": "mesh3d"
           }
          ],
          "parcoords": [
           {
            "line": {
             "colorbar": {
              "outlinewidth": 0,
              "ticks": ""
             }
            },
            "type": "parcoords"
           }
          ],
          "pie": [
           {
            "automargin": true,
            "type": "pie"
           }
          ],
          "scatter": [
           {
            "fillpattern": {
             "fillmode": "overlay",
             "size": 10,
             "solidity": 0.2
            },
            "type": "scatter"
           }
          ],
          "scatter3d": [
           {
            "line": {
             "colorbar": {
              "outlinewidth": 0,
              "ticks": ""
             }
            },
            "marker": {
             "colorbar": {
              "outlinewidth": 0,
              "ticks": ""
             }
            },
            "type": "scatter3d"
           }
          ],
          "scattercarpet": [
           {
            "marker": {
             "colorbar": {
              "outlinewidth": 0,
              "ticks": ""
             }
            },
            "type": "scattercarpet"
           }
          ],
          "scattergeo": [
           {
            "marker": {
             "colorbar": {
              "outlinewidth": 0,
              "ticks": ""
             }
            },
            "type": "scattergeo"
           }
          ],
          "scattergl": [
           {
            "marker": {
             "colorbar": {
              "outlinewidth": 0,
              "ticks": ""
             }
            },
            "type": "scattergl"
           }
          ],
          "scattermapbox": [
           {
            "marker": {
             "colorbar": {
              "outlinewidth": 0,
              "ticks": ""
             }
            },
            "type": "scattermapbox"
           }
          ],
          "scatterpolar": [
           {
            "marker": {
             "colorbar": {
              "outlinewidth": 0,
              "ticks": ""
             }
            },
            "type": "scatterpolar"
           }
          ],
          "scatterpolargl": [
           {
            "marker": {
             "colorbar": {
              "outlinewidth": 0,
              "ticks": ""
             }
            },
            "type": "scatterpolargl"
           }
          ],
          "scatterternary": [
           {
            "marker": {
             "colorbar": {
              "outlinewidth": 0,
              "ticks": ""
             }
            },
            "type": "scatterternary"
           }
          ],
          "surface": [
           {
            "colorbar": {
             "outlinewidth": 0,
             "ticks": ""
            },
            "colorscale": [
             [
              0,
              "#0d0887"
             ],
             [
              0.1111111111111111,
              "#46039f"
             ],
             [
              0.2222222222222222,
              "#7201a8"
             ],
             [
              0.3333333333333333,
              "#9c179e"
             ],
             [
              0.4444444444444444,
              "#bd3786"
             ],
             [
              0.5555555555555556,
              "#d8576b"
             ],
             [
              0.6666666666666666,
              "#ed7953"
             ],
             [
              0.7777777777777778,
              "#fb9f3a"
             ],
             [
              0.8888888888888888,
              "#fdca26"
             ],
             [
              1,
              "#f0f921"
             ]
            ],
            "type": "surface"
           }
          ],
          "table": [
           {
            "cells": {
             "fill": {
              "color": "#EBF0F8"
             },
             "line": {
              "color": "white"
             }
            },
            "header": {
             "fill": {
              "color": "#C8D4E3"
             },
             "line": {
              "color": "white"
             }
            },
            "type": "table"
           }
          ]
         },
         "layout": {
          "annotationdefaults": {
           "arrowcolor": "#2a3f5f",
           "arrowhead": 0,
           "arrowwidth": 1
          },
          "autotypenumbers": "strict",
          "coloraxis": {
           "colorbar": {
            "outlinewidth": 0,
            "ticks": ""
           }
          },
          "colorscale": {
           "diverging": [
            [
             0,
             "#8e0152"
            ],
            [
             0.1,
             "#c51b7d"
            ],
            [
             0.2,
             "#de77ae"
            ],
            [
             0.3,
             "#f1b6da"
            ],
            [
             0.4,
             "#fde0ef"
            ],
            [
             0.5,
             "#f7f7f7"
            ],
            [
             0.6,
             "#e6f5d0"
            ],
            [
             0.7,
             "#b8e186"
            ],
            [
             0.8,
             "#7fbc41"
            ],
            [
             0.9,
             "#4d9221"
            ],
            [
             1,
             "#276419"
            ]
           ],
           "sequential": [
            [
             0,
             "#0d0887"
            ],
            [
             0.1111111111111111,
             "#46039f"
            ],
            [
             0.2222222222222222,
             "#7201a8"
            ],
            [
             0.3333333333333333,
             "#9c179e"
            ],
            [
             0.4444444444444444,
             "#bd3786"
            ],
            [
             0.5555555555555556,
             "#d8576b"
            ],
            [
             0.6666666666666666,
             "#ed7953"
            ],
            [
             0.7777777777777778,
             "#fb9f3a"
            ],
            [
             0.8888888888888888,
             "#fdca26"
            ],
            [
             1,
             "#f0f921"
            ]
           ],
           "sequentialminus": [
            [
             0,
             "#0d0887"
            ],
            [
             0.1111111111111111,
             "#46039f"
            ],
            [
             0.2222222222222222,
             "#7201a8"
            ],
            [
             0.3333333333333333,
             "#9c179e"
            ],
            [
             0.4444444444444444,
             "#bd3786"
            ],
            [
             0.5555555555555556,
             "#d8576b"
            ],
            [
             0.6666666666666666,
             "#ed7953"
            ],
            [
             0.7777777777777778,
             "#fb9f3a"
            ],
            [
             0.8888888888888888,
             "#fdca26"
            ],
            [
             1,
             "#f0f921"
            ]
           ]
          },
          "colorway": [
           "#636efa",
           "#EF553B",
           "#00cc96",
           "#ab63fa",
           "#FFA15A",
           "#19d3f3",
           "#FF6692",
           "#B6E880",
           "#FF97FF",
           "#FECB52"
          ],
          "font": {
           "color": "#2a3f5f"
          },
          "geo": {
           "bgcolor": "white",
           "lakecolor": "white",
           "landcolor": "#E5ECF6",
           "showlakes": true,
           "showland": true,
           "subunitcolor": "white"
          },
          "hoverlabel": {
           "align": "left"
          },
          "hovermode": "closest",
          "mapbox": {
           "style": "light"
          },
          "paper_bgcolor": "white",
          "plot_bgcolor": "#E5ECF6",
          "polar": {
           "angularaxis": {
            "gridcolor": "white",
            "linecolor": "white",
            "ticks": ""
           },
           "bgcolor": "#E5ECF6",
           "radialaxis": {
            "gridcolor": "white",
            "linecolor": "white",
            "ticks": ""
           }
          },
          "scene": {
           "xaxis": {
            "backgroundcolor": "#E5ECF6",
            "gridcolor": "white",
            "gridwidth": 2,
            "linecolor": "white",
            "showbackground": true,
            "ticks": "",
            "zerolinecolor": "white"
           },
           "yaxis": {
            "backgroundcolor": "#E5ECF6",
            "gridcolor": "white",
            "gridwidth": 2,
            "linecolor": "white",
            "showbackground": true,
            "ticks": "",
            "zerolinecolor": "white"
           },
           "zaxis": {
            "backgroundcolor": "#E5ECF6",
            "gridcolor": "white",
            "gridwidth": 2,
            "linecolor": "white",
            "showbackground": true,
            "ticks": "",
            "zerolinecolor": "white"
           }
          },
          "shapedefaults": {
           "line": {
            "color": "#2a3f5f"
           }
          },
          "ternary": {
           "aaxis": {
            "gridcolor": "white",
            "linecolor": "white",
            "ticks": ""
           },
           "baxis": {
            "gridcolor": "white",
            "linecolor": "white",
            "ticks": ""
           },
           "bgcolor": "#E5ECF6",
           "caxis": {
            "gridcolor": "white",
            "linecolor": "white",
            "ticks": ""
           }
          },
          "title": {
           "x": 0.05
          },
          "xaxis": {
           "automargin": true,
           "gridcolor": "white",
           "linecolor": "white",
           "ticks": "",
           "title": {
            "standoff": 15
           },
           "zerolinecolor": "white",
           "zerolinewidth": 2
          },
          "yaxis": {
           "automargin": true,
           "gridcolor": "white",
           "linecolor": "white",
           "ticks": "",
           "title": {
            "standoff": 15
           },
           "zerolinecolor": "white",
           "zerolinewidth": 2
          }
         }
        },
        "title": {
         "text": "RMSE = 4.74"
        },
        "width": 700,
        "xaxis": {
         "anchor": "y",
         "domain": [
          0,
          1
         ],
         "title": {
          "text": "horsepower"
         }
        },
        "yaxis": {
         "anchor": "x",
         "domain": [
          0,
          1
         ],
         "title": {
          "text": "mpg"
         }
        }
       }
      },
      "text/html": [
       "<div>                            <div id=\"758726f8-5fbc-4405-bb25-a5ba71f11640\" class=\"plotly-graph-div\" style=\"height:500px; width:700px;\"></div>            <script type=\"text/javascript\">                require([\"plotly\"], function(Plotly) {                    window.PLOTLYENV=window.PLOTLYENV || {};                                    if (document.getElementById(\"758726f8-5fbc-4405-bb25-a5ba71f11640\")) {                    Plotly.newPlot(                        \"758726f8-5fbc-4405-bb25-a5ba71f11640\",                        [{\"customdata\":[[\"oldsmobile cutlass ls\"],[\"ford fairmont futura\"],[\"chevrolet nova\"],[\"plymouth valiant custom\"],[\"plymouth arrow gs\"],[\"amc concord d\\u002fl\"],[\"chevrolet monte carlo landau\"],[\"toyota corolla 1200\"],[\"pontiac catalina brougham\"],[\"amc spirit dl\"],[\"chevrolet chevelle malibu\"],[\"ford granada gl\"],[\"ford torino 500\"],[\"opel 1900\"],[\"chrysler cordoba\"],[\"amc rebel sst\"],[\"renault 12 (sw)\"],[\"amc concord dl 6\"],[\"oldsmobile cutlass ciera (diesel)\"],[\"datsun b-210\"],[\"maxda rx3\"],[\"ford fairmont (man)\"],[\"mazda 626\"],[\"honda accord\"],[\"dodge d200\"],[\"subaru\"],[\"ford pinto\"],[\"plymouth fury gran sedan\"],[\"datsun 210 mpg\"],[\"volkswagen 411 (sw)\"]],\"hovertemplate\":\"horsepower=%{x}\\u003cbr\\u003empg=%{y}\\u003cbr\\u003ename=%{customdata[0]}\\u003cextra\\u003e\\u003c\\u002fextra\\u003e\",\"legendgroup\":\"\",\"marker\":{\"color\":\"#636efa\",\"symbol\":\"circle\"},\"mode\":\"markers\",\"name\":\"\",\"orientation\":\"v\",\"showlegend\":false,\"x\":[105,92,100,95,96,120,170,65,175,80,130,88,88,81,190,150,69,90,85,70,90,88,74,72,210,93,85,150,65,76],\"xaxis\":\"x\",\"y\":[26.6,24.0,15.0,19.0,25.5,18.1,15.5,32.0,14.0,27.4,18.0,20.2,19.0,25.0,15.5,16.0,26.0,20.2,38.0,32.0,18.0,25.1,31.6,32.4,11.0,26.0,19.0,14.0,37.0,22.0],\"yaxis\":\"y\",\"type\":\"scatter\"},{\"name\":\"Linear Regression\",\"x\":[65.0,67.95918367346938,70.91836734693878,73.87755102040816,76.83673469387755,79.79591836734694,82.75510204081633,85.71428571428572,88.6734693877551,91.63265306122449,94.59183673469389,97.55102040816327,100.51020408163265,103.46938775510205,106.42857142857143,109.38775510204081,112.34693877551021,115.3061224489796,118.26530612244898,121.22448979591837,124.18367346938776,127.14285714285714,130.10204081632654,133.0612244897959,136.0204081632653,138.9795918367347,141.9387755102041,144.89795918367346,147.85714285714286,150.81632653061223,153.77551020408163,156.73469387755102,159.69387755102042,162.6530612244898,165.6122448979592,168.57142857142856,171.53061224489795,174.48979591836735,177.44897959183675,180.40816326530611,183.3673469387755,186.32653061224488,189.28571428571428,192.24489795918367,195.20408163265307,198.16326530612244,201.12244897959184,204.08163265306123,207.0408163265306,210.0],\"y\":[28.099608896616978,27.702680421604487,27.305751946591993,26.908823471579502,26.51189499656701,26.114966521554514,25.718038046542024,25.321109571529533,24.92418109651704,24.527252621504545,24.13032414649205,23.733395671479563,23.33646719646707,22.939538721454575,22.54261024644208,22.145681771429594,21.7487532964171,21.351824821404605,20.95489634639211,20.55796787137962,20.161039396367126,19.764110921354636,19.36718244634214,18.97025397132965,18.573325496317157,18.176397021304666,17.779468546292172,17.38254007127968,16.985611596267187,16.588683121254697,16.191754646242202,15.794826171229708,15.397897696217214,15.000969221204727,14.604040746192233,14.207112271179742,13.810183796167248,13.413255321154754,13.01632684614226,12.619398371129769,12.222469896117278,11.825541421104788,11.428612946092294,11.0316844710798,10.634755996067305,10.237827521054815,9.84089904604232,9.443970571029826,9.04704209601734,8.650113621004845],\"type\":\"scatter\"},{\"line\":{\"color\":\"lightblue\",\"dash\":\"dash\"},\"name\":\"Errors\",\"x\":[null],\"y\":[null],\"type\":\"scatter\"}],                        {\"template\":{\"data\":{\"histogram2dcontour\":[{\"type\":\"histogram2dcontour\",\"colorbar\":{\"outlinewidth\":0,\"ticks\":\"\"},\"colorscale\":[[0.0,\"#0d0887\"],[0.1111111111111111,\"#46039f\"],[0.2222222222222222,\"#7201a8\"],[0.3333333333333333,\"#9c179e\"],[0.4444444444444444,\"#bd3786\"],[0.5555555555555556,\"#d8576b\"],[0.6666666666666666,\"#ed7953\"],[0.7777777777777778,\"#fb9f3a\"],[0.8888888888888888,\"#fdca26\"],[1.0,\"#f0f921\"]]}],\"choropleth\":[{\"type\":\"choropleth\",\"colorbar\":{\"outlinewidth\":0,\"ticks\":\"\"}}],\"histogram2d\":[{\"type\":\"histogram2d\",\"colorbar\":{\"outlinewidth\":0,\"ticks\":\"\"},\"colorscale\":[[0.0,\"#0d0887\"],[0.1111111111111111,\"#46039f\"],[0.2222222222222222,\"#7201a8\"],[0.3333333333333333,\"#9c179e\"],[0.4444444444444444,\"#bd3786\"],[0.5555555555555556,\"#d8576b\"],[0.6666666666666666,\"#ed7953\"],[0.7777777777777778,\"#fb9f3a\"],[0.8888888888888888,\"#fdca26\"],[1.0,\"#f0f921\"]]}],\"heatmap\":[{\"type\":\"heatmap\",\"colorbar\":{\"outlinewidth\":0,\"ticks\":\"\"},\"colorscale\":[[0.0,\"#0d0887\"],[0.1111111111111111,\"#46039f\"],[0.2222222222222222,\"#7201a8\"],[0.3333333333333333,\"#9c179e\"],[0.4444444444444444,\"#bd3786\"],[0.5555555555555556,\"#d8576b\"],[0.6666666666666666,\"#ed7953\"],[0.7777777777777778,\"#fb9f3a\"],[0.8888888888888888,\"#fdca26\"],[1.0,\"#f0f921\"]]}],\"heatmapgl\":[{\"type\":\"heatmapgl\",\"colorbar\":{\"outlinewidth\":0,\"ticks\":\"\"},\"colorscale\":[[0.0,\"#0d0887\"],[0.1111111111111111,\"#46039f\"],[0.2222222222222222,\"#7201a8\"],[0.3333333333333333,\"#9c179e\"],[0.4444444444444444,\"#bd3786\"],[0.5555555555555556,\"#d8576b\"],[0.6666666666666666,\"#ed7953\"],[0.7777777777777778,\"#fb9f3a\"],[0.8888888888888888,\"#fdca26\"],[1.0,\"#f0f921\"]]}],\"contourcarpet\":[{\"type\":\"contourcarpet\",\"colorbar\":{\"outlinewidth\":0,\"ticks\":\"\"}}],\"contour\":[{\"type\":\"contour\",\"colorbar\":{\"outlinewidth\":0,\"ticks\":\"\"},\"colorscale\":[[0.0,\"#0d0887\"],[0.1111111111111111,\"#46039f\"],[0.2222222222222222,\"#7201a8\"],[0.3333333333333333,\"#9c179e\"],[0.4444444444444444,\"#bd3786\"],[0.5555555555555556,\"#d8576b\"],[0.6666666666666666,\"#ed7953\"],[0.7777777777777778,\"#fb9f3a\"],[0.8888888888888888,\"#fdca26\"],[1.0,\"#f0f921\"]]}],\"surface\":[{\"type\":\"surface\",\"colorbar\":{\"outlinewidth\":0,\"ticks\":\"\"},\"colorscale\":[[0.0,\"#0d0887\"],[0.1111111111111111,\"#46039f\"],[0.2222222222222222,\"#7201a8\"],[0.3333333333333333,\"#9c179e\"],[0.4444444444444444,\"#bd3786\"],[0.5555555555555556,\"#d8576b\"],[0.6666666666666666,\"#ed7953\"],[0.7777777777777778,\"#fb9f3a\"],[0.8888888888888888,\"#fdca26\"],[1.0,\"#f0f921\"]]}],\"mesh3d\":[{\"type\":\"mesh3d\",\"colorbar\":{\"outlinewidth\":0,\"ticks\":\"\"}}],\"scatter\":[{\"fillpattern\":{\"fillmode\":\"overlay\",\"size\":10,\"solidity\":0.2},\"type\":\"scatter\"}],\"parcoords\":[{\"type\":\"parcoords\",\"line\":{\"colorbar\":{\"outlinewidth\":0,\"ticks\":\"\"}}}],\"scatterpolargl\":[{\"type\":\"scatterpolargl\",\"marker\":{\"colorbar\":{\"outlinewidth\":0,\"ticks\":\"\"}}}],\"bar\":[{\"error_x\":{\"color\":\"#2a3f5f\"},\"error_y\":{\"color\":\"#2a3f5f\"},\"marker\":{\"line\":{\"color\":\"#E5ECF6\",\"width\":0.5},\"pattern\":{\"fillmode\":\"overlay\",\"size\":10,\"solidity\":0.2}},\"type\":\"bar\"}],\"scattergeo\":[{\"type\":\"scattergeo\",\"marker\":{\"colorbar\":{\"outlinewidth\":0,\"ticks\":\"\"}}}],\"scatterpolar\":[{\"type\":\"scatterpolar\",\"marker\":{\"colorbar\":{\"outlinewidth\":0,\"ticks\":\"\"}}}],\"histogram\":[{\"marker\":{\"pattern\":{\"fillmode\":\"overlay\",\"size\":10,\"solidity\":0.2}},\"type\":\"histogram\"}],\"scattergl\":[{\"type\":\"scattergl\",\"marker\":{\"colorbar\":{\"outlinewidth\":0,\"ticks\":\"\"}}}],\"scatter3d\":[{\"type\":\"scatter3d\",\"line\":{\"colorbar\":{\"outlinewidth\":0,\"ticks\":\"\"}},\"marker\":{\"colorbar\":{\"outlinewidth\":0,\"ticks\":\"\"}}}],\"scattermapbox\":[{\"type\":\"scattermapbox\",\"marker\":{\"colorbar\":{\"outlinewidth\":0,\"ticks\":\"\"}}}],\"scatterternary\":[{\"type\":\"scatterternary\",\"marker\":{\"colorbar\":{\"outlinewidth\":0,\"ticks\":\"\"}}}],\"scattercarpet\":[{\"type\":\"scattercarpet\",\"marker\":{\"colorbar\":{\"outlinewidth\":0,\"ticks\":\"\"}}}],\"carpet\":[{\"aaxis\":{\"endlinecolor\":\"#2a3f5f\",\"gridcolor\":\"white\",\"linecolor\":\"white\",\"minorgridcolor\":\"white\",\"startlinecolor\":\"#2a3f5f\"},\"baxis\":{\"endlinecolor\":\"#2a3f5f\",\"gridcolor\":\"white\",\"linecolor\":\"white\",\"minorgridcolor\":\"white\",\"startlinecolor\":\"#2a3f5f\"},\"type\":\"carpet\"}],\"table\":[{\"cells\":{\"fill\":{\"color\":\"#EBF0F8\"},\"line\":{\"color\":\"white\"}},\"header\":{\"fill\":{\"color\":\"#C8D4E3\"},\"line\":{\"color\":\"white\"}},\"type\":\"table\"}],\"barpolar\":[{\"marker\":{\"line\":{\"color\":\"#E5ECF6\",\"width\":0.5},\"pattern\":{\"fillmode\":\"overlay\",\"size\":10,\"solidity\":0.2}},\"type\":\"barpolar\"}],\"pie\":[{\"automargin\":true,\"type\":\"pie\"}]},\"layout\":{\"autotypenumbers\":\"strict\",\"colorway\":[\"#636efa\",\"#EF553B\",\"#00cc96\",\"#ab63fa\",\"#FFA15A\",\"#19d3f3\",\"#FF6692\",\"#B6E880\",\"#FF97FF\",\"#FECB52\"],\"font\":{\"color\":\"#2a3f5f\"},\"hovermode\":\"closest\",\"hoverlabel\":{\"align\":\"left\"},\"paper_bgcolor\":\"white\",\"plot_bgcolor\":\"#E5ECF6\",\"polar\":{\"bgcolor\":\"#E5ECF6\",\"angularaxis\":{\"gridcolor\":\"white\",\"linecolor\":\"white\",\"ticks\":\"\"},\"radialaxis\":{\"gridcolor\":\"white\",\"linecolor\":\"white\",\"ticks\":\"\"}},\"ternary\":{\"bgcolor\":\"#E5ECF6\",\"aaxis\":{\"gridcolor\":\"white\",\"linecolor\":\"white\",\"ticks\":\"\"},\"baxis\":{\"gridcolor\":\"white\",\"linecolor\":\"white\",\"ticks\":\"\"},\"caxis\":{\"gridcolor\":\"white\",\"linecolor\":\"white\",\"ticks\":\"\"}},\"coloraxis\":{\"colorbar\":{\"outlinewidth\":0,\"ticks\":\"\"}},\"colorscale\":{\"sequential\":[[0.0,\"#0d0887\"],[0.1111111111111111,\"#46039f\"],[0.2222222222222222,\"#7201a8\"],[0.3333333333333333,\"#9c179e\"],[0.4444444444444444,\"#bd3786\"],[0.5555555555555556,\"#d8576b\"],[0.6666666666666666,\"#ed7953\"],[0.7777777777777778,\"#fb9f3a\"],[0.8888888888888888,\"#fdca26\"],[1.0,\"#f0f921\"]],\"sequentialminus\":[[0.0,\"#0d0887\"],[0.1111111111111111,\"#46039f\"],[0.2222222222222222,\"#7201a8\"],[0.3333333333333333,\"#9c179e\"],[0.4444444444444444,\"#bd3786\"],[0.5555555555555556,\"#d8576b\"],[0.6666666666666666,\"#ed7953\"],[0.7777777777777778,\"#fb9f3a\"],[0.8888888888888888,\"#fdca26\"],[1.0,\"#f0f921\"]],\"diverging\":[[0,\"#8e0152\"],[0.1,\"#c51b7d\"],[0.2,\"#de77ae\"],[0.3,\"#f1b6da\"],[0.4,\"#fde0ef\"],[0.5,\"#f7f7f7\"],[0.6,\"#e6f5d0\"],[0.7,\"#b8e186\"],[0.8,\"#7fbc41\"],[0.9,\"#4d9221\"],[1,\"#276419\"]]},\"xaxis\":{\"gridcolor\":\"white\",\"linecolor\":\"white\",\"ticks\":\"\",\"title\":{\"standoff\":15},\"zerolinecolor\":\"white\",\"automargin\":true,\"zerolinewidth\":2},\"yaxis\":{\"gridcolor\":\"white\",\"linecolor\":\"white\",\"ticks\":\"\",\"title\":{\"standoff\":15},\"zerolinecolor\":\"white\",\"automargin\":true,\"zerolinewidth\":2},\"scene\":{\"xaxis\":{\"backgroundcolor\":\"#E5ECF6\",\"gridcolor\":\"white\",\"linecolor\":\"white\",\"showbackground\":true,\"ticks\":\"\",\"zerolinecolor\":\"white\",\"gridwidth\":2},\"yaxis\":{\"backgroundcolor\":\"#E5ECF6\",\"gridcolor\":\"white\",\"linecolor\":\"white\",\"showbackground\":true,\"ticks\":\"\",\"zerolinecolor\":\"white\",\"gridwidth\":2},\"zaxis\":{\"backgroundcolor\":\"#E5ECF6\",\"gridcolor\":\"white\",\"linecolor\":\"white\",\"showbackground\":true,\"ticks\":\"\",\"zerolinecolor\":\"white\",\"gridwidth\":2}},\"shapedefaults\":{\"line\":{\"color\":\"#2a3f5f\"}},\"annotationdefaults\":{\"arrowcolor\":\"#2a3f5f\",\"arrowhead\":0,\"arrowwidth\":1},\"geo\":{\"bgcolor\":\"white\",\"landcolor\":\"#E5ECF6\",\"subunitcolor\":\"white\",\"showland\":true,\"showlakes\":true,\"lakecolor\":\"white\"},\"title\":{\"x\":0.05},\"mapbox\":{\"style\":\"light\"}}},\"xaxis\":{\"anchor\":\"y\",\"domain\":[0.0,1.0],\"title\":{\"text\":\"horsepower\"}},\"yaxis\":{\"anchor\":\"x\",\"domain\":[0.0,1.0],\"title\":{\"text\":\"mpg\"}},\"legend\":{\"tracegroupgap\":0},\"margin\":{\"t\":60},\"shapes\":[{\"line\":{\"color\":\"lightblue\",\"dash\":\"dash\"},\"name\":\"Errors\",\"x0\":105,\"x1\":105,\"y0\":26.6,\"y1\":22.73423088955156},{\"line\":{\"color\":\"lightblue\",\"dash\":\"dash\"},\"name\":\"\",\"x0\":92,\"x1\":92,\"y0\":24.0,\"y1\":24.47797874184782},{\"line\":{\"color\":\"lightblue\",\"dash\":\"dash\"},\"name\":\"\",\"x0\":100,\"x1\":100,\"y0\":15.0,\"y1\":23.40490314043474},{\"line\":{\"color\":\"lightblue\",\"dash\":\"dash\"},\"name\":\"\",\"x0\":95,\"x1\":95,\"y0\":19.0,\"y1\":24.07557539131792},{\"line\":{\"color\":\"lightblue\",\"dash\":\"dash\"},\"name\":\"\",\"x0\":96,\"x1\":96,\"y0\":25.5,\"y1\":23.94144094114128},{\"line\":{\"color\":\"lightblue\",\"dash\":\"dash\"},\"name\":\"\",\"x0\":120,\"x1\":120,\"y0\":18.1,\"y1\":20.722214136902032},{\"line\":{\"color\":\"lightblue\",\"dash\":\"dash\"},\"name\":\"\",\"x0\":170,\"x1\":170,\"y0\":15.5,\"y1\":14.015491628070261},{\"line\":{\"color\":\"lightblue\",\"dash\":\"dash\"},\"name\":\"\",\"x0\":65,\"x1\":65,\"y0\":32.0,\"y1\":28.099608896616978},{\"line\":{\"color\":\"lightblue\",\"dash\":\"dash\"},\"name\":\"\",\"x0\":175,\"x1\":175,\"y0\":14.0,\"y1\":13.344819377187083},{\"line\":{\"color\":\"lightblue\",\"dash\":\"dash\"},\"name\":\"\",\"x0\":80,\"x1\":80,\"y0\":27.4,\"y1\":26.08759214396745},{\"line\":{\"color\":\"lightblue\",\"dash\":\"dash\"},\"name\":\"\",\"x0\":130,\"x1\":130,\"y0\":18.0,\"y1\":19.380869635135678},{\"line\":{\"color\":\"lightblue\",\"dash\":\"dash\"},\"name\":\"\",\"x0\":88,\"x1\":88,\"y0\":20.2,\"y1\":25.014516542554365},{\"line\":{\"color\":\"lightblue\",\"dash\":\"dash\"},\"name\":\"\",\"x0\":88,\"x1\":88,\"y0\":19.0,\"y1\":25.014516542554365},{\"line\":{\"color\":\"lightblue\",\"dash\":\"dash\"},\"name\":\"\",\"x0\":81,\"x1\":81,\"y0\":25.0,\"y1\":25.953457693790813},{\"line\":{\"color\":\"lightblue\",\"dash\":\"dash\"},\"name\":\"\",\"x0\":190,\"x1\":190,\"y0\":15.5,\"y1\":11.332802624537553},{\"line\":{\"color\":\"lightblue\",\"dash\":\"dash\"},\"name\":\"\",\"x0\":150,\"x1\":150,\"y0\":16.0,\"y1\":16.69818063160297},{\"line\":{\"color\":\"lightblue\",\"dash\":\"dash\"},\"name\":\"\",\"x0\":69,\"x1\":69,\"y0\":26.0,\"y1\":27.563071095910438},{\"line\":{\"color\":\"lightblue\",\"dash\":\"dash\"},\"name\":\"\",\"x0\":90,\"x1\":90,\"y0\":20.2,\"y1\":24.746247642201094},{\"line\":{\"color\":\"lightblue\",\"dash\":\"dash\"},\"name\":\"\",\"x0\":85,\"x1\":85,\"y0\":38.0,\"y1\":25.41691989308427},{\"line\":{\"color\":\"lightblue\",\"dash\":\"dash\"},\"name\":\"\",\"x0\":70,\"x1\":70,\"y0\":32.0,\"y1\":27.428936645733803},{\"line\":{\"color\":\"lightblue\",\"dash\":\"dash\"},\"name\":\"\",\"x0\":90,\"x1\":90,\"y0\":18.0,\"y1\":24.746247642201094},{\"line\":{\"color\":\"lightblue\",\"dash\":\"dash\"},\"name\":\"\",\"x0\":88,\"x1\":88,\"y0\":25.1,\"y1\":25.014516542554365},{\"line\":{\"color\":\"lightblue\",\"dash\":\"dash\"},\"name\":\"\",\"x0\":74,\"x1\":74,\"y0\":31.6,\"y1\":26.89239884502726},{\"line\":{\"color\":\"lightblue\",\"dash\":\"dash\"},\"name\":\"\",\"x0\":72,\"x1\":72,\"y0\":32.4,\"y1\":27.16066774538053},{\"line\":{\"color\":\"lightblue\",\"dash\":\"dash\"},\"name\":\"\",\"x0\":210,\"x1\":210,\"y0\":11.0,\"y1\":8.650113621004845},{\"line\":{\"color\":\"lightblue\",\"dash\":\"dash\"},\"name\":\"\",\"x0\":93,\"x1\":93,\"y0\":26.0,\"y1\":24.34384429167119},{\"line\":{\"color\":\"lightblue\",\"dash\":\"dash\"},\"name\":\"\",\"x0\":85,\"x1\":85,\"y0\":19.0,\"y1\":25.41691989308427},{\"line\":{\"color\":\"lightblue\",\"dash\":\"dash\"},\"name\":\"\",\"x0\":150,\"x1\":150,\"y0\":14.0,\"y1\":16.69818063160297},{\"line\":{\"color\":\"lightblue\",\"dash\":\"dash\"},\"name\":\"\",\"x0\":65,\"x1\":65,\"y0\":37.0,\"y1\":28.099608896616978},{\"line\":{\"color\":\"lightblue\",\"dash\":\"dash\"},\"name\":\"\",\"x0\":76,\"x1\":76,\"y0\":22.0,\"y1\":26.62412994467399}],\"width\":700,\"height\":500,\"title\":{\"text\":\"RMSE = 4.74\"}},                        {\"responsive\": true}                    ).then(function(){\n",
       "                            \n",
       "var gd = document.getElementById('758726f8-5fbc-4405-bb25-a5ba71f11640');\n",
       "var x = new MutationObserver(function (mutations, observer) {{\n",
       "        var display = window.getComputedStyle(gd).display;\n",
       "        if (!display || display === 'none') {{\n",
       "            console.log([gd, 'removed!']);\n",
       "            Plotly.purge(gd);\n",
       "            observer.disconnect();\n",
       "        }}\n",
       "}});\n",
       "\n",
       "// Listen for the removal of the full notebook cells\n",
       "var notebookContainer = gd.closest('#notebook-container');\n",
       "if (notebookContainer) {{\n",
       "    x.observe(notebookContainer, {childList: true});\n",
       "}}\n",
       "\n",
       "// Listen for the clearing of the current output cell\n",
       "var outputEl = gd.closest('.output');\n",
       "if (outputEl) {{\n",
       "    x.observe(outputEl, {childList: true});\n",
       "}}\n",
       "\n",
       "                        })                };                });            </script>        </div>"
      ]
     },
     "metadata": {},
     "output_type": "display_data"
    }
   ],
   "source": [
    "# generate predictions from the parameter estimates\n",
    "predictions_lin_reg_1 = intercept_lin_reg_1 + slope_lin_reg_1*sample['horsepower']\n",
    "\n",
    "# calculate the errors (AKA the residuals)\n",
    "errors = sample['mpg'] - predictions_lin_reg_1\n",
    "\n",
    "# create the plot\n",
    "fig = px.scatter(x='horsepower', y='mpg', data_frame=sample, hover_data='name')\n",
    "xs_for_plot = np.linspace(sample['horsepower'].min(), sample['horsepower'].max())\n",
    "fig.add_trace(go.Scatter(x=xs_for_plot, y=intercept_lin_reg_1 + slope_lin_reg_1*xs_for_plot, name='Linear Regression'))\n",
    "fig.add_trace(go.Scatter(x=[None], y =[None], name='Errors',   line={'dash':'dash', 'color': 'lightblue'}))\n",
    "for i in np.arange(len(sample)):\n",
    "    fig.add_shape(go.layout.Shape(x1=sample.iloc[i]['horsepower'],\n",
    "                                  x0=sample.iloc[i]['horsepower'],\n",
    "                                  y0=sample.iloc[i]['mpg'],\n",
    "                                  y1=intercept_lin_reg_1 + slope_lin_reg_1 * sample.iloc[i]['horsepower'],\n",
    "                                  name='Errors' if i == 0 else \"\",\n",
    "                                  line={'dash':'dash', 'color': 'lightblue'}\n",
    "                                  ))\n",
    "fig.update_layout(width=700, height=500,\n",
    "                  title=f'RMSE = {round(rmse([intercept_lin_reg_1, slope_lin_reg_1],sample[\"horsepower\"], sample[\"mpg\"]),2)}')\n",
    "fig.show()"
   ]
  },
  {
   "cell_type": "markdown",
   "id": "33fe55cd",
   "metadata": {},
   "source": [
    "This model looks OK - as it goes, it is capturing the general trend of the association, but you'll notice that the errors are much larger at lower values of horsepower.\n",
    "\n",
    "This means there is *systematicity* (a nonrandom pattern) in the errors. For a well-fitting linear regression - in fact, for any well-fitting model - we would like the errors to be randomly distributed around the regression line.\n",
    "\n",
    "*Systematicity in the errors suggests that there is information in the data which is not being used by the model.* This suggests that a more complex model might be needed, to make use of this additional information.\n",
    "\n",
    "We can elicit this same information using a \"fitted vs residuals\" plot. This is where we create a scatterplot of the fitted values ($\\hat{y}$) from the model against the error values ($e_i$) from the model. This plot can help us check for systematicity in the errors.\n",
    "\n",
    "The code cell below creates such a plot:"
   ]
  },
  {
   "cell_type": "code",
   "execution_count": 46,
   "id": "0b1a9353",
   "metadata": {},
   "outputs": [
    {
     "data": {
      "application/vnd.plotly.v1+json": {
       "config": {
        "plotlyServerURL": "https://plot.ly"
       },
       "data": [
        {
         "hovertemplate": "x=%{x}<br>y=%{y}<extra></extra>",
         "legendgroup": "",
         "marker": {
          "color": "red",
          "size": 8,
          "symbol": "x"
         },
         "mode": "markers",
         "name": "",
         "orientation": "v",
         "showlegend": false,
         "type": "scatter",
         "x": [
          22.73423088955156,
          24.47797874184782,
          23.40490314043474,
          24.07557539131792,
          23.94144094114128,
          20.722214136902032,
          14.015491628070261,
          28.099608896616978,
          13.344819377187083,
          26.08759214396745,
          19.380869635135678,
          25.014516542554365,
          25.014516542554365,
          25.953457693790813,
          11.332802624537553,
          16.69818063160297,
          27.563071095910438,
          24.746247642201094,
          25.41691989308427,
          27.428936645733803,
          24.746247642201094,
          25.014516542554365,
          26.89239884502726,
          27.16066774538053,
          8.650113621004845,
          24.34384429167119,
          25.41691989308427,
          16.69818063160297,
          28.099608896616978,
          26.62412994467399
         ],
         "xaxis": "x",
         "y": [
          3.86576911044844,
          -0.47797874184782074,
          -8.40490314043474,
          -5.075575391317919,
          1.5585590588587195,
          -2.6222141369020306,
          1.4845083719297385,
          3.900391103383022,
          0.6551806228129173,
          1.31240785603255,
          -1.380869635135678,
          -4.814516542554365,
          -6.0145165425543645,
          -0.9534576937908135,
          4.167197375462447,
          -0.6981806316029697,
          -1.5630710959104377,
          -4.546247642201095,
          12.58308010691573,
          4.571063354266197,
          -6.746247642201094,
          0.0854834574456369,
          4.707601154972743,
          5.23933225461947,
          2.349886378995155,
          1.6561557083288108,
          -6.41691989308427,
          -2.6981806316029697,
          8.900391103383022,
          -4.624129944673989
         ],
         "yaxis": "y"
        }
       ],
       "layout": {
        "height": 500,
        "legend": {
         "tracegroupgap": 0
        },
        "margin": {
         "t": 60
        },
        "template": {
         "data": {
          "bar": [
           {
            "error_x": {
             "color": "#2a3f5f"
            },
            "error_y": {
             "color": "#2a3f5f"
            },
            "marker": {
             "line": {
              "color": "#E5ECF6",
              "width": 0.5
             },
             "pattern": {
              "fillmode": "overlay",
              "size": 10,
              "solidity": 0.2
             }
            },
            "type": "bar"
           }
          ],
          "barpolar": [
           {
            "marker": {
             "line": {
              "color": "#E5ECF6",
              "width": 0.5
             },
             "pattern": {
              "fillmode": "overlay",
              "size": 10,
              "solidity": 0.2
             }
            },
            "type": "barpolar"
           }
          ],
          "carpet": [
           {
            "aaxis": {
             "endlinecolor": "#2a3f5f",
             "gridcolor": "white",
             "linecolor": "white",
             "minorgridcolor": "white",
             "startlinecolor": "#2a3f5f"
            },
            "baxis": {
             "endlinecolor": "#2a3f5f",
             "gridcolor": "white",
             "linecolor": "white",
             "minorgridcolor": "white",
             "startlinecolor": "#2a3f5f"
            },
            "type": "carpet"
           }
          ],
          "choropleth": [
           {
            "colorbar": {
             "outlinewidth": 0,
             "ticks": ""
            },
            "type": "choropleth"
           }
          ],
          "contour": [
           {
            "colorbar": {
             "outlinewidth": 0,
             "ticks": ""
            },
            "colorscale": [
             [
              0,
              "#0d0887"
             ],
             [
              0.1111111111111111,
              "#46039f"
             ],
             [
              0.2222222222222222,
              "#7201a8"
             ],
             [
              0.3333333333333333,
              "#9c179e"
             ],
             [
              0.4444444444444444,
              "#bd3786"
             ],
             [
              0.5555555555555556,
              "#d8576b"
             ],
             [
              0.6666666666666666,
              "#ed7953"
             ],
             [
              0.7777777777777778,
              "#fb9f3a"
             ],
             [
              0.8888888888888888,
              "#fdca26"
             ],
             [
              1,
              "#f0f921"
             ]
            ],
            "type": "contour"
           }
          ],
          "contourcarpet": [
           {
            "colorbar": {
             "outlinewidth": 0,
             "ticks": ""
            },
            "type": "contourcarpet"
           }
          ],
          "heatmap": [
           {
            "colorbar": {
             "outlinewidth": 0,
             "ticks": ""
            },
            "colorscale": [
             [
              0,
              "#0d0887"
             ],
             [
              0.1111111111111111,
              "#46039f"
             ],
             [
              0.2222222222222222,
              "#7201a8"
             ],
             [
              0.3333333333333333,
              "#9c179e"
             ],
             [
              0.4444444444444444,
              "#bd3786"
             ],
             [
              0.5555555555555556,
              "#d8576b"
             ],
             [
              0.6666666666666666,
              "#ed7953"
             ],
             [
              0.7777777777777778,
              "#fb9f3a"
             ],
             [
              0.8888888888888888,
              "#fdca26"
             ],
             [
              1,
              "#f0f921"
             ]
            ],
            "type": "heatmap"
           }
          ],
          "heatmapgl": [
           {
            "colorbar": {
             "outlinewidth": 0,
             "ticks": ""
            },
            "colorscale": [
             [
              0,
              "#0d0887"
             ],
             [
              0.1111111111111111,
              "#46039f"
             ],
             [
              0.2222222222222222,
              "#7201a8"
             ],
             [
              0.3333333333333333,
              "#9c179e"
             ],
             [
              0.4444444444444444,
              "#bd3786"
             ],
             [
              0.5555555555555556,
              "#d8576b"
             ],
             [
              0.6666666666666666,
              "#ed7953"
             ],
             [
              0.7777777777777778,
              "#fb9f3a"
             ],
             [
              0.8888888888888888,
              "#fdca26"
             ],
             [
              1,
              "#f0f921"
             ]
            ],
            "type": "heatmapgl"
           }
          ],
          "histogram": [
           {
            "marker": {
             "pattern": {
              "fillmode": "overlay",
              "size": 10,
              "solidity": 0.2
             }
            },
            "type": "histogram"
           }
          ],
          "histogram2d": [
           {
            "colorbar": {
             "outlinewidth": 0,
             "ticks": ""
            },
            "colorscale": [
             [
              0,
              "#0d0887"
             ],
             [
              0.1111111111111111,
              "#46039f"
             ],
             [
              0.2222222222222222,
              "#7201a8"
             ],
             [
              0.3333333333333333,
              "#9c179e"
             ],
             [
              0.4444444444444444,
              "#bd3786"
             ],
             [
              0.5555555555555556,
              "#d8576b"
             ],
             [
              0.6666666666666666,
              "#ed7953"
             ],
             [
              0.7777777777777778,
              "#fb9f3a"
             ],
             [
              0.8888888888888888,
              "#fdca26"
             ],
             [
              1,
              "#f0f921"
             ]
            ],
            "type": "histogram2d"
           }
          ],
          "histogram2dcontour": [
           {
            "colorbar": {
             "outlinewidth": 0,
             "ticks": ""
            },
            "colorscale": [
             [
              0,
              "#0d0887"
             ],
             [
              0.1111111111111111,
              "#46039f"
             ],
             [
              0.2222222222222222,
              "#7201a8"
             ],
             [
              0.3333333333333333,
              "#9c179e"
             ],
             [
              0.4444444444444444,
              "#bd3786"
             ],
             [
              0.5555555555555556,
              "#d8576b"
             ],
             [
              0.6666666666666666,
              "#ed7953"
             ],
             [
              0.7777777777777778,
              "#fb9f3a"
             ],
             [
              0.8888888888888888,
              "#fdca26"
             ],
             [
              1,
              "#f0f921"
             ]
            ],
            "type": "histogram2dcontour"
           }
          ],
          "mesh3d": [
           {
            "colorbar": {
             "outlinewidth": 0,
             "ticks": ""
            },
            "type": "mesh3d"
           }
          ],
          "parcoords": [
           {
            "line": {
             "colorbar": {
              "outlinewidth": 0,
              "ticks": ""
             }
            },
            "type": "parcoords"
           }
          ],
          "pie": [
           {
            "automargin": true,
            "type": "pie"
           }
          ],
          "scatter": [
           {
            "fillpattern": {
             "fillmode": "overlay",
             "size": 10,
             "solidity": 0.2
            },
            "type": "scatter"
           }
          ],
          "scatter3d": [
           {
            "line": {
             "colorbar": {
              "outlinewidth": 0,
              "ticks": ""
             }
            },
            "marker": {
             "colorbar": {
              "outlinewidth": 0,
              "ticks": ""
             }
            },
            "type": "scatter3d"
           }
          ],
          "scattercarpet": [
           {
            "marker": {
             "colorbar": {
              "outlinewidth": 0,
              "ticks": ""
             }
            },
            "type": "scattercarpet"
           }
          ],
          "scattergeo": [
           {
            "marker": {
             "colorbar": {
              "outlinewidth": 0,
              "ticks": ""
             }
            },
            "type": "scattergeo"
           }
          ],
          "scattergl": [
           {
            "marker": {
             "colorbar": {
              "outlinewidth": 0,
              "ticks": ""
             }
            },
            "type": "scattergl"
           }
          ],
          "scattermapbox": [
           {
            "marker": {
             "colorbar": {
              "outlinewidth": 0,
              "ticks": ""
             }
            },
            "type": "scattermapbox"
           }
          ],
          "scatterpolar": [
           {
            "marker": {
             "colorbar": {
              "outlinewidth": 0,
              "ticks": ""
             }
            },
            "type": "scatterpolar"
           }
          ],
          "scatterpolargl": [
           {
            "marker": {
             "colorbar": {
              "outlinewidth": 0,
              "ticks": ""
             }
            },
            "type": "scatterpolargl"
           }
          ],
          "scatterternary": [
           {
            "marker": {
             "colorbar": {
              "outlinewidth": 0,
              "ticks": ""
             }
            },
            "type": "scatterternary"
           }
          ],
          "surface": [
           {
            "colorbar": {
             "outlinewidth": 0,
             "ticks": ""
            },
            "colorscale": [
             [
              0,
              "#0d0887"
             ],
             [
              0.1111111111111111,
              "#46039f"
             ],
             [
              0.2222222222222222,
              "#7201a8"
             ],
             [
              0.3333333333333333,
              "#9c179e"
             ],
             [
              0.4444444444444444,
              "#bd3786"
             ],
             [
              0.5555555555555556,
              "#d8576b"
             ],
             [
              0.6666666666666666,
              "#ed7953"
             ],
             [
              0.7777777777777778,
              "#fb9f3a"
             ],
             [
              0.8888888888888888,
              "#fdca26"
             ],
             [
              1,
              "#f0f921"
             ]
            ],
            "type": "surface"
           }
          ],
          "table": [
           {
            "cells": {
             "fill": {
              "color": "#EBF0F8"
             },
             "line": {
              "color": "white"
             }
            },
            "header": {
             "fill": {
              "color": "#C8D4E3"
             },
             "line": {
              "color": "white"
             }
            },
            "type": "table"
           }
          ]
         },
         "layout": {
          "annotationdefaults": {
           "arrowcolor": "#2a3f5f",
           "arrowhead": 0,
           "arrowwidth": 1
          },
          "autotypenumbers": "strict",
          "coloraxis": {
           "colorbar": {
            "outlinewidth": 0,
            "ticks": ""
           }
          },
          "colorscale": {
           "diverging": [
            [
             0,
             "#8e0152"
            ],
            [
             0.1,
             "#c51b7d"
            ],
            [
             0.2,
             "#de77ae"
            ],
            [
             0.3,
             "#f1b6da"
            ],
            [
             0.4,
             "#fde0ef"
            ],
            [
             0.5,
             "#f7f7f7"
            ],
            [
             0.6,
             "#e6f5d0"
            ],
            [
             0.7,
             "#b8e186"
            ],
            [
             0.8,
             "#7fbc41"
            ],
            [
             0.9,
             "#4d9221"
            ],
            [
             1,
             "#276419"
            ]
           ],
           "sequential": [
            [
             0,
             "#0d0887"
            ],
            [
             0.1111111111111111,
             "#46039f"
            ],
            [
             0.2222222222222222,
             "#7201a8"
            ],
            [
             0.3333333333333333,
             "#9c179e"
            ],
            [
             0.4444444444444444,
             "#bd3786"
            ],
            [
             0.5555555555555556,
             "#d8576b"
            ],
            [
             0.6666666666666666,
             "#ed7953"
            ],
            [
             0.7777777777777778,
             "#fb9f3a"
            ],
            [
             0.8888888888888888,
             "#fdca26"
            ],
            [
             1,
             "#f0f921"
            ]
           ],
           "sequentialminus": [
            [
             0,
             "#0d0887"
            ],
            [
             0.1111111111111111,
             "#46039f"
            ],
            [
             0.2222222222222222,
             "#7201a8"
            ],
            [
             0.3333333333333333,
             "#9c179e"
            ],
            [
             0.4444444444444444,
             "#bd3786"
            ],
            [
             0.5555555555555556,
             "#d8576b"
            ],
            [
             0.6666666666666666,
             "#ed7953"
            ],
            [
             0.7777777777777778,
             "#fb9f3a"
            ],
            [
             0.8888888888888888,
             "#fdca26"
            ],
            [
             1,
             "#f0f921"
            ]
           ]
          },
          "colorway": [
           "#636efa",
           "#EF553B",
           "#00cc96",
           "#ab63fa",
           "#FFA15A",
           "#19d3f3",
           "#FF6692",
           "#B6E880",
           "#FF97FF",
           "#FECB52"
          ],
          "font": {
           "color": "#2a3f5f"
          },
          "geo": {
           "bgcolor": "white",
           "lakecolor": "white",
           "landcolor": "#E5ECF6",
           "showlakes": true,
           "showland": true,
           "subunitcolor": "white"
          },
          "hoverlabel": {
           "align": "left"
          },
          "hovermode": "closest",
          "mapbox": {
           "style": "light"
          },
          "paper_bgcolor": "white",
          "plot_bgcolor": "#E5ECF6",
          "polar": {
           "angularaxis": {
            "gridcolor": "white",
            "linecolor": "white",
            "ticks": ""
           },
           "bgcolor": "#E5ECF6",
           "radialaxis": {
            "gridcolor": "white",
            "linecolor": "white",
            "ticks": ""
           }
          },
          "scene": {
           "xaxis": {
            "backgroundcolor": "#E5ECF6",
            "gridcolor": "white",
            "gridwidth": 2,
            "linecolor": "white",
            "showbackground": true,
            "ticks": "",
            "zerolinecolor": "white"
           },
           "yaxis": {
            "backgroundcolor": "#E5ECF6",
            "gridcolor": "white",
            "gridwidth": 2,
            "linecolor": "white",
            "showbackground": true,
            "ticks": "",
            "zerolinecolor": "white"
           },
           "zaxis": {
            "backgroundcolor": "#E5ECF6",
            "gridcolor": "white",
            "gridwidth": 2,
            "linecolor": "white",
            "showbackground": true,
            "ticks": "",
            "zerolinecolor": "white"
           }
          },
          "shapedefaults": {
           "line": {
            "color": "#2a3f5f"
           }
          },
          "ternary": {
           "aaxis": {
            "gridcolor": "white",
            "linecolor": "white",
            "ticks": ""
           },
           "baxis": {
            "gridcolor": "white",
            "linecolor": "white",
            "ticks": ""
           },
           "bgcolor": "#E5ECF6",
           "caxis": {
            "gridcolor": "white",
            "linecolor": "white",
            "ticks": ""
           }
          },
          "title": {
           "x": 0.05
          },
          "xaxis": {
           "automargin": true,
           "gridcolor": "white",
           "linecolor": "white",
           "ticks": "",
           "title": {
            "standoff": 15
           },
           "zerolinecolor": "white",
           "zerolinewidth": 2
          },
          "yaxis": {
           "automargin": true,
           "gridcolor": "white",
           "linecolor": "white",
           "ticks": "",
           "title": {
            "standoff": 15
           },
           "zerolinecolor": "white",
           "zerolinewidth": 2
          }
         }
        },
        "title": {
         "text": "Fitted vs Residuals Plot"
        },
        "width": 500,
        "xaxis": {
         "anchor": "y",
         "domain": [
          0,
          1
         ],
         "title": {
          "text": "Predictions"
         }
        },
        "yaxis": {
         "anchor": "x",
         "domain": [
          0,
          1
         ],
         "title": {
          "text": "Errors"
         }
        }
       }
      },
      "text/html": [
       "<div>                            <div id=\"300b476d-d2f4-4640-b011-1d6c196af2ab\" class=\"plotly-graph-div\" style=\"height:500px; width:500px;\"></div>            <script type=\"text/javascript\">                require([\"plotly\"], function(Plotly) {                    window.PLOTLYENV=window.PLOTLYENV || {};                                    if (document.getElementById(\"300b476d-d2f4-4640-b011-1d6c196af2ab\")) {                    Plotly.newPlot(                        \"300b476d-d2f4-4640-b011-1d6c196af2ab\",                        [{\"hovertemplate\":\"x=%{x}\\u003cbr\\u003ey=%{y}\\u003cextra\\u003e\\u003c\\u002fextra\\u003e\",\"legendgroup\":\"\",\"marker\":{\"color\":\"red\",\"symbol\":\"x\",\"size\":8},\"mode\":\"markers\",\"name\":\"\",\"orientation\":\"v\",\"showlegend\":false,\"x\":[22.73423088955156,24.47797874184782,23.40490314043474,24.07557539131792,23.94144094114128,20.722214136902032,14.015491628070261,28.099608896616978,13.344819377187083,26.08759214396745,19.380869635135678,25.014516542554365,25.014516542554365,25.953457693790813,11.332802624537553,16.69818063160297,27.563071095910438,24.746247642201094,25.41691989308427,27.428936645733803,24.746247642201094,25.014516542554365,26.89239884502726,27.16066774538053,8.650113621004845,24.34384429167119,25.41691989308427,16.69818063160297,28.099608896616978,26.62412994467399],\"xaxis\":\"x\",\"y\":[3.86576911044844,-0.47797874184782074,-8.40490314043474,-5.075575391317919,1.5585590588587195,-2.6222141369020306,1.4845083719297385,3.900391103383022,0.6551806228129173,1.31240785603255,-1.380869635135678,-4.814516542554365,-6.0145165425543645,-0.9534576937908135,4.167197375462447,-0.6981806316029697,-1.5630710959104377,-4.546247642201095,12.58308010691573,4.571063354266197,-6.746247642201094,0.0854834574456369,4.707601154972743,5.23933225461947,2.349886378995155,1.6561557083288108,-6.41691989308427,-2.6981806316029697,8.900391103383022,-4.624129944673989],\"yaxis\":\"y\",\"type\":\"scatter\"}],                        {\"template\":{\"data\":{\"histogram2dcontour\":[{\"type\":\"histogram2dcontour\",\"colorbar\":{\"outlinewidth\":0,\"ticks\":\"\"},\"colorscale\":[[0.0,\"#0d0887\"],[0.1111111111111111,\"#46039f\"],[0.2222222222222222,\"#7201a8\"],[0.3333333333333333,\"#9c179e\"],[0.4444444444444444,\"#bd3786\"],[0.5555555555555556,\"#d8576b\"],[0.6666666666666666,\"#ed7953\"],[0.7777777777777778,\"#fb9f3a\"],[0.8888888888888888,\"#fdca26\"],[1.0,\"#f0f921\"]]}],\"choropleth\":[{\"type\":\"choropleth\",\"colorbar\":{\"outlinewidth\":0,\"ticks\":\"\"}}],\"histogram2d\":[{\"type\":\"histogram2d\",\"colorbar\":{\"outlinewidth\":0,\"ticks\":\"\"},\"colorscale\":[[0.0,\"#0d0887\"],[0.1111111111111111,\"#46039f\"],[0.2222222222222222,\"#7201a8\"],[0.3333333333333333,\"#9c179e\"],[0.4444444444444444,\"#bd3786\"],[0.5555555555555556,\"#d8576b\"],[0.6666666666666666,\"#ed7953\"],[0.7777777777777778,\"#fb9f3a\"],[0.8888888888888888,\"#fdca26\"],[1.0,\"#f0f921\"]]}],\"heatmap\":[{\"type\":\"heatmap\",\"colorbar\":{\"outlinewidth\":0,\"ticks\":\"\"},\"colorscale\":[[0.0,\"#0d0887\"],[0.1111111111111111,\"#46039f\"],[0.2222222222222222,\"#7201a8\"],[0.3333333333333333,\"#9c179e\"],[0.4444444444444444,\"#bd3786\"],[0.5555555555555556,\"#d8576b\"],[0.6666666666666666,\"#ed7953\"],[0.7777777777777778,\"#fb9f3a\"],[0.8888888888888888,\"#fdca26\"],[1.0,\"#f0f921\"]]}],\"heatmapgl\":[{\"type\":\"heatmapgl\",\"colorbar\":{\"outlinewidth\":0,\"ticks\":\"\"},\"colorscale\":[[0.0,\"#0d0887\"],[0.1111111111111111,\"#46039f\"],[0.2222222222222222,\"#7201a8\"],[0.3333333333333333,\"#9c179e\"],[0.4444444444444444,\"#bd3786\"],[0.5555555555555556,\"#d8576b\"],[0.6666666666666666,\"#ed7953\"],[0.7777777777777778,\"#fb9f3a\"],[0.8888888888888888,\"#fdca26\"],[1.0,\"#f0f921\"]]}],\"contourcarpet\":[{\"type\":\"contourcarpet\",\"colorbar\":{\"outlinewidth\":0,\"ticks\":\"\"}}],\"contour\":[{\"type\":\"contour\",\"colorbar\":{\"outlinewidth\":0,\"ticks\":\"\"},\"colorscale\":[[0.0,\"#0d0887\"],[0.1111111111111111,\"#46039f\"],[0.2222222222222222,\"#7201a8\"],[0.3333333333333333,\"#9c179e\"],[0.4444444444444444,\"#bd3786\"],[0.5555555555555556,\"#d8576b\"],[0.6666666666666666,\"#ed7953\"],[0.7777777777777778,\"#fb9f3a\"],[0.8888888888888888,\"#fdca26\"],[1.0,\"#f0f921\"]]}],\"surface\":[{\"type\":\"surface\",\"colorbar\":{\"outlinewidth\":0,\"ticks\":\"\"},\"colorscale\":[[0.0,\"#0d0887\"],[0.1111111111111111,\"#46039f\"],[0.2222222222222222,\"#7201a8\"],[0.3333333333333333,\"#9c179e\"],[0.4444444444444444,\"#bd3786\"],[0.5555555555555556,\"#d8576b\"],[0.6666666666666666,\"#ed7953\"],[0.7777777777777778,\"#fb9f3a\"],[0.8888888888888888,\"#fdca26\"],[1.0,\"#f0f921\"]]}],\"mesh3d\":[{\"type\":\"mesh3d\",\"colorbar\":{\"outlinewidth\":0,\"ticks\":\"\"}}],\"scatter\":[{\"fillpattern\":{\"fillmode\":\"overlay\",\"size\":10,\"solidity\":0.2},\"type\":\"scatter\"}],\"parcoords\":[{\"type\":\"parcoords\",\"line\":{\"colorbar\":{\"outlinewidth\":0,\"ticks\":\"\"}}}],\"scatterpolargl\":[{\"type\":\"scatterpolargl\",\"marker\":{\"colorbar\":{\"outlinewidth\":0,\"ticks\":\"\"}}}],\"bar\":[{\"error_x\":{\"color\":\"#2a3f5f\"},\"error_y\":{\"color\":\"#2a3f5f\"},\"marker\":{\"line\":{\"color\":\"#E5ECF6\",\"width\":0.5},\"pattern\":{\"fillmode\":\"overlay\",\"size\":10,\"solidity\":0.2}},\"type\":\"bar\"}],\"scattergeo\":[{\"type\":\"scattergeo\",\"marker\":{\"colorbar\":{\"outlinewidth\":0,\"ticks\":\"\"}}}],\"scatterpolar\":[{\"type\":\"scatterpolar\",\"marker\":{\"colorbar\":{\"outlinewidth\":0,\"ticks\":\"\"}}}],\"histogram\":[{\"marker\":{\"pattern\":{\"fillmode\":\"overlay\",\"size\":10,\"solidity\":0.2}},\"type\":\"histogram\"}],\"scattergl\":[{\"type\":\"scattergl\",\"marker\":{\"colorbar\":{\"outlinewidth\":0,\"ticks\":\"\"}}}],\"scatter3d\":[{\"type\":\"scatter3d\",\"line\":{\"colorbar\":{\"outlinewidth\":0,\"ticks\":\"\"}},\"marker\":{\"colorbar\":{\"outlinewidth\":0,\"ticks\":\"\"}}}],\"scattermapbox\":[{\"type\":\"scattermapbox\",\"marker\":{\"colorbar\":{\"outlinewidth\":0,\"ticks\":\"\"}}}],\"scatterternary\":[{\"type\":\"scatterternary\",\"marker\":{\"colorbar\":{\"outlinewidth\":0,\"ticks\":\"\"}}}],\"scattercarpet\":[{\"type\":\"scattercarpet\",\"marker\":{\"colorbar\":{\"outlinewidth\":0,\"ticks\":\"\"}}}],\"carpet\":[{\"aaxis\":{\"endlinecolor\":\"#2a3f5f\",\"gridcolor\":\"white\",\"linecolor\":\"white\",\"minorgridcolor\":\"white\",\"startlinecolor\":\"#2a3f5f\"},\"baxis\":{\"endlinecolor\":\"#2a3f5f\",\"gridcolor\":\"white\",\"linecolor\":\"white\",\"minorgridcolor\":\"white\",\"startlinecolor\":\"#2a3f5f\"},\"type\":\"carpet\"}],\"table\":[{\"cells\":{\"fill\":{\"color\":\"#EBF0F8\"},\"line\":{\"color\":\"white\"}},\"header\":{\"fill\":{\"color\":\"#C8D4E3\"},\"line\":{\"color\":\"white\"}},\"type\":\"table\"}],\"barpolar\":[{\"marker\":{\"line\":{\"color\":\"#E5ECF6\",\"width\":0.5},\"pattern\":{\"fillmode\":\"overlay\",\"size\":10,\"solidity\":0.2}},\"type\":\"barpolar\"}],\"pie\":[{\"automargin\":true,\"type\":\"pie\"}]},\"layout\":{\"autotypenumbers\":\"strict\",\"colorway\":[\"#636efa\",\"#EF553B\",\"#00cc96\",\"#ab63fa\",\"#FFA15A\",\"#19d3f3\",\"#FF6692\",\"#B6E880\",\"#FF97FF\",\"#FECB52\"],\"font\":{\"color\":\"#2a3f5f\"},\"hovermode\":\"closest\",\"hoverlabel\":{\"align\":\"left\"},\"paper_bgcolor\":\"white\",\"plot_bgcolor\":\"#E5ECF6\",\"polar\":{\"bgcolor\":\"#E5ECF6\",\"angularaxis\":{\"gridcolor\":\"white\",\"linecolor\":\"white\",\"ticks\":\"\"},\"radialaxis\":{\"gridcolor\":\"white\",\"linecolor\":\"white\",\"ticks\":\"\"}},\"ternary\":{\"bgcolor\":\"#E5ECF6\",\"aaxis\":{\"gridcolor\":\"white\",\"linecolor\":\"white\",\"ticks\":\"\"},\"baxis\":{\"gridcolor\":\"white\",\"linecolor\":\"white\",\"ticks\":\"\"},\"caxis\":{\"gridcolor\":\"white\",\"linecolor\":\"white\",\"ticks\":\"\"}},\"coloraxis\":{\"colorbar\":{\"outlinewidth\":0,\"ticks\":\"\"}},\"colorscale\":{\"sequential\":[[0.0,\"#0d0887\"],[0.1111111111111111,\"#46039f\"],[0.2222222222222222,\"#7201a8\"],[0.3333333333333333,\"#9c179e\"],[0.4444444444444444,\"#bd3786\"],[0.5555555555555556,\"#d8576b\"],[0.6666666666666666,\"#ed7953\"],[0.7777777777777778,\"#fb9f3a\"],[0.8888888888888888,\"#fdca26\"],[1.0,\"#f0f921\"]],\"sequentialminus\":[[0.0,\"#0d0887\"],[0.1111111111111111,\"#46039f\"],[0.2222222222222222,\"#7201a8\"],[0.3333333333333333,\"#9c179e\"],[0.4444444444444444,\"#bd3786\"],[0.5555555555555556,\"#d8576b\"],[0.6666666666666666,\"#ed7953\"],[0.7777777777777778,\"#fb9f3a\"],[0.8888888888888888,\"#fdca26\"],[1.0,\"#f0f921\"]],\"diverging\":[[0,\"#8e0152\"],[0.1,\"#c51b7d\"],[0.2,\"#de77ae\"],[0.3,\"#f1b6da\"],[0.4,\"#fde0ef\"],[0.5,\"#f7f7f7\"],[0.6,\"#e6f5d0\"],[0.7,\"#b8e186\"],[0.8,\"#7fbc41\"],[0.9,\"#4d9221\"],[1,\"#276419\"]]},\"xaxis\":{\"gridcolor\":\"white\",\"linecolor\":\"white\",\"ticks\":\"\",\"title\":{\"standoff\":15},\"zerolinecolor\":\"white\",\"automargin\":true,\"zerolinewidth\":2},\"yaxis\":{\"gridcolor\":\"white\",\"linecolor\":\"white\",\"ticks\":\"\",\"title\":{\"standoff\":15},\"zerolinecolor\":\"white\",\"automargin\":true,\"zerolinewidth\":2},\"scene\":{\"xaxis\":{\"backgroundcolor\":\"#E5ECF6\",\"gridcolor\":\"white\",\"linecolor\":\"white\",\"showbackground\":true,\"ticks\":\"\",\"zerolinecolor\":\"white\",\"gridwidth\":2},\"yaxis\":{\"backgroundcolor\":\"#E5ECF6\",\"gridcolor\":\"white\",\"linecolor\":\"white\",\"showbackground\":true,\"ticks\":\"\",\"zerolinecolor\":\"white\",\"gridwidth\":2},\"zaxis\":{\"backgroundcolor\":\"#E5ECF6\",\"gridcolor\":\"white\",\"linecolor\":\"white\",\"showbackground\":true,\"ticks\":\"\",\"zerolinecolor\":\"white\",\"gridwidth\":2}},\"shapedefaults\":{\"line\":{\"color\":\"#2a3f5f\"}},\"annotationdefaults\":{\"arrowcolor\":\"#2a3f5f\",\"arrowhead\":0,\"arrowwidth\":1},\"geo\":{\"bgcolor\":\"white\",\"landcolor\":\"#E5ECF6\",\"subunitcolor\":\"white\",\"showland\":true,\"showlakes\":true,\"lakecolor\":\"white\"},\"title\":{\"x\":0.05},\"mapbox\":{\"style\":\"light\"}}},\"xaxis\":{\"anchor\":\"y\",\"domain\":[0.0,1.0],\"title\":{\"text\":\"Predictions\"}},\"yaxis\":{\"anchor\":\"x\",\"domain\":[0.0,1.0],\"title\":{\"text\":\"Errors\"}},\"legend\":{\"tracegroupgap\":0},\"margin\":{\"t\":60},\"width\":500,\"height\":500,\"title\":{\"text\":\"Fitted vs Residuals Plot\"}},                        {\"responsive\": true}                    ).then(function(){\n",
       "                            \n",
       "var gd = document.getElementById('300b476d-d2f4-4640-b011-1d6c196af2ab');\n",
       "var x = new MutationObserver(function (mutations, observer) {{\n",
       "        var display = window.getComputedStyle(gd).display;\n",
       "        if (!display || display === 'none') {{\n",
       "            console.log([gd, 'removed!']);\n",
       "            Plotly.purge(gd);\n",
       "            observer.disconnect();\n",
       "        }}\n",
       "}});\n",
       "\n",
       "// Listen for the removal of the full notebook cells\n",
       "var notebookContainer = gd.closest('#notebook-container');\n",
       "if (notebookContainer) {{\n",
       "    x.observe(notebookContainer, {childList: true});\n",
       "}}\n",
       "\n",
       "// Listen for the clearing of the current output cell\n",
       "var outputEl = gd.closest('.output');\n",
       "if (outputEl) {{\n",
       "    x.observe(outputEl, {childList: true});\n",
       "}}\n",
       "\n",
       "                        })                };                });            </script>        </div>"
      ]
     },
     "metadata": {},
     "output_type": "display_data"
    }
   ],
   "source": [
    "# inspect the fitted vs residuals plot\n",
    "fig = px.scatter(x=predictions_lin_reg_1, y=errors)\n",
    "fig.update_layout(width=500, height=500, xaxis_title='Predictions',\n",
    "    yaxis_title='Errors', title=\"Fitted vs Residuals Plot\")\n",
    "fig.update_traces(marker=dict(symbol='x', size=8, color='red'))\n",
    "fig.show()"
   ]
  },
  {
   "cell_type": "markdown",
   "id": "515314b2",
   "metadata": {},
   "source": [
    "Ideally, if the linear regression fits optimally we want the pattern on this plot to be completely random.\n",
    "\n",
    "The code cell below generates a scatterplot showing two randomly associated variables, for comparison.\n",
    "\n",
    "Re-run the cell below a few times and compare it to the \"fitted vs residuals\" plot: **do you think the fitted vs residuals plot looks random?**"
   ]
  },
  {
   "cell_type": "code",
   "execution_count": 47,
   "id": "75961f40",
   "metadata": {},
   "outputs": [
    {
     "data": {
      "application/vnd.plotly.v1+json": {
       "config": {
        "plotlyServerURL": "https://plot.ly"
       },
       "data": [
        {
         "hovertemplate": "x=%{x}<br>y=%{y}<extra></extra>",
         "legendgroup": "",
         "marker": {
          "color": "red",
          "size": 8,
          "symbol": "x"
         },
         "mode": "markers",
         "name": "",
         "orientation": "v",
         "showlegend": false,
         "type": "scatter",
         "x": [
          109.33126426075825,
          95.84390775342865,
          98.82299392933317,
          108.16823104413695,
          108.14367584667409,
          89.88271164098595,
          87.78517015413368,
          98.76593991650584,
          95.79010037148079,
          96.65043850101517,
          96.21763518152571,
          78.08441354242039,
          108.91784322377309,
          98.14479637383903,
          112.80173841594655,
          98.34774655209024,
          103.10922166139724,
          102.60368688597076,
          97.17363675977128,
          109.17353349403002,
          87.40550041246969,
          86.939145914543,
          109.4828025868296,
          120.96537245772097,
          99.60017820107585,
          93.10174162455803,
          117.58571069140768,
          123.51926085367079,
          116.9888921348892,
          111.63391138472933
         ],
         "xaxis": "x",
         "y": [
          99.7519047836103,
          97.43718314930572,
          108.03993612603668,
          86.79199247263254,
          98.94913328993914,
          94.5374419418547,
          93.28344825569522,
          111.12374716523398,
          72.1856381680915,
          97.57790751392473,
          84.24296035422226,
          110.04371045975795,
          106.55603650915755,
          115.50453072621758,
          87.4425570067199,
          92.47537393232537,
          109.43955100949279,
          104.65112309212482,
          95.95965136031234,
          87.8010152190538,
          105.25716915416278,
          109.04303577761715,
          101.25142849460389,
          91.54642215470079,
          102.14225264279987,
          90.29332623463117,
          90.83042262269377,
          113.98424145489435,
          90.19354170202953,
          96.4042311353783
         ],
         "yaxis": "y"
        }
       ],
       "layout": {
        "height": 500,
        "legend": {
         "tracegroupgap": 0
        },
        "margin": {
         "t": 60
        },
        "template": {
         "data": {
          "bar": [
           {
            "error_x": {
             "color": "#2a3f5f"
            },
            "error_y": {
             "color": "#2a3f5f"
            },
            "marker": {
             "line": {
              "color": "#E5ECF6",
              "width": 0.5
             },
             "pattern": {
              "fillmode": "overlay",
              "size": 10,
              "solidity": 0.2
             }
            },
            "type": "bar"
           }
          ],
          "barpolar": [
           {
            "marker": {
             "line": {
              "color": "#E5ECF6",
              "width": 0.5
             },
             "pattern": {
              "fillmode": "overlay",
              "size": 10,
              "solidity": 0.2
             }
            },
            "type": "barpolar"
           }
          ],
          "carpet": [
           {
            "aaxis": {
             "endlinecolor": "#2a3f5f",
             "gridcolor": "white",
             "linecolor": "white",
             "minorgridcolor": "white",
             "startlinecolor": "#2a3f5f"
            },
            "baxis": {
             "endlinecolor": "#2a3f5f",
             "gridcolor": "white",
             "linecolor": "white",
             "minorgridcolor": "white",
             "startlinecolor": "#2a3f5f"
            },
            "type": "carpet"
           }
          ],
          "choropleth": [
           {
            "colorbar": {
             "outlinewidth": 0,
             "ticks": ""
            },
            "type": "choropleth"
           }
          ],
          "contour": [
           {
            "colorbar": {
             "outlinewidth": 0,
             "ticks": ""
            },
            "colorscale": [
             [
              0,
              "#0d0887"
             ],
             [
              0.1111111111111111,
              "#46039f"
             ],
             [
              0.2222222222222222,
              "#7201a8"
             ],
             [
              0.3333333333333333,
              "#9c179e"
             ],
             [
              0.4444444444444444,
              "#bd3786"
             ],
             [
              0.5555555555555556,
              "#d8576b"
             ],
             [
              0.6666666666666666,
              "#ed7953"
             ],
             [
              0.7777777777777778,
              "#fb9f3a"
             ],
             [
              0.8888888888888888,
              "#fdca26"
             ],
             [
              1,
              "#f0f921"
             ]
            ],
            "type": "contour"
           }
          ],
          "contourcarpet": [
           {
            "colorbar": {
             "outlinewidth": 0,
             "ticks": ""
            },
            "type": "contourcarpet"
           }
          ],
          "heatmap": [
           {
            "colorbar": {
             "outlinewidth": 0,
             "ticks": ""
            },
            "colorscale": [
             [
              0,
              "#0d0887"
             ],
             [
              0.1111111111111111,
              "#46039f"
             ],
             [
              0.2222222222222222,
              "#7201a8"
             ],
             [
              0.3333333333333333,
              "#9c179e"
             ],
             [
              0.4444444444444444,
              "#bd3786"
             ],
             [
              0.5555555555555556,
              "#d8576b"
             ],
             [
              0.6666666666666666,
              "#ed7953"
             ],
             [
              0.7777777777777778,
              "#fb9f3a"
             ],
             [
              0.8888888888888888,
              "#fdca26"
             ],
             [
              1,
              "#f0f921"
             ]
            ],
            "type": "heatmap"
           }
          ],
          "heatmapgl": [
           {
            "colorbar": {
             "outlinewidth": 0,
             "ticks": ""
            },
            "colorscale": [
             [
              0,
              "#0d0887"
             ],
             [
              0.1111111111111111,
              "#46039f"
             ],
             [
              0.2222222222222222,
              "#7201a8"
             ],
             [
              0.3333333333333333,
              "#9c179e"
             ],
             [
              0.4444444444444444,
              "#bd3786"
             ],
             [
              0.5555555555555556,
              "#d8576b"
             ],
             [
              0.6666666666666666,
              "#ed7953"
             ],
             [
              0.7777777777777778,
              "#fb9f3a"
             ],
             [
              0.8888888888888888,
              "#fdca26"
             ],
             [
              1,
              "#f0f921"
             ]
            ],
            "type": "heatmapgl"
           }
          ],
          "histogram": [
           {
            "marker": {
             "pattern": {
              "fillmode": "overlay",
              "size": 10,
              "solidity": 0.2
             }
            },
            "type": "histogram"
           }
          ],
          "histogram2d": [
           {
            "colorbar": {
             "outlinewidth": 0,
             "ticks": ""
            },
            "colorscale": [
             [
              0,
              "#0d0887"
             ],
             [
              0.1111111111111111,
              "#46039f"
             ],
             [
              0.2222222222222222,
              "#7201a8"
             ],
             [
              0.3333333333333333,
              "#9c179e"
             ],
             [
              0.4444444444444444,
              "#bd3786"
             ],
             [
              0.5555555555555556,
              "#d8576b"
             ],
             [
              0.6666666666666666,
              "#ed7953"
             ],
             [
              0.7777777777777778,
              "#fb9f3a"
             ],
             [
              0.8888888888888888,
              "#fdca26"
             ],
             [
              1,
              "#f0f921"
             ]
            ],
            "type": "histogram2d"
           }
          ],
          "histogram2dcontour": [
           {
            "colorbar": {
             "outlinewidth": 0,
             "ticks": ""
            },
            "colorscale": [
             [
              0,
              "#0d0887"
             ],
             [
              0.1111111111111111,
              "#46039f"
             ],
             [
              0.2222222222222222,
              "#7201a8"
             ],
             [
              0.3333333333333333,
              "#9c179e"
             ],
             [
              0.4444444444444444,
              "#bd3786"
             ],
             [
              0.5555555555555556,
              "#d8576b"
             ],
             [
              0.6666666666666666,
              "#ed7953"
             ],
             [
              0.7777777777777778,
              "#fb9f3a"
             ],
             [
              0.8888888888888888,
              "#fdca26"
             ],
             [
              1,
              "#f0f921"
             ]
            ],
            "type": "histogram2dcontour"
           }
          ],
          "mesh3d": [
           {
            "colorbar": {
             "outlinewidth": 0,
             "ticks": ""
            },
            "type": "mesh3d"
           }
          ],
          "parcoords": [
           {
            "line": {
             "colorbar": {
              "outlinewidth": 0,
              "ticks": ""
             }
            },
            "type": "parcoords"
           }
          ],
          "pie": [
           {
            "automargin": true,
            "type": "pie"
           }
          ],
          "scatter": [
           {
            "fillpattern": {
             "fillmode": "overlay",
             "size": 10,
             "solidity": 0.2
            },
            "type": "scatter"
           }
          ],
          "scatter3d": [
           {
            "line": {
             "colorbar": {
              "outlinewidth": 0,
              "ticks": ""
             }
            },
            "marker": {
             "colorbar": {
              "outlinewidth": 0,
              "ticks": ""
             }
            },
            "type": "scatter3d"
           }
          ],
          "scattercarpet": [
           {
            "marker": {
             "colorbar": {
              "outlinewidth": 0,
              "ticks": ""
             }
            },
            "type": "scattercarpet"
           }
          ],
          "scattergeo": [
           {
            "marker": {
             "colorbar": {
              "outlinewidth": 0,
              "ticks": ""
             }
            },
            "type": "scattergeo"
           }
          ],
          "scattergl": [
           {
            "marker": {
             "colorbar": {
              "outlinewidth": 0,
              "ticks": ""
             }
            },
            "type": "scattergl"
           }
          ],
          "scattermapbox": [
           {
            "marker": {
             "colorbar": {
              "outlinewidth": 0,
              "ticks": ""
             }
            },
            "type": "scattermapbox"
           }
          ],
          "scatterpolar": [
           {
            "marker": {
             "colorbar": {
              "outlinewidth": 0,
              "ticks": ""
             }
            },
            "type": "scatterpolar"
           }
          ],
          "scatterpolargl": [
           {
            "marker": {
             "colorbar": {
              "outlinewidth": 0,
              "ticks": ""
             }
            },
            "type": "scatterpolargl"
           }
          ],
          "scatterternary": [
           {
            "marker": {
             "colorbar": {
              "outlinewidth": 0,
              "ticks": ""
             }
            },
            "type": "scatterternary"
           }
          ],
          "surface": [
           {
            "colorbar": {
             "outlinewidth": 0,
             "ticks": ""
            },
            "colorscale": [
             [
              0,
              "#0d0887"
             ],
             [
              0.1111111111111111,
              "#46039f"
             ],
             [
              0.2222222222222222,
              "#7201a8"
             ],
             [
              0.3333333333333333,
              "#9c179e"
             ],
             [
              0.4444444444444444,
              "#bd3786"
             ],
             [
              0.5555555555555556,
              "#d8576b"
             ],
             [
              0.6666666666666666,
              "#ed7953"
             ],
             [
              0.7777777777777778,
              "#fb9f3a"
             ],
             [
              0.8888888888888888,
              "#fdca26"
             ],
             [
              1,
              "#f0f921"
             ]
            ],
            "type": "surface"
           }
          ],
          "table": [
           {
            "cells": {
             "fill": {
              "color": "#EBF0F8"
             },
             "line": {
              "color": "white"
             }
            },
            "header": {
             "fill": {
              "color": "#C8D4E3"
             },
             "line": {
              "color": "white"
             }
            },
            "type": "table"
           }
          ]
         },
         "layout": {
          "annotationdefaults": {
           "arrowcolor": "#2a3f5f",
           "arrowhead": 0,
           "arrowwidth": 1
          },
          "autotypenumbers": "strict",
          "coloraxis": {
           "colorbar": {
            "outlinewidth": 0,
            "ticks": ""
           }
          },
          "colorscale": {
           "diverging": [
            [
             0,
             "#8e0152"
            ],
            [
             0.1,
             "#c51b7d"
            ],
            [
             0.2,
             "#de77ae"
            ],
            [
             0.3,
             "#f1b6da"
            ],
            [
             0.4,
             "#fde0ef"
            ],
            [
             0.5,
             "#f7f7f7"
            ],
            [
             0.6,
             "#e6f5d0"
            ],
            [
             0.7,
             "#b8e186"
            ],
            [
             0.8,
             "#7fbc41"
            ],
            [
             0.9,
             "#4d9221"
            ],
            [
             1,
             "#276419"
            ]
           ],
           "sequential": [
            [
             0,
             "#0d0887"
            ],
            [
             0.1111111111111111,
             "#46039f"
            ],
            [
             0.2222222222222222,
             "#7201a8"
            ],
            [
             0.3333333333333333,
             "#9c179e"
            ],
            [
             0.4444444444444444,
             "#bd3786"
            ],
            [
             0.5555555555555556,
             "#d8576b"
            ],
            [
             0.6666666666666666,
             "#ed7953"
            ],
            [
             0.7777777777777778,
             "#fb9f3a"
            ],
            [
             0.8888888888888888,
             "#fdca26"
            ],
            [
             1,
             "#f0f921"
            ]
           ],
           "sequentialminus": [
            [
             0,
             "#0d0887"
            ],
            [
             0.1111111111111111,
             "#46039f"
            ],
            [
             0.2222222222222222,
             "#7201a8"
            ],
            [
             0.3333333333333333,
             "#9c179e"
            ],
            [
             0.4444444444444444,
             "#bd3786"
            ],
            [
             0.5555555555555556,
             "#d8576b"
            ],
            [
             0.6666666666666666,
             "#ed7953"
            ],
            [
             0.7777777777777778,
             "#fb9f3a"
            ],
            [
             0.8888888888888888,
             "#fdca26"
            ],
            [
             1,
             "#f0f921"
            ]
           ]
          },
          "colorway": [
           "#636efa",
           "#EF553B",
           "#00cc96",
           "#ab63fa",
           "#FFA15A",
           "#19d3f3",
           "#FF6692",
           "#B6E880",
           "#FF97FF",
           "#FECB52"
          ],
          "font": {
           "color": "#2a3f5f"
          },
          "geo": {
           "bgcolor": "white",
           "lakecolor": "white",
           "landcolor": "#E5ECF6",
           "showlakes": true,
           "showland": true,
           "subunitcolor": "white"
          },
          "hoverlabel": {
           "align": "left"
          },
          "hovermode": "closest",
          "mapbox": {
           "style": "light"
          },
          "paper_bgcolor": "white",
          "plot_bgcolor": "#E5ECF6",
          "polar": {
           "angularaxis": {
            "gridcolor": "white",
            "linecolor": "white",
            "ticks": ""
           },
           "bgcolor": "#E5ECF6",
           "radialaxis": {
            "gridcolor": "white",
            "linecolor": "white",
            "ticks": ""
           }
          },
          "scene": {
           "xaxis": {
            "backgroundcolor": "#E5ECF6",
            "gridcolor": "white",
            "gridwidth": 2,
            "linecolor": "white",
            "showbackground": true,
            "ticks": "",
            "zerolinecolor": "white"
           },
           "yaxis": {
            "backgroundcolor": "#E5ECF6",
            "gridcolor": "white",
            "gridwidth": 2,
            "linecolor": "white",
            "showbackground": true,
            "ticks": "",
            "zerolinecolor": "white"
           },
           "zaxis": {
            "backgroundcolor": "#E5ECF6",
            "gridcolor": "white",
            "gridwidth": 2,
            "linecolor": "white",
            "showbackground": true,
            "ticks": "",
            "zerolinecolor": "white"
           }
          },
          "shapedefaults": {
           "line": {
            "color": "#2a3f5f"
           }
          },
          "ternary": {
           "aaxis": {
            "gridcolor": "white",
            "linecolor": "white",
            "ticks": ""
           },
           "baxis": {
            "gridcolor": "white",
            "linecolor": "white",
            "ticks": ""
           },
           "bgcolor": "#E5ECF6",
           "caxis": {
            "gridcolor": "white",
            "linecolor": "white",
            "ticks": ""
           }
          },
          "title": {
           "x": 0.05
          },
          "xaxis": {
           "automargin": true,
           "gridcolor": "white",
           "linecolor": "white",
           "ticks": "",
           "title": {
            "standoff": 15
           },
           "zerolinecolor": "white",
           "zerolinewidth": 2
          },
          "yaxis": {
           "automargin": true,
           "gridcolor": "white",
           "linecolor": "white",
           "ticks": "",
           "title": {
            "standoff": 15
           },
           "zerolinecolor": "white",
           "zerolinewidth": 2
          }
         }
        },
        "width": 500,
        "xaxis": {
         "anchor": "y",
         "domain": [
          0,
          1
         ],
         "title": {
          "text": "x"
         }
        },
        "yaxis": {
         "anchor": "x",
         "domain": [
          0,
          1
         ],
         "title": {
          "text": "y"
         }
        }
       }
      },
      "text/html": [
       "<div>                            <div id=\"86bebeda-8ccb-4dc4-ab62-ba838d367358\" class=\"plotly-graph-div\" style=\"height:500px; width:500px;\"></div>            <script type=\"text/javascript\">                require([\"plotly\"], function(Plotly) {                    window.PLOTLYENV=window.PLOTLYENV || {};                                    if (document.getElementById(\"86bebeda-8ccb-4dc4-ab62-ba838d367358\")) {                    Plotly.newPlot(                        \"86bebeda-8ccb-4dc4-ab62-ba838d367358\",                        [{\"hovertemplate\":\"x=%{x}\\u003cbr\\u003ey=%{y}\\u003cextra\\u003e\\u003c\\u002fextra\\u003e\",\"legendgroup\":\"\",\"marker\":{\"color\":\"red\",\"symbol\":\"x\",\"size\":8},\"mode\":\"markers\",\"name\":\"\",\"orientation\":\"v\",\"showlegend\":false,\"x\":[109.33126426075825,95.84390775342865,98.82299392933317,108.16823104413695,108.14367584667409,89.88271164098595,87.78517015413368,98.76593991650584,95.79010037148079,96.65043850101517,96.21763518152571,78.08441354242039,108.91784322377309,98.14479637383903,112.80173841594655,98.34774655209024,103.10922166139724,102.60368688597076,97.17363675977128,109.17353349403002,87.40550041246969,86.939145914543,109.4828025868296,120.96537245772097,99.60017820107585,93.10174162455803,117.58571069140768,123.51926085367079,116.9888921348892,111.63391138472933],\"xaxis\":\"x\",\"y\":[99.7519047836103,97.43718314930572,108.03993612603668,86.79199247263254,98.94913328993914,94.5374419418547,93.28344825569522,111.12374716523398,72.1856381680915,97.57790751392473,84.24296035422226,110.04371045975795,106.55603650915755,115.50453072621758,87.4425570067199,92.47537393232537,109.43955100949279,104.65112309212482,95.95965136031234,87.8010152190538,105.25716915416278,109.04303577761715,101.25142849460389,91.54642215470079,102.14225264279987,90.29332623463117,90.83042262269377,113.98424145489435,90.19354170202953,96.4042311353783],\"yaxis\":\"y\",\"type\":\"scatter\"}],                        {\"template\":{\"data\":{\"histogram2dcontour\":[{\"type\":\"histogram2dcontour\",\"colorbar\":{\"outlinewidth\":0,\"ticks\":\"\"},\"colorscale\":[[0.0,\"#0d0887\"],[0.1111111111111111,\"#46039f\"],[0.2222222222222222,\"#7201a8\"],[0.3333333333333333,\"#9c179e\"],[0.4444444444444444,\"#bd3786\"],[0.5555555555555556,\"#d8576b\"],[0.6666666666666666,\"#ed7953\"],[0.7777777777777778,\"#fb9f3a\"],[0.8888888888888888,\"#fdca26\"],[1.0,\"#f0f921\"]]}],\"choropleth\":[{\"type\":\"choropleth\",\"colorbar\":{\"outlinewidth\":0,\"ticks\":\"\"}}],\"histogram2d\":[{\"type\":\"histogram2d\",\"colorbar\":{\"outlinewidth\":0,\"ticks\":\"\"},\"colorscale\":[[0.0,\"#0d0887\"],[0.1111111111111111,\"#46039f\"],[0.2222222222222222,\"#7201a8\"],[0.3333333333333333,\"#9c179e\"],[0.4444444444444444,\"#bd3786\"],[0.5555555555555556,\"#d8576b\"],[0.6666666666666666,\"#ed7953\"],[0.7777777777777778,\"#fb9f3a\"],[0.8888888888888888,\"#fdca26\"],[1.0,\"#f0f921\"]]}],\"heatmap\":[{\"type\":\"heatmap\",\"colorbar\":{\"outlinewidth\":0,\"ticks\":\"\"},\"colorscale\":[[0.0,\"#0d0887\"],[0.1111111111111111,\"#46039f\"],[0.2222222222222222,\"#7201a8\"],[0.3333333333333333,\"#9c179e\"],[0.4444444444444444,\"#bd3786\"],[0.5555555555555556,\"#d8576b\"],[0.6666666666666666,\"#ed7953\"],[0.7777777777777778,\"#fb9f3a\"],[0.8888888888888888,\"#fdca26\"],[1.0,\"#f0f921\"]]}],\"heatmapgl\":[{\"type\":\"heatmapgl\",\"colorbar\":{\"outlinewidth\":0,\"ticks\":\"\"},\"colorscale\":[[0.0,\"#0d0887\"],[0.1111111111111111,\"#46039f\"],[0.2222222222222222,\"#7201a8\"],[0.3333333333333333,\"#9c179e\"],[0.4444444444444444,\"#bd3786\"],[0.5555555555555556,\"#d8576b\"],[0.6666666666666666,\"#ed7953\"],[0.7777777777777778,\"#fb9f3a\"],[0.8888888888888888,\"#fdca26\"],[1.0,\"#f0f921\"]]}],\"contourcarpet\":[{\"type\":\"contourcarpet\",\"colorbar\":{\"outlinewidth\":0,\"ticks\":\"\"}}],\"contour\":[{\"type\":\"contour\",\"colorbar\":{\"outlinewidth\":0,\"ticks\":\"\"},\"colorscale\":[[0.0,\"#0d0887\"],[0.1111111111111111,\"#46039f\"],[0.2222222222222222,\"#7201a8\"],[0.3333333333333333,\"#9c179e\"],[0.4444444444444444,\"#bd3786\"],[0.5555555555555556,\"#d8576b\"],[0.6666666666666666,\"#ed7953\"],[0.7777777777777778,\"#fb9f3a\"],[0.8888888888888888,\"#fdca26\"],[1.0,\"#f0f921\"]]}],\"surface\":[{\"type\":\"surface\",\"colorbar\":{\"outlinewidth\":0,\"ticks\":\"\"},\"colorscale\":[[0.0,\"#0d0887\"],[0.1111111111111111,\"#46039f\"],[0.2222222222222222,\"#7201a8\"],[0.3333333333333333,\"#9c179e\"],[0.4444444444444444,\"#bd3786\"],[0.5555555555555556,\"#d8576b\"],[0.6666666666666666,\"#ed7953\"],[0.7777777777777778,\"#fb9f3a\"],[0.8888888888888888,\"#fdca26\"],[1.0,\"#f0f921\"]]}],\"mesh3d\":[{\"type\":\"mesh3d\",\"colorbar\":{\"outlinewidth\":0,\"ticks\":\"\"}}],\"scatter\":[{\"fillpattern\":{\"fillmode\":\"overlay\",\"size\":10,\"solidity\":0.2},\"type\":\"scatter\"}],\"parcoords\":[{\"type\":\"parcoords\",\"line\":{\"colorbar\":{\"outlinewidth\":0,\"ticks\":\"\"}}}],\"scatterpolargl\":[{\"type\":\"scatterpolargl\",\"marker\":{\"colorbar\":{\"outlinewidth\":0,\"ticks\":\"\"}}}],\"bar\":[{\"error_x\":{\"color\":\"#2a3f5f\"},\"error_y\":{\"color\":\"#2a3f5f\"},\"marker\":{\"line\":{\"color\":\"#E5ECF6\",\"width\":0.5},\"pattern\":{\"fillmode\":\"overlay\",\"size\":10,\"solidity\":0.2}},\"type\":\"bar\"}],\"scattergeo\":[{\"type\":\"scattergeo\",\"marker\":{\"colorbar\":{\"outlinewidth\":0,\"ticks\":\"\"}}}],\"scatterpolar\":[{\"type\":\"scatterpolar\",\"marker\":{\"colorbar\":{\"outlinewidth\":0,\"ticks\":\"\"}}}],\"histogram\":[{\"marker\":{\"pattern\":{\"fillmode\":\"overlay\",\"size\":10,\"solidity\":0.2}},\"type\":\"histogram\"}],\"scattergl\":[{\"type\":\"scattergl\",\"marker\":{\"colorbar\":{\"outlinewidth\":0,\"ticks\":\"\"}}}],\"scatter3d\":[{\"type\":\"scatter3d\",\"line\":{\"colorbar\":{\"outlinewidth\":0,\"ticks\":\"\"}},\"marker\":{\"colorbar\":{\"outlinewidth\":0,\"ticks\":\"\"}}}],\"scattermapbox\":[{\"type\":\"scattermapbox\",\"marker\":{\"colorbar\":{\"outlinewidth\":0,\"ticks\":\"\"}}}],\"scatterternary\":[{\"type\":\"scatterternary\",\"marker\":{\"colorbar\":{\"outlinewidth\":0,\"ticks\":\"\"}}}],\"scattercarpet\":[{\"type\":\"scattercarpet\",\"marker\":{\"colorbar\":{\"outlinewidth\":0,\"ticks\":\"\"}}}],\"carpet\":[{\"aaxis\":{\"endlinecolor\":\"#2a3f5f\",\"gridcolor\":\"white\",\"linecolor\":\"white\",\"minorgridcolor\":\"white\",\"startlinecolor\":\"#2a3f5f\"},\"baxis\":{\"endlinecolor\":\"#2a3f5f\",\"gridcolor\":\"white\",\"linecolor\":\"white\",\"minorgridcolor\":\"white\",\"startlinecolor\":\"#2a3f5f\"},\"type\":\"carpet\"}],\"table\":[{\"cells\":{\"fill\":{\"color\":\"#EBF0F8\"},\"line\":{\"color\":\"white\"}},\"header\":{\"fill\":{\"color\":\"#C8D4E3\"},\"line\":{\"color\":\"white\"}},\"type\":\"table\"}],\"barpolar\":[{\"marker\":{\"line\":{\"color\":\"#E5ECF6\",\"width\":0.5},\"pattern\":{\"fillmode\":\"overlay\",\"size\":10,\"solidity\":0.2}},\"type\":\"barpolar\"}],\"pie\":[{\"automargin\":true,\"type\":\"pie\"}]},\"layout\":{\"autotypenumbers\":\"strict\",\"colorway\":[\"#636efa\",\"#EF553B\",\"#00cc96\",\"#ab63fa\",\"#FFA15A\",\"#19d3f3\",\"#FF6692\",\"#B6E880\",\"#FF97FF\",\"#FECB52\"],\"font\":{\"color\":\"#2a3f5f\"},\"hovermode\":\"closest\",\"hoverlabel\":{\"align\":\"left\"},\"paper_bgcolor\":\"white\",\"plot_bgcolor\":\"#E5ECF6\",\"polar\":{\"bgcolor\":\"#E5ECF6\",\"angularaxis\":{\"gridcolor\":\"white\",\"linecolor\":\"white\",\"ticks\":\"\"},\"radialaxis\":{\"gridcolor\":\"white\",\"linecolor\":\"white\",\"ticks\":\"\"}},\"ternary\":{\"bgcolor\":\"#E5ECF6\",\"aaxis\":{\"gridcolor\":\"white\",\"linecolor\":\"white\",\"ticks\":\"\"},\"baxis\":{\"gridcolor\":\"white\",\"linecolor\":\"white\",\"ticks\":\"\"},\"caxis\":{\"gridcolor\":\"white\",\"linecolor\":\"white\",\"ticks\":\"\"}},\"coloraxis\":{\"colorbar\":{\"outlinewidth\":0,\"ticks\":\"\"}},\"colorscale\":{\"sequential\":[[0.0,\"#0d0887\"],[0.1111111111111111,\"#46039f\"],[0.2222222222222222,\"#7201a8\"],[0.3333333333333333,\"#9c179e\"],[0.4444444444444444,\"#bd3786\"],[0.5555555555555556,\"#d8576b\"],[0.6666666666666666,\"#ed7953\"],[0.7777777777777778,\"#fb9f3a\"],[0.8888888888888888,\"#fdca26\"],[1.0,\"#f0f921\"]],\"sequentialminus\":[[0.0,\"#0d0887\"],[0.1111111111111111,\"#46039f\"],[0.2222222222222222,\"#7201a8\"],[0.3333333333333333,\"#9c179e\"],[0.4444444444444444,\"#bd3786\"],[0.5555555555555556,\"#d8576b\"],[0.6666666666666666,\"#ed7953\"],[0.7777777777777778,\"#fb9f3a\"],[0.8888888888888888,\"#fdca26\"],[1.0,\"#f0f921\"]],\"diverging\":[[0,\"#8e0152\"],[0.1,\"#c51b7d\"],[0.2,\"#de77ae\"],[0.3,\"#f1b6da\"],[0.4,\"#fde0ef\"],[0.5,\"#f7f7f7\"],[0.6,\"#e6f5d0\"],[0.7,\"#b8e186\"],[0.8,\"#7fbc41\"],[0.9,\"#4d9221\"],[1,\"#276419\"]]},\"xaxis\":{\"gridcolor\":\"white\",\"linecolor\":\"white\",\"ticks\":\"\",\"title\":{\"standoff\":15},\"zerolinecolor\":\"white\",\"automargin\":true,\"zerolinewidth\":2},\"yaxis\":{\"gridcolor\":\"white\",\"linecolor\":\"white\",\"ticks\":\"\",\"title\":{\"standoff\":15},\"zerolinecolor\":\"white\",\"automargin\":true,\"zerolinewidth\":2},\"scene\":{\"xaxis\":{\"backgroundcolor\":\"#E5ECF6\",\"gridcolor\":\"white\",\"linecolor\":\"white\",\"showbackground\":true,\"ticks\":\"\",\"zerolinecolor\":\"white\",\"gridwidth\":2},\"yaxis\":{\"backgroundcolor\":\"#E5ECF6\",\"gridcolor\":\"white\",\"linecolor\":\"white\",\"showbackground\":true,\"ticks\":\"\",\"zerolinecolor\":\"white\",\"gridwidth\":2},\"zaxis\":{\"backgroundcolor\":\"#E5ECF6\",\"gridcolor\":\"white\",\"linecolor\":\"white\",\"showbackground\":true,\"ticks\":\"\",\"zerolinecolor\":\"white\",\"gridwidth\":2}},\"shapedefaults\":{\"line\":{\"color\":\"#2a3f5f\"}},\"annotationdefaults\":{\"arrowcolor\":\"#2a3f5f\",\"arrowhead\":0,\"arrowwidth\":1},\"geo\":{\"bgcolor\":\"white\",\"landcolor\":\"#E5ECF6\",\"subunitcolor\":\"white\",\"showland\":true,\"showlakes\":true,\"lakecolor\":\"white\"},\"title\":{\"x\":0.05},\"mapbox\":{\"style\":\"light\"}}},\"xaxis\":{\"anchor\":\"y\",\"domain\":[0.0,1.0],\"title\":{\"text\":\"x\"}},\"yaxis\":{\"anchor\":\"x\",\"domain\":[0.0,1.0],\"title\":{\"text\":\"y\"}},\"legend\":{\"tracegroupgap\":0},\"margin\":{\"t\":60},\"width\":500,\"height\":500},                        {\"responsive\": true}                    ).then(function(){\n",
       "                            \n",
       "var gd = document.getElementById('86bebeda-8ccb-4dc4-ab62-ba838d367358');\n",
       "var x = new MutationObserver(function (mutations, observer) {{\n",
       "        var display = window.getComputedStyle(gd).display;\n",
       "        if (!display || display === 'none') {{\n",
       "            console.log([gd, 'removed!']);\n",
       "            Plotly.purge(gd);\n",
       "            observer.disconnect();\n",
       "        }}\n",
       "}});\n",
       "\n",
       "// Listen for the removal of the full notebook cells\n",
       "var notebookContainer = gd.closest('#notebook-container');\n",
       "if (notebookContainer) {{\n",
       "    x.observe(notebookContainer, {childList: true});\n",
       "}}\n",
       "\n",
       "// Listen for the clearing of the current output cell\n",
       "var outputEl = gd.closest('.output');\n",
       "if (outputEl) {{\n",
       "    x.observe(outputEl, {childList: true});\n",
       "}}\n",
       "\n",
       "                        })                };                });            </script>        </div>"
      ]
     },
     "metadata": {},
     "output_type": "display_data"
    }
   ],
   "source": [
    "# generate a randomly associated bivariate scatterplot, for comparison\n",
    "fig = px.scatter(x=np.random.normal(100, 10, 30), y=np.random.normal(100, 10, 30))\n",
    "fig.update_layout(width=500, height=500)\n",
    "fig.update_traces(marker=dict(symbol='x', size=8, color='red'))"
   ]
  },
  {
   "cell_type": "markdown",
   "id": "3bb3edfd",
   "metadata": {},
   "source": [
    "Let's make the trend in the fitted vs residuals plot a bit easier to see.\n",
    "We can do this using the `trendline='lowess'` argument in the `px.scatter()` function.\n",
    "\n",
    "This adds a trendline via flexible, nonparametric method, and can be very useful for quickly inspecting relationships:"
   ]
  },
  {
   "cell_type": "code",
   "execution_count": 48,
   "id": "2a5b0827",
   "metadata": {},
   "outputs": [
    {
     "data": {
      "application/vnd.plotly.v1+json": {
       "config": {
        "plotlyServerURL": "https://plot.ly"
       },
       "data": [
        {
         "hovertemplate": "x=%{x}<br>y=%{y}<extra></extra>",
         "legendgroup": "",
         "marker": {
          "color": "red",
          "size": 8,
          "symbol": "x"
         },
         "mode": "markers",
         "name": "",
         "orientation": "v",
         "showlegend": false,
         "type": "scatter",
         "x": [
          22.73423088955156,
          24.47797874184782,
          23.40490314043474,
          24.07557539131792,
          23.94144094114128,
          20.722214136902032,
          14.015491628070261,
          28.099608896616978,
          13.344819377187083,
          26.08759214396745,
          19.380869635135678,
          25.014516542554365,
          25.014516542554365,
          25.953457693790813,
          11.332802624537553,
          16.69818063160297,
          27.563071095910438,
          24.746247642201094,
          25.41691989308427,
          27.428936645733803,
          24.746247642201094,
          25.014516542554365,
          26.89239884502726,
          27.16066774538053,
          8.650113621004845,
          24.34384429167119,
          25.41691989308427,
          16.69818063160297,
          28.099608896616978,
          26.62412994467399
         ],
         "xaxis": "x",
         "y": [
          3.86576911044844,
          -0.47797874184782074,
          -8.40490314043474,
          -5.075575391317919,
          1.5585590588587195,
          -2.6222141369020306,
          1.4845083719297385,
          3.900391103383022,
          0.6551806228129173,
          1.31240785603255,
          -1.380869635135678,
          -4.814516542554365,
          -6.0145165425543645,
          -0.9534576937908135,
          4.167197375462447,
          -0.6981806316029697,
          -1.5630710959104377,
          -4.546247642201095,
          12.58308010691573,
          4.571063354266197,
          -6.746247642201094,
          0.0854834574456369,
          4.707601154972743,
          5.23933225461947,
          2.349886378995155,
          1.6561557083288108,
          -6.41691989308427,
          -2.6981806316029697,
          8.900391103383022,
          -4.624129944673989
         ],
         "yaxis": "y"
        },
        {
         "hovertemplate": "<b>LOWESS trendline</b><br><br>x=%{x}<br>y=%{y} <b>(trend)</b><extra></extra>",
         "legendgroup": "",
         "marker": {
          "color": "red",
          "size": 8,
          "symbol": "x"
         },
         "mode": "lines",
         "name": "",
         "showlegend": false,
         "type": "scatter",
         "x": [
          8.650113621004845,
          11.332802624537553,
          13.344819377187083,
          14.015491628070261,
          16.69818063160297,
          16.69818063160297,
          19.380869635135678,
          20.722214136902032,
          22.73423088955156,
          23.40490314043474,
          23.94144094114128,
          24.07557539131792,
          24.34384429167119,
          24.47797874184782,
          24.746247642201094,
          24.746247642201094,
          25.014516542554365,
          25.014516542554365,
          25.014516542554365,
          25.41691989308427,
          25.41691989308427,
          25.953457693790813,
          26.08759214396745,
          26.62412994467399,
          26.89239884502726,
          27.16066774538053,
          27.428936645733803,
          27.563071095910438,
          28.099608896616978,
          28.099608896616978
         ],
         "xaxis": "x",
         "y": [
          3.452984617702122,
          2.0901502805501098,
          1.117850402487705,
          0.8076326603174943,
          -0.4800803493896424,
          -0.4800803493896424,
          -1.5909360182544603,
          -1.679497906938595,
          -1.8277729910890659,
          -1.7956579308318485,
          -2.0384438089577435,
          -2.2719256796311336,
          -2.544149928489258,
          -2.652931050694871,
          -2.772047644315598,
          -2.772047644315598,
          -2.687987743111454,
          -2.687987743111454,
          -2.687987743111454,
          -2.278324698175779,
          -2.278324698175779,
          -0.9756841114232413,
          -0.6765430806948101,
          0.9871541782660405,
          1.8528524450776356,
          2.7293293460227614,
          3.611023055924834,
          4.051298618470133,
          5.801487093961322,
          5.801487093961322
         ],
         "yaxis": "y"
        }
       ],
       "layout": {
        "height": 500,
        "legend": {
         "tracegroupgap": 0
        },
        "margin": {
         "t": 60
        },
        "template": {
         "data": {
          "bar": [
           {
            "error_x": {
             "color": "#2a3f5f"
            },
            "error_y": {
             "color": "#2a3f5f"
            },
            "marker": {
             "line": {
              "color": "#E5ECF6",
              "width": 0.5
             },
             "pattern": {
              "fillmode": "overlay",
              "size": 10,
              "solidity": 0.2
             }
            },
            "type": "bar"
           }
          ],
          "barpolar": [
           {
            "marker": {
             "line": {
              "color": "#E5ECF6",
              "width": 0.5
             },
             "pattern": {
              "fillmode": "overlay",
              "size": 10,
              "solidity": 0.2
             }
            },
            "type": "barpolar"
           }
          ],
          "carpet": [
           {
            "aaxis": {
             "endlinecolor": "#2a3f5f",
             "gridcolor": "white",
             "linecolor": "white",
             "minorgridcolor": "white",
             "startlinecolor": "#2a3f5f"
            },
            "baxis": {
             "endlinecolor": "#2a3f5f",
             "gridcolor": "white",
             "linecolor": "white",
             "minorgridcolor": "white",
             "startlinecolor": "#2a3f5f"
            },
            "type": "carpet"
           }
          ],
          "choropleth": [
           {
            "colorbar": {
             "outlinewidth": 0,
             "ticks": ""
            },
            "type": "choropleth"
           }
          ],
          "contour": [
           {
            "colorbar": {
             "outlinewidth": 0,
             "ticks": ""
            },
            "colorscale": [
             [
              0,
              "#0d0887"
             ],
             [
              0.1111111111111111,
              "#46039f"
             ],
             [
              0.2222222222222222,
              "#7201a8"
             ],
             [
              0.3333333333333333,
              "#9c179e"
             ],
             [
              0.4444444444444444,
              "#bd3786"
             ],
             [
              0.5555555555555556,
              "#d8576b"
             ],
             [
              0.6666666666666666,
              "#ed7953"
             ],
             [
              0.7777777777777778,
              "#fb9f3a"
             ],
             [
              0.8888888888888888,
              "#fdca26"
             ],
             [
              1,
              "#f0f921"
             ]
            ],
            "type": "contour"
           }
          ],
          "contourcarpet": [
           {
            "colorbar": {
             "outlinewidth": 0,
             "ticks": ""
            },
            "type": "contourcarpet"
           }
          ],
          "heatmap": [
           {
            "colorbar": {
             "outlinewidth": 0,
             "ticks": ""
            },
            "colorscale": [
             [
              0,
              "#0d0887"
             ],
             [
              0.1111111111111111,
              "#46039f"
             ],
             [
              0.2222222222222222,
              "#7201a8"
             ],
             [
              0.3333333333333333,
              "#9c179e"
             ],
             [
              0.4444444444444444,
              "#bd3786"
             ],
             [
              0.5555555555555556,
              "#d8576b"
             ],
             [
              0.6666666666666666,
              "#ed7953"
             ],
             [
              0.7777777777777778,
              "#fb9f3a"
             ],
             [
              0.8888888888888888,
              "#fdca26"
             ],
             [
              1,
              "#f0f921"
             ]
            ],
            "type": "heatmap"
           }
          ],
          "heatmapgl": [
           {
            "colorbar": {
             "outlinewidth": 0,
             "ticks": ""
            },
            "colorscale": [
             [
              0,
              "#0d0887"
             ],
             [
              0.1111111111111111,
              "#46039f"
             ],
             [
              0.2222222222222222,
              "#7201a8"
             ],
             [
              0.3333333333333333,
              "#9c179e"
             ],
             [
              0.4444444444444444,
              "#bd3786"
             ],
             [
              0.5555555555555556,
              "#d8576b"
             ],
             [
              0.6666666666666666,
              "#ed7953"
             ],
             [
              0.7777777777777778,
              "#fb9f3a"
             ],
             [
              0.8888888888888888,
              "#fdca26"
             ],
             [
              1,
              "#f0f921"
             ]
            ],
            "type": "heatmapgl"
           }
          ],
          "histogram": [
           {
            "marker": {
             "pattern": {
              "fillmode": "overlay",
              "size": 10,
              "solidity": 0.2
             }
            },
            "type": "histogram"
           }
          ],
          "histogram2d": [
           {
            "colorbar": {
             "outlinewidth": 0,
             "ticks": ""
            },
            "colorscale": [
             [
              0,
              "#0d0887"
             ],
             [
              0.1111111111111111,
              "#46039f"
             ],
             [
              0.2222222222222222,
              "#7201a8"
             ],
             [
              0.3333333333333333,
              "#9c179e"
             ],
             [
              0.4444444444444444,
              "#bd3786"
             ],
             [
              0.5555555555555556,
              "#d8576b"
             ],
             [
              0.6666666666666666,
              "#ed7953"
             ],
             [
              0.7777777777777778,
              "#fb9f3a"
             ],
             [
              0.8888888888888888,
              "#fdca26"
             ],
             [
              1,
              "#f0f921"
             ]
            ],
            "type": "histogram2d"
           }
          ],
          "histogram2dcontour": [
           {
            "colorbar": {
             "outlinewidth": 0,
             "ticks": ""
            },
            "colorscale": [
             [
              0,
              "#0d0887"
             ],
             [
              0.1111111111111111,
              "#46039f"
             ],
             [
              0.2222222222222222,
              "#7201a8"
             ],
             [
              0.3333333333333333,
              "#9c179e"
             ],
             [
              0.4444444444444444,
              "#bd3786"
             ],
             [
              0.5555555555555556,
              "#d8576b"
             ],
             [
              0.6666666666666666,
              "#ed7953"
             ],
             [
              0.7777777777777778,
              "#fb9f3a"
             ],
             [
              0.8888888888888888,
              "#fdca26"
             ],
             [
              1,
              "#f0f921"
             ]
            ],
            "type": "histogram2dcontour"
           }
          ],
          "mesh3d": [
           {
            "colorbar": {
             "outlinewidth": 0,
             "ticks": ""
            },
            "type": "mesh3d"
           }
          ],
          "parcoords": [
           {
            "line": {
             "colorbar": {
              "outlinewidth": 0,
              "ticks": ""
             }
            },
            "type": "parcoords"
           }
          ],
          "pie": [
           {
            "automargin": true,
            "type": "pie"
           }
          ],
          "scatter": [
           {
            "fillpattern": {
             "fillmode": "overlay",
             "size": 10,
             "solidity": 0.2
            },
            "type": "scatter"
           }
          ],
          "scatter3d": [
           {
            "line": {
             "colorbar": {
              "outlinewidth": 0,
              "ticks": ""
             }
            },
            "marker": {
             "colorbar": {
              "outlinewidth": 0,
              "ticks": ""
             }
            },
            "type": "scatter3d"
           }
          ],
          "scattercarpet": [
           {
            "marker": {
             "colorbar": {
              "outlinewidth": 0,
              "ticks": ""
             }
            },
            "type": "scattercarpet"
           }
          ],
          "scattergeo": [
           {
            "marker": {
             "colorbar": {
              "outlinewidth": 0,
              "ticks": ""
             }
            },
            "type": "scattergeo"
           }
          ],
          "scattergl": [
           {
            "marker": {
             "colorbar": {
              "outlinewidth": 0,
              "ticks": ""
             }
            },
            "type": "scattergl"
           }
          ],
          "scattermapbox": [
           {
            "marker": {
             "colorbar": {
              "outlinewidth": 0,
              "ticks": ""
             }
            },
            "type": "scattermapbox"
           }
          ],
          "scatterpolar": [
           {
            "marker": {
             "colorbar": {
              "outlinewidth": 0,
              "ticks": ""
             }
            },
            "type": "scatterpolar"
           }
          ],
          "scatterpolargl": [
           {
            "marker": {
             "colorbar": {
              "outlinewidth": 0,
              "ticks": ""
             }
            },
            "type": "scatterpolargl"
           }
          ],
          "scatterternary": [
           {
            "marker": {
             "colorbar": {
              "outlinewidth": 0,
              "ticks": ""
             }
            },
            "type": "scatterternary"
           }
          ],
          "surface": [
           {
            "colorbar": {
             "outlinewidth": 0,
             "ticks": ""
            },
            "colorscale": [
             [
              0,
              "#0d0887"
             ],
             [
              0.1111111111111111,
              "#46039f"
             ],
             [
              0.2222222222222222,
              "#7201a8"
             ],
             [
              0.3333333333333333,
              "#9c179e"
             ],
             [
              0.4444444444444444,
              "#bd3786"
             ],
             [
              0.5555555555555556,
              "#d8576b"
             ],
             [
              0.6666666666666666,
              "#ed7953"
             ],
             [
              0.7777777777777778,
              "#fb9f3a"
             ],
             [
              0.8888888888888888,
              "#fdca26"
             ],
             [
              1,
              "#f0f921"
             ]
            ],
            "type": "surface"
           }
          ],
          "table": [
           {
            "cells": {
             "fill": {
              "color": "#EBF0F8"
             },
             "line": {
              "color": "white"
             }
            },
            "header": {
             "fill": {
              "color": "#C8D4E3"
             },
             "line": {
              "color": "white"
             }
            },
            "type": "table"
           }
          ]
         },
         "layout": {
          "annotationdefaults": {
           "arrowcolor": "#2a3f5f",
           "arrowhead": 0,
           "arrowwidth": 1
          },
          "autotypenumbers": "strict",
          "coloraxis": {
           "colorbar": {
            "outlinewidth": 0,
            "ticks": ""
           }
          },
          "colorscale": {
           "diverging": [
            [
             0,
             "#8e0152"
            ],
            [
             0.1,
             "#c51b7d"
            ],
            [
             0.2,
             "#de77ae"
            ],
            [
             0.3,
             "#f1b6da"
            ],
            [
             0.4,
             "#fde0ef"
            ],
            [
             0.5,
             "#f7f7f7"
            ],
            [
             0.6,
             "#e6f5d0"
            ],
            [
             0.7,
             "#b8e186"
            ],
            [
             0.8,
             "#7fbc41"
            ],
            [
             0.9,
             "#4d9221"
            ],
            [
             1,
             "#276419"
            ]
           ],
           "sequential": [
            [
             0,
             "#0d0887"
            ],
            [
             0.1111111111111111,
             "#46039f"
            ],
            [
             0.2222222222222222,
             "#7201a8"
            ],
            [
             0.3333333333333333,
             "#9c179e"
            ],
            [
             0.4444444444444444,
             "#bd3786"
            ],
            [
             0.5555555555555556,
             "#d8576b"
            ],
            [
             0.6666666666666666,
             "#ed7953"
            ],
            [
             0.7777777777777778,
             "#fb9f3a"
            ],
            [
             0.8888888888888888,
             "#fdca26"
            ],
            [
             1,
             "#f0f921"
            ]
           ],
           "sequentialminus": [
            [
             0,
             "#0d0887"
            ],
            [
             0.1111111111111111,
             "#46039f"
            ],
            [
             0.2222222222222222,
             "#7201a8"
            ],
            [
             0.3333333333333333,
             "#9c179e"
            ],
            [
             0.4444444444444444,
             "#bd3786"
            ],
            [
             0.5555555555555556,
             "#d8576b"
            ],
            [
             0.6666666666666666,
             "#ed7953"
            ],
            [
             0.7777777777777778,
             "#fb9f3a"
            ],
            [
             0.8888888888888888,
             "#fdca26"
            ],
            [
             1,
             "#f0f921"
            ]
           ]
          },
          "colorway": [
           "#636efa",
           "#EF553B",
           "#00cc96",
           "#ab63fa",
           "#FFA15A",
           "#19d3f3",
           "#FF6692",
           "#B6E880",
           "#FF97FF",
           "#FECB52"
          ],
          "font": {
           "color": "#2a3f5f"
          },
          "geo": {
           "bgcolor": "white",
           "lakecolor": "white",
           "landcolor": "#E5ECF6",
           "showlakes": true,
           "showland": true,
           "subunitcolor": "white"
          },
          "hoverlabel": {
           "align": "left"
          },
          "hovermode": "closest",
          "mapbox": {
           "style": "light"
          },
          "paper_bgcolor": "white",
          "plot_bgcolor": "#E5ECF6",
          "polar": {
           "angularaxis": {
            "gridcolor": "white",
            "linecolor": "white",
            "ticks": ""
           },
           "bgcolor": "#E5ECF6",
           "radialaxis": {
            "gridcolor": "white",
            "linecolor": "white",
            "ticks": ""
           }
          },
          "scene": {
           "xaxis": {
            "backgroundcolor": "#E5ECF6",
            "gridcolor": "white",
            "gridwidth": 2,
            "linecolor": "white",
            "showbackground": true,
            "ticks": "",
            "zerolinecolor": "white"
           },
           "yaxis": {
            "backgroundcolor": "#E5ECF6",
            "gridcolor": "white",
            "gridwidth": 2,
            "linecolor": "white",
            "showbackground": true,
            "ticks": "",
            "zerolinecolor": "white"
           },
           "zaxis": {
            "backgroundcolor": "#E5ECF6",
            "gridcolor": "white",
            "gridwidth": 2,
            "linecolor": "white",
            "showbackground": true,
            "ticks": "",
            "zerolinecolor": "white"
           }
          },
          "shapedefaults": {
           "line": {
            "color": "#2a3f5f"
           }
          },
          "ternary": {
           "aaxis": {
            "gridcolor": "white",
            "linecolor": "white",
            "ticks": ""
           },
           "baxis": {
            "gridcolor": "white",
            "linecolor": "white",
            "ticks": ""
           },
           "bgcolor": "#E5ECF6",
           "caxis": {
            "gridcolor": "white",
            "linecolor": "white",
            "ticks": ""
           }
          },
          "title": {
           "x": 0.05
          },
          "xaxis": {
           "automargin": true,
           "gridcolor": "white",
           "linecolor": "white",
           "ticks": "",
           "title": {
            "standoff": 15
           },
           "zerolinecolor": "white",
           "zerolinewidth": 2
          },
          "yaxis": {
           "automargin": true,
           "gridcolor": "white",
           "linecolor": "white",
           "ticks": "",
           "title": {
            "standoff": 15
           },
           "zerolinecolor": "white",
           "zerolinewidth": 2
          }
         }
        },
        "title": {
         "text": "Fitted vs Residuals Plot (with trendline)"
        },
        "width": 500,
        "xaxis": {
         "anchor": "y",
         "domain": [
          0,
          1
         ],
         "title": {
          "text": "Predictions"
         }
        },
        "yaxis": {
         "anchor": "x",
         "domain": [
          0,
          1
         ],
         "title": {
          "text": "Errors"
         }
        }
       }
      },
      "text/html": [
       "<div>                            <div id=\"e25f5f80-4a1a-4717-b8e3-90f10c0b5c63\" class=\"plotly-graph-div\" style=\"height:500px; width:500px;\"></div>            <script type=\"text/javascript\">                require([\"plotly\"], function(Plotly) {                    window.PLOTLYENV=window.PLOTLYENV || {};                                    if (document.getElementById(\"e25f5f80-4a1a-4717-b8e3-90f10c0b5c63\")) {                    Plotly.newPlot(                        \"e25f5f80-4a1a-4717-b8e3-90f10c0b5c63\",                        [{\"hovertemplate\":\"x=%{x}\\u003cbr\\u003ey=%{y}\\u003cextra\\u003e\\u003c\\u002fextra\\u003e\",\"legendgroup\":\"\",\"marker\":{\"color\":\"red\",\"symbol\":\"x\",\"size\":8},\"mode\":\"markers\",\"name\":\"\",\"orientation\":\"v\",\"showlegend\":false,\"x\":[22.73423088955156,24.47797874184782,23.40490314043474,24.07557539131792,23.94144094114128,20.722214136902032,14.015491628070261,28.099608896616978,13.344819377187083,26.08759214396745,19.380869635135678,25.014516542554365,25.014516542554365,25.953457693790813,11.332802624537553,16.69818063160297,27.563071095910438,24.746247642201094,25.41691989308427,27.428936645733803,24.746247642201094,25.014516542554365,26.89239884502726,27.16066774538053,8.650113621004845,24.34384429167119,25.41691989308427,16.69818063160297,28.099608896616978,26.62412994467399],\"xaxis\":\"x\",\"y\":[3.86576911044844,-0.47797874184782074,-8.40490314043474,-5.075575391317919,1.5585590588587195,-2.6222141369020306,1.4845083719297385,3.900391103383022,0.6551806228129173,1.31240785603255,-1.380869635135678,-4.814516542554365,-6.0145165425543645,-0.9534576937908135,4.167197375462447,-0.6981806316029697,-1.5630710959104377,-4.546247642201095,12.58308010691573,4.571063354266197,-6.746247642201094,0.0854834574456369,4.707601154972743,5.23933225461947,2.349886378995155,1.6561557083288108,-6.41691989308427,-2.6981806316029697,8.900391103383022,-4.624129944673989],\"yaxis\":\"y\",\"type\":\"scatter\"},{\"hovertemplate\":\"\\u003cb\\u003eLOWESS trendline\\u003c\\u002fb\\u003e\\u003cbr\\u003e\\u003cbr\\u003ex=%{x}\\u003cbr\\u003ey=%{y} \\u003cb\\u003e(trend)\\u003c\\u002fb\\u003e\\u003cextra\\u003e\\u003c\\u002fextra\\u003e\",\"legendgroup\":\"\",\"marker\":{\"color\":\"red\",\"symbol\":\"x\",\"size\":8},\"mode\":\"lines\",\"name\":\"\",\"showlegend\":false,\"x\":[8.650113621004845,11.332802624537553,13.344819377187083,14.015491628070261,16.69818063160297,16.69818063160297,19.380869635135678,20.722214136902032,22.73423088955156,23.40490314043474,23.94144094114128,24.07557539131792,24.34384429167119,24.47797874184782,24.746247642201094,24.746247642201094,25.014516542554365,25.014516542554365,25.014516542554365,25.41691989308427,25.41691989308427,25.953457693790813,26.08759214396745,26.62412994467399,26.89239884502726,27.16066774538053,27.428936645733803,27.563071095910438,28.099608896616978,28.099608896616978],\"xaxis\":\"x\",\"y\":[3.452984617702122,2.0901502805501098,1.117850402487705,0.8076326603174943,-0.4800803493896424,-0.4800803493896424,-1.5909360182544603,-1.679497906938595,-1.8277729910890659,-1.7956579308318485,-2.0384438089577435,-2.2719256796311336,-2.544149928489258,-2.652931050694871,-2.772047644315598,-2.772047644315598,-2.687987743111454,-2.687987743111454,-2.687987743111454,-2.278324698175779,-2.278324698175779,-0.9756841114232413,-0.6765430806948101,0.9871541782660405,1.8528524450776356,2.7293293460227614,3.611023055924834,4.051298618470133,5.801487093961322,5.801487093961322],\"yaxis\":\"y\",\"type\":\"scatter\"}],                        {\"template\":{\"data\":{\"histogram2dcontour\":[{\"type\":\"histogram2dcontour\",\"colorbar\":{\"outlinewidth\":0,\"ticks\":\"\"},\"colorscale\":[[0.0,\"#0d0887\"],[0.1111111111111111,\"#46039f\"],[0.2222222222222222,\"#7201a8\"],[0.3333333333333333,\"#9c179e\"],[0.4444444444444444,\"#bd3786\"],[0.5555555555555556,\"#d8576b\"],[0.6666666666666666,\"#ed7953\"],[0.7777777777777778,\"#fb9f3a\"],[0.8888888888888888,\"#fdca26\"],[1.0,\"#f0f921\"]]}],\"choropleth\":[{\"type\":\"choropleth\",\"colorbar\":{\"outlinewidth\":0,\"ticks\":\"\"}}],\"histogram2d\":[{\"type\":\"histogram2d\",\"colorbar\":{\"outlinewidth\":0,\"ticks\":\"\"},\"colorscale\":[[0.0,\"#0d0887\"],[0.1111111111111111,\"#46039f\"],[0.2222222222222222,\"#7201a8\"],[0.3333333333333333,\"#9c179e\"],[0.4444444444444444,\"#bd3786\"],[0.5555555555555556,\"#d8576b\"],[0.6666666666666666,\"#ed7953\"],[0.7777777777777778,\"#fb9f3a\"],[0.8888888888888888,\"#fdca26\"],[1.0,\"#f0f921\"]]}],\"heatmap\":[{\"type\":\"heatmap\",\"colorbar\":{\"outlinewidth\":0,\"ticks\":\"\"},\"colorscale\":[[0.0,\"#0d0887\"],[0.1111111111111111,\"#46039f\"],[0.2222222222222222,\"#7201a8\"],[0.3333333333333333,\"#9c179e\"],[0.4444444444444444,\"#bd3786\"],[0.5555555555555556,\"#d8576b\"],[0.6666666666666666,\"#ed7953\"],[0.7777777777777778,\"#fb9f3a\"],[0.8888888888888888,\"#fdca26\"],[1.0,\"#f0f921\"]]}],\"heatmapgl\":[{\"type\":\"heatmapgl\",\"colorbar\":{\"outlinewidth\":0,\"ticks\":\"\"},\"colorscale\":[[0.0,\"#0d0887\"],[0.1111111111111111,\"#46039f\"],[0.2222222222222222,\"#7201a8\"],[0.3333333333333333,\"#9c179e\"],[0.4444444444444444,\"#bd3786\"],[0.5555555555555556,\"#d8576b\"],[0.6666666666666666,\"#ed7953\"],[0.7777777777777778,\"#fb9f3a\"],[0.8888888888888888,\"#fdca26\"],[1.0,\"#f0f921\"]]}],\"contourcarpet\":[{\"type\":\"contourcarpet\",\"colorbar\":{\"outlinewidth\":0,\"ticks\":\"\"}}],\"contour\":[{\"type\":\"contour\",\"colorbar\":{\"outlinewidth\":0,\"ticks\":\"\"},\"colorscale\":[[0.0,\"#0d0887\"],[0.1111111111111111,\"#46039f\"],[0.2222222222222222,\"#7201a8\"],[0.3333333333333333,\"#9c179e\"],[0.4444444444444444,\"#bd3786\"],[0.5555555555555556,\"#d8576b\"],[0.6666666666666666,\"#ed7953\"],[0.7777777777777778,\"#fb9f3a\"],[0.8888888888888888,\"#fdca26\"],[1.0,\"#f0f921\"]]}],\"surface\":[{\"type\":\"surface\",\"colorbar\":{\"outlinewidth\":0,\"ticks\":\"\"},\"colorscale\":[[0.0,\"#0d0887\"],[0.1111111111111111,\"#46039f\"],[0.2222222222222222,\"#7201a8\"],[0.3333333333333333,\"#9c179e\"],[0.4444444444444444,\"#bd3786\"],[0.5555555555555556,\"#d8576b\"],[0.6666666666666666,\"#ed7953\"],[0.7777777777777778,\"#fb9f3a\"],[0.8888888888888888,\"#fdca26\"],[1.0,\"#f0f921\"]]}],\"mesh3d\":[{\"type\":\"mesh3d\",\"colorbar\":{\"outlinewidth\":0,\"ticks\":\"\"}}],\"scatter\":[{\"fillpattern\":{\"fillmode\":\"overlay\",\"size\":10,\"solidity\":0.2},\"type\":\"scatter\"}],\"parcoords\":[{\"type\":\"parcoords\",\"line\":{\"colorbar\":{\"outlinewidth\":0,\"ticks\":\"\"}}}],\"scatterpolargl\":[{\"type\":\"scatterpolargl\",\"marker\":{\"colorbar\":{\"outlinewidth\":0,\"ticks\":\"\"}}}],\"bar\":[{\"error_x\":{\"color\":\"#2a3f5f\"},\"error_y\":{\"color\":\"#2a3f5f\"},\"marker\":{\"line\":{\"color\":\"#E5ECF6\",\"width\":0.5},\"pattern\":{\"fillmode\":\"overlay\",\"size\":10,\"solidity\":0.2}},\"type\":\"bar\"}],\"scattergeo\":[{\"type\":\"scattergeo\",\"marker\":{\"colorbar\":{\"outlinewidth\":0,\"ticks\":\"\"}}}],\"scatterpolar\":[{\"type\":\"scatterpolar\",\"marker\":{\"colorbar\":{\"outlinewidth\":0,\"ticks\":\"\"}}}],\"histogram\":[{\"marker\":{\"pattern\":{\"fillmode\":\"overlay\",\"size\":10,\"solidity\":0.2}},\"type\":\"histogram\"}],\"scattergl\":[{\"type\":\"scattergl\",\"marker\":{\"colorbar\":{\"outlinewidth\":0,\"ticks\":\"\"}}}],\"scatter3d\":[{\"type\":\"scatter3d\",\"line\":{\"colorbar\":{\"outlinewidth\":0,\"ticks\":\"\"}},\"marker\":{\"colorbar\":{\"outlinewidth\":0,\"ticks\":\"\"}}}],\"scattermapbox\":[{\"type\":\"scattermapbox\",\"marker\":{\"colorbar\":{\"outlinewidth\":0,\"ticks\":\"\"}}}],\"scatterternary\":[{\"type\":\"scatterternary\",\"marker\":{\"colorbar\":{\"outlinewidth\":0,\"ticks\":\"\"}}}],\"scattercarpet\":[{\"type\":\"scattercarpet\",\"marker\":{\"colorbar\":{\"outlinewidth\":0,\"ticks\":\"\"}}}],\"carpet\":[{\"aaxis\":{\"endlinecolor\":\"#2a3f5f\",\"gridcolor\":\"white\",\"linecolor\":\"white\",\"minorgridcolor\":\"white\",\"startlinecolor\":\"#2a3f5f\"},\"baxis\":{\"endlinecolor\":\"#2a3f5f\",\"gridcolor\":\"white\",\"linecolor\":\"white\",\"minorgridcolor\":\"white\",\"startlinecolor\":\"#2a3f5f\"},\"type\":\"carpet\"}],\"table\":[{\"cells\":{\"fill\":{\"color\":\"#EBF0F8\"},\"line\":{\"color\":\"white\"}},\"header\":{\"fill\":{\"color\":\"#C8D4E3\"},\"line\":{\"color\":\"white\"}},\"type\":\"table\"}],\"barpolar\":[{\"marker\":{\"line\":{\"color\":\"#E5ECF6\",\"width\":0.5},\"pattern\":{\"fillmode\":\"overlay\",\"size\":10,\"solidity\":0.2}},\"type\":\"barpolar\"}],\"pie\":[{\"automargin\":true,\"type\":\"pie\"}]},\"layout\":{\"autotypenumbers\":\"strict\",\"colorway\":[\"#636efa\",\"#EF553B\",\"#00cc96\",\"#ab63fa\",\"#FFA15A\",\"#19d3f3\",\"#FF6692\",\"#B6E880\",\"#FF97FF\",\"#FECB52\"],\"font\":{\"color\":\"#2a3f5f\"},\"hovermode\":\"closest\",\"hoverlabel\":{\"align\":\"left\"},\"paper_bgcolor\":\"white\",\"plot_bgcolor\":\"#E5ECF6\",\"polar\":{\"bgcolor\":\"#E5ECF6\",\"angularaxis\":{\"gridcolor\":\"white\",\"linecolor\":\"white\",\"ticks\":\"\"},\"radialaxis\":{\"gridcolor\":\"white\",\"linecolor\":\"white\",\"ticks\":\"\"}},\"ternary\":{\"bgcolor\":\"#E5ECF6\",\"aaxis\":{\"gridcolor\":\"white\",\"linecolor\":\"white\",\"ticks\":\"\"},\"baxis\":{\"gridcolor\":\"white\",\"linecolor\":\"white\",\"ticks\":\"\"},\"caxis\":{\"gridcolor\":\"white\",\"linecolor\":\"white\",\"ticks\":\"\"}},\"coloraxis\":{\"colorbar\":{\"outlinewidth\":0,\"ticks\":\"\"}},\"colorscale\":{\"sequential\":[[0.0,\"#0d0887\"],[0.1111111111111111,\"#46039f\"],[0.2222222222222222,\"#7201a8\"],[0.3333333333333333,\"#9c179e\"],[0.4444444444444444,\"#bd3786\"],[0.5555555555555556,\"#d8576b\"],[0.6666666666666666,\"#ed7953\"],[0.7777777777777778,\"#fb9f3a\"],[0.8888888888888888,\"#fdca26\"],[1.0,\"#f0f921\"]],\"sequentialminus\":[[0.0,\"#0d0887\"],[0.1111111111111111,\"#46039f\"],[0.2222222222222222,\"#7201a8\"],[0.3333333333333333,\"#9c179e\"],[0.4444444444444444,\"#bd3786\"],[0.5555555555555556,\"#d8576b\"],[0.6666666666666666,\"#ed7953\"],[0.7777777777777778,\"#fb9f3a\"],[0.8888888888888888,\"#fdca26\"],[1.0,\"#f0f921\"]],\"diverging\":[[0,\"#8e0152\"],[0.1,\"#c51b7d\"],[0.2,\"#de77ae\"],[0.3,\"#f1b6da\"],[0.4,\"#fde0ef\"],[0.5,\"#f7f7f7\"],[0.6,\"#e6f5d0\"],[0.7,\"#b8e186\"],[0.8,\"#7fbc41\"],[0.9,\"#4d9221\"],[1,\"#276419\"]]},\"xaxis\":{\"gridcolor\":\"white\",\"linecolor\":\"white\",\"ticks\":\"\",\"title\":{\"standoff\":15},\"zerolinecolor\":\"white\",\"automargin\":true,\"zerolinewidth\":2},\"yaxis\":{\"gridcolor\":\"white\",\"linecolor\":\"white\",\"ticks\":\"\",\"title\":{\"standoff\":15},\"zerolinecolor\":\"white\",\"automargin\":true,\"zerolinewidth\":2},\"scene\":{\"xaxis\":{\"backgroundcolor\":\"#E5ECF6\",\"gridcolor\":\"white\",\"linecolor\":\"white\",\"showbackground\":true,\"ticks\":\"\",\"zerolinecolor\":\"white\",\"gridwidth\":2},\"yaxis\":{\"backgroundcolor\":\"#E5ECF6\",\"gridcolor\":\"white\",\"linecolor\":\"white\",\"showbackground\":true,\"ticks\":\"\",\"zerolinecolor\":\"white\",\"gridwidth\":2},\"zaxis\":{\"backgroundcolor\":\"#E5ECF6\",\"gridcolor\":\"white\",\"linecolor\":\"white\",\"showbackground\":true,\"ticks\":\"\",\"zerolinecolor\":\"white\",\"gridwidth\":2}},\"shapedefaults\":{\"line\":{\"color\":\"#2a3f5f\"}},\"annotationdefaults\":{\"arrowcolor\":\"#2a3f5f\",\"arrowhead\":0,\"arrowwidth\":1},\"geo\":{\"bgcolor\":\"white\",\"landcolor\":\"#E5ECF6\",\"subunitcolor\":\"white\",\"showland\":true,\"showlakes\":true,\"lakecolor\":\"white\"},\"title\":{\"x\":0.05},\"mapbox\":{\"style\":\"light\"}}},\"xaxis\":{\"anchor\":\"y\",\"domain\":[0.0,1.0],\"title\":{\"text\":\"Predictions\"}},\"yaxis\":{\"anchor\":\"x\",\"domain\":[0.0,1.0],\"title\":{\"text\":\"Errors\"}},\"legend\":{\"tracegroupgap\":0},\"margin\":{\"t\":60},\"width\":500,\"height\":500,\"title\":{\"text\":\"Fitted vs Residuals Plot (with trendline)\"}},                        {\"responsive\": true}                    ).then(function(){\n",
       "                            \n",
       "var gd = document.getElementById('e25f5f80-4a1a-4717-b8e3-90f10c0b5c63');\n",
       "var x = new MutationObserver(function (mutations, observer) {{\n",
       "        var display = window.getComputedStyle(gd).display;\n",
       "        if (!display || display === 'none') {{\n",
       "            console.log([gd, 'removed!']);\n",
       "            Plotly.purge(gd);\n",
       "            observer.disconnect();\n",
       "        }}\n",
       "}});\n",
       "\n",
       "// Listen for the removal of the full notebook cells\n",
       "var notebookContainer = gd.closest('#notebook-container');\n",
       "if (notebookContainer) {{\n",
       "    x.observe(notebookContainer, {childList: true});\n",
       "}}\n",
       "\n",
       "// Listen for the clearing of the current output cell\n",
       "var outputEl = gd.closest('.output');\n",
       "if (outputEl) {{\n",
       "    x.observe(outputEl, {childList: true});\n",
       "}}\n",
       "\n",
       "                        })                };                });            </script>        </div>"
      ]
     },
     "metadata": {},
     "output_type": "display_data"
    }
   ],
   "source": [
    "# add a trendline to show the need for a nonlinear term in the model\n",
    "fig = px.scatter(x=predictions_lin_reg_1, y=errors, trendline='lowess')\n",
    "fig.update_layout(width=500, height=500, xaxis_title='Predictions',\n",
    "    yaxis_title='Errors', title=\"Fitted vs Residuals Plot (with trendline)\")\n",
    "fig.update_traces(marker=dict(symbol='x', size=8, color='red'))\n",
    "fig.show()"
   ]
  },
  {
   "cell_type": "markdown",
   "id": "e4b52d12",
   "metadata": {},
   "source": [
    "We can clearly see a \"curved\" trend in the fitted vs residuals plot. This suggests that there is sytematicity in the residuals, and the need for a more complex model."
   ]
  },
  {
   "cell_type": "markdown",
   "id": "a8cc5f61",
   "metadata": {},
   "source": [
    "## Polynomial regression notation\n",
    "\n",
    "So, for our fitted vs residual plot, we can see that there is some systematic relationship between `horsepower` and `mpg` which is not currently being utilised by the model.\n",
    "\n",
    "Polynomial regression can help us out here. Let's have a look at how it works/how it differs from linear regression, at the level of its notation (it is simpler than it may look at first):\n",
    "\n",
    "You'll remember the vector notation for linear regression (shown here for a dataset with 15 observational units):\n",
    "\n",
    "$ \\vec{y} = b_1 \\vec{x_1} + \\text{c} + \\vec{\\varepsilon} $\n",
    "\n",
    "$\\begin{bmatrix}{} \\text{$y_{1}$} \\\\ \\text{$y_{2}$} \\\\ \\text{$y_{3}$} \\\\ \\text{$y_{4}$} \\\\ \\text{$y_{5}$} \\\\ \\text{$y_{6}$} \\\\ \\text{$y_{7}$} \\\\ \\text{$y_{8}$} \\\\ \\text{$y_{9}$} \\\\ \\text{$y_{10}$} \\\\ \\text{$y_{11}$} \\\\ \\text{$y_{12}$} \\\\ \\text{$y_{13}$} \\\\ \\text{$y_{14}$} \\\\ \\text{$y_{15}$} \\\\ \\end{bmatrix} = b * \\begin{bmatrix}{} \\text{$x_{1}$} \\\\ \\text{$x_{2}$} \\\\ \\text{$x_{3}$} \\\\ \\text{$x_{4}$} \\\\ \\text{$x_{5}$} \\\\ \\text{$x_{6}$} \\\\ \\text{$x_{7}$} \\\\ \\text{$x_{8}$} \\\\ \\text{$x_{9}$} \\\\ \\text{$x_{10}$} \\\\ \\text{$x_{11}$} \\\\ \\text{$x_{12}$} \\\\ \\text{$x_{13}$} \\\\ \\text{$x_{14}$} \\\\ \\text{$x_{15}$} \\\\ \\end{bmatrix} + c + \\begin{bmatrix}{} \\text{$\\varepsilon_{1}$} \\\\ \\text{$\\varepsilon_{2}$} \\\\ \\text{$\\varepsilon_{3}$} \\\\ \\text{$\\varepsilon_{4}$} \\\\ \\text{$\\varepsilon_{5}$} \\\\ \\text{$\\varepsilon_{6}$} \\\\ \\text{$\\varepsilon_{7}$} \\\\ \\text{$\\varepsilon_{8}$} \\\\ \\text{$\\varepsilon_{9}$} \\\\ \\text{$\\varepsilon_{10}$} \\\\ \\text{$\\varepsilon_{11}$} \\\\ \\text{$\\varepsilon_{12}$} \\\\ \\text{$\\varepsilon_{13}$} \\\\ \\text{$\\varepsilon_{14}$} \\\\ \\text{$\\varepsilon_{15}$} \\\\ \\end{bmatrix}$\n",
    "\n",
    "\n",
    "You'll also remember that our $y$ and $x$ vectors are fixed, we try different values of $b$ and $c$ and these give us specific error vectors. The best fitting parameters ($b$ and $c$) are the ones which give us the \"smallest\" error vector (measured in this case by the RMSE calculated from the error vector).\n",
    "\n",
    "Polynomial regression works on identifical principles only the polynomial regression model has extra $x$ vectors, containing the same values but raised to a power (the power is also referred to as the *degree* ($d$)). In the regression model equation, the predictor which is raised to the power $d$ is called the/a *polynomial term*.\n",
    "\n",
    "The vector notation for the polynomial regression model is below (we'll keep it simple for now, with only one polynomial term):\n",
    "\n",
    "$ \\vec{y} = b_1 \\vec{x_1} + b_2 \\vec{x^{d}_{1}} + \\text{c} + \\vec{\\varepsilon} $\n",
    "\n",
    "So, we are taking the values in the predictor vector and raising them all to the power $d$:\n",
    "\n",
    "$\\begin{bmatrix}{} \\text{$y_{1}$} \\\\ \\text{$y_{2}$} \\\\ \\text{$y_{3}$} \\\\ \\text{$y_{4}$} \\\\ \\text{$y_{5}$} \\\\ \\text{$y_{6}$} \\\\ \\text{$y_{7}$} \\\\ \\text{$y_{8}$} \\\\ \\text{$y_{9}$} \\\\ \\text{$y_{10}$} \\\\ \\text{$y_{11}$} \\\\ \\text{$y_{12}$} \\\\ \\text{$y_{13}$} \\\\ \\text{$y_{14}$} \\\\ \\text{$y_{15}$} \\\\ \\end{bmatrix} = b * \\begin{bmatrix}{} \\text{$x_{1}$} \\\\ \\text{$x_{2}$} \\\\ \\text{$x_{3}$} \\\\ \\text{$x_{4}$} \\\\ \\text{$x_{5}$} \\\\ \\text{$x_{6}$} \\\\ \\text{$x_{7}$} \\\\ \\text{$x_{8}$} \\\\ \\text{$x_{9}$} \\\\ \\text{$x_{10}$} \\\\ \\text{$x_{11}$} \\\\ \\text{$x_{12}$} \\\\ \\text{$x_{13}$} \\\\ \\text{$x_{14}$} \\\\ \\text{$x_{15}$} \\\\ \\end{bmatrix} + \\begin{bmatrix} x_{1}^d \\\\ x_{2}^d \\\\ x_{3}^d \\\\ x_{4}^d \\\\ x_{5}^d \\\\ x_{6}^d \\\\ x_{7}^d \\\\ x_{8}^d \\\\ x_{9}^d \\\\ x_{10}^d \\\\ x_{11}^d \\\\ x_{12}^d \\\\ x_{13}^d \\\\ x_{14}^d \\\\ x_{15}^d \\\\\n",
    "\\end{bmatrix}+ c + \\begin{bmatrix}{} \\text{$\\varepsilon_{1}$} \\\\ \\text{$\\varepsilon_{2}$} \\\\ \\text{$\\varepsilon_{3}$} \\\\ \\text{$\\varepsilon_{4}$} \\\\ \\text{$\\varepsilon_{5}$} \\\\ \\text{$\\varepsilon_{6}$} \\\\ \\text{$\\varepsilon_{7}$} \\\\ \\text{$\\varepsilon_{8}$} \\\\ \\text{$\\varepsilon_{9}$} \\\\ \\text{$\\varepsilon_{10}$} \\\\ \\text{$\\varepsilon_{11}$} \\\\ \\text{$\\varepsilon_{12}$} \\\\ \\text{$\\varepsilon_{13}$} \\\\ \\text{$\\varepsilon_{14}$} \\\\ \\text{$\\varepsilon_{15}$} \\\\ \\end{bmatrix}$\n",
    "\n",
    "So, if $d == 2$, then:\n",
    "\n",
    "$ \\vec{y} = b_1 \\vec{x_1} + b_2 \\vec{x^{2}_{1}} + \\text{c} + \\vec{\\varepsilon} $\n",
    "\n",
    "$\\begin{bmatrix}{} \\text{$y_{1}$} \\\\ \\text{$y_{2}$} \\\\ \\text{$y_{3}$} \\\\ \\text{$y_{4}$} \\\\ \\text{$y_{5}$} \\\\ \\text{$y_{6}$} \\\\ \\text{$y_{7}$} \\\\ \\text{$y_{8}$} \\\\ \\text{$y_{9}$} \\\\ \\text{$y_{10}$} \\\\ \\text{$y_{11}$} \\\\ \\text{$y_{12}$} \\\\ \\text{$y_{13}$} \\\\ \\text{$y_{14}$} \\\\ \\text{$y_{15}$} \\\\ \\end{bmatrix} = b_1 * \\begin{bmatrix}{} \\text{$x_{1}$} \\\\ \\text{$x_{2}$} \\\\ \\text{$x_{3}$} \\\\ \\text{$x_{4}$} \\\\ \\text{$x_{5}$} \\\\ \\text{$x_{6}$} \\\\ \\text{$x_{7}$} \\\\ \\text{$x_{8}$} \\\\ \\text{$x_{9}$} \\\\ \\text{$x_{10}$} \\\\ \\text{$x_{11}$} \\\\ \\text{$x_{12}$} \\\\ \\text{$x_{13}$} \\\\ \\text{$x_{14}$} \\\\ \\text{$x_{15}$} \\\\ \\end{bmatrix} + b_2 \\begin{bmatrix} x_{1}^2 \\\\ x_{2}^2 \\\\ x_{3}^2 \\\\ x_{4}^2 \\\\ x_{5}^2 \\\\ x_{6}^2 \\\\ x_{7}^2 \\\\ x_{8}^2 \\\\ x_{9}^2 \\\\ x_{10}^2 \\\\ x_{11}^2 \\\\ x_{12}^2 \\\\ x_{13}^2 \\\\ x_{14}^2 \\\\ x_{15}^2 \\\\\n",
    "\\end{bmatrix}+ c + \\begin{bmatrix}{} \\text{$\\varepsilon_{1}$} \\\\ \\text{$\\varepsilon_{2}$} \\\\ \\text{$\\varepsilon_{3}$} \\\\ \\text{$\\varepsilon_{4}$} \\\\ \\text{$\\varepsilon_{5}$} \\\\ \\text{$\\varepsilon_{6}$} \\\\ \\text{$\\varepsilon_{7}$} \\\\ \\text{$\\varepsilon_{8}$} \\\\ \\text{$\\varepsilon_{9}$} \\\\ \\text{$\\varepsilon_{10}$} \\\\ \\text{$\\varepsilon_{11}$} \\\\ \\text{$\\varepsilon_{12}$} \\\\ \\text{$\\varepsilon_{13}$} \\\\ \\text{$\\varepsilon_{14}$} \\\\ \\text{$\\varepsilon_{15}$} \\\\ \\end{bmatrix}$\n",
    "\n",
    "This case, where $d == 2$, is called *quadratic regression*. We're now estimating two slopes *for the same predictor variable $x1$*.\n",
    "\n",
    "As with many things in data science, this looks simpler in code than in mathematical notation!\n",
    "\n",
    "Here is our original predictor vector:"
   ]
  },
  {
   "cell_type": "code",
   "execution_count": 49,
   "id": "6791c0d0",
   "metadata": {},
   "outputs": [
    {
     "data": {
      "text/plain": [
       "array([105,  92, 100,  95,  96, 120, 170,  65, 175,  80, 130,  88,  88,\n",
       "        81, 190, 150,  69,  90,  85,  70,  90,  88,  74,  72, 210,  93,\n",
       "        85, 150,  65,  76], dtype=int64)"
      ]
     },
     "execution_count": 49,
     "metadata": {},
     "output_type": "execute_result"
    }
   ],
   "source": [
    "# here are the scores on the predictor variable\n",
    "sample['horsepower'].values"
   ]
  },
  {
   "cell_type": "markdown",
   "id": "36e0dd4e",
   "metadata": {},
   "source": [
    "And here it is raised to the power of 2 (e.g. where $d$ == 2):"
   ]
  },
  {
   "cell_type": "code",
   "execution_count": 50,
   "id": "6ccdd753",
   "metadata": {},
   "outputs": [
    {
     "data": {
      "text/plain": [
       "array([11025,  8464, 10000,  9025,  9216, 14400, 28900,  4225, 30625,\n",
       "        6400, 16900,  7744,  7744,  6561, 36100, 22500,  4761,  8100,\n",
       "        7225,  4900,  8100,  7744,  5476,  5184, 44100,  8649,  7225,\n",
       "       22500,  4225,  5776], dtype=int64)"
      ]
     },
     "execution_count": 50,
     "metadata": {},
     "output_type": "execute_result"
    }
   ],
   "source": [
    "# here are the scores on the predictor variable, raised to the second degree (e.g. d == 2)\n",
    "sample['horsepower'].values**2"
   ]
  },
  {
   "cell_type": "markdown",
   "id": "24396eb0",
   "metadata": {},
   "source": [
    "So, the vector notation for the quadratic regression model, using our actual data*, is shown below:\n",
    "\n",
    "*Showing the first 15 observational units, to keep it easy to view..."
   ]
  },
  {
   "cell_type": "code",
   "execution_count": 51,
   "id": "abfbe74b",
   "metadata": {},
   "outputs": [
    {
     "data": {
      "text/markdown": [
       "$\\begin{bmatrix}{} \\text{$y_{1}$} \\\\ \\text{$y_{2}$} \\\\ \\text{$y_{3}$} \\\\ \\text{$y_{4}$} \\\\ \\text{$y_{5}$} \\\\ \\text{$y_{6}$} \\\\ \\text{$y_{7}$} \\\\ \\text{$y_{8}$} \\\\ \\text{$y_{9}$} \\\\ \\text{$y_{10}$} \\\\ \\text{$y_{11}$} \\\\ \\text{$y_{12}$} \\\\ \\text{$y_{13}$} \\\\ \\text{$y_{14}$} \\\\ \\text{$y_{15}$} \\\\ \\end{bmatrix} = b_1 \\begin{bmatrix}{} 105 \\\\ 92 \\\\ 100 \\\\ 95 \\\\ 96 \\\\ 120 \\\\ 170 \\\\ 65 \\\\ 175 \\\\ 80 \\\\ 130 \\\\ 88 \\\\ 88 \\\\ 81 \\\\ 190 \\\\ \\end{bmatrix} + b_2\\begin{bmatrix}{} 11025 \\\\ 8464 \\\\ 10000 \\\\ 9025 \\\\ 9216 \\\\ 14400 \\\\ 28900 \\\\ 4225 \\\\ 30625 \\\\ 6400 \\\\ 16900 \\\\ 7744 \\\\ 7744 \\\\ 6561 \\\\ 36100 \\\\ \\end{bmatrix} + \\begin{bmatrix}{} \\text{$\\varepsilon_{1}$} \\\\ \\text{$\\varepsilon_{2}$} \\\\ \\text{$\\varepsilon_{3}$} \\\\ \\text{$\\varepsilon_{4}$} \\\\ \\text{$\\varepsilon_{5}$} \\\\ \\text{$\\varepsilon_{6}$} \\\\ \\text{$\\varepsilon_{7}$} \\\\ \\text{$\\varepsilon_{8}$} \\\\ \\text{$\\varepsilon_{9}$} \\\\ \\text{$\\varepsilon_{10}$} \\\\ \\text{$\\varepsilon_{11}$} \\\\ \\text{$\\varepsilon_{12}$} \\\\ \\text{$\\varepsilon_{13}$} \\\\ \\text{$\\varepsilon_{14}$} \\\\ \\text{$\\varepsilon_{15}$} \\\\ \\end{bmatrix}$"
      ],
      "text/plain": [
       "<IPython.core.display.Markdown object>"
      ]
     },
     "metadata": {},
     "output_type": "display_data"
    }
   ],
   "source": [
    "y_string = \"\\\\begin{bmatrix}{} \\\\text{$y_{1}$} \\\\\\\\ \\\\text{$y_{2}$} \\\\\\\\ \\\\text{$y_{3}$} \\\\\\\\ \\\\text{$y_{4}$} \\\\\\\\ \\\\text{$y_{5}$} \\\\\\\\ \\\\text{$y_{6}$} \\\\\\\\ \\\\text{$y_{7}$} \\\\\\\\ \\\\text{$y_{8}$} \\\\\\\\ \\\\text{$y_{9}$} \\\\\\\\ \\\\text{$y_{10}$} \\\\\\\\ \\\\text{$y_{11}$} \\\\\\\\ \\\\text{$y_{12}$} \\\\\\\\ \\\\text{$y_{13}$} \\\\\\\\ \\\\text{$y_{14}$} \\\\\\\\ \\\\text{$y_{15}$} \\\\\\\\ \\\\end{bmatrix}\"\n",
    "error_string =  \"\\\\begin{bmatrix}{} \\\\text{$\\\\varepsilon_{1}$} \\\\\\\\ \\\\text{$\\\\varepsilon_{2}$} \\\\\\\\ \\\\text{$\\\\varepsilon_{3}$} \\\\\\\\ \\\\text{$\\\\varepsilon_{4}$} \\\\\\\\ \\\\text{$\\\\varepsilon_{5}$} \\\\\\\\ \\\\text{$\\\\varepsilon_{6}$} \\\\\\\\ \\\\text{$\\\\varepsilon_{7}$} \\\\\\\\ \\\\text{$\\\\varepsilon_{8}$} \\\\\\\\ \\\\text{$\\\\varepsilon_{9}$} \\\\\\\\ \\\\text{$\\\\varepsilon_{10}$} \\\\\\\\ \\\\text{$\\\\varepsilon_{11}$} \\\\\\\\ \\\\text{$\\\\varepsilon_{12}$} \\\\\\\\ \\\\text{$\\\\varepsilon_{13}$} \\\\\\\\ \\\\text{$\\\\varepsilon_{14}$} \\\\\\\\ \\\\text{$\\\\varepsilon_{15}$} \\\\\\\\ \\\\end{bmatrix}\"\n",
    "jupyprint(f\"${y_string} = b_1 {arraytex(np.atleast_2d(sample['horsepower'].values[:15]).T)} + b_2{arraytex(np.atleast_2d(sample['horsepower'].values[:15]**2).T)} + {error_string}$\")"
   ]
  },
  {
   "cell_type": "markdown",
   "id": "2baf39fe",
   "metadata": {},
   "source": [
    "If we add higher order polynomial terms (e.g. raised to the power of 3, 4, 5, 6 ... 16 and so on) then we add a new $x$ vector for each polynomial term.\n",
    "\n",
    "$\\begin{bmatrix}{} \\text{$y_{1}$} \\\\ \\text{$y_{2}$} \\\\ \\text{$y_{3}$} \\\\ \\text{$y_{4}$} \\\\ \\text{$y_{5}$} \\\\ \\text{$y_{6}$} \\\\ \\text{$y_{7}$} \\\\ \\text{$y_{8}$} \\\\ \\text{$y_{9}$} \\\\ \\text{$y_{10}$} \\\\ \\text{$y_{11}$} \\\\ \\text{$y_{12}$} \\\\ \\text{$y_{13}$} \\\\ \\text{$y_{14}$} \\\\ \\text{$y_{15}$} \\\\ \\end{bmatrix} = b_1 * \\begin{bmatrix}{} \\text{$x_{1}$} \\\\ \\text{$x_{2}$} \\\\ \\text{$x_{3}$} \\\\ \\text{$x_{4}$} \\\\ \\text{$x_{5}$} \\\\ \\text{$x_{6}$} \\\\ \\text{$x_{7}$} \\\\ \\text{$x_{8}$} \\\\ \\text{$x_{9}$} \\\\ \\text{$x_{10}$} \\\\ \\text{$x_{11}$} \\\\ \\text{$x_{12}$} \\\\ \\text{$x_{13}$} \\\\ \\text{$x_{14}$} \\\\ \\text{$x_{15}$} \\\\ \\end{bmatrix} + b_2 \\begin{bmatrix} x_{1}^2 \\\\ x_{2}^2 \\\\ x_{3}^2 \\\\ x_{4}^2 \\\\ x_{5}^2 \\\\ x_{6}^2 \\\\ x_{7}^2 \\\\ x_{8}^2 \\\\ x_{9}^2 \\\\ x_{10}^2 \\\\ x_{11}^2 \\\\ x_{12}^2 \\\\ x_{13}^2 \\\\ x_{14}^2 \\\\ x_{15}^2 \\\\\n",
    "\\end{bmatrix}+ ... + b_k \\begin{bmatrix} x_{1}^d \\\\ x_{2}^d \\\\ x_{3}^d\\\\ x_{4}^d \\\\ x_{5}^d \\\\ x_{6}^d \\\\ x_{7}^d \\\\ x_{8}^d \\\\ x_{9}^d\\\\ x_{10}^d\\\\ x_{11}^d \\\\ x_{12}^d \\\\ x_{13}^d \\\\ x_{14}^d \\\\ x_{15}^d \\\\\n",
    "\\end{bmatrix}+c + \\begin{bmatrix}{} \\text{$\\varepsilon_{1}$} \\\\ \\text{$\\varepsilon_{2}$} \\\\ \\text{$\\varepsilon_{3}$} \\\\ \\text{$\\varepsilon_{4}$} \\\\ \\text{$\\varepsilon_{5}$} \\\\ \\text{$\\varepsilon_{6}$} \\\\ \\text{$\\varepsilon_{7}$} \\\\ \\text{$\\varepsilon_{8}$} \\\\ \\text{$\\varepsilon_{9}$} \\\\ \\text{$\\varepsilon_{10}$} \\\\ \\text{$\\varepsilon_{11}$} \\\\ \\text{$\\varepsilon_{12}$} \\\\ \\text{$\\varepsilon_{13}$} \\\\ \\text{$\\varepsilon_{14}$} \\\\ \\text{$\\varepsilon_{15}$} \\\\ \\end{bmatrix}$\n",
    "\n",
    "What is the effect of using different values of $d$?\n",
    "\n",
    "The graphs below show some of the common polynomial forms:"
   ]
  },
  {
   "cell_type": "code",
   "execution_count": 52,
   "id": "8c56ecba",
   "metadata": {},
   "outputs": [
    {
     "data": {
      "image/png": "[encoded data removed]",
      "text/plain": [
       "<Figure size 1600x600 with 3 Axes>"
      ]
     },
     "metadata": {},
     "output_type": "display_data"
    }
   ],
   "source": [
    "# generate the subplots below\n",
    "x = np.linspace(-100, 100)\n",
    "n_plots=3\n",
    "plt.figure(figsize=(16,6))\n",
    "def plot_polynomial_form(degree=1):\n",
    "    x = np.linspace(-10000, 10000)\n",
    "    plt.plot(x, x**degree)\n",
    "    plt.xlabel('x')\n",
    "for i in np.arange(1, n_plots+1):\n",
    "    plt.subplot(1, n_plots, i)\n",
    "    plot_polynomial_form(degree=i)\n",
    "    plt.yticks([])\n",
    "    plt.xticks([])\n",
    "    if i == 1:\n",
    "        plt.ylabel('y')\n",
    "    plt.title('$y = x^{'+f'{i}'+'}$')"
   ]
  },
  {
   "cell_type": "markdown",
   "id": "0a76a40d",
   "metadata": {},
   "source": [
    "A polynomial regression where $d == 1$ is just linear regression!\n",
    "\n",
    "We can see that when we include a higher degree polynomial, we introduce bends/curvature into the graph.\n",
    "\n",
    "The code cell below generates some fake data with a specific \"polynomial pattern\" underlying it e.g. data for which a specific value of $d$ fits the simulated data well. (The true \"data-generating\" equation is shown above the graph):"
   ]
  },
  {
   "cell_type": "code",
   "execution_count": 53,
   "id": "ec01c7d2",
   "metadata": {},
   "outputs": [
    {
     "data": {
      "image/png": "[encoded data removed]",
      "text/plain": [
       "<Figure size 1600x600 with 3 Axes>"
      ]
     },
     "metadata": {},
     "output_type": "display_data"
    }
   ],
   "source": [
    "# generate the plots\n",
    "x = np.linspace(-100, 100)\n",
    "plt.figure(figsize=(16,6))\n",
    "def plot_polynomial(degree=1):\n",
    "    x = np.linspace(-100, 100, num=1000)\n",
    "    intercept = np.random.choice([-3, -2, -1, 1, 2, 3])\n",
    "    slopes = np.array([np.random.choice([-3, -2, -1, 1, 2, 3])])\n",
    "    y = intercept + slopes[0]*x + np.random.normal(0, 10, 1000)\n",
    "    full_equation_string = f\"{intercept} + {slopes[0]}x\"\n",
    "    for i in np.arange(0, degree):\n",
    "        if (i != 0):\n",
    "            current_slope = np.random.choice([-3, -2, -1, 1, 2, 3])\n",
    "            slopes = np.append(slopes, current_slope)\n",
    "            y = y + slopes[i]*x**(i+1) + np.random.normal(0, 50**degree, 1000)\n",
    "            if slopes[i] < 0:\n",
    "                full_equation_string =  full_equation_string + f\" {slopes[i]} x^{i+1}\"\n",
    "            elif slopes[i] >=0:\n",
    "                full_equation_string =  full_equation_string + f\" + {slopes[i]} x^{i+1}\"\n",
    "    plt.scatter(x, y)\n",
    "    y_poly = np.poly1d(np.polyfit(x, y, degree))\n",
    "    plt.plot(x, y_poly(x), color = 'red')\n",
    "    plt.xlabel('x (predictor)')\n",
    "    plt.title(f'${full_equation_string} + \\\\varepsilon$')\n",
    "\n",
    "for i in np.arange(1, n_plots+1):\n",
    "    plt.subplot(1, n_plots, i)\n",
    "    full_eq_string = plot_polynomial(degree=i)\n",
    "    plt.yticks([])\n",
    "    plt.xticks([])\n",
    "    if i == 1:\n",
    "        plt.ylabel('y (outcome)')"
   ]
  },
  {
   "cell_type": "markdown",
   "id": "e4a94d35",
   "metadata": {},
   "source": [
    "The code cell below allows you to interact with the graphs above, change the degree of the polynomial term, and generate new simulated data.\n",
    "\n",
    "\n",
    "Pay attention to the sign (+/-) of the different polynomial terms, it affects the \"direction\" of the curve:"
   ]
  },
  {
   "cell_type": "code",
   "execution_count": 54,
   "id": "75a16572",
   "metadata": {},
   "outputs": [
    {
     "data": {
      "application/vnd.jupyter.widget-view+json": {
       "model_id": "ee9a4a32bb9b4a57b5cb5ec536311ad6",
       "version_major": 2,
       "version_minor": 0
      },
      "text/plain": [
       "interactive(children=(IntSlider(value=1, description='degree', max=3, min=1), Output()), _dom_classes=('widget…"
      ]
     },
     "metadata": {},
     "output_type": "display_data"
    }
   ],
   "source": [
    "# interactive plot\n",
    "interact(plot_polynomial, degree=(1, 3, 1));"
   ]
  },
  {
   "cell_type": "markdown",
   "id": "ef25a7ca",
   "metadata": {},
   "source": [
    "The higher the value of $d$, the more bends in the curve.\n",
    "\n",
    "In fact each polynomial can have `degree - 1` bends, so second degree polynomial can have 1 bend, third degree can have 2 bends, a fourth degree polynomial can have three bends and so on.\n",
    "\n",
    "*Note*: **polynomial terms are used with numeric predictors only** (e.g. they don't make sense to use with categorical, dummy-coded predictors).\n",
    "\n",
    "The interactive graph below fits some different polynomial regression models to our sample data (we'll look at the mechanics of the fitting process shortly). You can use the slider to change the degree ($d$) of the polynomial and see how this affects the curve:"
   ]
  },
  {
   "cell_type": "code",
   "execution_count": 55,
   "id": "b158f6e7",
   "metadata": {},
   "outputs": [
    {
     "data": {
      "application/vnd.jupyter.widget-view+json": {
       "model_id": "2a85d50362564a4aad17df8374464c1d",
       "version_major": 2,
       "version_minor": 0
      },
      "text/plain": [
       "interactive(children=(IntSlider(value=3, description='max_degree', max=10, min=1), Checkbox(value=False, descr…"
      ]
     },
     "metadata": {},
     "output_type": "display_data"
    },
    {
     "data": {
      "text/markdown": [
       "\n",
       "See [this link](https://www.linkedin.com/pulse/polynomial-models-explained-non-data-scientist-david-longstreet)\n",
       "for an explanation of that nasty spike in the 9th degree polynomial!"
      ],
      "text/plain": [
       "<IPython.core.display.Markdown object>"
      ]
     },
     "metadata": {},
     "output_type": "display_data"
    }
   ],
   "source": [
    "def how_many_degrees(max_degree=3, show_other_curves=False, show_pop=False):\n",
    "\n",
    "    # isolate the \"population\" data not in the sample, for optional plotting later\n",
    "    pop_plot_df = cars_df.loc[~pd.Series(cars_df.index).isin(sample.index)]\n",
    "    \n",
    "    # create the initial scatterplot, of the sample data\n",
    "    fig = go.Figure()\n",
    "    fig.add_scatter(x=sample['horsepower'],\n",
    "                    y=sample['mpg'],\n",
    "                    mode='markers',\n",
    "                    name='sample data',\n",
    "                    marker={'color':'red'})\n",
    "    fig.update_layout(xaxis_title=\"horsepower\",\n",
    "                      yaxis_title=\"mpg\")\n",
    "\n",
    "    # if showing the \"population\" data, plot this also\n",
    "    if show_pop == True:\n",
    "        fig.add_scatter(x=pop_plot_df['horsepower'],\n",
    "                        y=pop_plot_df['mpg'],\n",
    "                        mode='markers',\n",
    "                        name='population data',\n",
    "                        marker={'color':'blue', 'opacity': 0.15})\n",
    "\n",
    "    # ensure consistent trendline colours regardless of which options are used\n",
    "    elif show_pop == False:\n",
    "        fig.add_scatter(x=[],\n",
    "                        y=[])\n",
    "\n",
    "    # if showing other curves, or plotting only linear fit, show the linear fit\n",
    "    if (show_other_curves==True) | (max_degree==1):\n",
    "        # calculate the RMSE\n",
    "        rmse_val = rmse([intercept_lin_reg_1, slope_lin_reg_1], sample['horsepower'], sample['mpg'])\n",
    "        # add the linear trace\n",
    "        fig.add_trace(go.Scatter(x=xs_for_plot, y=intercept_lin_reg_1 + slope_lin_reg_1*xs_for_plot,\n",
    "                             name=f'Linear Regression; RMSE = {rmse_val.round(4)}',\n",
    "                                line={'width': 5}))\n",
    "        \n",
    "    # ensure consistent curve colours regardless of option choise\n",
    "    elif show_other_curves == False:\n",
    "        fig.add_trace(go.Scatter(x=[], y=[]))\n",
    "        \n",
    "    # get coefficients for higher degree plots (from 2 to max degree)\n",
    "    for i, degree in enumerate(np.arange(2, max_degree+1)):\n",
    "        coefs = np.polyfit(sample['horsepower'], sample['mpg'], degree)\n",
    "        errors = sample['mpg'] - np.polyval(coefs, sample['horsepower'])\n",
    "        rmse_val = np.sqrt(np.mean(errors**2))\n",
    "\n",
    "        # if showing other curves, add current curve\n",
    "        if (show_other_curves == True) :\n",
    "            fig.add_trace(go.Scatter(x=xs_for_plot,\n",
    "                                 y=np.polyval(coefs, xs_for_plot),\n",
    "                                 name=f'Degree = {degree}; RMSE = {rmse_val.round(4)}',\n",
    "                                    line={'width': 5}))\n",
    "\n",
    "        # if not showing other curves, skip all except the relevant curve\n",
    "        elif (show_other_curves == False):\n",
    "            if (degree != max_degree) :\n",
    "                fig.add_trace(go.Scatter(x=[],\n",
    "                                         y=[]))\n",
    "            elif(degree == max_degree):\n",
    "                fig.add_trace(go.Scatter(x=xs_for_plot,\n",
    "                                 y=np.polyval(coefs, xs_for_plot),\n",
    "                                 name=f'Degree = {max_degree}; RMSE = {rmse_val.round(4)}',\n",
    "                                        line={'width': 5}))\n",
    "    fig.update_layout(width=700, height=600)\n",
    "    fig.show()\n",
    "    \n",
    "interact(how_many_degrees, max_degree=(1, 10, 1));\n",
    "\n",
    "jupyprint(\"\"\"\n",
    "See [this link](https://www.linkedin.com/pulse/polynomial-models-explained-non-data-scientist-david-longstreet)\n",
    "for an explanation of that nasty spike in the 9th degree polynomial!\"\"\")"
   ]
  },
  {
   "cell_type": "markdown",
   "id": "9c031b47",
   "metadata": {},
   "source": [
    "## Fitting polynomial regression models\n",
    "\n",
    "Let's recap where we are. We've observed a systematic pattern in the fitted vs residual plot, suggesting the need to model a \"curvilinear\" relationship between `horsepower` and `mpg` (AKA \"we need to bend the line\"). We've seen that introducing polynomial terms into the model allows us to \"bend the line\".\n",
    "\n",
    "Let's try a quadratic regression, wehre $d == 2$ first. Remember that the vector notation for this model is: \n",
    "\n",
    "$ \\vec{y} = b_1 \\vec{x_1} + b_2 \\vec{x^{2}_{1}} + \\text{c} + \\vec{\\varepsilon} $\n",
    "\n",
    "$\\begin{bmatrix}{} \\text{$y_{1}$} \\\\ \\text{$y_{2}$} \\\\ \\text{$y_{3}$} \\\\ \\text{$y_{4}$} \\\\ \\text{$y_{5}$} \\\\ \\text{$y_{6}$} \\\\ \\text{$y_{7}$} \\\\ \\text{$y_{8}$} \\\\ \\text{$y_{9}$} \\\\ \\text{$y_{10}$} \\\\ \\text{$y_{11}$} \\\\ \\text{$y_{12}$} \\\\ \\text{$y_{13}$} \\\\ \\text{$y_{14}$} \\\\ \\text{$y_{15}$} \\\\ \\end{bmatrix} = b_1 * \\begin{bmatrix}{} \\text{$x_{1}$} \\\\ \\text{$x_{2}$} \\\\ \\text{$x_{3}$} \\\\ \\text{$x_{4}$} \\\\ \\text{$x_{5}$} \\\\ \\text{$x_{6}$} \\\\ \\text{$x_{7}$} \\\\ \\text{$x_{8}$} \\\\ \\text{$x_{9}$} \\\\ \\text{$x_{10}$} \\\\ \\text{$x_{11}$} \\\\ \\text{$x_{12}$} \\\\ \\text{$x_{13}$} \\\\ \\text{$x_{14}$} \\\\ \\text{$x_{15}$} \\\\ \\end{bmatrix} + b_2 \\begin{bmatrix} x_{1}^2 \\\\ x_{2}^2 \\\\ x_{3}^2 \\\\ x_{4}^2 \\\\ x_{5}^2 \\\\ x_{6}^2 \\\\ x_{7}^2 \\\\ x_{8}^2 \\\\ x_{9}^2 \\\\ x_{10}^2 \\\\ x_{11}^2 \\\\ x_{12}^2 \\\\ x_{13}^2 \\\\ x_{14}^2 \\\\ x_{15}^2 \\\\\n",
    "\\end{bmatrix}+ c + \\begin{bmatrix}{} \\text{$\\varepsilon_{1}$} \\\\ \\text{$\\varepsilon_{2}$} \\\\ \\text{$\\varepsilon_{3}$} \\\\ \\text{$\\varepsilon_{4}$} \\\\ \\text{$\\varepsilon_{5}$} \\\\ \\text{$\\varepsilon_{6}$} \\\\ \\text{$\\varepsilon_{7}$} \\\\ \\text{$\\varepsilon_{8}$} \\\\ \\text{$\\varepsilon_{9}$} \\\\ \\text{$\\varepsilon_{10}$} \\\\ \\text{$\\varepsilon_{11}$} \\\\ \\text{$\\varepsilon_{12}$} \\\\ \\text{$\\varepsilon_{13}$} \\\\ \\text{$\\varepsilon_{14}$} \\\\ \\text{$\\varepsilon_{15}$} \\\\ \\end{bmatrix}$\n",
    "\n",
    "Let's adjust the cost function so that it includes a polynomial term (degree == 2).\n",
    "\n",
    "Only one line of the cost function changes (the line where the fitted values ($\\hat{y}$) are calculated):"
   ]
  },
  {
   "cell_type": "code",
   "execution_count": 56,
   "id": "ad07d59a",
   "metadata": {},
   "outputs": [],
   "source": [
    "# define the root mean square error cost function for quadratic regression\n",
    "def rmse_quadratic(intercept_and_slopes, x1, y):\n",
    "    \n",
    "    # unpack the slopes and intercept\n",
    "    intercept, slope_1, slope_2 = intercept_and_slopes\n",
    "    \n",
    "    # generate predictions\n",
    "    y_hat = intercept + slope_1*x1 + slope_2*x1**2 # <------- here we have added the quadratic term\n",
    "    \n",
    "    # calculate the errors\n",
    "    errors = y - y_hat\n",
    "    \n",
    "    # return the root mean squared error\n",
    "    return np.sqrt(np.mean(errors**2))"
   ]
  },
  {
   "cell_type": "code",
   "execution_count": 57,
   "id": "dacd6c21",
   "metadata": {},
   "outputs": [
    {
     "data": {
      "text/plain": [
       "16146.79575425622"
      ]
     },
     "execution_count": 57,
     "metadata": {},
     "output_type": "execute_result"
    }
   ],
   "source": [
    "# test the cost function\n",
    "rmse_quadratic([1, 1, 1], sample['horsepower'], sample['mpg'])"
   ]
  },
  {
   "cell_type": "markdown",
   "id": "0e8c3591",
   "metadata": {},
   "source": [
    "Let's use `minimize` to get the best fitting slopes/intercept for the quadratic regresssion model."
   ]
  },
  {
   "cell_type": "code",
   "execution_count": 58,
   "id": "af8db6e8",
   "metadata": {},
   "outputs": [
    {
     "data": {
      "text/plain": [
       "  message: Desired error not necessarily achieved due to precision loss.\n",
       "  success: False\n",
       "   status: 2\n",
       "      fun: 4.307087003174841\n",
       "        x: [ 5.759e+01 -5.001e-01  1.409e-03]\n",
       "      nit: 14\n",
       "      jac: [-4.798e-05 -4.500e-03 -3.203e-01]\n",
       " hess_inv: [[ 5.138e+02 -8.759e+00  3.262e-02]\n",
       "            [-8.759e+00  1.529e-01 -5.805e-04]\n",
       "            [ 3.262e-02 -5.805e-04  2.264e-06]]\n",
       "     nfev: 256\n",
       "     njev: 61"
      ]
     },
     "execution_count": 58,
     "metadata": {},
     "output_type": "execute_result"
    }
   ],
   "source": [
    "# fit our quadratic regression model\n",
    "quadratic_reg_1 = minimize(rmse_quadratic, [1, 1, 1], args=(sample['horsepower'], sample['mpg']))\n",
    "quadratic_reg_1"
   ]
  },
  {
   "cell_type": "code",
   "execution_count": 59,
   "id": "f9d9a265",
   "metadata": {},
   "outputs": [
    {
     "data": {
      "text/markdown": [
       "From quadratic regression, the intercept = <b> 57.587 </b>"
      ],
      "text/plain": [
       "<IPython.core.display.Markdown object>"
      ]
     },
     "metadata": {},
     "output_type": "display_data"
    },
    {
     "data": {
      "text/markdown": [
       "$b_1$ = <b>-0.5001"
      ],
      "text/plain": [
       "<IPython.core.display.Markdown object>"
      ]
     },
     "metadata": {},
     "output_type": "display_data"
    },
    {
     "data": {
      "text/markdown": [
       "</b> $b_2$ = <b>0.0014 </b>."
      ],
      "text/plain": [
       "<IPython.core.display.Markdown object>"
      ]
     },
     "metadata": {},
     "output_type": "display_data"
    }
   ],
   "source": [
    "# get our parameter estimates\n",
    "intercept_quadratic_reg_1 = quadratic_reg_1.x[0]\n",
    "slope_quadratic_reg_1 = quadratic_reg_1.x[1]\n",
    "slope_2_quadratic_reg_1 = quadratic_reg_1.x[2]\n",
    "\n",
    "jupyprint(f\"From quadratic regression, the intercept = <b> {intercept_quadratic_reg_1.round(3)} </b>\")\n",
    "jupyprint(f\"$b_1$ = <b>{slope_quadratic_reg_1.round(4)}\")\n",
    "jupyprint(f\"</b> $b_2$ = <b>{slope_2_quadratic_reg_1.round(4)} </b>.\")"
   ]
  },
  {
   "cell_type": "markdown",
   "id": "b5067831",
   "metadata": {},
   "source": [
    "$b_2$ is the slope for the quadratic term (e.g. $b_2 * x_1^2$). It is positive, so the curve will have a \"U\" shape (it would be an inverted \"U\" shaped if the sign was negative...).\n",
    "\n",
    "Let's sanity check these parameter estimates against `statsmodels`. \n",
    "\n",
    "To include a polynomial term in the model, we use some slightly odd syntax. We use the same function (`smf.ols()`) as when we fit a linear regression, however, we specify the modle as:\n",
    "\n",
    "`mpg ~ horsepower + I(horsepower**2)`\n",
    "\n",
    "The term `I(horsepower**2)` introduces the polynomial term where $(d = =2)$. We use the `I()` syntax is used to *transform* a variable - in this case to raise each value in the `horsepower` predictor vector to the power of 2:"
   ]
  },
  {
   "cell_type": "markdown",
   "id": "7022393c",
   "metadata": {},
   "source": [
    "[Fitting in statsmodels]: https://stackoverflow.com/questions/61899474/polynomial-regression-using-statsmodels-formula-api"
   ]
  },
  {
   "cell_type": "code",
   "execution_count": 60,
   "id": "bd1b9b83",
   "metadata": {},
   "outputs": [
    {
     "data": {
      "text/html": [
       "<table class=\"simpletable\">\n",
       "<caption>OLS Regression Results</caption>\n",
       "<tr>\n",
       "  <th>Dep. Variable:</th>           <td>mpg</td>       <th>  R-squared:         </th> <td>   0.624</td>\n",
       "</tr>\n",
       "<tr>\n",
       "  <th>Model:</th>                   <td>OLS</td>       <th>  Adj. R-squared:    </th> <td>   0.596</td>\n",
       "</tr>\n",
       "<tr>\n",
       "  <th>Method:</th>             <td>Least Squares</td>  <th>  F-statistic:       </th> <td>   22.40</td>\n",
       "</tr>\n",
       "<tr>\n",
       "  <th>Date:</th>             <td>Fri, 23 Feb 2024</td> <th>  Prob (F-statistic):</th> <td>1.84e-06</td>\n",
       "</tr>\n",
       "<tr>\n",
       "  <th>Time:</th>                 <td>09:21:01</td>     <th>  Log-Likelihood:    </th> <td> -86.376</td>\n",
       "</tr>\n",
       "<tr>\n",
       "  <th>No. Observations:</th>      <td>    30</td>      <th>  AIC:               </th> <td>   178.8</td>\n",
       "</tr>\n",
       "<tr>\n",
       "  <th>Df Residuals:</th>          <td>    27</td>      <th>  BIC:               </th> <td>   183.0</td>\n",
       "</tr>\n",
       "<tr>\n",
       "  <th>Df Model:</th>              <td>     2</td>      <th>                     </th>     <td> </td>   \n",
       "</tr>\n",
       "<tr>\n",
       "  <th>Covariance Type:</th>      <td>nonrobust</td>    <th>                     </th>     <td> </td>   \n",
       "</tr>\n",
       "</table>\n",
       "<table class=\"simpletable\">\n",
       "<tr>\n",
       "           <td></td>             <th>coef</th>     <th>std err</th>      <th>t</th>      <th>P>|t|</th>  <th>[0.025</th>    <th>0.975]</th>  \n",
       "</tr>\n",
       "<tr>\n",
       "  <th>Intercept</th>          <td>   57.5966</td> <td>    8.983</td> <td>    6.412</td> <td> 0.000</td> <td>   39.165</td> <td>   76.028</td>\n",
       "</tr>\n",
       "<tr>\n",
       "  <th>horsepower</th>         <td>   -0.5002</td> <td>    0.154</td> <td>   -3.247</td> <td> 0.003</td> <td>   -0.816</td> <td>   -0.184</td>\n",
       "</tr>\n",
       "<tr>\n",
       "  <th>I(horsepower ** 2)</th> <td>    0.0014</td> <td>    0.001</td> <td>    2.400</td> <td> 0.024</td> <td>    0.000</td> <td>    0.003</td>\n",
       "</tr>\n",
       "</table>\n",
       "<table class=\"simpletable\">\n",
       "<tr>\n",
       "  <th>Omnibus:</th>       <td> 3.247</td> <th>  Durbin-Watson:     </th> <td>   2.033</td>\n",
       "</tr>\n",
       "<tr>\n",
       "  <th>Prob(Omnibus):</th> <td> 0.197</td> <th>  Jarque-Bera (JB):  </th> <td>   1.851</td>\n",
       "</tr>\n",
       "<tr>\n",
       "  <th>Skew:</th>          <td> 0.525</td> <th>  Prob(JB):          </th> <td>   0.396</td>\n",
       "</tr>\n",
       "<tr>\n",
       "  <th>Kurtosis:</th>      <td> 3.615</td> <th>  Cond. No.          </th> <td>1.74e+05</td>\n",
       "</tr>\n",
       "</table><br/><br/>Notes:<br/>[1] Standard Errors assume that the covariance matrix of the errors is correctly specified.<br/>[2] The condition number is large, 1.74e+05. This might indicate that there are<br/>strong multicollinearity or other numerical problems."
      ],
      "text/plain": [
       "<class 'statsmodels.iolib.summary.Summary'>\n",
       "\"\"\"\n",
       "                            OLS Regression Results                            \n",
       "==============================================================================\n",
       "Dep. Variable:                    mpg   R-squared:                       0.624\n",
       "Model:                            OLS   Adj. R-squared:                  0.596\n",
       "Method:                 Least Squares   F-statistic:                     22.40\n",
       "Date:                Fri, 23 Feb 2024   Prob (F-statistic):           1.84e-06\n",
       "Time:                        09:21:01   Log-Likelihood:                -86.376\n",
       "No. Observations:                  30   AIC:                             178.8\n",
       "Df Residuals:                      27   BIC:                             183.0\n",
       "Df Model:                           2                                         \n",
       "Covariance Type:            nonrobust                                         \n",
       "======================================================================================\n",
       "                         coef    std err          t      P>|t|      [0.025      0.975]\n",
       "--------------------------------------------------------------------------------------\n",
       "Intercept             57.5966      8.983      6.412      0.000      39.165      76.028\n",
       "horsepower            -0.5002      0.154     -3.247      0.003      -0.816      -0.184\n",
       "I(horsepower ** 2)     0.0014      0.001      2.400      0.024       0.000       0.003\n",
       "==============================================================================\n",
       "Omnibus:                        3.247   Durbin-Watson:                   2.033\n",
       "Prob(Omnibus):                  0.197   Jarque-Bera (JB):                1.851\n",
       "Skew:                           0.525   Prob(JB):                        0.396\n",
       "Kurtosis:                       3.615   Cond. No.                     1.74e+05\n",
       "==============================================================================\n",
       "\n",
       "Notes:\n",
       "[1] Standard Errors assume that the covariance matrix of the errors is correctly specified.\n",
       "[2] The condition number is large, 1.74e+05. This might indicate that there are\n",
       "strong multicollinearity or other numerical problems.\n",
       "\"\"\""
      ]
     },
     "execution_count": 60,
     "metadata": {},
     "output_type": "execute_result"
    }
   ],
   "source": [
    "# fit quadratic regression using statsmodels\n",
    "quadratic_reg_1_sm = smf.ols('mpg ~ horsepower + I(horsepower**2)', data=sample).fit()\n",
    "quadratic_reg_1_sm.summary()"
   ]
  },
  {
   "cell_type": "markdown",
   "id": "a5457100",
   "metadata": {},
   "source": [
    "Let's look at the graphs of both the models we have fit so far (the linear model and the quadratic model). The RMSE value for each model is shown in the title of each graph:"
   ]
  },
  {
   "cell_type": "code",
   "execution_count": 61,
   "id": "70387598",
   "metadata": {},
   "outputs": [
    {
     "data": {
      "application/vnd.plotly.v1+json": {
       "config": {
        "plotlyServerURL": "https://plot.ly"
       },
       "data": [
        {
         "customdata": [
          [
           "oldsmobile cutlass ls"
          ],
          [
           "ford fairmont futura"
          ],
          [
           "chevrolet nova"
          ],
          [
           "plymouth valiant custom"
          ],
          [
           "plymouth arrow gs"
          ],
          [
           "amc concord d/l"
          ],
          [
           "chevrolet monte carlo landau"
          ],
          [
           "toyota corolla 1200"
          ],
          [
           "pontiac catalina brougham"
          ],
          [
           "amc spirit dl"
          ],
          [
           "chevrolet chevelle malibu"
          ],
          [
           "ford granada gl"
          ],
          [
           "ford torino 500"
          ],
          [
           "opel 1900"
          ],
          [
           "chrysler cordoba"
          ],
          [
           "amc rebel sst"
          ],
          [
           "renault 12 (sw)"
          ],
          [
           "amc concord dl 6"
          ],
          [
           "oldsmobile cutlass ciera (diesel)"
          ],
          [
           "datsun b-210"
          ],
          [
           "maxda rx3"
          ],
          [
           "ford fairmont (man)"
          ],
          [
           "mazda 626"
          ],
          [
           "honda accord"
          ],
          [
           "dodge d200"
          ],
          [
           "subaru"
          ],
          [
           "ford pinto"
          ],
          [
           "plymouth fury gran sedan"
          ],
          [
           "datsun 210 mpg"
          ],
          [
           "volkswagen 411 (sw)"
          ]
         ],
         "hovertemplate": "horsepower=%{x}<br>mpg=%{y}<br>name=%{customdata[0]}<extra></extra>",
         "legendgroup": "",
         "marker": {
          "color": "#636efa",
          "symbol": "circle"
         },
         "mode": "markers",
         "name": "",
         "orientation": "v",
         "showlegend": false,
         "type": "scatter",
         "x": [
          105,
          92,
          100,
          95,
          96,
          120,
          170,
          65,
          175,
          80,
          130,
          88,
          88,
          81,
          190,
          150,
          69,
          90,
          85,
          70,
          90,
          88,
          74,
          72,
          210,
          93,
          85,
          150,
          65,
          76
         ],
         "xaxis": "x",
         "y": [
          26.6,
          24,
          15,
          19,
          25.5,
          18.1,
          15.5,
          32,
          14,
          27.4,
          18,
          20.2,
          19,
          25,
          15.5,
          16,
          26,
          20.2,
          38,
          32,
          18,
          25.1,
          31.6,
          32.4,
          11,
          26,
          19,
          14,
          37,
          22
         ],
         "yaxis": "y"
        },
        {
         "name": "Linear Regression",
         "type": "scatter",
         "x": [
          65,
          67.95918367346938,
          70.91836734693878,
          73.87755102040816,
          76.83673469387755,
          79.79591836734694,
          82.75510204081633,
          85.71428571428572,
          88.6734693877551,
          91.63265306122449,
          94.59183673469389,
          97.55102040816327,
          100.51020408163265,
          103.46938775510205,
          106.42857142857143,
          109.38775510204081,
          112.34693877551021,
          115.3061224489796,
          118.26530612244898,
          121.22448979591837,
          124.18367346938776,
          127.14285714285714,
          130.10204081632654,
          133.0612244897959,
          136.0204081632653,
          138.9795918367347,
          141.9387755102041,
          144.89795918367346,
          147.85714285714286,
          150.81632653061223,
          153.77551020408163,
          156.73469387755102,
          159.69387755102042,
          162.6530612244898,
          165.6122448979592,
          168.57142857142856,
          171.53061224489795,
          174.48979591836735,
          177.44897959183675,
          180.40816326530611,
          183.3673469387755,
          186.32653061224488,
          189.28571428571428,
          192.24489795918367,
          195.20408163265307,
          198.16326530612244,
          201.12244897959184,
          204.08163265306123,
          207.0408163265306,
          210
         ],
         "y": [
          28.099608896616978,
          27.702680421604487,
          27.305751946591993,
          26.908823471579502,
          26.51189499656701,
          26.114966521554514,
          25.718038046542024,
          25.321109571529533,
          24.92418109651704,
          24.527252621504545,
          24.13032414649205,
          23.733395671479563,
          23.33646719646707,
          22.939538721454575,
          22.54261024644208,
          22.145681771429594,
          21.7487532964171,
          21.351824821404605,
          20.95489634639211,
          20.55796787137962,
          20.161039396367126,
          19.764110921354636,
          19.36718244634214,
          18.97025397132965,
          18.573325496317157,
          18.176397021304666,
          17.779468546292172,
          17.38254007127968,
          16.985611596267187,
          16.588683121254697,
          16.191754646242202,
          15.794826171229708,
          15.397897696217214,
          15.000969221204727,
          14.604040746192233,
          14.207112271179742,
          13.810183796167248,
          13.413255321154754,
          13.01632684614226,
          12.619398371129769,
          12.222469896117278,
          11.825541421104788,
          11.428612946092294,
          11.0316844710798,
          10.634755996067305,
          10.237827521054815,
          9.84089904604232,
          9.443970571029826,
          9.04704209601734,
          8.650113621004845
         ]
        },
        {
         "line": {
          "color": "lightblue",
          "dash": "dash"
         },
         "name": "Errors (Linear Regression)",
         "type": "scatter",
         "x": [
          null
         ],
         "y": [
          null
         ]
        }
       ],
       "layout": {
        "height": 500,
        "legend": {
         "tracegroupgap": 0
        },
        "margin": {
         "t": 60
        },
        "shapes": [
         {
          "line": {
           "color": "lightblue",
           "dash": "dash"
          },
          "x0": 105,
          "x1": 105,
          "y0": 26.6,
          "y1": 22.73423088955156
         },
         {
          "line": {
           "color": "lightblue",
           "dash": "dash"
          },
          "x0": 92,
          "x1": 92,
          "y0": 24,
          "y1": 24.47797874184782
         },
         {
          "line": {
           "color": "lightblue",
           "dash": "dash"
          },
          "x0": 100,
          "x1": 100,
          "y0": 15,
          "y1": 23.40490314043474
         },
         {
          "line": {
           "color": "lightblue",
           "dash": "dash"
          },
          "x0": 95,
          "x1": 95,
          "y0": 19,
          "y1": 24.07557539131792
         },
         {
          "line": {
           "color": "lightblue",
           "dash": "dash"
          },
          "x0": 96,
          "x1": 96,
          "y0": 25.5,
          "y1": 23.94144094114128
         },
         {
          "line": {
           "color": "lightblue",
           "dash": "dash"
          },
          "x0": 120,
          "x1": 120,
          "y0": 18.1,
          "y1": 20.722214136902032
         },
         {
          "line": {
           "color": "lightblue",
           "dash": "dash"
          },
          "x0": 170,
          "x1": 170,
          "y0": 15.5,
          "y1": 14.015491628070261
         },
         {
          "line": {
           "color": "lightblue",
           "dash": "dash"
          },
          "x0": 65,
          "x1": 65,
          "y0": 32,
          "y1": 28.099608896616978
         },
         {
          "line": {
           "color": "lightblue",
           "dash": "dash"
          },
          "x0": 175,
          "x1": 175,
          "y0": 14,
          "y1": 13.344819377187083
         },
         {
          "line": {
           "color": "lightblue",
           "dash": "dash"
          },
          "x0": 80,
          "x1": 80,
          "y0": 27.4,
          "y1": 26.08759214396745
         },
         {
          "line": {
           "color": "lightblue",
           "dash": "dash"
          },
          "x0": 130,
          "x1": 130,
          "y0": 18,
          "y1": 19.380869635135678
         },
         {
          "line": {
           "color": "lightblue",
           "dash": "dash"
          },
          "x0": 88,
          "x1": 88,
          "y0": 20.2,
          "y1": 25.014516542554365
         },
         {
          "line": {
           "color": "lightblue",
           "dash": "dash"
          },
          "x0": 88,
          "x1": 88,
          "y0": 19,
          "y1": 25.014516542554365
         },
         {
          "line": {
           "color": "lightblue",
           "dash": "dash"
          },
          "x0": 81,
          "x1": 81,
          "y0": 25,
          "y1": 25.953457693790813
         },
         {
          "line": {
           "color": "lightblue",
           "dash": "dash"
          },
          "x0": 190,
          "x1": 190,
          "y0": 15.5,
          "y1": 11.332802624537553
         },
         {
          "line": {
           "color": "lightblue",
           "dash": "dash"
          },
          "x0": 150,
          "x1": 150,
          "y0": 16,
          "y1": 16.69818063160297
         },
         {
          "line": {
           "color": "lightblue",
           "dash": "dash"
          },
          "x0": 69,
          "x1": 69,
          "y0": 26,
          "y1": 27.563071095910438
         },
         {
          "line": {
           "color": "lightblue",
           "dash": "dash"
          },
          "x0": 90,
          "x1": 90,
          "y0": 20.2,
          "y1": 24.746247642201094
         },
         {
          "line": {
           "color": "lightblue",
           "dash": "dash"
          },
          "x0": 85,
          "x1": 85,
          "y0": 38,
          "y1": 25.41691989308427
         },
         {
          "line": {
           "color": "lightblue",
           "dash": "dash"
          },
          "x0": 70,
          "x1": 70,
          "y0": 32,
          "y1": 27.428936645733803
         },
         {
          "line": {
           "color": "lightblue",
           "dash": "dash"
          },
          "x0": 90,
          "x1": 90,
          "y0": 18,
          "y1": 24.746247642201094
         },
         {
          "line": {
           "color": "lightblue",
           "dash": "dash"
          },
          "x0": 88,
          "x1": 88,
          "y0": 25.1,
          "y1": 25.014516542554365
         },
         {
          "line": {
           "color": "lightblue",
           "dash": "dash"
          },
          "x0": 74,
          "x1": 74,
          "y0": 31.6,
          "y1": 26.89239884502726
         },
         {
          "line": {
           "color": "lightblue",
           "dash": "dash"
          },
          "x0": 72,
          "x1": 72,
          "y0": 32.4,
          "y1": 27.16066774538053
         },
         {
          "line": {
           "color": "lightblue",
           "dash": "dash"
          },
          "x0": 210,
          "x1": 210,
          "y0": 11,
          "y1": 8.650113621004845
         },
         {
          "line": {
           "color": "lightblue",
           "dash": "dash"
          },
          "x0": 93,
          "x1": 93,
          "y0": 26,
          "y1": 24.34384429167119
         },
         {
          "line": {
           "color": "lightblue",
           "dash": "dash"
          },
          "x0": 85,
          "x1": 85,
          "y0": 19,
          "y1": 25.41691989308427
         },
         {
          "line": {
           "color": "lightblue",
           "dash": "dash"
          },
          "x0": 150,
          "x1": 150,
          "y0": 14,
          "y1": 16.69818063160297
         },
         {
          "line": {
           "color": "lightblue",
           "dash": "dash"
          },
          "x0": 65,
          "x1": 65,
          "y0": 37,
          "y1": 28.099608896616978
         },
         {
          "line": {
           "color": "lightblue",
           "dash": "dash"
          },
          "x0": 76,
          "x1": 76,
          "y0": 22,
          "y1": 26.62412994467399
         }
        ],
        "template": {
         "data": {
          "bar": [
           {
            "error_x": {
             "color": "#2a3f5f"
            },
            "error_y": {
             "color": "#2a3f5f"
            },
            "marker": {
             "line": {
              "color": "#E5ECF6",
              "width": 0.5
             },
             "pattern": {
              "fillmode": "overlay",
              "size": 10,
              "solidity": 0.2
             }
            },
            "type": "bar"
           }
          ],
          "barpolar": [
           {
            "marker": {
             "line": {
              "color": "#E5ECF6",
              "width": 0.5
             },
             "pattern": {
              "fillmode": "overlay",
              "size": 10,
              "solidity": 0.2
             }
            },
            "type": "barpolar"
           }
          ],
          "carpet": [
           {
            "aaxis": {
             "endlinecolor": "#2a3f5f",
             "gridcolor": "white",
             "linecolor": "white",
             "minorgridcolor": "white",
             "startlinecolor": "#2a3f5f"
            },
            "baxis": {
             "endlinecolor": "#2a3f5f",
             "gridcolor": "white",
             "linecolor": "white",
             "minorgridcolor": "white",
             "startlinecolor": "#2a3f5f"
            },
            "type": "carpet"
           }
          ],
          "choropleth": [
           {
            "colorbar": {
             "outlinewidth": 0,
             "ticks": ""
            },
            "type": "choropleth"
           }
          ],
          "contour": [
           {
            "colorbar": {
             "outlinewidth": 0,
             "ticks": ""
            },
            "colorscale": [
             [
              0,
              "#0d0887"
             ],
             [
              0.1111111111111111,
              "#46039f"
             ],
             [
              0.2222222222222222,
              "#7201a8"
             ],
             [
              0.3333333333333333,
              "#9c179e"
             ],
             [
              0.4444444444444444,
              "#bd3786"
             ],
             [
              0.5555555555555556,
              "#d8576b"
             ],
             [
              0.6666666666666666,
              "#ed7953"
             ],
             [
              0.7777777777777778,
              "#fb9f3a"
             ],
             [
              0.8888888888888888,
              "#fdca26"
             ],
             [
              1,
              "#f0f921"
             ]
            ],
            "type": "contour"
           }
          ],
          "contourcarpet": [
           {
            "colorbar": {
             "outlinewidth": 0,
             "ticks": ""
            },
            "type": "contourcarpet"
           }
          ],
          "heatmap": [
           {
            "colorbar": {
             "outlinewidth": 0,
             "ticks": ""
            },
            "colorscale": [
             [
              0,
              "#0d0887"
             ],
             [
              0.1111111111111111,
              "#46039f"
             ],
             [
              0.2222222222222222,
              "#7201a8"
             ],
             [
              0.3333333333333333,
              "#9c179e"
             ],
             [
              0.4444444444444444,
              "#bd3786"
             ],
             [
              0.5555555555555556,
              "#d8576b"
             ],
             [
              0.6666666666666666,
              "#ed7953"
             ],
             [
              0.7777777777777778,
              "#fb9f3a"
             ],
             [
              0.8888888888888888,
              "#fdca26"
             ],
             [
              1,
              "#f0f921"
             ]
            ],
            "type": "heatmap"
           }
          ],
          "heatmapgl": [
           {
            "colorbar": {
             "outlinewidth": 0,
             "ticks": ""
            },
            "colorscale": [
             [
              0,
              "#0d0887"
             ],
             [
              0.1111111111111111,
              "#46039f"
             ],
             [
              0.2222222222222222,
              "#7201a8"
             ],
             [
              0.3333333333333333,
              "#9c179e"
             ],
             [
              0.4444444444444444,
              "#bd3786"
             ],
             [
              0.5555555555555556,
              "#d8576b"
             ],
             [
              0.6666666666666666,
              "#ed7953"
             ],
             [
              0.7777777777777778,
              "#fb9f3a"
             ],
             [
              0.8888888888888888,
              "#fdca26"
             ],
             [
              1,
              "#f0f921"
             ]
            ],
            "type": "heatmapgl"
           }
          ],
          "histogram": [
           {
            "marker": {
             "pattern": {
              "fillmode": "overlay",
              "size": 10,
              "solidity": 0.2
             }
            },
            "type": "histogram"
           }
          ],
          "histogram2d": [
           {
            "colorbar": {
             "outlinewidth": 0,
             "ticks": ""
            },
            "colorscale": [
             [
              0,
              "#0d0887"
             ],
             [
              0.1111111111111111,
              "#46039f"
             ],
             [
              0.2222222222222222,
              "#7201a8"
             ],
             [
              0.3333333333333333,
              "#9c179e"
             ],
             [
              0.4444444444444444,
              "#bd3786"
             ],
             [
              0.5555555555555556,
              "#d8576b"
             ],
             [
              0.6666666666666666,
              "#ed7953"
             ],
             [
              0.7777777777777778,
              "#fb9f3a"
             ],
             [
              0.8888888888888888,
              "#fdca26"
             ],
             [
              1,
              "#f0f921"
             ]
            ],
            "type": "histogram2d"
           }
          ],
          "histogram2dcontour": [
           {
            "colorbar": {
             "outlinewidth": 0,
             "ticks": ""
            },
            "colorscale": [
             [
              0,
              "#0d0887"
             ],
             [
              0.1111111111111111,
              "#46039f"
             ],
             [
              0.2222222222222222,
              "#7201a8"
             ],
             [
              0.3333333333333333,
              "#9c179e"
             ],
             [
              0.4444444444444444,
              "#bd3786"
             ],
             [
              0.5555555555555556,
              "#d8576b"
             ],
             [
              0.6666666666666666,
              "#ed7953"
             ],
             [
              0.7777777777777778,
              "#fb9f3a"
             ],
             [
              0.8888888888888888,
              "#fdca26"
             ],
             [
              1,
              "#f0f921"
             ]
            ],
            "type": "histogram2dcontour"
           }
          ],
          "mesh3d": [
           {
            "colorbar": {
             "outlinewidth": 0,
             "ticks": ""
            },
            "type": "mesh3d"
           }
          ],
          "parcoords": [
           {
            "line": {
             "colorbar": {
              "outlinewidth": 0,
              "ticks": ""
             }
            },
            "type": "parcoords"
           }
          ],
          "pie": [
           {
            "automargin": true,
            "type": "pie"
           }
          ],
          "scatter": [
           {
            "fillpattern": {
             "fillmode": "overlay",
             "size": 10,
             "solidity": 0.2
            },
            "type": "scatter"
           }
          ],
          "scatter3d": [
           {
            "line": {
             "colorbar": {
              "outlinewidth": 0,
              "ticks": ""
             }
            },
            "marker": {
             "colorbar": {
              "outlinewidth": 0,
              "ticks": ""
             }
            },
            "type": "scatter3d"
           }
          ],
          "scattercarpet": [
           {
            "marker": {
             "colorbar": {
              "outlinewidth": 0,
              "ticks": ""
             }
            },
            "type": "scattercarpet"
           }
          ],
          "scattergeo": [
           {
            "marker": {
             "colorbar": {
              "outlinewidth": 0,
              "ticks": ""
             }
            },
            "type": "scattergeo"
           }
          ],
          "scattergl": [
           {
            "marker": {
             "colorbar": {
              "outlinewidth": 0,
              "ticks": ""
             }
            },
            "type": "scattergl"
           }
          ],
          "scattermapbox": [
           {
            "marker": {
             "colorbar": {
              "outlinewidth": 0,
              "ticks": ""
             }
            },
            "type": "scattermapbox"
           }
          ],
          "scatterpolar": [
           {
            "marker": {
             "colorbar": {
              "outlinewidth": 0,
              "ticks": ""
             }
            },
            "type": "scatterpolar"
           }
          ],
          "scatterpolargl": [
           {
            "marker": {
             "colorbar": {
              "outlinewidth": 0,
              "ticks": ""
             }
            },
            "type": "scatterpolargl"
           }
          ],
          "scatterternary": [
           {
            "marker": {
             "colorbar": {
              "outlinewidth": 0,
              "ticks": ""
             }
            },
            "type": "scatterternary"
           }
          ],
          "surface": [
           {
            "colorbar": {
             "outlinewidth": 0,
             "ticks": ""
            },
            "colorscale": [
             [
              0,
              "#0d0887"
             ],
             [
              0.1111111111111111,
              "#46039f"
             ],
             [
              0.2222222222222222,
              "#7201a8"
             ],
             [
              0.3333333333333333,
              "#9c179e"
             ],
             [
              0.4444444444444444,
              "#bd3786"
             ],
             [
              0.5555555555555556,
              "#d8576b"
             ],
             [
              0.6666666666666666,
              "#ed7953"
             ],
             [
              0.7777777777777778,
              "#fb9f3a"
             ],
             [
              0.8888888888888888,
              "#fdca26"
             ],
             [
              1,
              "#f0f921"
             ]
            ],
            "type": "surface"
           }
          ],
          "table": [
           {
            "cells": {
             "fill": {
              "color": "#EBF0F8"
             },
             "line": {
              "color": "white"
             }
            },
            "header": {
             "fill": {
              "color": "#C8D4E3"
             },
             "line": {
              "color": "white"
             }
            },
            "type": "table"
           }
          ]
         },
         "layout": {
          "annotationdefaults": {
           "arrowcolor": "#2a3f5f",
           "arrowhead": 0,
           "arrowwidth": 1
          },
          "autotypenumbers": "strict",
          "coloraxis": {
           "colorbar": {
            "outlinewidth": 0,
            "ticks": ""
           }
          },
          "colorscale": {
           "diverging": [
            [
             0,
             "#8e0152"
            ],
            [
             0.1,
             "#c51b7d"
            ],
            [
             0.2,
             "#de77ae"
            ],
            [
             0.3,
             "#f1b6da"
            ],
            [
             0.4,
             "#fde0ef"
            ],
            [
             0.5,
             "#f7f7f7"
            ],
            [
             0.6,
             "#e6f5d0"
            ],
            [
             0.7,
             "#b8e186"
            ],
            [
             0.8,
             "#7fbc41"
            ],
            [
             0.9,
             "#4d9221"
            ],
            [
             1,
             "#276419"
            ]
           ],
           "sequential": [
            [
             0,
             "#0d0887"
            ],
            [
             0.1111111111111111,
             "#46039f"
            ],
            [
             0.2222222222222222,
             "#7201a8"
            ],
            [
             0.3333333333333333,
             "#9c179e"
            ],
            [
             0.4444444444444444,
             "#bd3786"
            ],
            [
             0.5555555555555556,
             "#d8576b"
            ],
            [
             0.6666666666666666,
             "#ed7953"
            ],
            [
             0.7777777777777778,
             "#fb9f3a"
            ],
            [
             0.8888888888888888,
             "#fdca26"
            ],
            [
             1,
             "#f0f921"
            ]
           ],
           "sequentialminus": [
            [
             0,
             "#0d0887"
            ],
            [
             0.1111111111111111,
             "#46039f"
            ],
            [
             0.2222222222222222,
             "#7201a8"
            ],
            [
             0.3333333333333333,
             "#9c179e"
            ],
            [
             0.4444444444444444,
             "#bd3786"
            ],
            [
             0.5555555555555556,
             "#d8576b"
            ],
            [
             0.6666666666666666,
             "#ed7953"
            ],
            [
             0.7777777777777778,
             "#fb9f3a"
            ],
            [
             0.8888888888888888,
             "#fdca26"
            ],
            [
             1,
             "#f0f921"
            ]
           ]
          },
          "colorway": [
           "#636efa",
           "#EF553B",
           "#00cc96",
           "#ab63fa",
           "#FFA15A",
           "#19d3f3",
           "#FF6692",
           "#B6E880",
           "#FF97FF",
           "#FECB52"
          ],
          "font": {
           "color": "#2a3f5f"
          },
          "geo": {
           "bgcolor": "white",
           "lakecolor": "white",
           "landcolor": "#E5ECF6",
           "showlakes": true,
           "showland": true,
           "subunitcolor": "white"
          },
          "hoverlabel": {
           "align": "left"
          },
          "hovermode": "closest",
          "mapbox": {
           "style": "light"
          },
          "paper_bgcolor": "white",
          "plot_bgcolor": "#E5ECF6",
          "polar": {
           "angularaxis": {
            "gridcolor": "white",
            "linecolor": "white",
            "ticks": ""
           },
           "bgcolor": "#E5ECF6",
           "radialaxis": {
            "gridcolor": "white",
            "linecolor": "white",
            "ticks": ""
           }
          },
          "scene": {
           "xaxis": {
            "backgroundcolor": "#E5ECF6",
            "gridcolor": "white",
            "gridwidth": 2,
            "linecolor": "white",
            "showbackground": true,
            "ticks": "",
            "zerolinecolor": "white"
           },
           "yaxis": {
            "backgroundcolor": "#E5ECF6",
            "gridcolor": "white",
            "gridwidth": 2,
            "linecolor": "white",
            "showbackground": true,
            "ticks": "",
            "zerolinecolor": "white"
           },
           "zaxis": {
            "backgroundcolor": "#E5ECF6",
            "gridcolor": "white",
            "gridwidth": 2,
            "linecolor": "white",
            "showbackground": true,
            "ticks": "",
            "zerolinecolor": "white"
           }
          },
          "shapedefaults": {
           "line": {
            "color": "#2a3f5f"
           }
          },
          "ternary": {
           "aaxis": {
            "gridcolor": "white",
            "linecolor": "white",
            "ticks": ""
           },
           "baxis": {
            "gridcolor": "white",
            "linecolor": "white",
            "ticks": ""
           },
           "bgcolor": "#E5ECF6",
           "caxis": {
            "gridcolor": "white",
            "linecolor": "white",
            "ticks": ""
           }
          },
          "title": {
           "x": 0.05
          },
          "xaxis": {
           "automargin": true,
           "gridcolor": "white",
           "linecolor": "white",
           "ticks": "",
           "title": {
            "standoff": 15
           },
           "zerolinecolor": "white",
           "zerolinewidth": 2
          },
          "yaxis": {
           "automargin": true,
           "gridcolor": "white",
           "linecolor": "white",
           "ticks": "",
           "title": {
            "standoff": 15
           },
           "zerolinecolor": "white",
           "zerolinewidth": 2
          }
         }
        },
        "title": {
         "text": "RMSE (Linear Regression) = 4.74"
        },
        "width": 700,
        "xaxis": {
         "anchor": "y",
         "domain": [
          0,
          1
         ],
         "title": {
          "text": "horsepower"
         }
        },
        "yaxis": {
         "anchor": "x",
         "domain": [
          0,
          1
         ],
         "title": {
          "text": "mpg"
         }
        }
       }
      },
      "text/html": [
       "<div>                            <div id=\"3931a913-c496-4ea5-9ad0-dca637471467\" class=\"plotly-graph-div\" style=\"height:500px; width:700px;\"></div>            <script type=\"text/javascript\">                require([\"plotly\"], function(Plotly) {                    window.PLOTLYENV=window.PLOTLYENV || {};                                    if (document.getElementById(\"3931a913-c496-4ea5-9ad0-dca637471467\")) {                    Plotly.newPlot(                        \"3931a913-c496-4ea5-9ad0-dca637471467\",                        [{\"customdata\":[[\"oldsmobile cutlass ls\"],[\"ford fairmont futura\"],[\"chevrolet nova\"],[\"plymouth valiant custom\"],[\"plymouth arrow gs\"],[\"amc concord d\\u002fl\"],[\"chevrolet monte carlo landau\"],[\"toyota corolla 1200\"],[\"pontiac catalina brougham\"],[\"amc spirit dl\"],[\"chevrolet chevelle malibu\"],[\"ford granada gl\"],[\"ford torino 500\"],[\"opel 1900\"],[\"chrysler cordoba\"],[\"amc rebel sst\"],[\"renault 12 (sw)\"],[\"amc concord dl 6\"],[\"oldsmobile cutlass ciera (diesel)\"],[\"datsun b-210\"],[\"maxda rx3\"],[\"ford fairmont (man)\"],[\"mazda 626\"],[\"honda accord\"],[\"dodge d200\"],[\"subaru\"],[\"ford pinto\"],[\"plymouth fury gran sedan\"],[\"datsun 210 mpg\"],[\"volkswagen 411 (sw)\"]],\"hovertemplate\":\"horsepower=%{x}\\u003cbr\\u003empg=%{y}\\u003cbr\\u003ename=%{customdata[0]}\\u003cextra\\u003e\\u003c\\u002fextra\\u003e\",\"legendgroup\":\"\",\"marker\":{\"color\":\"#636efa\",\"symbol\":\"circle\"},\"mode\":\"markers\",\"name\":\"\",\"orientation\":\"v\",\"showlegend\":false,\"x\":[105,92,100,95,96,120,170,65,175,80,130,88,88,81,190,150,69,90,85,70,90,88,74,72,210,93,85,150,65,76],\"xaxis\":\"x\",\"y\":[26.6,24.0,15.0,19.0,25.5,18.1,15.5,32.0,14.0,27.4,18.0,20.2,19.0,25.0,15.5,16.0,26.0,20.2,38.0,32.0,18.0,25.1,31.6,32.4,11.0,26.0,19.0,14.0,37.0,22.0],\"yaxis\":\"y\",\"type\":\"scatter\"},{\"name\":\"Linear Regression\",\"x\":[65.0,67.95918367346938,70.91836734693878,73.87755102040816,76.83673469387755,79.79591836734694,82.75510204081633,85.71428571428572,88.6734693877551,91.63265306122449,94.59183673469389,97.55102040816327,100.51020408163265,103.46938775510205,106.42857142857143,109.38775510204081,112.34693877551021,115.3061224489796,118.26530612244898,121.22448979591837,124.18367346938776,127.14285714285714,130.10204081632654,133.0612244897959,136.0204081632653,138.9795918367347,141.9387755102041,144.89795918367346,147.85714285714286,150.81632653061223,153.77551020408163,156.73469387755102,159.69387755102042,162.6530612244898,165.6122448979592,168.57142857142856,171.53061224489795,174.48979591836735,177.44897959183675,180.40816326530611,183.3673469387755,186.32653061224488,189.28571428571428,192.24489795918367,195.20408163265307,198.16326530612244,201.12244897959184,204.08163265306123,207.0408163265306,210.0],\"y\":[28.099608896616978,27.702680421604487,27.305751946591993,26.908823471579502,26.51189499656701,26.114966521554514,25.718038046542024,25.321109571529533,24.92418109651704,24.527252621504545,24.13032414649205,23.733395671479563,23.33646719646707,22.939538721454575,22.54261024644208,22.145681771429594,21.7487532964171,21.351824821404605,20.95489634639211,20.55796787137962,20.161039396367126,19.764110921354636,19.36718244634214,18.97025397132965,18.573325496317157,18.176397021304666,17.779468546292172,17.38254007127968,16.985611596267187,16.588683121254697,16.191754646242202,15.794826171229708,15.397897696217214,15.000969221204727,14.604040746192233,14.207112271179742,13.810183796167248,13.413255321154754,13.01632684614226,12.619398371129769,12.222469896117278,11.825541421104788,11.428612946092294,11.0316844710798,10.634755996067305,10.237827521054815,9.84089904604232,9.443970571029826,9.04704209601734,8.650113621004845],\"type\":\"scatter\"},{\"line\":{\"color\":\"lightblue\",\"dash\":\"dash\"},\"name\":\"Errors (Linear Regression)\",\"x\":[null],\"y\":[null],\"type\":\"scatter\"}],                        {\"template\":{\"data\":{\"histogram2dcontour\":[{\"type\":\"histogram2dcontour\",\"colorbar\":{\"outlinewidth\":0,\"ticks\":\"\"},\"colorscale\":[[0.0,\"#0d0887\"],[0.1111111111111111,\"#46039f\"],[0.2222222222222222,\"#7201a8\"],[0.3333333333333333,\"#9c179e\"],[0.4444444444444444,\"#bd3786\"],[0.5555555555555556,\"#d8576b\"],[0.6666666666666666,\"#ed7953\"],[0.7777777777777778,\"#fb9f3a\"],[0.8888888888888888,\"#fdca26\"],[1.0,\"#f0f921\"]]}],\"choropleth\":[{\"type\":\"choropleth\",\"colorbar\":{\"outlinewidth\":0,\"ticks\":\"\"}}],\"histogram2d\":[{\"type\":\"histogram2d\",\"colorbar\":{\"outlinewidth\":0,\"ticks\":\"\"},\"colorscale\":[[0.0,\"#0d0887\"],[0.1111111111111111,\"#46039f\"],[0.2222222222222222,\"#7201a8\"],[0.3333333333333333,\"#9c179e\"],[0.4444444444444444,\"#bd3786\"],[0.5555555555555556,\"#d8576b\"],[0.6666666666666666,\"#ed7953\"],[0.7777777777777778,\"#fb9f3a\"],[0.8888888888888888,\"#fdca26\"],[1.0,\"#f0f921\"]]}],\"heatmap\":[{\"type\":\"heatmap\",\"colorbar\":{\"outlinewidth\":0,\"ticks\":\"\"},\"colorscale\":[[0.0,\"#0d0887\"],[0.1111111111111111,\"#46039f\"],[0.2222222222222222,\"#7201a8\"],[0.3333333333333333,\"#9c179e\"],[0.4444444444444444,\"#bd3786\"],[0.5555555555555556,\"#d8576b\"],[0.6666666666666666,\"#ed7953\"],[0.7777777777777778,\"#fb9f3a\"],[0.8888888888888888,\"#fdca26\"],[1.0,\"#f0f921\"]]}],\"heatmapgl\":[{\"type\":\"heatmapgl\",\"colorbar\":{\"outlinewidth\":0,\"ticks\":\"\"},\"colorscale\":[[0.0,\"#0d0887\"],[0.1111111111111111,\"#46039f\"],[0.2222222222222222,\"#7201a8\"],[0.3333333333333333,\"#9c179e\"],[0.4444444444444444,\"#bd3786\"],[0.5555555555555556,\"#d8576b\"],[0.6666666666666666,\"#ed7953\"],[0.7777777777777778,\"#fb9f3a\"],[0.8888888888888888,\"#fdca26\"],[1.0,\"#f0f921\"]]}],\"contourcarpet\":[{\"type\":\"contourcarpet\",\"colorbar\":{\"outlinewidth\":0,\"ticks\":\"\"}}],\"contour\":[{\"type\":\"contour\",\"colorbar\":{\"outlinewidth\":0,\"ticks\":\"\"},\"colorscale\":[[0.0,\"#0d0887\"],[0.1111111111111111,\"#46039f\"],[0.2222222222222222,\"#7201a8\"],[0.3333333333333333,\"#9c179e\"],[0.4444444444444444,\"#bd3786\"],[0.5555555555555556,\"#d8576b\"],[0.6666666666666666,\"#ed7953\"],[0.7777777777777778,\"#fb9f3a\"],[0.8888888888888888,\"#fdca26\"],[1.0,\"#f0f921\"]]}],\"surface\":[{\"type\":\"surface\",\"colorbar\":{\"outlinewidth\":0,\"ticks\":\"\"},\"colorscale\":[[0.0,\"#0d0887\"],[0.1111111111111111,\"#46039f\"],[0.2222222222222222,\"#7201a8\"],[0.3333333333333333,\"#9c179e\"],[0.4444444444444444,\"#bd3786\"],[0.5555555555555556,\"#d8576b\"],[0.6666666666666666,\"#ed7953\"],[0.7777777777777778,\"#fb9f3a\"],[0.8888888888888888,\"#fdca26\"],[1.0,\"#f0f921\"]]}],\"mesh3d\":[{\"type\":\"mesh3d\",\"colorbar\":{\"outlinewidth\":0,\"ticks\":\"\"}}],\"scatter\":[{\"fillpattern\":{\"fillmode\":\"overlay\",\"size\":10,\"solidity\":0.2},\"type\":\"scatter\"}],\"parcoords\":[{\"type\":\"parcoords\",\"line\":{\"colorbar\":{\"outlinewidth\":0,\"ticks\":\"\"}}}],\"scatterpolargl\":[{\"type\":\"scatterpolargl\",\"marker\":{\"colorbar\":{\"outlinewidth\":0,\"ticks\":\"\"}}}],\"bar\":[{\"error_x\":{\"color\":\"#2a3f5f\"},\"error_y\":{\"color\":\"#2a3f5f\"},\"marker\":{\"line\":{\"color\":\"#E5ECF6\",\"width\":0.5},\"pattern\":{\"fillmode\":\"overlay\",\"size\":10,\"solidity\":0.2}},\"type\":\"bar\"}],\"scattergeo\":[{\"type\":\"scattergeo\",\"marker\":{\"colorbar\":{\"outlinewidth\":0,\"ticks\":\"\"}}}],\"scatterpolar\":[{\"type\":\"scatterpolar\",\"marker\":{\"colorbar\":{\"outlinewidth\":0,\"ticks\":\"\"}}}],\"histogram\":[{\"marker\":{\"pattern\":{\"fillmode\":\"overlay\",\"size\":10,\"solidity\":0.2}},\"type\":\"histogram\"}],\"scattergl\":[{\"type\":\"scattergl\",\"marker\":{\"colorbar\":{\"outlinewidth\":0,\"ticks\":\"\"}}}],\"scatter3d\":[{\"type\":\"scatter3d\",\"line\":{\"colorbar\":{\"outlinewidth\":0,\"ticks\":\"\"}},\"marker\":{\"colorbar\":{\"outlinewidth\":0,\"ticks\":\"\"}}}],\"scattermapbox\":[{\"type\":\"scattermapbox\",\"marker\":{\"colorbar\":{\"outlinewidth\":0,\"ticks\":\"\"}}}],\"scatterternary\":[{\"type\":\"scatterternary\",\"marker\":{\"colorbar\":{\"outlinewidth\":0,\"ticks\":\"\"}}}],\"scattercarpet\":[{\"type\":\"scattercarpet\",\"marker\":{\"colorbar\":{\"outlinewidth\":0,\"ticks\":\"\"}}}],\"carpet\":[{\"aaxis\":{\"endlinecolor\":\"#2a3f5f\",\"gridcolor\":\"white\",\"linecolor\":\"white\",\"minorgridcolor\":\"white\",\"startlinecolor\":\"#2a3f5f\"},\"baxis\":{\"endlinecolor\":\"#2a3f5f\",\"gridcolor\":\"white\",\"linecolor\":\"white\",\"minorgridcolor\":\"white\",\"startlinecolor\":\"#2a3f5f\"},\"type\":\"carpet\"}],\"table\":[{\"cells\":{\"fill\":{\"color\":\"#EBF0F8\"},\"line\":{\"color\":\"white\"}},\"header\":{\"fill\":{\"color\":\"#C8D4E3\"},\"line\":{\"color\":\"white\"}},\"type\":\"table\"}],\"barpolar\":[{\"marker\":{\"line\":{\"color\":\"#E5ECF6\",\"width\":0.5},\"pattern\":{\"fillmode\":\"overlay\",\"size\":10,\"solidity\":0.2}},\"type\":\"barpolar\"}],\"pie\":[{\"automargin\":true,\"type\":\"pie\"}]},\"layout\":{\"autotypenumbers\":\"strict\",\"colorway\":[\"#636efa\",\"#EF553B\",\"#00cc96\",\"#ab63fa\",\"#FFA15A\",\"#19d3f3\",\"#FF6692\",\"#B6E880\",\"#FF97FF\",\"#FECB52\"],\"font\":{\"color\":\"#2a3f5f\"},\"hovermode\":\"closest\",\"hoverlabel\":{\"align\":\"left\"},\"paper_bgcolor\":\"white\",\"plot_bgcolor\":\"#E5ECF6\",\"polar\":{\"bgcolor\":\"#E5ECF6\",\"angularaxis\":{\"gridcolor\":\"white\",\"linecolor\":\"white\",\"ticks\":\"\"},\"radialaxis\":{\"gridcolor\":\"white\",\"linecolor\":\"white\",\"ticks\":\"\"}},\"ternary\":{\"bgcolor\":\"#E5ECF6\",\"aaxis\":{\"gridcolor\":\"white\",\"linecolor\":\"white\",\"ticks\":\"\"},\"baxis\":{\"gridcolor\":\"white\",\"linecolor\":\"white\",\"ticks\":\"\"},\"caxis\":{\"gridcolor\":\"white\",\"linecolor\":\"white\",\"ticks\":\"\"}},\"coloraxis\":{\"colorbar\":{\"outlinewidth\":0,\"ticks\":\"\"}},\"colorscale\":{\"sequential\":[[0.0,\"#0d0887\"],[0.1111111111111111,\"#46039f\"],[0.2222222222222222,\"#7201a8\"],[0.3333333333333333,\"#9c179e\"],[0.4444444444444444,\"#bd3786\"],[0.5555555555555556,\"#d8576b\"],[0.6666666666666666,\"#ed7953\"],[0.7777777777777778,\"#fb9f3a\"],[0.8888888888888888,\"#fdca26\"],[1.0,\"#f0f921\"]],\"sequentialminus\":[[0.0,\"#0d0887\"],[0.1111111111111111,\"#46039f\"],[0.2222222222222222,\"#7201a8\"],[0.3333333333333333,\"#9c179e\"],[0.4444444444444444,\"#bd3786\"],[0.5555555555555556,\"#d8576b\"],[0.6666666666666666,\"#ed7953\"],[0.7777777777777778,\"#fb9f3a\"],[0.8888888888888888,\"#fdca26\"],[1.0,\"#f0f921\"]],\"diverging\":[[0,\"#8e0152\"],[0.1,\"#c51b7d\"],[0.2,\"#de77ae\"],[0.3,\"#f1b6da\"],[0.4,\"#fde0ef\"],[0.5,\"#f7f7f7\"],[0.6,\"#e6f5d0\"],[0.7,\"#b8e186\"],[0.8,\"#7fbc41\"],[0.9,\"#4d9221\"],[1,\"#276419\"]]},\"xaxis\":{\"gridcolor\":\"white\",\"linecolor\":\"white\",\"ticks\":\"\",\"title\":{\"standoff\":15},\"zerolinecolor\":\"white\",\"automargin\":true,\"zerolinewidth\":2},\"yaxis\":{\"gridcolor\":\"white\",\"linecolor\":\"white\",\"ticks\":\"\",\"title\":{\"standoff\":15},\"zerolinecolor\":\"white\",\"automargin\":true,\"zerolinewidth\":2},\"scene\":{\"xaxis\":{\"backgroundcolor\":\"#E5ECF6\",\"gridcolor\":\"white\",\"linecolor\":\"white\",\"showbackground\":true,\"ticks\":\"\",\"zerolinecolor\":\"white\",\"gridwidth\":2},\"yaxis\":{\"backgroundcolor\":\"#E5ECF6\",\"gridcolor\":\"white\",\"linecolor\":\"white\",\"showbackground\":true,\"ticks\":\"\",\"zerolinecolor\":\"white\",\"gridwidth\":2},\"zaxis\":{\"backgroundcolor\":\"#E5ECF6\",\"gridcolor\":\"white\",\"linecolor\":\"white\",\"showbackground\":true,\"ticks\":\"\",\"zerolinecolor\":\"white\",\"gridwidth\":2}},\"shapedefaults\":{\"line\":{\"color\":\"#2a3f5f\"}},\"annotationdefaults\":{\"arrowcolor\":\"#2a3f5f\",\"arrowhead\":0,\"arrowwidth\":1},\"geo\":{\"bgcolor\":\"white\",\"landcolor\":\"#E5ECF6\",\"subunitcolor\":\"white\",\"showland\":true,\"showlakes\":true,\"lakecolor\":\"white\"},\"title\":{\"x\":0.05},\"mapbox\":{\"style\":\"light\"}}},\"xaxis\":{\"anchor\":\"y\",\"domain\":[0.0,1.0],\"title\":{\"text\":\"horsepower\"}},\"yaxis\":{\"anchor\":\"x\",\"domain\":[0.0,1.0],\"title\":{\"text\":\"mpg\"}},\"legend\":{\"tracegroupgap\":0},\"margin\":{\"t\":60},\"shapes\":[{\"line\":{\"color\":\"lightblue\",\"dash\":\"dash\"},\"x0\":105,\"x1\":105,\"y0\":26.6,\"y1\":22.73423088955156},{\"line\":{\"color\":\"lightblue\",\"dash\":\"dash\"},\"x0\":92,\"x1\":92,\"y0\":24.0,\"y1\":24.47797874184782},{\"line\":{\"color\":\"lightblue\",\"dash\":\"dash\"},\"x0\":100,\"x1\":100,\"y0\":15.0,\"y1\":23.40490314043474},{\"line\":{\"color\":\"lightblue\",\"dash\":\"dash\"},\"x0\":95,\"x1\":95,\"y0\":19.0,\"y1\":24.07557539131792},{\"line\":{\"color\":\"lightblue\",\"dash\":\"dash\"},\"x0\":96,\"x1\":96,\"y0\":25.5,\"y1\":23.94144094114128},{\"line\":{\"color\":\"lightblue\",\"dash\":\"dash\"},\"x0\":120,\"x1\":120,\"y0\":18.1,\"y1\":20.722214136902032},{\"line\":{\"color\":\"lightblue\",\"dash\":\"dash\"},\"x0\":170,\"x1\":170,\"y0\":15.5,\"y1\":14.015491628070261},{\"line\":{\"color\":\"lightblue\",\"dash\":\"dash\"},\"x0\":65,\"x1\":65,\"y0\":32.0,\"y1\":28.099608896616978},{\"line\":{\"color\":\"lightblue\",\"dash\":\"dash\"},\"x0\":175,\"x1\":175,\"y0\":14.0,\"y1\":13.344819377187083},{\"line\":{\"color\":\"lightblue\",\"dash\":\"dash\"},\"x0\":80,\"x1\":80,\"y0\":27.4,\"y1\":26.08759214396745},{\"line\":{\"color\":\"lightblue\",\"dash\":\"dash\"},\"x0\":130,\"x1\":130,\"y0\":18.0,\"y1\":19.380869635135678},{\"line\":{\"color\":\"lightblue\",\"dash\":\"dash\"},\"x0\":88,\"x1\":88,\"y0\":20.2,\"y1\":25.014516542554365},{\"line\":{\"color\":\"lightblue\",\"dash\":\"dash\"},\"x0\":88,\"x1\":88,\"y0\":19.0,\"y1\":25.014516542554365},{\"line\":{\"color\":\"lightblue\",\"dash\":\"dash\"},\"x0\":81,\"x1\":81,\"y0\":25.0,\"y1\":25.953457693790813},{\"line\":{\"color\":\"lightblue\",\"dash\":\"dash\"},\"x0\":190,\"x1\":190,\"y0\":15.5,\"y1\":11.332802624537553},{\"line\":{\"color\":\"lightblue\",\"dash\":\"dash\"},\"x0\":150,\"x1\":150,\"y0\":16.0,\"y1\":16.69818063160297},{\"line\":{\"color\":\"lightblue\",\"dash\":\"dash\"},\"x0\":69,\"x1\":69,\"y0\":26.0,\"y1\":27.563071095910438},{\"line\":{\"color\":\"lightblue\",\"dash\":\"dash\"},\"x0\":90,\"x1\":90,\"y0\":20.2,\"y1\":24.746247642201094},{\"line\":{\"color\":\"lightblue\",\"dash\":\"dash\"},\"x0\":85,\"x1\":85,\"y0\":38.0,\"y1\":25.41691989308427},{\"line\":{\"color\":\"lightblue\",\"dash\":\"dash\"},\"x0\":70,\"x1\":70,\"y0\":32.0,\"y1\":27.428936645733803},{\"line\":{\"color\":\"lightblue\",\"dash\":\"dash\"},\"x0\":90,\"x1\":90,\"y0\":18.0,\"y1\":24.746247642201094},{\"line\":{\"color\":\"lightblue\",\"dash\":\"dash\"},\"x0\":88,\"x1\":88,\"y0\":25.1,\"y1\":25.014516542554365},{\"line\":{\"color\":\"lightblue\",\"dash\":\"dash\"},\"x0\":74,\"x1\":74,\"y0\":31.6,\"y1\":26.89239884502726},{\"line\":{\"color\":\"lightblue\",\"dash\":\"dash\"},\"x0\":72,\"x1\":72,\"y0\":32.4,\"y1\":27.16066774538053},{\"line\":{\"color\":\"lightblue\",\"dash\":\"dash\"},\"x0\":210,\"x1\":210,\"y0\":11.0,\"y1\":8.650113621004845},{\"line\":{\"color\":\"lightblue\",\"dash\":\"dash\"},\"x0\":93,\"x1\":93,\"y0\":26.0,\"y1\":24.34384429167119},{\"line\":{\"color\":\"lightblue\",\"dash\":\"dash\"},\"x0\":85,\"x1\":85,\"y0\":19.0,\"y1\":25.41691989308427},{\"line\":{\"color\":\"lightblue\",\"dash\":\"dash\"},\"x0\":150,\"x1\":150,\"y0\":14.0,\"y1\":16.69818063160297},{\"line\":{\"color\":\"lightblue\",\"dash\":\"dash\"},\"x0\":65,\"x1\":65,\"y0\":37.0,\"y1\":28.099608896616978},{\"line\":{\"color\":\"lightblue\",\"dash\":\"dash\"},\"x0\":76,\"x1\":76,\"y0\":22.0,\"y1\":26.62412994467399}],\"width\":700,\"height\":500,\"title\":{\"text\":\"RMSE (Linear Regression) = 4.74\"}},                        {\"responsive\": true}                    ).then(function(){\n",
       "                            \n",
       "var gd = document.getElementById('3931a913-c496-4ea5-9ad0-dca637471467');\n",
       "var x = new MutationObserver(function (mutations, observer) {{\n",
       "        var display = window.getComputedStyle(gd).display;\n",
       "        if (!display || display === 'none') {{\n",
       "            console.log([gd, 'removed!']);\n",
       "            Plotly.purge(gd);\n",
       "            observer.disconnect();\n",
       "        }}\n",
       "}});\n",
       "\n",
       "// Listen for the removal of the full notebook cells\n",
       "var notebookContainer = gd.closest('#notebook-container');\n",
       "if (notebookContainer) {{\n",
       "    x.observe(notebookContainer, {childList: true});\n",
       "}}\n",
       "\n",
       "// Listen for the clearing of the current output cell\n",
       "var outputEl = gd.closest('.output');\n",
       "if (outputEl) {{\n",
       "    x.observe(outputEl, {childList: true});\n",
       "}}\n",
       "\n",
       "                        })                };                });            </script>        </div>"
      ]
     },
     "metadata": {},
     "output_type": "display_data"
    },
    {
     "data": {
      "application/vnd.plotly.v1+json": {
       "config": {
        "plotlyServerURL": "https://plot.ly"
       },
       "data": [
        {
         "customdata": [
          [
           "oldsmobile cutlass ls"
          ],
          [
           "ford fairmont futura"
          ],
          [
           "chevrolet nova"
          ],
          [
           "plymouth valiant custom"
          ],
          [
           "plymouth arrow gs"
          ],
          [
           "amc concord d/l"
          ],
          [
           "chevrolet monte carlo landau"
          ],
          [
           "toyota corolla 1200"
          ],
          [
           "pontiac catalina brougham"
          ],
          [
           "amc spirit dl"
          ],
          [
           "chevrolet chevelle malibu"
          ],
          [
           "ford granada gl"
          ],
          [
           "ford torino 500"
          ],
          [
           "opel 1900"
          ],
          [
           "chrysler cordoba"
          ],
          [
           "amc rebel sst"
          ],
          [
           "renault 12 (sw)"
          ],
          [
           "amc concord dl 6"
          ],
          [
           "oldsmobile cutlass ciera (diesel)"
          ],
          [
           "datsun b-210"
          ],
          [
           "maxda rx3"
          ],
          [
           "ford fairmont (man)"
          ],
          [
           "mazda 626"
          ],
          [
           "honda accord"
          ],
          [
           "dodge d200"
          ],
          [
           "subaru"
          ],
          [
           "ford pinto"
          ],
          [
           "plymouth fury gran sedan"
          ],
          [
           "datsun 210 mpg"
          ],
          [
           "volkswagen 411 (sw)"
          ]
         ],
         "hovertemplate": "horsepower=%{x}<br>mpg=%{y}<br>name=%{customdata[0]}<extra></extra>",
         "legendgroup": "",
         "marker": {
          "color": "#636efa",
          "symbol": "circle"
         },
         "mode": "markers",
         "name": "",
         "orientation": "v",
         "showlegend": false,
         "type": "scatter",
         "x": [
          105,
          92,
          100,
          95,
          96,
          120,
          170,
          65,
          175,
          80,
          130,
          88,
          88,
          81,
          190,
          150,
          69,
          90,
          85,
          70,
          90,
          88,
          74,
          72,
          210,
          93,
          85,
          150,
          65,
          76
         ],
         "xaxis": "x",
         "y": [
          26.6,
          24,
          15,
          19,
          25.5,
          18.1,
          15.5,
          32,
          14,
          27.4,
          18,
          20.2,
          19,
          25,
          15.5,
          16,
          26,
          20.2,
          38,
          32,
          18,
          25.1,
          31.6,
          32.4,
          11,
          26,
          19,
          14,
          37,
          22
         ],
         "yaxis": "y"
        },
        {
         "line": {
          "color": "darkblue"
         },
         "name": "Quadratic Regression",
         "type": "scatter",
         "x": [
          65,
          67.95918367346938,
          70.91836734693878,
          73.87755102040816,
          76.83673469387755,
          79.79591836734694,
          82.75510204081633,
          85.71428571428572,
          88.6734693877551,
          91.63265306122449,
          94.59183673469389,
          97.55102040816327,
          100.51020408163265,
          103.46938775510205,
          106.42857142857143,
          109.38775510204081,
          112.34693877551021,
          115.3061224489796,
          118.26530612244898,
          121.22448979591837,
          124.18367346938776,
          127.14285714285714,
          130.10204081632654,
          133.0612244897959,
          136.0204081632653,
          138.9795918367347,
          141.9387755102041,
          144.89795918367346,
          147.85714285714286,
          150.81632653061223,
          153.77551020408163,
          156.73469387755102,
          159.69387755102042,
          162.6530612244898,
          165.6122448979592,
          168.57142857142856,
          171.53061224489795,
          174.48979591836735,
          177.44897959183675,
          180.40816326530611,
          183.3673469387755,
          186.32653061224488,
          189.28571428571428,
          192.24489795918367,
          195.20408163265307,
          198.16326530612244,
          201.12244897959184,
          204.08163265306123,
          207.0408163265306,
          210
         ],
         "y": [
          31.035351630447202,
          30.10996709260202,
          29.209262010783384,
          28.333236384991302,
          27.48189021522578,
          26.6552235014868,
          25.853236243774383,
          25.075928442088504,
          24.32330009642919,
          23.595351206796426,
          22.892081773190213,
          22.213491795610558,
          21.559581274057454,
          20.9303502085309,
          20.325798599030897,
          19.745926445557448,
          19.190733748110553,
          18.660220506690212,
          18.154386721296426,
          17.67323239192919,
          17.216757518588498,
          16.78496210127437,
          16.377846139986794,
          15.995409634725775,
          15.637652585491296,
          15.30457499228337,
          14.996176855102007,
          14.712458173947187,
          14.453418948818936,
          14.21905917971722,
          14.00937886664206,
          13.82437800959346,
          13.664056608571407,
          13.528414663575916,
          13.417452174606964,
          13.331169141664581,
          13.269565564748738,
          13.232641443859436,
          13.220396778996715,
          13.232831570160528,
          13.269945817350909,
          13.331739520567822,
          13.418212679811305,
          13.529365295081334,
          13.665197366377903,
          13.825708893701048,
          14.010899877050733,
          14.220770316426986,
          14.455320211829772,
          14.71454956325912
         ]
        },
        {
         "line": {
          "color": "gold",
          "dash": "dash"
         },
         "name": "Errors (Quadratic Regression)",
         "type": "scatter",
         "x": [
          null
         ],
         "y": [
          null
         ]
        }
       ],
       "layout": {
        "height": 500,
        "legend": {
         "tracegroupgap": 0
        },
        "margin": {
         "t": 60
        },
        "shapes": [
         {
          "line": {
           "color": "gold",
           "dash": "dash"
          },
          "x0": 105,
          "x1": 105,
          "y0": 26.6,
          "y1": 20.61456983633674
         },
         {
          "line": {
           "color": "gold",
           "dash": "dash"
          },
          "x0": 92,
          "x1": 92,
          "y0": 24,
          "y1": 23.50670712404016
         },
         {
          "line": {
           "color": "gold",
           "dash": "dash"
          },
          "x0": 100,
          "x1": 100,
          "y0": 15,
          "y1": 21.67056374523891
         },
         {
          "line": {
           "color": "gold",
           "dash": "dash"
          },
          "x0": 95,
          "x1": 95,
          "y0": 19,
          "y1": 22.79701588710155
         },
         {
          "line": {
           "color": "gold",
           "dash": "dash"
          },
          "x0": 96,
          "x1": 96,
          "y0": 25.5,
          "y1": 22.56608880009219
         },
         {
          "line": {
           "color": "gold",
           "dash": "dash"
          },
          "x0": 120,
          "x1": 120,
          "y0": 18.1,
          "y1": 17.869337507393023
         },
         {
          "line": {
           "color": "gold",
           "dash": "dash"
          },
          "x0": 170,
          "x1": 170,
          "y0": 15.5,
          "y1": 13.29834822001105
         },
         {
          "line": {
           "color": "gold",
           "dash": "dash"
          },
          "x0": 65,
          "x1": 65,
          "y0": 32,
          "y1": 31.035351630447202
         },
         {
          "line": {
           "color": "gold",
           "dash": "dash"
          },
          "x0": 175,
          "x1": 175,
          "y0": 14,
          "y1": 13.228769572555422
         },
         {
          "line": {
           "color": "gold",
           "dash": "dash"
          },
          "x0": 80,
          "x1": 80,
          "y0": 27.4,
          "y1": 26.599121710452273
         },
         {
          "line": {
           "color": "gold",
           "dash": "dash"
          },
          "x0": 130,
          "x1": 130,
          "y0": 18,
          "y1": 16.391473786232886
         },
         {
          "line": {
           "color": "gold",
           "dash": "dash"
          },
          "x0": 88,
          "x1": 88,
          "y0": 20.2,
          "y1": 24.492418717082835
         },
         {
          "line": {
           "color": "gold",
           "dash": "dash"
          },
          "x0": 88,
          "x1": 88,
          "y0": 19,
          "y1": 24.492418717082835
         },
         {
          "line": {
           "color": "gold",
           "dash": "dash"
          },
          "x0": 81,
          "x1": 81,
          "y0": 25,
          "y1": 26.32591968366663
         },
         {
          "line": {
           "color": "gold",
           "dash": "dash"
          },
          "x0": 190,
          "x1": 190,
          "y0": 15.5,
          "y1": 13.442783027951336
         },
         {
          "line": {
           "color": "gold",
           "dash": "dash"
          },
          "x0": 150,
          "x1": 150,
          "y0": 16,
          "y1": 14.281245139438226
         },
         {
          "line": {
           "color": "gold",
           "dash": "dash"
          },
          "x0": 69,
          "x1": 69,
          "y0": 26,
          "y1": 29.79035374011001
         },
         {
          "line": {
           "color": "gold",
           "dash": "dash"
          },
          "x0": 90,
          "x1": 90,
          "y0": 20.2,
          "y1": 23.99392626192466
         },
         {
          "line": {
           "color": "gold",
           "dash": "dash"
          },
          "x0": 85,
          "x1": 85,
          "y0": 38,
          "y1": 25.261294869708237
         },
         {
          "line": {
           "color": "gold",
           "dash": "dash"
          },
          "x0": 70,
          "x1": 70,
          "y0": 32,
          "y1": 29.486150090821763
         },
         {
          "line": {
           "color": "gold",
           "dash": "dash"
          },
          "x0": 90,
          "x1": 90,
          "y0": 18,
          "y1": 23.99392626192466
         },
         {
          "line": {
           "color": "gold",
           "dash": "dash"
          },
          "x0": 88,
          "x1": 88,
          "y0": 25.1,
          "y1": 24.492418717082835
         },
         {
          "line": {
           "color": "gold",
           "dash": "dash"
          },
          "x0": 74,
          "x1": 74,
          "y0": 31.6,
          "y1": 28.297518786852944
         },
         {
          "line": {
           "color": "gold",
           "dash": "dash"
          },
          "x0": 72,
          "x1": 72,
          "y0": 32.4,
          "y1": 28.88619778020052
         },
         {
          "line": {
           "color": "gold",
           "dash": "dash"
          },
          "x0": 210,
          "x1": 210,
          "y0": 11,
          "y1": 14.71454956325912
         },
         {
          "line": {
           "color": "gold",
           "dash": "dash"
          },
          "x0": 93,
          "x1": 93,
          "y0": 26,
          "y1": 23.267325049075538
         },
         {
          "line": {
           "color": "gold",
           "dash": "dash"
          },
          "x0": 85,
          "x1": 85,
          "y0": 19,
          "y1": 25.261294869708237
         },
         {
          "line": {
           "color": "gold",
           "dash": "dash"
          },
          "x0": 150,
          "x1": 150,
          "y0": 14,
          "y1": 14.281245139438226
         },
         {
          "line": {
           "color": "gold",
           "dash": "dash"
          },
          "x0": 65,
          "x1": 65,
          "y0": 37,
          "y1": 31.035351630447202
         },
         {
          "line": {
           "color": "gold",
           "dash": "dash"
          },
          "x0": 76,
          "x1": 76,
          "y0": 22,
          "y1": 27.72011311077904
         }
        ],
        "template": {
         "data": {
          "bar": [
           {
            "error_x": {
             "color": "#2a3f5f"
            },
            "error_y": {
             "color": "#2a3f5f"
            },
            "marker": {
             "line": {
              "color": "#E5ECF6",
              "width": 0.5
             },
             "pattern": {
              "fillmode": "overlay",
              "size": 10,
              "solidity": 0.2
             }
            },
            "type": "bar"
           }
          ],
          "barpolar": [
           {
            "marker": {
             "line": {
              "color": "#E5ECF6",
              "width": 0.5
             },
             "pattern": {
              "fillmode": "overlay",
              "size": 10,
              "solidity": 0.2
             }
            },
            "type": "barpolar"
           }
          ],
          "carpet": [
           {
            "aaxis": {
             "endlinecolor": "#2a3f5f",
             "gridcolor": "white",
             "linecolor": "white",
             "minorgridcolor": "white",
             "startlinecolor": "#2a3f5f"
            },
            "baxis": {
             "endlinecolor": "#2a3f5f",
             "gridcolor": "white",
             "linecolor": "white",
             "minorgridcolor": "white",
             "startlinecolor": "#2a3f5f"
            },
            "type": "carpet"
           }
          ],
          "choropleth": [
           {
            "colorbar": {
             "outlinewidth": 0,
             "ticks": ""
            },
            "type": "choropleth"
           }
          ],
          "contour": [
           {
            "colorbar": {
             "outlinewidth": 0,
             "ticks": ""
            },
            "colorscale": [
             [
              0,
              "#0d0887"
             ],
             [
              0.1111111111111111,
              "#46039f"
             ],
             [
              0.2222222222222222,
              "#7201a8"
             ],
             [
              0.3333333333333333,
              "#9c179e"
             ],
             [
              0.4444444444444444,
              "#bd3786"
             ],
             [
              0.5555555555555556,
              "#d8576b"
             ],
             [
              0.6666666666666666,
              "#ed7953"
             ],
             [
              0.7777777777777778,
              "#fb9f3a"
             ],
             [
              0.8888888888888888,
              "#fdca26"
             ],
             [
              1,
              "#f0f921"
             ]
            ],
            "type": "contour"
           }
          ],
          "contourcarpet": [
           {
            "colorbar": {
             "outlinewidth": 0,
             "ticks": ""
            },
            "type": "contourcarpet"
           }
          ],
          "heatmap": [
           {
            "colorbar": {
             "outlinewidth": 0,
             "ticks": ""
            },
            "colorscale": [
             [
              0,
              "#0d0887"
             ],
             [
              0.1111111111111111,
              "#46039f"
             ],
             [
              0.2222222222222222,
              "#7201a8"
             ],
             [
              0.3333333333333333,
              "#9c179e"
             ],
             [
              0.4444444444444444,
              "#bd3786"
             ],
             [
              0.5555555555555556,
              "#d8576b"
             ],
             [
              0.6666666666666666,
              "#ed7953"
             ],
             [
              0.7777777777777778,
              "#fb9f3a"
             ],
             [
              0.8888888888888888,
              "#fdca26"
             ],
             [
              1,
              "#f0f921"
             ]
            ],
            "type": "heatmap"
           }
          ],
          "heatmapgl": [
           {
            "colorbar": {
             "outlinewidth": 0,
             "ticks": ""
            },
            "colorscale": [
             [
              0,
              "#0d0887"
             ],
             [
              0.1111111111111111,
              "#46039f"
             ],
             [
              0.2222222222222222,
              "#7201a8"
             ],
             [
              0.3333333333333333,
              "#9c179e"
             ],
             [
              0.4444444444444444,
              "#bd3786"
             ],
             [
              0.5555555555555556,
              "#d8576b"
             ],
             [
              0.6666666666666666,
              "#ed7953"
             ],
             [
              0.7777777777777778,
              "#fb9f3a"
             ],
             [
              0.8888888888888888,
              "#fdca26"
             ],
             [
              1,
              "#f0f921"
             ]
            ],
            "type": "heatmapgl"
           }
          ],
          "histogram": [
           {
            "marker": {
             "pattern": {
              "fillmode": "overlay",
              "size": 10,
              "solidity": 0.2
             }
            },
            "type": "histogram"
           }
          ],
          "histogram2d": [
           {
            "colorbar": {
             "outlinewidth": 0,
             "ticks": ""
            },
            "colorscale": [
             [
              0,
              "#0d0887"
             ],
             [
              0.1111111111111111,
              "#46039f"
             ],
             [
              0.2222222222222222,
              "#7201a8"
             ],
             [
              0.3333333333333333,
              "#9c179e"
             ],
             [
              0.4444444444444444,
              "#bd3786"
             ],
             [
              0.5555555555555556,
              "#d8576b"
             ],
             [
              0.6666666666666666,
              "#ed7953"
             ],
             [
              0.7777777777777778,
              "#fb9f3a"
             ],
             [
              0.8888888888888888,
              "#fdca26"
             ],
             [
              1,
              "#f0f921"
             ]
            ],
            "type": "histogram2d"
           }
          ],
          "histogram2dcontour": [
           {
            "colorbar": {
             "outlinewidth": 0,
             "ticks": ""
            },
            "colorscale": [
             [
              0,
              "#0d0887"
             ],
             [
              0.1111111111111111,
              "#46039f"
             ],
             [
              0.2222222222222222,
              "#7201a8"
             ],
             [
              0.3333333333333333,
              "#9c179e"
             ],
             [
              0.4444444444444444,
              "#bd3786"
             ],
             [
              0.5555555555555556,
              "#d8576b"
             ],
             [
              0.6666666666666666,
              "#ed7953"
             ],
             [
              0.7777777777777778,
              "#fb9f3a"
             ],
             [
              0.8888888888888888,
              "#fdca26"
             ],
             [
              1,
              "#f0f921"
             ]
            ],
            "type": "histogram2dcontour"
           }
          ],
          "mesh3d": [
           {
            "colorbar": {
             "outlinewidth": 0,
             "ticks": ""
            },
            "type": "mesh3d"
           }
          ],
          "parcoords": [
           {
            "line": {
             "colorbar": {
              "outlinewidth": 0,
              "ticks": ""
             }
            },
            "type": "parcoords"
           }
          ],
          "pie": [
           {
            "automargin": true,
            "type": "pie"
           }
          ],
          "scatter": [
           {
            "fillpattern": {
             "fillmode": "overlay",
             "size": 10,
             "solidity": 0.2
            },
            "type": "scatter"
           }
          ],
          "scatter3d": [
           {
            "line": {
             "colorbar": {
              "outlinewidth": 0,
              "ticks": ""
             }
            },
            "marker": {
             "colorbar": {
              "outlinewidth": 0,
              "ticks": ""
             }
            },
            "type": "scatter3d"
           }
          ],
          "scattercarpet": [
           {
            "marker": {
             "colorbar": {
              "outlinewidth": 0,
              "ticks": ""
             }
            },
            "type": "scattercarpet"
           }
          ],
          "scattergeo": [
           {
            "marker": {
             "colorbar": {
              "outlinewidth": 0,
              "ticks": ""
             }
            },
            "type": "scattergeo"
           }
          ],
          "scattergl": [
           {
            "marker": {
             "colorbar": {
              "outlinewidth": 0,
              "ticks": ""
             }
            },
            "type": "scattergl"
           }
          ],
          "scattermapbox": [
           {
            "marker": {
             "colorbar": {
              "outlinewidth": 0,
              "ticks": ""
             }
            },
            "type": "scattermapbox"
           }
          ],
          "scatterpolar": [
           {
            "marker": {
             "colorbar": {
              "outlinewidth": 0,
              "ticks": ""
             }
            },
            "type": "scatterpolar"
           }
          ],
          "scatterpolargl": [
           {
            "marker": {
             "colorbar": {
              "outlinewidth": 0,
              "ticks": ""
             }
            },
            "type": "scatterpolargl"
           }
          ],
          "scatterternary": [
           {
            "marker": {
             "colorbar": {
              "outlinewidth": 0,
              "ticks": ""
             }
            },
            "type": "scatterternary"
           }
          ],
          "surface": [
           {
            "colorbar": {
             "outlinewidth": 0,
             "ticks": ""
            },
            "colorscale": [
             [
              0,
              "#0d0887"
             ],
             [
              0.1111111111111111,
              "#46039f"
             ],
             [
              0.2222222222222222,
              "#7201a8"
             ],
             [
              0.3333333333333333,
              "#9c179e"
             ],
             [
              0.4444444444444444,
              "#bd3786"
             ],
             [
              0.5555555555555556,
              "#d8576b"
             ],
             [
              0.6666666666666666,
              "#ed7953"
             ],
             [
              0.7777777777777778,
              "#fb9f3a"
             ],
             [
              0.8888888888888888,
              "#fdca26"
             ],
             [
              1,
              "#f0f921"
             ]
            ],
            "type": "surface"
           }
          ],
          "table": [
           {
            "cells": {
             "fill": {
              "color": "#EBF0F8"
             },
             "line": {
              "color": "white"
             }
            },
            "header": {
             "fill": {
              "color": "#C8D4E3"
             },
             "line": {
              "color": "white"
             }
            },
            "type": "table"
           }
          ]
         },
         "layout": {
          "annotationdefaults": {
           "arrowcolor": "#2a3f5f",
           "arrowhead": 0,
           "arrowwidth": 1
          },
          "autotypenumbers": "strict",
          "coloraxis": {
           "colorbar": {
            "outlinewidth": 0,
            "ticks": ""
           }
          },
          "colorscale": {
           "diverging": [
            [
             0,
             "#8e0152"
            ],
            [
             0.1,
             "#c51b7d"
            ],
            [
             0.2,
             "#de77ae"
            ],
            [
             0.3,
             "#f1b6da"
            ],
            [
             0.4,
             "#fde0ef"
            ],
            [
             0.5,
             "#f7f7f7"
            ],
            [
             0.6,
             "#e6f5d0"
            ],
            [
             0.7,
             "#b8e186"
            ],
            [
             0.8,
             "#7fbc41"
            ],
            [
             0.9,
             "#4d9221"
            ],
            [
             1,
             "#276419"
            ]
           ],
           "sequential": [
            [
             0,
             "#0d0887"
            ],
            [
             0.1111111111111111,
             "#46039f"
            ],
            [
             0.2222222222222222,
             "#7201a8"
            ],
            [
             0.3333333333333333,
             "#9c179e"
            ],
            [
             0.4444444444444444,
             "#bd3786"
            ],
            [
             0.5555555555555556,
             "#d8576b"
            ],
            [
             0.6666666666666666,
             "#ed7953"
            ],
            [
             0.7777777777777778,
             "#fb9f3a"
            ],
            [
             0.8888888888888888,
             "#fdca26"
            ],
            [
             1,
             "#f0f921"
            ]
           ],
           "sequentialminus": [
            [
             0,
             "#0d0887"
            ],
            [
             0.1111111111111111,
             "#46039f"
            ],
            [
             0.2222222222222222,
             "#7201a8"
            ],
            [
             0.3333333333333333,
             "#9c179e"
            ],
            [
             0.4444444444444444,
             "#bd3786"
            ],
            [
             0.5555555555555556,
             "#d8576b"
            ],
            [
             0.6666666666666666,
             "#ed7953"
            ],
            [
             0.7777777777777778,
             "#fb9f3a"
            ],
            [
             0.8888888888888888,
             "#fdca26"
            ],
            [
             1,
             "#f0f921"
            ]
           ]
          },
          "colorway": [
           "#636efa",
           "#EF553B",
           "#00cc96",
           "#ab63fa",
           "#FFA15A",
           "#19d3f3",
           "#FF6692",
           "#B6E880",
           "#FF97FF",
           "#FECB52"
          ],
          "font": {
           "color": "#2a3f5f"
          },
          "geo": {
           "bgcolor": "white",
           "lakecolor": "white",
           "landcolor": "#E5ECF6",
           "showlakes": true,
           "showland": true,
           "subunitcolor": "white"
          },
          "hoverlabel": {
           "align": "left"
          },
          "hovermode": "closest",
          "mapbox": {
           "style": "light"
          },
          "paper_bgcolor": "white",
          "plot_bgcolor": "#E5ECF6",
          "polar": {
           "angularaxis": {
            "gridcolor": "white",
            "linecolor": "white",
            "ticks": ""
           },
           "bgcolor": "#E5ECF6",
           "radialaxis": {
            "gridcolor": "white",
            "linecolor": "white",
            "ticks": ""
           }
          },
          "scene": {
           "xaxis": {
            "backgroundcolor": "#E5ECF6",
            "gridcolor": "white",
            "gridwidth": 2,
            "linecolor": "white",
            "showbackground": true,
            "ticks": "",
            "zerolinecolor": "white"
           },
           "yaxis": {
            "backgroundcolor": "#E5ECF6",
            "gridcolor": "white",
            "gridwidth": 2,
            "linecolor": "white",
            "showbackground": true,
            "ticks": "",
            "zerolinecolor": "white"
           },
           "zaxis": {
            "backgroundcolor": "#E5ECF6",
            "gridcolor": "white",
            "gridwidth": 2,
            "linecolor": "white",
            "showbackground": true,
            "ticks": "",
            "zerolinecolor": "white"
           }
          },
          "shapedefaults": {
           "line": {
            "color": "#2a3f5f"
           }
          },
          "ternary": {
           "aaxis": {
            "gridcolor": "white",
            "linecolor": "white",
            "ticks": ""
           },
           "baxis": {
            "gridcolor": "white",
            "linecolor": "white",
            "ticks": ""
           },
           "bgcolor": "#E5ECF6",
           "caxis": {
            "gridcolor": "white",
            "linecolor": "white",
            "ticks": ""
           }
          },
          "title": {
           "x": 0.05
          },
          "xaxis": {
           "automargin": true,
           "gridcolor": "white",
           "linecolor": "white",
           "ticks": "",
           "title": {
            "standoff": 15
           },
           "zerolinecolor": "white",
           "zerolinewidth": 2
          },
          "yaxis": {
           "automargin": true,
           "gridcolor": "white",
           "linecolor": "white",
           "ticks": "",
           "title": {
            "standoff": 15
           },
           "zerolinecolor": "white",
           "zerolinewidth": 2
          }
         }
        },
        "title": {
         "text": "RMSE (Quadratic Regression) = 4.31"
        },
        "width": 700,
        "xaxis": {
         "anchor": "y",
         "domain": [
          0,
          1
         ],
         "title": {
          "text": "horsepower"
         }
        },
        "yaxis": {
         "anchor": "x",
         "domain": [
          0,
          1
         ],
         "title": {
          "text": "mpg"
         }
        }
       }
      },
      "text/html": [
       "<div>                            <div id=\"7e066708-ef80-4c75-b37e-2953bf682f75\" class=\"plotly-graph-div\" style=\"height:500px; width:700px;\"></div>            <script type=\"text/javascript\">                require([\"plotly\"], function(Plotly) {                    window.PLOTLYENV=window.PLOTLYENV || {};                                    if (document.getElementById(\"7e066708-ef80-4c75-b37e-2953bf682f75\")) {                    Plotly.newPlot(                        \"7e066708-ef80-4c75-b37e-2953bf682f75\",                        [{\"customdata\":[[\"oldsmobile cutlass ls\"],[\"ford fairmont futura\"],[\"chevrolet nova\"],[\"plymouth valiant custom\"],[\"plymouth arrow gs\"],[\"amc concord d\\u002fl\"],[\"chevrolet monte carlo landau\"],[\"toyota corolla 1200\"],[\"pontiac catalina brougham\"],[\"amc spirit dl\"],[\"chevrolet chevelle malibu\"],[\"ford granada gl\"],[\"ford torino 500\"],[\"opel 1900\"],[\"chrysler cordoba\"],[\"amc rebel sst\"],[\"renault 12 (sw)\"],[\"amc concord dl 6\"],[\"oldsmobile cutlass ciera (diesel)\"],[\"datsun b-210\"],[\"maxda rx3\"],[\"ford fairmont (man)\"],[\"mazda 626\"],[\"honda accord\"],[\"dodge d200\"],[\"subaru\"],[\"ford pinto\"],[\"plymouth fury gran sedan\"],[\"datsun 210 mpg\"],[\"volkswagen 411 (sw)\"]],\"hovertemplate\":\"horsepower=%{x}\\u003cbr\\u003empg=%{y}\\u003cbr\\u003ename=%{customdata[0]}\\u003cextra\\u003e\\u003c\\u002fextra\\u003e\",\"legendgroup\":\"\",\"marker\":{\"color\":\"#636efa\",\"symbol\":\"circle\"},\"mode\":\"markers\",\"name\":\"\",\"orientation\":\"v\",\"showlegend\":false,\"x\":[105,92,100,95,96,120,170,65,175,80,130,88,88,81,190,150,69,90,85,70,90,88,74,72,210,93,85,150,65,76],\"xaxis\":\"x\",\"y\":[26.6,24.0,15.0,19.0,25.5,18.1,15.5,32.0,14.0,27.4,18.0,20.2,19.0,25.0,15.5,16.0,26.0,20.2,38.0,32.0,18.0,25.1,31.6,32.4,11.0,26.0,19.0,14.0,37.0,22.0],\"yaxis\":\"y\",\"type\":\"scatter\"},{\"line\":{\"color\":\"darkblue\"},\"name\":\"Quadratic Regression\",\"x\":[65.0,67.95918367346938,70.91836734693878,73.87755102040816,76.83673469387755,79.79591836734694,82.75510204081633,85.71428571428572,88.6734693877551,91.63265306122449,94.59183673469389,97.55102040816327,100.51020408163265,103.46938775510205,106.42857142857143,109.38775510204081,112.34693877551021,115.3061224489796,118.26530612244898,121.22448979591837,124.18367346938776,127.14285714285714,130.10204081632654,133.0612244897959,136.0204081632653,138.9795918367347,141.9387755102041,144.89795918367346,147.85714285714286,150.81632653061223,153.77551020408163,156.73469387755102,159.69387755102042,162.6530612244898,165.6122448979592,168.57142857142856,171.53061224489795,174.48979591836735,177.44897959183675,180.40816326530611,183.3673469387755,186.32653061224488,189.28571428571428,192.24489795918367,195.20408163265307,198.16326530612244,201.12244897959184,204.08163265306123,207.0408163265306,210.0],\"y\":[31.035351630447202,30.10996709260202,29.209262010783384,28.333236384991302,27.48189021522578,26.6552235014868,25.853236243774383,25.075928442088504,24.32330009642919,23.595351206796426,22.892081773190213,22.213491795610558,21.559581274057454,20.9303502085309,20.325798599030897,19.745926445557448,19.190733748110553,18.660220506690212,18.154386721296426,17.67323239192919,17.216757518588498,16.78496210127437,16.377846139986794,15.995409634725775,15.637652585491296,15.30457499228337,14.996176855102007,14.712458173947187,14.453418948818936,14.21905917971722,14.00937886664206,13.82437800959346,13.664056608571407,13.528414663575916,13.417452174606964,13.331169141664581,13.269565564748738,13.232641443859436,13.220396778996715,13.232831570160528,13.269945817350909,13.331739520567822,13.418212679811305,13.529365295081334,13.665197366377903,13.825708893701048,14.010899877050733,14.220770316426986,14.455320211829772,14.71454956325912],\"type\":\"scatter\"},{\"line\":{\"color\":\"gold\",\"dash\":\"dash\"},\"name\":\"Errors (Quadratic Regression)\",\"x\":[null],\"y\":[null],\"type\":\"scatter\"}],                        {\"template\":{\"data\":{\"histogram2dcontour\":[{\"type\":\"histogram2dcontour\",\"colorbar\":{\"outlinewidth\":0,\"ticks\":\"\"},\"colorscale\":[[0.0,\"#0d0887\"],[0.1111111111111111,\"#46039f\"],[0.2222222222222222,\"#7201a8\"],[0.3333333333333333,\"#9c179e\"],[0.4444444444444444,\"#bd3786\"],[0.5555555555555556,\"#d8576b\"],[0.6666666666666666,\"#ed7953\"],[0.7777777777777778,\"#fb9f3a\"],[0.8888888888888888,\"#fdca26\"],[1.0,\"#f0f921\"]]}],\"choropleth\":[{\"type\":\"choropleth\",\"colorbar\":{\"outlinewidth\":0,\"ticks\":\"\"}}],\"histogram2d\":[{\"type\":\"histogram2d\",\"colorbar\":{\"outlinewidth\":0,\"ticks\":\"\"},\"colorscale\":[[0.0,\"#0d0887\"],[0.1111111111111111,\"#46039f\"],[0.2222222222222222,\"#7201a8\"],[0.3333333333333333,\"#9c179e\"],[0.4444444444444444,\"#bd3786\"],[0.5555555555555556,\"#d8576b\"],[0.6666666666666666,\"#ed7953\"],[0.7777777777777778,\"#fb9f3a\"],[0.8888888888888888,\"#fdca26\"],[1.0,\"#f0f921\"]]}],\"heatmap\":[{\"type\":\"heatmap\",\"colorbar\":{\"outlinewidth\":0,\"ticks\":\"\"},\"colorscale\":[[0.0,\"#0d0887\"],[0.1111111111111111,\"#46039f\"],[0.2222222222222222,\"#7201a8\"],[0.3333333333333333,\"#9c179e\"],[0.4444444444444444,\"#bd3786\"],[0.5555555555555556,\"#d8576b\"],[0.6666666666666666,\"#ed7953\"],[0.7777777777777778,\"#fb9f3a\"],[0.8888888888888888,\"#fdca26\"],[1.0,\"#f0f921\"]]}],\"heatmapgl\":[{\"type\":\"heatmapgl\",\"colorbar\":{\"outlinewidth\":0,\"ticks\":\"\"},\"colorscale\":[[0.0,\"#0d0887\"],[0.1111111111111111,\"#46039f\"],[0.2222222222222222,\"#7201a8\"],[0.3333333333333333,\"#9c179e\"],[0.4444444444444444,\"#bd3786\"],[0.5555555555555556,\"#d8576b\"],[0.6666666666666666,\"#ed7953\"],[0.7777777777777778,\"#fb9f3a\"],[0.8888888888888888,\"#fdca26\"],[1.0,\"#f0f921\"]]}],\"contourcarpet\":[{\"type\":\"contourcarpet\",\"colorbar\":{\"outlinewidth\":0,\"ticks\":\"\"}}],\"contour\":[{\"type\":\"contour\",\"colorbar\":{\"outlinewidth\":0,\"ticks\":\"\"},\"colorscale\":[[0.0,\"#0d0887\"],[0.1111111111111111,\"#46039f\"],[0.2222222222222222,\"#7201a8\"],[0.3333333333333333,\"#9c179e\"],[0.4444444444444444,\"#bd3786\"],[0.5555555555555556,\"#d8576b\"],[0.6666666666666666,\"#ed7953\"],[0.7777777777777778,\"#fb9f3a\"],[0.8888888888888888,\"#fdca26\"],[1.0,\"#f0f921\"]]}],\"surface\":[{\"type\":\"surface\",\"colorbar\":{\"outlinewidth\":0,\"ticks\":\"\"},\"colorscale\":[[0.0,\"#0d0887\"],[0.1111111111111111,\"#46039f\"],[0.2222222222222222,\"#7201a8\"],[0.3333333333333333,\"#9c179e\"],[0.4444444444444444,\"#bd3786\"],[0.5555555555555556,\"#d8576b\"],[0.6666666666666666,\"#ed7953\"],[0.7777777777777778,\"#fb9f3a\"],[0.8888888888888888,\"#fdca26\"],[1.0,\"#f0f921\"]]}],\"mesh3d\":[{\"type\":\"mesh3d\",\"colorbar\":{\"outlinewidth\":0,\"ticks\":\"\"}}],\"scatter\":[{\"fillpattern\":{\"fillmode\":\"overlay\",\"size\":10,\"solidity\":0.2},\"type\":\"scatter\"}],\"parcoords\":[{\"type\":\"parcoords\",\"line\":{\"colorbar\":{\"outlinewidth\":0,\"ticks\":\"\"}}}],\"scatterpolargl\":[{\"type\":\"scatterpolargl\",\"marker\":{\"colorbar\":{\"outlinewidth\":0,\"ticks\":\"\"}}}],\"bar\":[{\"error_x\":{\"color\":\"#2a3f5f\"},\"error_y\":{\"color\":\"#2a3f5f\"},\"marker\":{\"line\":{\"color\":\"#E5ECF6\",\"width\":0.5},\"pattern\":{\"fillmode\":\"overlay\",\"size\":10,\"solidity\":0.2}},\"type\":\"bar\"}],\"scattergeo\":[{\"type\":\"scattergeo\",\"marker\":{\"colorbar\":{\"outlinewidth\":0,\"ticks\":\"\"}}}],\"scatterpolar\":[{\"type\":\"scatterpolar\",\"marker\":{\"colorbar\":{\"outlinewidth\":0,\"ticks\":\"\"}}}],\"histogram\":[{\"marker\":{\"pattern\":{\"fillmode\":\"overlay\",\"size\":10,\"solidity\":0.2}},\"type\":\"histogram\"}],\"scattergl\":[{\"type\":\"scattergl\",\"marker\":{\"colorbar\":{\"outlinewidth\":0,\"ticks\":\"\"}}}],\"scatter3d\":[{\"type\":\"scatter3d\",\"line\":{\"colorbar\":{\"outlinewidth\":0,\"ticks\":\"\"}},\"marker\":{\"colorbar\":{\"outlinewidth\":0,\"ticks\":\"\"}}}],\"scattermapbox\":[{\"type\":\"scattermapbox\",\"marker\":{\"colorbar\":{\"outlinewidth\":0,\"ticks\":\"\"}}}],\"scatterternary\":[{\"type\":\"scatterternary\",\"marker\":{\"colorbar\":{\"outlinewidth\":0,\"ticks\":\"\"}}}],\"scattercarpet\":[{\"type\":\"scattercarpet\",\"marker\":{\"colorbar\":{\"outlinewidth\":0,\"ticks\":\"\"}}}],\"carpet\":[{\"aaxis\":{\"endlinecolor\":\"#2a3f5f\",\"gridcolor\":\"white\",\"linecolor\":\"white\",\"minorgridcolor\":\"white\",\"startlinecolor\":\"#2a3f5f\"},\"baxis\":{\"endlinecolor\":\"#2a3f5f\",\"gridcolor\":\"white\",\"linecolor\":\"white\",\"minorgridcolor\":\"white\",\"startlinecolor\":\"#2a3f5f\"},\"type\":\"carpet\"}],\"table\":[{\"cells\":{\"fill\":{\"color\":\"#EBF0F8\"},\"line\":{\"color\":\"white\"}},\"header\":{\"fill\":{\"color\":\"#C8D4E3\"},\"line\":{\"color\":\"white\"}},\"type\":\"table\"}],\"barpolar\":[{\"marker\":{\"line\":{\"color\":\"#E5ECF6\",\"width\":0.5},\"pattern\":{\"fillmode\":\"overlay\",\"size\":10,\"solidity\":0.2}},\"type\":\"barpolar\"}],\"pie\":[{\"automargin\":true,\"type\":\"pie\"}]},\"layout\":{\"autotypenumbers\":\"strict\",\"colorway\":[\"#636efa\",\"#EF553B\",\"#00cc96\",\"#ab63fa\",\"#FFA15A\",\"#19d3f3\",\"#FF6692\",\"#B6E880\",\"#FF97FF\",\"#FECB52\"],\"font\":{\"color\":\"#2a3f5f\"},\"hovermode\":\"closest\",\"hoverlabel\":{\"align\":\"left\"},\"paper_bgcolor\":\"white\",\"plot_bgcolor\":\"#E5ECF6\",\"polar\":{\"bgcolor\":\"#E5ECF6\",\"angularaxis\":{\"gridcolor\":\"white\",\"linecolor\":\"white\",\"ticks\":\"\"},\"radialaxis\":{\"gridcolor\":\"white\",\"linecolor\":\"white\",\"ticks\":\"\"}},\"ternary\":{\"bgcolor\":\"#E5ECF6\",\"aaxis\":{\"gridcolor\":\"white\",\"linecolor\":\"white\",\"ticks\":\"\"},\"baxis\":{\"gridcolor\":\"white\",\"linecolor\":\"white\",\"ticks\":\"\"},\"caxis\":{\"gridcolor\":\"white\",\"linecolor\":\"white\",\"ticks\":\"\"}},\"coloraxis\":{\"colorbar\":{\"outlinewidth\":0,\"ticks\":\"\"}},\"colorscale\":{\"sequential\":[[0.0,\"#0d0887\"],[0.1111111111111111,\"#46039f\"],[0.2222222222222222,\"#7201a8\"],[0.3333333333333333,\"#9c179e\"],[0.4444444444444444,\"#bd3786\"],[0.5555555555555556,\"#d8576b\"],[0.6666666666666666,\"#ed7953\"],[0.7777777777777778,\"#fb9f3a\"],[0.8888888888888888,\"#fdca26\"],[1.0,\"#f0f921\"]],\"sequentialminus\":[[0.0,\"#0d0887\"],[0.1111111111111111,\"#46039f\"],[0.2222222222222222,\"#7201a8\"],[0.3333333333333333,\"#9c179e\"],[0.4444444444444444,\"#bd3786\"],[0.5555555555555556,\"#d8576b\"],[0.6666666666666666,\"#ed7953\"],[0.7777777777777778,\"#fb9f3a\"],[0.8888888888888888,\"#fdca26\"],[1.0,\"#f0f921\"]],\"diverging\":[[0,\"#8e0152\"],[0.1,\"#c51b7d\"],[0.2,\"#de77ae\"],[0.3,\"#f1b6da\"],[0.4,\"#fde0ef\"],[0.5,\"#f7f7f7\"],[0.6,\"#e6f5d0\"],[0.7,\"#b8e186\"],[0.8,\"#7fbc41\"],[0.9,\"#4d9221\"],[1,\"#276419\"]]},\"xaxis\":{\"gridcolor\":\"white\",\"linecolor\":\"white\",\"ticks\":\"\",\"title\":{\"standoff\":15},\"zerolinecolor\":\"white\",\"automargin\":true,\"zerolinewidth\":2},\"yaxis\":{\"gridcolor\":\"white\",\"linecolor\":\"white\",\"ticks\":\"\",\"title\":{\"standoff\":15},\"zerolinecolor\":\"white\",\"automargin\":true,\"zerolinewidth\":2},\"scene\":{\"xaxis\":{\"backgroundcolor\":\"#E5ECF6\",\"gridcolor\":\"white\",\"linecolor\":\"white\",\"showbackground\":true,\"ticks\":\"\",\"zerolinecolor\":\"white\",\"gridwidth\":2},\"yaxis\":{\"backgroundcolor\":\"#E5ECF6\",\"gridcolor\":\"white\",\"linecolor\":\"white\",\"showbackground\":true,\"ticks\":\"\",\"zerolinecolor\":\"white\",\"gridwidth\":2},\"zaxis\":{\"backgroundcolor\":\"#E5ECF6\",\"gridcolor\":\"white\",\"linecolor\":\"white\",\"showbackground\":true,\"ticks\":\"\",\"zerolinecolor\":\"white\",\"gridwidth\":2}},\"shapedefaults\":{\"line\":{\"color\":\"#2a3f5f\"}},\"annotationdefaults\":{\"arrowcolor\":\"#2a3f5f\",\"arrowhead\":0,\"arrowwidth\":1},\"geo\":{\"bgcolor\":\"white\",\"landcolor\":\"#E5ECF6\",\"subunitcolor\":\"white\",\"showland\":true,\"showlakes\":true,\"lakecolor\":\"white\"},\"title\":{\"x\":0.05},\"mapbox\":{\"style\":\"light\"}}},\"xaxis\":{\"anchor\":\"y\",\"domain\":[0.0,1.0],\"title\":{\"text\":\"horsepower\"}},\"yaxis\":{\"anchor\":\"x\",\"domain\":[0.0,1.0],\"title\":{\"text\":\"mpg\"}},\"legend\":{\"tracegroupgap\":0},\"margin\":{\"t\":60},\"shapes\":[{\"line\":{\"color\":\"gold\",\"dash\":\"dash\"},\"x0\":105,\"x1\":105,\"y0\":26.6,\"y1\":20.61456983633674},{\"line\":{\"color\":\"gold\",\"dash\":\"dash\"},\"x0\":92,\"x1\":92,\"y0\":24.0,\"y1\":23.50670712404016},{\"line\":{\"color\":\"gold\",\"dash\":\"dash\"},\"x0\":100,\"x1\":100,\"y0\":15.0,\"y1\":21.67056374523891},{\"line\":{\"color\":\"gold\",\"dash\":\"dash\"},\"x0\":95,\"x1\":95,\"y0\":19.0,\"y1\":22.79701588710155},{\"line\":{\"color\":\"gold\",\"dash\":\"dash\"},\"x0\":96,\"x1\":96,\"y0\":25.5,\"y1\":22.56608880009219},{\"line\":{\"color\":\"gold\",\"dash\":\"dash\"},\"x0\":120,\"x1\":120,\"y0\":18.1,\"y1\":17.869337507393023},{\"line\":{\"color\":\"gold\",\"dash\":\"dash\"},\"x0\":170,\"x1\":170,\"y0\":15.5,\"y1\":13.29834822001105},{\"line\":{\"color\":\"gold\",\"dash\":\"dash\"},\"x0\":65,\"x1\":65,\"y0\":32.0,\"y1\":31.035351630447202},{\"line\":{\"color\":\"gold\",\"dash\":\"dash\"},\"x0\":175,\"x1\":175,\"y0\":14.0,\"y1\":13.228769572555422},{\"line\":{\"color\":\"gold\",\"dash\":\"dash\"},\"x0\":80,\"x1\":80,\"y0\":27.4,\"y1\":26.599121710452273},{\"line\":{\"color\":\"gold\",\"dash\":\"dash\"},\"x0\":130,\"x1\":130,\"y0\":18.0,\"y1\":16.391473786232886},{\"line\":{\"color\":\"gold\",\"dash\":\"dash\"},\"x0\":88,\"x1\":88,\"y0\":20.2,\"y1\":24.492418717082835},{\"line\":{\"color\":\"gold\",\"dash\":\"dash\"},\"x0\":88,\"x1\":88,\"y0\":19.0,\"y1\":24.492418717082835},{\"line\":{\"color\":\"gold\",\"dash\":\"dash\"},\"x0\":81,\"x1\":81,\"y0\":25.0,\"y1\":26.32591968366663},{\"line\":{\"color\":\"gold\",\"dash\":\"dash\"},\"x0\":190,\"x1\":190,\"y0\":15.5,\"y1\":13.442783027951336},{\"line\":{\"color\":\"gold\",\"dash\":\"dash\"},\"x0\":150,\"x1\":150,\"y0\":16.0,\"y1\":14.281245139438226},{\"line\":{\"color\":\"gold\",\"dash\":\"dash\"},\"x0\":69,\"x1\":69,\"y0\":26.0,\"y1\":29.79035374011001},{\"line\":{\"color\":\"gold\",\"dash\":\"dash\"},\"x0\":90,\"x1\":90,\"y0\":20.2,\"y1\":23.99392626192466},{\"line\":{\"color\":\"gold\",\"dash\":\"dash\"},\"x0\":85,\"x1\":85,\"y0\":38.0,\"y1\":25.261294869708237},{\"line\":{\"color\":\"gold\",\"dash\":\"dash\"},\"x0\":70,\"x1\":70,\"y0\":32.0,\"y1\":29.486150090821763},{\"line\":{\"color\":\"gold\",\"dash\":\"dash\"},\"x0\":90,\"x1\":90,\"y0\":18.0,\"y1\":23.99392626192466},{\"line\":{\"color\":\"gold\",\"dash\":\"dash\"},\"x0\":88,\"x1\":88,\"y0\":25.1,\"y1\":24.492418717082835},{\"line\":{\"color\":\"gold\",\"dash\":\"dash\"},\"x0\":74,\"x1\":74,\"y0\":31.6,\"y1\":28.297518786852944},{\"line\":{\"color\":\"gold\",\"dash\":\"dash\"},\"x0\":72,\"x1\":72,\"y0\":32.4,\"y1\":28.88619778020052},{\"line\":{\"color\":\"gold\",\"dash\":\"dash\"},\"x0\":210,\"x1\":210,\"y0\":11.0,\"y1\":14.71454956325912},{\"line\":{\"color\":\"gold\",\"dash\":\"dash\"},\"x0\":93,\"x1\":93,\"y0\":26.0,\"y1\":23.267325049075538},{\"line\":{\"color\":\"gold\",\"dash\":\"dash\"},\"x0\":85,\"x1\":85,\"y0\":19.0,\"y1\":25.261294869708237},{\"line\":{\"color\":\"gold\",\"dash\":\"dash\"},\"x0\":150,\"x1\":150,\"y0\":14.0,\"y1\":14.281245139438226},{\"line\":{\"color\":\"gold\",\"dash\":\"dash\"},\"x0\":65,\"x1\":65,\"y0\":37.0,\"y1\":31.035351630447202},{\"line\":{\"color\":\"gold\",\"dash\":\"dash\"},\"x0\":76,\"x1\":76,\"y0\":22.0,\"y1\":27.72011311077904}],\"width\":700,\"height\":500,\"title\":{\"text\":\"RMSE (Quadratic Regression) = 4.31\"}},                        {\"responsive\": true}                    ).then(function(){\n",
       "                            \n",
       "var gd = document.getElementById('7e066708-ef80-4c75-b37e-2953bf682f75');\n",
       "var x = new MutationObserver(function (mutations, observer) {{\n",
       "        var display = window.getComputedStyle(gd).display;\n",
       "        if (!display || display === 'none') {{\n",
       "            console.log([gd, 'removed!']);\n",
       "            Plotly.purge(gd);\n",
       "            observer.disconnect();\n",
       "        }}\n",
       "}});\n",
       "\n",
       "// Listen for the removal of the full notebook cells\n",
       "var notebookContainer = gd.closest('#notebook-container');\n",
       "if (notebookContainer) {{\n",
       "    x.observe(notebookContainer, {childList: true});\n",
       "}}\n",
       "\n",
       "// Listen for the clearing of the current output cell\n",
       "var outputEl = gd.closest('.output');\n",
       "if (outputEl) {{\n",
       "    x.observe(outputEl, {childList: true});\n",
       "}}\n",
       "\n",
       "                        })                };                });            </script>        </div>"
      ]
     },
     "metadata": {},
     "output_type": "display_data"
    }
   ],
   "source": [
    "# generate the first plot\n",
    "fig = px.scatter(x='horsepower', y='mpg', data_frame=sample, hover_data='name')\n",
    "fig.add_trace(go.Scatter(x=xs_for_plot, y=intercept_lin_reg_1 + slope_lin_reg_1*xs_for_plot, name='Linear Regression'))\n",
    "fig.add_trace(go.Scatter(x=[None], y =[None], name='Errors (Linear Regression)',   line={'dash':'dash', 'color': 'lightblue'}))\n",
    "for i in np.arange(len(sample)):\n",
    "    fig.add_shape(go.layout.Shape(x1=sample.iloc[i]['horsepower'],\n",
    "                                  x0=sample.iloc[i]['horsepower'],\n",
    "                                  y0=sample.iloc[i]['mpg'],\n",
    "                                  y1=intercept_lin_reg_1 + slope_lin_reg_1 * sample.iloc[i]['horsepower'],\n",
    "                                  line={'dash':'dash', 'color': 'lightblue'}\n",
    "                                  ))\n",
    "lin_reg_title_string = f'RMSE (Linear Regression) = {round(rmse([intercept_lin_reg_1, slope_lin_reg_1],sample[\"horsepower\"], sample[\"mpg\"]),2)}'\n",
    "fig.update_layout(width=700, height=500,\n",
    "                  title=lin_reg_title_string)\n",
    "fig.show()\n",
    "\n",
    "# generate the second plot\n",
    "predictions_quadratic = intercept_quadratic_reg_1 + slope_quadratic_reg_1 * sample['horsepower'] + slope_2_quadratic_reg_1 * sample['horsepower']**2\n",
    "predictions_quadratic_for_plot = intercept_quadratic_reg_1 + slope_quadratic_reg_1*xs_for_plot + slope_2_quadratic_reg_1*xs_for_plot**2\n",
    "fig_2 = px.scatter(x='horsepower', y='mpg', data_frame=sample, hover_data='name')  \n",
    "fig_2.add_trace(go.Scatter(x=xs_for_plot,\n",
    "                         y=predictions_quadratic_for_plot,\n",
    "                         name='Quadratic Regression', line ={'color':'darkblue'}))\n",
    "fig_2.add_trace(go.Scatter(x=[None], y =[None], name='Errors (Quadratic Regression)',   line={'dash':'dash', 'color': 'gold'}))\n",
    "for i in np.arange(len(sample)):\n",
    "    fig_2.add_shape(go.layout.Shape(x1=sample.iloc[i]['horsepower'],\n",
    "                                  x0=sample.iloc[i]['horsepower'],\n",
    "                                  y0=sample.iloc[i]['mpg'],\n",
    "                                  y1=predictions_quadratic.iloc[i],\n",
    "                                  line={'dash':'dash', 'color': 'gold'}\n",
    "                                  ))\n",
    "quad_reg_title_string = f'RMSE (Quadratic Regression) = {round(rmse_quadratic([intercept_quadratic_reg_1, slope_quadratic_reg_1, slope_2_quadratic_reg_1],sample[\"horsepower\"], sample[\"mpg\"]),2)}'\n",
    "fig_2.update_layout(width=700, height=500,\n",
    "                  title=quad_reg_title_string)\n",
    "fig_2.show()"
   ]
  },
  {
   "cell_type": "markdown",
   "id": "d7485cb9",
   "metadata": {},
   "source": [
    "Remember that what motivated the introduction of the polynomial term was the systematicity in the fitted vs residuals plot? Let's inspect the `fitted vs residuals\" plot for the quadratic regression mode to see if it looks more random (e.g. if it looks more random, this indicates that the model is using more information about the systematic relationship between the predictor and the outcome):"
   ]
  },
  {
   "cell_type": "code",
   "execution_count": 62,
   "id": "2f7895b3",
   "metadata": {},
   "outputs": [
    {
     "data": {
      "application/vnd.plotly.v1+json": {
       "config": {
        "plotlyServerURL": "https://plot.ly"
       },
       "data": [
        {
         "hovertemplate": "x=%{x}<br>y=%{y}<extra></extra>",
         "legendgroup": "",
         "marker": {
          "color": "red",
          "size": 8,
          "symbol": "x"
         },
         "mode": "markers",
         "name": "",
         "orientation": "v",
         "showlegend": false,
         "type": "scatter",
         "x": [
          20.61456983633674,
          23.50670712404016,
          21.67056374523891,
          22.79701588710155,
          22.56608880009219,
          17.869337507393023,
          13.29834822001105,
          31.035351630447202,
          13.228769572555422,
          26.599121710452273,
          16.391473786232886,
          24.492418717082835,
          24.492418717082835,
          26.32591968366663,
          13.442783027951336,
          14.281245139438226,
          29.79035374011001,
          23.99392626192466,
          25.261294869708237,
          29.486150090821763,
          23.99392626192466,
          24.492418717082835,
          28.297518786852944,
          28.88619778020052,
          14.71454956325912,
          23.267325049075538,
          25.261294869708237,
          14.281245139438226,
          31.035351630447202,
          27.72011311077904
         ],
         "xaxis": "x",
         "y": [
          5.98543016366326,
          0.4932928759598383,
          -6.670563745238908,
          -3.7970158871015514,
          2.9339111999078114,
          0.23066249260697802,
          2.20165177998895,
          0.9646483695527976,
          0.7712304274445785,
          0.8008782895477253,
          1.6085262137671137,
          -4.292418717082835,
          -5.492418717082835,
          -1.3259196836666298,
          2.057216972048664,
          1.7187548605617735,
          -3.7903537401100102,
          -3.7939262619246605,
          12.738705130291763,
          2.513849909178237,
          -5.99392626192466,
          0.6075812829171667,
          3.3024812131470576,
          3.51380221979948,
          -3.7145495632591192,
          2.732674950924462,
          -6.261294869708237,
          -0.2812451394382265,
          5.964648369552798,
          -5.720113110779039
         ],
         "yaxis": "y"
        },
        {
         "hovertemplate": "<b>LOWESS trendline</b><br><br>x=%{x}<br>y=%{y} <b>(trend)</b><extra></extra>",
         "legendgroup": "",
         "marker": {
          "color": "red",
          "size": 8,
          "symbol": "x"
         },
         "mode": "lines",
         "name": "",
         "showlegend": false,
         "type": "scatter",
         "x": [
          13.228769572555422,
          13.29834822001105,
          13.442783027951336,
          14.281245139438226,
          14.281245139438226,
          14.71454956325912,
          16.391473786232886,
          17.869337507393023,
          20.61456983633674,
          21.67056374523891,
          22.56608880009219,
          22.79701588710155,
          23.267325049075538,
          23.50670712404016,
          23.99392626192466,
          23.99392626192466,
          24.492418717082835,
          24.492418717082835,
          24.492418717082835,
          25.261294869708237,
          25.261294869708237,
          26.32591968366663,
          26.599121710452273,
          27.72011311077904,
          28.297518786852944,
          28.88619778020052,
          29.486150090821763,
          29.79035374011001,
          31.035351630447202,
          31.035351630447202
         ],
         "xaxis": "x",
         "y": [
          0.825633721549851,
          0.8208430732787116,
          0.8111640504805067,
          0.7598785982468846,
          0.7598785982468846,
          0.7340856460112456,
          0.612320786672914,
          0.4698040661043176,
          0.07122829771820223,
          -0.47507891199709396,
          -0.9418004401278234,
          -1.1132314614023724,
          -1.4964594457866267,
          -1.6787286809925135,
          -1.9448018182382616,
          -1.9448018182382616,
          -2.1423058287450525,
          -2.1423058287450525,
          -2.1423058287450525,
          -2.0769076056557,
          -2.0769076056557,
          -1.359797342224136,
          -1.2220008842896168,
          -0.31804527430795854,
          0.23785601731495698,
          0.8223807314373008,
          1.4227941590709734,
          1.7249198828829115,
          2.935887108748432,
          2.935887108748432
         ],
         "yaxis": "y"
        }
       ],
       "layout": {
        "height": 500,
        "legend": {
         "tracegroupgap": 0
        },
        "margin": {
         "t": 60
        },
        "template": {
         "data": {
          "bar": [
           {
            "error_x": {
             "color": "#2a3f5f"
            },
            "error_y": {
             "color": "#2a3f5f"
            },
            "marker": {
             "line": {
              "color": "#E5ECF6",
              "width": 0.5
             },
             "pattern": {
              "fillmode": "overlay",
              "size": 10,
              "solidity": 0.2
             }
            },
            "type": "bar"
           }
          ],
          "barpolar": [
           {
            "marker": {
             "line": {
              "color": "#E5ECF6",
              "width": 0.5
             },
             "pattern": {
              "fillmode": "overlay",
              "size": 10,
              "solidity": 0.2
             }
            },
            "type": "barpolar"
           }
          ],
          "carpet": [
           {
            "aaxis": {
             "endlinecolor": "#2a3f5f",
             "gridcolor": "white",
             "linecolor": "white",
             "minorgridcolor": "white",
             "startlinecolor": "#2a3f5f"
            },
            "baxis": {
             "endlinecolor": "#2a3f5f",
             "gridcolor": "white",
             "linecolor": "white",
             "minorgridcolor": "white",
             "startlinecolor": "#2a3f5f"
            },
            "type": "carpet"
           }
          ],
          "choropleth": [
           {
            "colorbar": {
             "outlinewidth": 0,
             "ticks": ""
            },
            "type": "choropleth"
           }
          ],
          "contour": [
           {
            "colorbar": {
             "outlinewidth": 0,
             "ticks": ""
            },
            "colorscale": [
             [
              0,
              "#0d0887"
             ],
             [
              0.1111111111111111,
              "#46039f"
             ],
             [
              0.2222222222222222,
              "#7201a8"
             ],
             [
              0.3333333333333333,
              "#9c179e"
             ],
             [
              0.4444444444444444,
              "#bd3786"
             ],
             [
              0.5555555555555556,
              "#d8576b"
             ],
             [
              0.6666666666666666,
              "#ed7953"
             ],
             [
              0.7777777777777778,
              "#fb9f3a"
             ],
             [
              0.8888888888888888,
              "#fdca26"
             ],
             [
              1,
              "#f0f921"
             ]
            ],
            "type": "contour"
           }
          ],
          "contourcarpet": [
           {
            "colorbar": {
             "outlinewidth": 0,
             "ticks": ""
            },
            "type": "contourcarpet"
           }
          ],
          "heatmap": [
           {
            "colorbar": {
             "outlinewidth": 0,
             "ticks": ""
            },
            "colorscale": [
             [
              0,
              "#0d0887"
             ],
             [
              0.1111111111111111,
              "#46039f"
             ],
             [
              0.2222222222222222,
              "#7201a8"
             ],
             [
              0.3333333333333333,
              "#9c179e"
             ],
             [
              0.4444444444444444,
              "#bd3786"
             ],
             [
              0.5555555555555556,
              "#d8576b"
             ],
             [
              0.6666666666666666,
              "#ed7953"
             ],
             [
              0.7777777777777778,
              "#fb9f3a"
             ],
             [
              0.8888888888888888,
              "#fdca26"
             ],
             [
              1,
              "#f0f921"
             ]
            ],
            "type": "heatmap"
           }
          ],
          "heatmapgl": [
           {
            "colorbar": {
             "outlinewidth": 0,
             "ticks": ""
            },
            "colorscale": [
             [
              0,
              "#0d0887"
             ],
             [
              0.1111111111111111,
              "#46039f"
             ],
             [
              0.2222222222222222,
              "#7201a8"
             ],
             [
              0.3333333333333333,
              "#9c179e"
             ],
             [
              0.4444444444444444,
              "#bd3786"
             ],
             [
              0.5555555555555556,
              "#d8576b"
             ],
             [
              0.6666666666666666,
              "#ed7953"
             ],
             [
              0.7777777777777778,
              "#fb9f3a"
             ],
             [
              0.8888888888888888,
              "#fdca26"
             ],
             [
              1,
              "#f0f921"
             ]
            ],
            "type": "heatmapgl"
           }
          ],
          "histogram": [
           {
            "marker": {
             "pattern": {
              "fillmode": "overlay",
              "size": 10,
              "solidity": 0.2
             }
            },
            "type": "histogram"
           }
          ],
          "histogram2d": [
           {
            "colorbar": {
             "outlinewidth": 0,
             "ticks": ""
            },
            "colorscale": [
             [
              0,
              "#0d0887"
             ],
             [
              0.1111111111111111,
              "#46039f"
             ],
             [
              0.2222222222222222,
              "#7201a8"
             ],
             [
              0.3333333333333333,
              "#9c179e"
             ],
             [
              0.4444444444444444,
              "#bd3786"
             ],
             [
              0.5555555555555556,
              "#d8576b"
             ],
             [
              0.6666666666666666,
              "#ed7953"
             ],
             [
              0.7777777777777778,
              "#fb9f3a"
             ],
             [
              0.8888888888888888,
              "#fdca26"
             ],
             [
              1,
              "#f0f921"
             ]
            ],
            "type": "histogram2d"
           }
          ],
          "histogram2dcontour": [
           {
            "colorbar": {
             "outlinewidth": 0,
             "ticks": ""
            },
            "colorscale": [
             [
              0,
              "#0d0887"
             ],
             [
              0.1111111111111111,
              "#46039f"
             ],
             [
              0.2222222222222222,
              "#7201a8"
             ],
             [
              0.3333333333333333,
              "#9c179e"
             ],
             [
              0.4444444444444444,
              "#bd3786"
             ],
             [
              0.5555555555555556,
              "#d8576b"
             ],
             [
              0.6666666666666666,
              "#ed7953"
             ],
             [
              0.7777777777777778,
              "#fb9f3a"
             ],
             [
              0.8888888888888888,
              "#fdca26"
             ],
             [
              1,
              "#f0f921"
             ]
            ],
            "type": "histogram2dcontour"
           }
          ],
          "mesh3d": [
           {
            "colorbar": {
             "outlinewidth": 0,
             "ticks": ""
            },
            "type": "mesh3d"
           }
          ],
          "parcoords": [
           {
            "line": {
             "colorbar": {
              "outlinewidth": 0,
              "ticks": ""
             }
            },
            "type": "parcoords"
           }
          ],
          "pie": [
           {
            "automargin": true,
            "type": "pie"
           }
          ],
          "scatter": [
           {
            "fillpattern": {
             "fillmode": "overlay",
             "size": 10,
             "solidity": 0.2
            },
            "type": "scatter"
           }
          ],
          "scatter3d": [
           {
            "line": {
             "colorbar": {
              "outlinewidth": 0,
              "ticks": ""
             }
            },
            "marker": {
             "colorbar": {
              "outlinewidth": 0,
              "ticks": ""
             }
            },
            "type": "scatter3d"
           }
          ],
          "scattercarpet": [
           {
            "marker": {
             "colorbar": {
              "outlinewidth": 0,
              "ticks": ""
             }
            },
            "type": "scattercarpet"
           }
          ],
          "scattergeo": [
           {
            "marker": {
             "colorbar": {
              "outlinewidth": 0,
              "ticks": ""
             }
            },
            "type": "scattergeo"
           }
          ],
          "scattergl": [
           {
            "marker": {
             "colorbar": {
              "outlinewidth": 0,
              "ticks": ""
             }
            },
            "type": "scattergl"
           }
          ],
          "scattermapbox": [
           {
            "marker": {
             "colorbar": {
              "outlinewidth": 0,
              "ticks": ""
             }
            },
            "type": "scattermapbox"
           }
          ],
          "scatterpolar": [
           {
            "marker": {
             "colorbar": {
              "outlinewidth": 0,
              "ticks": ""
             }
            },
            "type": "scatterpolar"
           }
          ],
          "scatterpolargl": [
           {
            "marker": {
             "colorbar": {
              "outlinewidth": 0,
              "ticks": ""
             }
            },
            "type": "scatterpolargl"
           }
          ],
          "scatterternary": [
           {
            "marker": {
             "colorbar": {
              "outlinewidth": 0,
              "ticks": ""
             }
            },
            "type": "scatterternary"
           }
          ],
          "surface": [
           {
            "colorbar": {
             "outlinewidth": 0,
             "ticks": ""
            },
            "colorscale": [
             [
              0,
              "#0d0887"
             ],
             [
              0.1111111111111111,
              "#46039f"
             ],
             [
              0.2222222222222222,
              "#7201a8"
             ],
             [
              0.3333333333333333,
              "#9c179e"
             ],
             [
              0.4444444444444444,
              "#bd3786"
             ],
             [
              0.5555555555555556,
              "#d8576b"
             ],
             [
              0.6666666666666666,
              "#ed7953"
             ],
             [
              0.7777777777777778,
              "#fb9f3a"
             ],
             [
              0.8888888888888888,
              "#fdca26"
             ],
             [
              1,
              "#f0f921"
             ]
            ],
            "type": "surface"
           }
          ],
          "table": [
           {
            "cells": {
             "fill": {
              "color": "#EBF0F8"
             },
             "line": {
              "color": "white"
             }
            },
            "header": {
             "fill": {
              "color": "#C8D4E3"
             },
             "line": {
              "color": "white"
             }
            },
            "type": "table"
           }
          ]
         },
         "layout": {
          "annotationdefaults": {
           "arrowcolor": "#2a3f5f",
           "arrowhead": 0,
           "arrowwidth": 1
          },
          "autotypenumbers": "strict",
          "coloraxis": {
           "colorbar": {
            "outlinewidth": 0,
            "ticks": ""
           }
          },
          "colorscale": {
           "diverging": [
            [
             0,
             "#8e0152"
            ],
            [
             0.1,
             "#c51b7d"
            ],
            [
             0.2,
             "#de77ae"
            ],
            [
             0.3,
             "#f1b6da"
            ],
            [
             0.4,
             "#fde0ef"
            ],
            [
             0.5,
             "#f7f7f7"
            ],
            [
             0.6,
             "#e6f5d0"
            ],
            [
             0.7,
             "#b8e186"
            ],
            [
             0.8,
             "#7fbc41"
            ],
            [
             0.9,
             "#4d9221"
            ],
            [
             1,
             "#276419"
            ]
           ],
           "sequential": [
            [
             0,
             "#0d0887"
            ],
            [
             0.1111111111111111,
             "#46039f"
            ],
            [
             0.2222222222222222,
             "#7201a8"
            ],
            [
             0.3333333333333333,
             "#9c179e"
            ],
            [
             0.4444444444444444,
             "#bd3786"
            ],
            [
             0.5555555555555556,
             "#d8576b"
            ],
            [
             0.6666666666666666,
             "#ed7953"
            ],
            [
             0.7777777777777778,
             "#fb9f3a"
            ],
            [
             0.8888888888888888,
             "#fdca26"
            ],
            [
             1,
             "#f0f921"
            ]
           ],
           "sequentialminus": [
            [
             0,
             "#0d0887"
            ],
            [
             0.1111111111111111,
             "#46039f"
            ],
            [
             0.2222222222222222,
             "#7201a8"
            ],
            [
             0.3333333333333333,
             "#9c179e"
            ],
            [
             0.4444444444444444,
             "#bd3786"
            ],
            [
             0.5555555555555556,
             "#d8576b"
            ],
            [
             0.6666666666666666,
             "#ed7953"
            ],
            [
             0.7777777777777778,
             "#fb9f3a"
            ],
            [
             0.8888888888888888,
             "#fdca26"
            ],
            [
             1,
             "#f0f921"
            ]
           ]
          },
          "colorway": [
           "#636efa",
           "#EF553B",
           "#00cc96",
           "#ab63fa",
           "#FFA15A",
           "#19d3f3",
           "#FF6692",
           "#B6E880",
           "#FF97FF",
           "#FECB52"
          ],
          "font": {
           "color": "#2a3f5f"
          },
          "geo": {
           "bgcolor": "white",
           "lakecolor": "white",
           "landcolor": "#E5ECF6",
           "showlakes": true,
           "showland": true,
           "subunitcolor": "white"
          },
          "hoverlabel": {
           "align": "left"
          },
          "hovermode": "closest",
          "mapbox": {
           "style": "light"
          },
          "paper_bgcolor": "white",
          "plot_bgcolor": "#E5ECF6",
          "polar": {
           "angularaxis": {
            "gridcolor": "white",
            "linecolor": "white",
            "ticks": ""
           },
           "bgcolor": "#E5ECF6",
           "radialaxis": {
            "gridcolor": "white",
            "linecolor": "white",
            "ticks": ""
           }
          },
          "scene": {
           "xaxis": {
            "backgroundcolor": "#E5ECF6",
            "gridcolor": "white",
            "gridwidth": 2,
            "linecolor": "white",
            "showbackground": true,
            "ticks": "",
            "zerolinecolor": "white"
           },
           "yaxis": {
            "backgroundcolor": "#E5ECF6",
            "gridcolor": "white",
            "gridwidth": 2,
            "linecolor": "white",
            "showbackground": true,
            "ticks": "",
            "zerolinecolor": "white"
           },
           "zaxis": {
            "backgroundcolor": "#E5ECF6",
            "gridcolor": "white",
            "gridwidth": 2,
            "linecolor": "white",
            "showbackground": true,
            "ticks": "",
            "zerolinecolor": "white"
           }
          },
          "shapedefaults": {
           "line": {
            "color": "#2a3f5f"
           }
          },
          "ternary": {
           "aaxis": {
            "gridcolor": "white",
            "linecolor": "white",
            "ticks": ""
           },
           "baxis": {
            "gridcolor": "white",
            "linecolor": "white",
            "ticks": ""
           },
           "bgcolor": "#E5ECF6",
           "caxis": {
            "gridcolor": "white",
            "linecolor": "white",
            "ticks": ""
           }
          },
          "title": {
           "x": 0.05
          },
          "xaxis": {
           "automargin": true,
           "gridcolor": "white",
           "linecolor": "white",
           "ticks": "",
           "title": {
            "standoff": 15
           },
           "zerolinecolor": "white",
           "zerolinewidth": 2
          },
          "yaxis": {
           "automargin": true,
           "gridcolor": "white",
           "linecolor": "white",
           "ticks": "",
           "title": {
            "standoff": 15
           },
           "zerolinecolor": "white",
           "zerolinewidth": 2
          }
         }
        },
        "title": {
         "text": "Fitted vs Residuals Plot (Quadratic Regression)"
        },
        "width": 500,
        "xaxis": {
         "anchor": "y",
         "domain": [
          0,
          1
         ],
         "title": {
          "text": "Predictions"
         }
        },
        "yaxis": {
         "anchor": "x",
         "domain": [
          0,
          1
         ],
         "title": {
          "text": "Errors"
         }
        }
       }
      },
      "text/html": [
       "<div>                            <div id=\"e12d41af-7816-49e3-aed7-dbc0d22116ce\" class=\"plotly-graph-div\" style=\"height:500px; width:500px;\"></div>            <script type=\"text/javascript\">                require([\"plotly\"], function(Plotly) {                    window.PLOTLYENV=window.PLOTLYENV || {};                                    if (document.getElementById(\"e12d41af-7816-49e3-aed7-dbc0d22116ce\")) {                    Plotly.newPlot(                        \"e12d41af-7816-49e3-aed7-dbc0d22116ce\",                        [{\"hovertemplate\":\"x=%{x}\\u003cbr\\u003ey=%{y}\\u003cextra\\u003e\\u003c\\u002fextra\\u003e\",\"legendgroup\":\"\",\"marker\":{\"color\":\"red\",\"symbol\":\"x\",\"size\":8},\"mode\":\"markers\",\"name\":\"\",\"orientation\":\"v\",\"showlegend\":false,\"x\":[20.61456983633674,23.50670712404016,21.67056374523891,22.79701588710155,22.56608880009219,17.869337507393023,13.29834822001105,31.035351630447202,13.228769572555422,26.599121710452273,16.391473786232886,24.492418717082835,24.492418717082835,26.32591968366663,13.442783027951336,14.281245139438226,29.79035374011001,23.99392626192466,25.261294869708237,29.486150090821763,23.99392626192466,24.492418717082835,28.297518786852944,28.88619778020052,14.71454956325912,23.267325049075538,25.261294869708237,14.281245139438226,31.035351630447202,27.72011311077904],\"xaxis\":\"x\",\"y\":[5.98543016366326,0.4932928759598383,-6.670563745238908,-3.7970158871015514,2.9339111999078114,0.23066249260697802,2.20165177998895,0.9646483695527976,0.7712304274445785,0.8008782895477253,1.6085262137671137,-4.292418717082835,-5.492418717082835,-1.3259196836666298,2.057216972048664,1.7187548605617735,-3.7903537401100102,-3.7939262619246605,12.738705130291763,2.513849909178237,-5.99392626192466,0.6075812829171667,3.3024812131470576,3.51380221979948,-3.7145495632591192,2.732674950924462,-6.261294869708237,-0.2812451394382265,5.964648369552798,-5.720113110779039],\"yaxis\":\"y\",\"type\":\"scatter\"},{\"hovertemplate\":\"\\u003cb\\u003eLOWESS trendline\\u003c\\u002fb\\u003e\\u003cbr\\u003e\\u003cbr\\u003ex=%{x}\\u003cbr\\u003ey=%{y} \\u003cb\\u003e(trend)\\u003c\\u002fb\\u003e\\u003cextra\\u003e\\u003c\\u002fextra\\u003e\",\"legendgroup\":\"\",\"marker\":{\"color\":\"red\",\"symbol\":\"x\",\"size\":8},\"mode\":\"lines\",\"name\":\"\",\"showlegend\":false,\"x\":[13.228769572555422,13.29834822001105,13.442783027951336,14.281245139438226,14.281245139438226,14.71454956325912,16.391473786232886,17.869337507393023,20.61456983633674,21.67056374523891,22.56608880009219,22.79701588710155,23.267325049075538,23.50670712404016,23.99392626192466,23.99392626192466,24.492418717082835,24.492418717082835,24.492418717082835,25.261294869708237,25.261294869708237,26.32591968366663,26.599121710452273,27.72011311077904,28.297518786852944,28.88619778020052,29.486150090821763,29.79035374011001,31.035351630447202,31.035351630447202],\"xaxis\":\"x\",\"y\":[0.825633721549851,0.8208430732787116,0.8111640504805067,0.7598785982468846,0.7598785982468846,0.7340856460112456,0.612320786672914,0.4698040661043176,0.07122829771820223,-0.47507891199709396,-0.9418004401278234,-1.1132314614023724,-1.4964594457866267,-1.6787286809925135,-1.9448018182382616,-1.9448018182382616,-2.1423058287450525,-2.1423058287450525,-2.1423058287450525,-2.0769076056557,-2.0769076056557,-1.359797342224136,-1.2220008842896168,-0.31804527430795854,0.23785601731495698,0.8223807314373008,1.4227941590709734,1.7249198828829115,2.935887108748432,2.935887108748432],\"yaxis\":\"y\",\"type\":\"scatter\"}],                        {\"template\":{\"data\":{\"histogram2dcontour\":[{\"type\":\"histogram2dcontour\",\"colorbar\":{\"outlinewidth\":0,\"ticks\":\"\"},\"colorscale\":[[0.0,\"#0d0887\"],[0.1111111111111111,\"#46039f\"],[0.2222222222222222,\"#7201a8\"],[0.3333333333333333,\"#9c179e\"],[0.4444444444444444,\"#bd3786\"],[0.5555555555555556,\"#d8576b\"],[0.6666666666666666,\"#ed7953\"],[0.7777777777777778,\"#fb9f3a\"],[0.8888888888888888,\"#fdca26\"],[1.0,\"#f0f921\"]]}],\"choropleth\":[{\"type\":\"choropleth\",\"colorbar\":{\"outlinewidth\":0,\"ticks\":\"\"}}],\"histogram2d\":[{\"type\":\"histogram2d\",\"colorbar\":{\"outlinewidth\":0,\"ticks\":\"\"},\"colorscale\":[[0.0,\"#0d0887\"],[0.1111111111111111,\"#46039f\"],[0.2222222222222222,\"#7201a8\"],[0.3333333333333333,\"#9c179e\"],[0.4444444444444444,\"#bd3786\"],[0.5555555555555556,\"#d8576b\"],[0.6666666666666666,\"#ed7953\"],[0.7777777777777778,\"#fb9f3a\"],[0.8888888888888888,\"#fdca26\"],[1.0,\"#f0f921\"]]}],\"heatmap\":[{\"type\":\"heatmap\",\"colorbar\":{\"outlinewidth\":0,\"ticks\":\"\"},\"colorscale\":[[0.0,\"#0d0887\"],[0.1111111111111111,\"#46039f\"],[0.2222222222222222,\"#7201a8\"],[0.3333333333333333,\"#9c179e\"],[0.4444444444444444,\"#bd3786\"],[0.5555555555555556,\"#d8576b\"],[0.6666666666666666,\"#ed7953\"],[0.7777777777777778,\"#fb9f3a\"],[0.8888888888888888,\"#fdca26\"],[1.0,\"#f0f921\"]]}],\"heatmapgl\":[{\"type\":\"heatmapgl\",\"colorbar\":{\"outlinewidth\":0,\"ticks\":\"\"},\"colorscale\":[[0.0,\"#0d0887\"],[0.1111111111111111,\"#46039f\"],[0.2222222222222222,\"#7201a8\"],[0.3333333333333333,\"#9c179e\"],[0.4444444444444444,\"#bd3786\"],[0.5555555555555556,\"#d8576b\"],[0.6666666666666666,\"#ed7953\"],[0.7777777777777778,\"#fb9f3a\"],[0.8888888888888888,\"#fdca26\"],[1.0,\"#f0f921\"]]}],\"contourcarpet\":[{\"type\":\"contourcarpet\",\"colorbar\":{\"outlinewidth\":0,\"ticks\":\"\"}}],\"contour\":[{\"type\":\"contour\",\"colorbar\":{\"outlinewidth\":0,\"ticks\":\"\"},\"colorscale\":[[0.0,\"#0d0887\"],[0.1111111111111111,\"#46039f\"],[0.2222222222222222,\"#7201a8\"],[0.3333333333333333,\"#9c179e\"],[0.4444444444444444,\"#bd3786\"],[0.5555555555555556,\"#d8576b\"],[0.6666666666666666,\"#ed7953\"],[0.7777777777777778,\"#fb9f3a\"],[0.8888888888888888,\"#fdca26\"],[1.0,\"#f0f921\"]]}],\"surface\":[{\"type\":\"surface\",\"colorbar\":{\"outlinewidth\":0,\"ticks\":\"\"},\"colorscale\":[[0.0,\"#0d0887\"],[0.1111111111111111,\"#46039f\"],[0.2222222222222222,\"#7201a8\"],[0.3333333333333333,\"#9c179e\"],[0.4444444444444444,\"#bd3786\"],[0.5555555555555556,\"#d8576b\"],[0.6666666666666666,\"#ed7953\"],[0.7777777777777778,\"#fb9f3a\"],[0.8888888888888888,\"#fdca26\"],[1.0,\"#f0f921\"]]}],\"mesh3d\":[{\"type\":\"mesh3d\",\"colorbar\":{\"outlinewidth\":0,\"ticks\":\"\"}}],\"scatter\":[{\"fillpattern\":{\"fillmode\":\"overlay\",\"size\":10,\"solidity\":0.2},\"type\":\"scatter\"}],\"parcoords\":[{\"type\":\"parcoords\",\"line\":{\"colorbar\":{\"outlinewidth\":0,\"ticks\":\"\"}}}],\"scatterpolargl\":[{\"type\":\"scatterpolargl\",\"marker\":{\"colorbar\":{\"outlinewidth\":0,\"ticks\":\"\"}}}],\"bar\":[{\"error_x\":{\"color\":\"#2a3f5f\"},\"error_y\":{\"color\":\"#2a3f5f\"},\"marker\":{\"line\":{\"color\":\"#E5ECF6\",\"width\":0.5},\"pattern\":{\"fillmode\":\"overlay\",\"size\":10,\"solidity\":0.2}},\"type\":\"bar\"}],\"scattergeo\":[{\"type\":\"scattergeo\",\"marker\":{\"colorbar\":{\"outlinewidth\":0,\"ticks\":\"\"}}}],\"scatterpolar\":[{\"type\":\"scatterpolar\",\"marker\":{\"colorbar\":{\"outlinewidth\":0,\"ticks\":\"\"}}}],\"histogram\":[{\"marker\":{\"pattern\":{\"fillmode\":\"overlay\",\"size\":10,\"solidity\":0.2}},\"type\":\"histogram\"}],\"scattergl\":[{\"type\":\"scattergl\",\"marker\":{\"colorbar\":{\"outlinewidth\":0,\"ticks\":\"\"}}}],\"scatter3d\":[{\"type\":\"scatter3d\",\"line\":{\"colorbar\":{\"outlinewidth\":0,\"ticks\":\"\"}},\"marker\":{\"colorbar\":{\"outlinewidth\":0,\"ticks\":\"\"}}}],\"scattermapbox\":[{\"type\":\"scattermapbox\",\"marker\":{\"colorbar\":{\"outlinewidth\":0,\"ticks\":\"\"}}}],\"scatterternary\":[{\"type\":\"scatterternary\",\"marker\":{\"colorbar\":{\"outlinewidth\":0,\"ticks\":\"\"}}}],\"scattercarpet\":[{\"type\":\"scattercarpet\",\"marker\":{\"colorbar\":{\"outlinewidth\":0,\"ticks\":\"\"}}}],\"carpet\":[{\"aaxis\":{\"endlinecolor\":\"#2a3f5f\",\"gridcolor\":\"white\",\"linecolor\":\"white\",\"minorgridcolor\":\"white\",\"startlinecolor\":\"#2a3f5f\"},\"baxis\":{\"endlinecolor\":\"#2a3f5f\",\"gridcolor\":\"white\",\"linecolor\":\"white\",\"minorgridcolor\":\"white\",\"startlinecolor\":\"#2a3f5f\"},\"type\":\"carpet\"}],\"table\":[{\"cells\":{\"fill\":{\"color\":\"#EBF0F8\"},\"line\":{\"color\":\"white\"}},\"header\":{\"fill\":{\"color\":\"#C8D4E3\"},\"line\":{\"color\":\"white\"}},\"type\":\"table\"}],\"barpolar\":[{\"marker\":{\"line\":{\"color\":\"#E5ECF6\",\"width\":0.5},\"pattern\":{\"fillmode\":\"overlay\",\"size\":10,\"solidity\":0.2}},\"type\":\"barpolar\"}],\"pie\":[{\"automargin\":true,\"type\":\"pie\"}]},\"layout\":{\"autotypenumbers\":\"strict\",\"colorway\":[\"#636efa\",\"#EF553B\",\"#00cc96\",\"#ab63fa\",\"#FFA15A\",\"#19d3f3\",\"#FF6692\",\"#B6E880\",\"#FF97FF\",\"#FECB52\"],\"font\":{\"color\":\"#2a3f5f\"},\"hovermode\":\"closest\",\"hoverlabel\":{\"align\":\"left\"},\"paper_bgcolor\":\"white\",\"plot_bgcolor\":\"#E5ECF6\",\"polar\":{\"bgcolor\":\"#E5ECF6\",\"angularaxis\":{\"gridcolor\":\"white\",\"linecolor\":\"white\",\"ticks\":\"\"},\"radialaxis\":{\"gridcolor\":\"white\",\"linecolor\":\"white\",\"ticks\":\"\"}},\"ternary\":{\"bgcolor\":\"#E5ECF6\",\"aaxis\":{\"gridcolor\":\"white\",\"linecolor\":\"white\",\"ticks\":\"\"},\"baxis\":{\"gridcolor\":\"white\",\"linecolor\":\"white\",\"ticks\":\"\"},\"caxis\":{\"gridcolor\":\"white\",\"linecolor\":\"white\",\"ticks\":\"\"}},\"coloraxis\":{\"colorbar\":{\"outlinewidth\":0,\"ticks\":\"\"}},\"colorscale\":{\"sequential\":[[0.0,\"#0d0887\"],[0.1111111111111111,\"#46039f\"],[0.2222222222222222,\"#7201a8\"],[0.3333333333333333,\"#9c179e\"],[0.4444444444444444,\"#bd3786\"],[0.5555555555555556,\"#d8576b\"],[0.6666666666666666,\"#ed7953\"],[0.7777777777777778,\"#fb9f3a\"],[0.8888888888888888,\"#fdca26\"],[1.0,\"#f0f921\"]],\"sequentialminus\":[[0.0,\"#0d0887\"],[0.1111111111111111,\"#46039f\"],[0.2222222222222222,\"#7201a8\"],[0.3333333333333333,\"#9c179e\"],[0.4444444444444444,\"#bd3786\"],[0.5555555555555556,\"#d8576b\"],[0.6666666666666666,\"#ed7953\"],[0.7777777777777778,\"#fb9f3a\"],[0.8888888888888888,\"#fdca26\"],[1.0,\"#f0f921\"]],\"diverging\":[[0,\"#8e0152\"],[0.1,\"#c51b7d\"],[0.2,\"#de77ae\"],[0.3,\"#f1b6da\"],[0.4,\"#fde0ef\"],[0.5,\"#f7f7f7\"],[0.6,\"#e6f5d0\"],[0.7,\"#b8e186\"],[0.8,\"#7fbc41\"],[0.9,\"#4d9221\"],[1,\"#276419\"]]},\"xaxis\":{\"gridcolor\":\"white\",\"linecolor\":\"white\",\"ticks\":\"\",\"title\":{\"standoff\":15},\"zerolinecolor\":\"white\",\"automargin\":true,\"zerolinewidth\":2},\"yaxis\":{\"gridcolor\":\"white\",\"linecolor\":\"white\",\"ticks\":\"\",\"title\":{\"standoff\":15},\"zerolinecolor\":\"white\",\"automargin\":true,\"zerolinewidth\":2},\"scene\":{\"xaxis\":{\"backgroundcolor\":\"#E5ECF6\",\"gridcolor\":\"white\",\"linecolor\":\"white\",\"showbackground\":true,\"ticks\":\"\",\"zerolinecolor\":\"white\",\"gridwidth\":2},\"yaxis\":{\"backgroundcolor\":\"#E5ECF6\",\"gridcolor\":\"white\",\"linecolor\":\"white\",\"showbackground\":true,\"ticks\":\"\",\"zerolinecolor\":\"white\",\"gridwidth\":2},\"zaxis\":{\"backgroundcolor\":\"#E5ECF6\",\"gridcolor\":\"white\",\"linecolor\":\"white\",\"showbackground\":true,\"ticks\":\"\",\"zerolinecolor\":\"white\",\"gridwidth\":2}},\"shapedefaults\":{\"line\":{\"color\":\"#2a3f5f\"}},\"annotationdefaults\":{\"arrowcolor\":\"#2a3f5f\",\"arrowhead\":0,\"arrowwidth\":1},\"geo\":{\"bgcolor\":\"white\",\"landcolor\":\"#E5ECF6\",\"subunitcolor\":\"white\",\"showland\":true,\"showlakes\":true,\"lakecolor\":\"white\"},\"title\":{\"x\":0.05},\"mapbox\":{\"style\":\"light\"}}},\"xaxis\":{\"anchor\":\"y\",\"domain\":[0.0,1.0],\"title\":{\"text\":\"Predictions\"}},\"yaxis\":{\"anchor\":\"x\",\"domain\":[0.0,1.0],\"title\":{\"text\":\"Errors\"}},\"legend\":{\"tracegroupgap\":0},\"margin\":{\"t\":60},\"width\":500,\"height\":500,\"title\":{\"text\":\"Fitted vs Residuals Plot (Quadratic Regression)\"}},                        {\"responsive\": true}                    ).then(function(){\n",
       "                            \n",
       "var gd = document.getElementById('e12d41af-7816-49e3-aed7-dbc0d22116ce');\n",
       "var x = new MutationObserver(function (mutations, observer) {{\n",
       "        var display = window.getComputedStyle(gd).display;\n",
       "        if (!display || display === 'none') {{\n",
       "            console.log([gd, 'removed!']);\n",
       "            Plotly.purge(gd);\n",
       "            observer.disconnect();\n",
       "        }}\n",
       "}});\n",
       "\n",
       "// Listen for the removal of the full notebook cells\n",
       "var notebookContainer = gd.closest('#notebook-container');\n",
       "if (notebookContainer) {{\n",
       "    x.observe(notebookContainer, {childList: true});\n",
       "}}\n",
       "\n",
       "// Listen for the clearing of the current output cell\n",
       "var outputEl = gd.closest('.output');\n",
       "if (outputEl) {{\n",
       "    x.observe(outputEl, {childList: true});\n",
       "}}\n",
       "\n",
       "                        })                };                });            </script>        </div>"
      ]
     },
     "metadata": {},
     "output_type": "display_data"
    }
   ],
   "source": [
    "# fitted vs residual plot with trendline (quadratic regression)\n",
    "errors_quadratic =  sample['mpg'] - predictions_quadratic\n",
    "fig = px.scatter(x=predictions_quadratic, y=errors_quadratic, trendline='lowess')\n",
    "fig.update_layout(width=500, height=500, xaxis_title='Predictions',\n",
    "    yaxis_title='Errors', title=\"Fitted vs Residuals Plot (Quadratic Regression)\")\n",
    "fig.update_traces(marker=dict(symbol='x', size=8, color='red'))\n",
    "fig.show()"
   ]
  },
  {
   "cell_type": "markdown",
   "id": "19780c56",
   "metadata": {},
   "source": [
    "Compare this to the fitted vs residual plot from earlier - it looks better, but the trendline indicates there still some systematic relationship that's not being used by the model...\n",
    "\n",
    "...perhaps we need a higher order polynomial term?"
   ]
  },
  {
   "cell_type": "markdown",
   "id": "611f120e",
   "metadata": {},
   "source": [
    "<b> Questions: </b>\n",
    "\n",
    "- Based on the model selection/comparison techniques you've seen so far, how do you think we can assess if we need the polynomial term?\n",
    "\n",
    "- If we need a polynomial term, how do we know how high the degree of the polynomial should be?\n",
    "\n",
    "Let's try adding in a higher order polynomial, we use ($d == 3$) - this is know as *cubic regression*:"
   ]
  },
  {
   "cell_type": "code",
   "execution_count": 63,
   "id": "a2be0b6d",
   "metadata": {},
   "outputs": [
    {
     "data": {
      "text/html": [
       "<table class=\"simpletable\">\n",
       "<caption>OLS Regression Results</caption>\n",
       "<tr>\n",
       "  <th>Dep. Variable:</th>           <td>mpg</td>       <th>  R-squared:         </th> <td>   0.658</td>\n",
       "</tr>\n",
       "<tr>\n",
       "  <th>Model:</th>                   <td>OLS</td>       <th>  Adj. R-squared:    </th> <td>   0.618</td>\n",
       "</tr>\n",
       "<tr>\n",
       "  <th>Method:</th>             <td>Least Squares</td>  <th>  F-statistic:       </th> <td>   16.66</td>\n",
       "</tr>\n",
       "<tr>\n",
       "  <th>Date:</th>             <td>Fri, 23 Feb 2024</td> <th>  Prob (F-statistic):</th> <td>3.04e-06</td>\n",
       "</tr>\n",
       "<tr>\n",
       "  <th>Time:</th>                 <td>09:21:01</td>     <th>  Log-Likelihood:    </th> <td> -84.958</td>\n",
       "</tr>\n",
       "<tr>\n",
       "  <th>No. Observations:</th>      <td>    30</td>      <th>  AIC:               </th> <td>   177.9</td>\n",
       "</tr>\n",
       "<tr>\n",
       "  <th>Df Residuals:</th>          <td>    26</td>      <th>  BIC:               </th> <td>   183.5</td>\n",
       "</tr>\n",
       "<tr>\n",
       "  <th>Df Model:</th>              <td>     3</td>      <th>                     </th>     <td> </td>   \n",
       "</tr>\n",
       "<tr>\n",
       "  <th>Covariance Type:</th>      <td>nonrobust</td>    <th>                     </th>     <td> </td>   \n",
       "</tr>\n",
       "</table>\n",
       "<table class=\"simpletable\">\n",
       "<tr>\n",
       "           <td></td>             <th>coef</th>     <th>std err</th>      <th>t</th>      <th>P>|t|</th>  <th>[0.025</th>    <th>0.975]</th>  \n",
       "</tr>\n",
       "<tr>\n",
       "  <th>Intercept</th>          <td>   96.2445</td> <td>   25.606</td> <td>    3.759</td> <td> 0.001</td> <td>   43.611</td> <td>  148.878</td>\n",
       "</tr>\n",
       "<tr>\n",
       "  <th>horsepower</th>         <td>   -1.5071</td> <td>    0.645</td> <td>   -2.338</td> <td> 0.027</td> <td>   -2.832</td> <td>   -0.182</td>\n",
       "</tr>\n",
       "<tr>\n",
       "  <th>I(horsepower ** 2)</th> <td>    0.0096</td> <td>    0.005</td> <td>    1.871</td> <td> 0.073</td> <td>   -0.001</td> <td>    0.020</td>\n",
       "</tr>\n",
       "<tr>\n",
       "  <th>I(horsepower ** 3)</th> <td>-2.054e-05</td> <td> 1.28e-05</td> <td>   -1.606</td> <td> 0.120</td> <td>-4.68e-05</td> <td> 5.76e-06</td>\n",
       "</tr>\n",
       "</table>\n",
       "<table class=\"simpletable\">\n",
       "<tr>\n",
       "  <th>Omnibus:</th>       <td> 9.410</td> <th>  Durbin-Watson:     </th> <td>   1.933</td>\n",
       "</tr>\n",
       "<tr>\n",
       "  <th>Prob(Omnibus):</th> <td> 0.009</td> <th>  Jarque-Bera (JB):  </th> <td>   8.351</td>\n",
       "</tr>\n",
       "<tr>\n",
       "  <th>Skew:</th>          <td> 0.946</td> <th>  Prob(JB):          </th> <td>  0.0154</td>\n",
       "</tr>\n",
       "<tr>\n",
       "  <th>Kurtosis:</th>      <td> 4.760</td> <th>  Cond. No.          </th> <td>8.73e+07</td>\n",
       "</tr>\n",
       "</table><br/><br/>Notes:<br/>[1] Standard Errors assume that the covariance matrix of the errors is correctly specified.<br/>[2] The condition number is large, 8.73e+07. This might indicate that there are<br/>strong multicollinearity or other numerical problems."
      ],
      "text/plain": [
       "<class 'statsmodels.iolib.summary.Summary'>\n",
       "\"\"\"\n",
       "                            OLS Regression Results                            \n",
       "==============================================================================\n",
       "Dep. Variable:                    mpg   R-squared:                       0.658\n",
       "Model:                            OLS   Adj. R-squared:                  0.618\n",
       "Method:                 Least Squares   F-statistic:                     16.66\n",
       "Date:                Fri, 23 Feb 2024   Prob (F-statistic):           3.04e-06\n",
       "Time:                        09:21:01   Log-Likelihood:                -84.958\n",
       "No. Observations:                  30   AIC:                             177.9\n",
       "Df Residuals:                      26   BIC:                             183.5\n",
       "Df Model:                           3                                         \n",
       "Covariance Type:            nonrobust                                         \n",
       "======================================================================================\n",
       "                         coef    std err          t      P>|t|      [0.025      0.975]\n",
       "--------------------------------------------------------------------------------------\n",
       "Intercept             96.2445     25.606      3.759      0.001      43.611     148.878\n",
       "horsepower            -1.5071      0.645     -2.338      0.027      -2.832      -0.182\n",
       "I(horsepower ** 2)     0.0096      0.005      1.871      0.073      -0.001       0.020\n",
       "I(horsepower ** 3) -2.054e-05   1.28e-05     -1.606      0.120   -4.68e-05    5.76e-06\n",
       "==============================================================================\n",
       "Omnibus:                        9.410   Durbin-Watson:                   1.933\n",
       "Prob(Omnibus):                  0.009   Jarque-Bera (JB):                8.351\n",
       "Skew:                           0.946   Prob(JB):                       0.0154\n",
       "Kurtosis:                       4.760   Cond. No.                     8.73e+07\n",
       "==============================================================================\n",
       "\n",
       "Notes:\n",
       "[1] Standard Errors assume that the covariance matrix of the errors is correctly specified.\n",
       "[2] The condition number is large, 8.73e+07. This might indicate that there are\n",
       "strong multicollinearity or other numerical problems.\n",
       "\"\"\""
      ]
     },
     "execution_count": 63,
     "metadata": {},
     "output_type": "execute_result"
    }
   ],
   "source": [
    "# fit cubic regression using statsmodels\n",
    "cubic_reg_1 = smf.ols('mpg ~ horsepower + I(horsepower**2) + I(horsepower**3)', data=sample).fit()\n",
    "cubic_reg_1.summary()"
   ]
  },
  {
   "cell_type": "markdown",
   "id": "fe14b0c4",
   "metadata": {},
   "source": [
    "The vector notation for this model is:\n",
    "\n",
    "$\\begin{bmatrix}{} \\text{$y_{1}$} \\\\ \\text{$y_{2}$} \\\\ \\text{$y_{3}$} \\\\ \\text{$y_{4}$} \\\\ \\text{$y_{5}$} \\\\ \\text{$y_{6}$} \\\\ \\text{$y_{7}$} \\\\ \\text{$y_{8}$} \\\\ \\text{$y_{9}$} \\\\ \\text{$y_{10}$} \\\\ \\text{$y_{11}$} \\\\ \\text{$y_{12}$} \\\\ \\text{$y_{13}$} \\\\ \\text{$y_{14}$} \\\\ \\text{$y_{15}$} \\\\ \\end{bmatrix} = b_1 * \\begin{bmatrix}{} \\text{$x_{1}$} \\\\ \\text{$x_{2}$} \\\\ \\text{$x_{3}$} \\\\ \\text{$x_{4}$} \\\\ \\text{$x_{5}$} \\\\ \\text{$x_{6}$} \\\\ \\text{$x_{7}$} \\\\ \\text{$x_{8}$} \\\\ \\text{$x_{9}$} \\\\ \\text{$x_{10}$} \\\\ \\text{$x_{11}$} \\\\ \\text{$x_{12}$} \\\\ \\text{$x_{13}$} \\\\ \\text{$x_{14}$} \\\\ \\text{$x_{15}$} \\\\ \\end{bmatrix} + b_2 \\begin{bmatrix} x_{1}^2 \\\\ x_{2}^2 \\\\ x_{3}^2 \\\\ x_{4}^2 \\\\ x_{5}^2 \\\\ x_{6}^2 \\\\ x_{7}^2 \\\\ x_{8}^2 \\\\ x_{9}^2 \\\\ x_{10}^2 \\\\ x_{11}^2 \\\\ x_{12}^2 \\\\ x_{13}^2 \\\\ x_{14}^2 \\\\ x_{15}^2 \\\\\n",
    "\\end{bmatrix} + b_3 \\begin{bmatrix} x_{1}^3 \\\\ x_{2}^3 \\\\ x_{3}^3 \\\\ x_{4}^3 \\\\ x_{5}^3 \\\\ x_{6}^3 \\\\ x_{7}^3 \\\\ x_{8}^3 \\\\ x_{9}^3 \\\\ x_{10}^3 \\\\ x_{11}^3 \\\\ x_{12}^3 \\\\ x_{13}^3 \\\\ x_{14}^3 \\\\ x_{15}^3 \\\\ \\end{bmatrix}  + c + \\begin{bmatrix}{} \\text{$\\varepsilon_{1}$} \\\\ \\text{$\\varepsilon_{2}$} \\\\ \\text{$\\varepsilon_{3}$} \\\\ \\text{$\\varepsilon_{4}$} \\\\ \\text{$\\varepsilon_{5}$} \\\\ \\text{$\\varepsilon_{6}$} \\\\ \\text{$\\varepsilon_{7}$} \\\\ \\text{$\\varepsilon_{8}$} \\\\ \\text{$\\varepsilon_{9}$} \\\\ \\text{$\\varepsilon_{10}$} \\\\ \\text{$\\varepsilon_{11}$} \\\\ \\text{$\\varepsilon_{12}$} \\\\ \\text{$\\varepsilon_{13}$} \\\\ \\text{$\\varepsilon_{14}$} \\\\ \\text{$\\varepsilon_{15}$} \\\\ \\end{bmatrix}$\n",
    "\n",
    "Let's pull out the parameters from the cubic regression:"
   ]
  },
  {
   "cell_type": "code",
   "execution_count": 64,
   "id": "1a9e4f4a",
   "metadata": {},
   "outputs": [],
   "source": [
    "# isolate the parameters from the cubic regrssion\n",
    "intercept_cubic_reg_1 = cubic_reg_1.params[0]\n",
    "slope_cubic_reg_1 = cubic_reg_1.params[1]\n",
    "slope_2_cubic_reg_1 = cubic_reg_1.params[2]\n",
    "slope_3_cubic_reg_1 = cubic_reg_1.params[3]"
   ]
  },
  {
   "cell_type": "markdown",
   "id": "e141c769",
   "metadata": {},
   "source": [
    "The graph below shows the cubic regression model, and its RMSE value:"
   ]
  },
  {
   "cell_type": "code",
   "execution_count": 65,
   "id": "89d6c992",
   "metadata": {},
   "outputs": [
    {
     "data": {
      "application/vnd.plotly.v1+json": {
       "config": {
        "plotlyServerURL": "https://plot.ly"
       },
       "data": [
        {
         "customdata": [
          [
           "oldsmobile cutlass ls"
          ],
          [
           "ford fairmont futura"
          ],
          [
           "chevrolet nova"
          ],
          [
           "plymouth valiant custom"
          ],
          [
           "plymouth arrow gs"
          ],
          [
           "amc concord d/l"
          ],
          [
           "chevrolet monte carlo landau"
          ],
          [
           "toyota corolla 1200"
          ],
          [
           "pontiac catalina brougham"
          ],
          [
           "amc spirit dl"
          ],
          [
           "chevrolet chevelle malibu"
          ],
          [
           "ford granada gl"
          ],
          [
           "ford torino 500"
          ],
          [
           "opel 1900"
          ],
          [
           "chrysler cordoba"
          ],
          [
           "amc rebel sst"
          ],
          [
           "renault 12 (sw)"
          ],
          [
           "amc concord dl 6"
          ],
          [
           "oldsmobile cutlass ciera (diesel)"
          ],
          [
           "datsun b-210"
          ],
          [
           "maxda rx3"
          ],
          [
           "ford fairmont (man)"
          ],
          [
           "mazda 626"
          ],
          [
           "honda accord"
          ],
          [
           "dodge d200"
          ],
          [
           "subaru"
          ],
          [
           "ford pinto"
          ],
          [
           "plymouth fury gran sedan"
          ],
          [
           "datsun 210 mpg"
          ],
          [
           "volkswagen 411 (sw)"
          ]
         ],
         "hovertemplate": "horsepower=%{x}<br>mpg=%{y}<br>name=%{customdata[0]}<extra></extra>",
         "legendgroup": "",
         "marker": {
          "color": "#636efa",
          "symbol": "circle"
         },
         "mode": "markers",
         "name": "",
         "orientation": "v",
         "showlegend": false,
         "type": "scatter",
         "x": [
          105,
          92,
          100,
          95,
          96,
          120,
          170,
          65,
          175,
          80,
          130,
          88,
          88,
          81,
          190,
          150,
          69,
          90,
          85,
          70,
          90,
          88,
          74,
          72,
          210,
          93,
          85,
          150,
          65,
          76
         ],
         "xaxis": "x",
         "y": [
          26.6,
          24,
          15,
          19,
          25.5,
          18.1,
          15.5,
          32,
          14,
          27.4,
          18,
          20.2,
          19,
          25,
          15.5,
          16,
          26,
          20.2,
          38,
          32,
          18,
          25.1,
          31.6,
          32.4,
          11,
          26,
          19,
          14,
          37,
          22
         ],
         "yaxis": "y"
        },
        {
         "line": {
          "color": "darkblue"
         },
         "name": "Cubic Regression",
         "type": "scatter",
         "x": [
          65,
          67.95918367346938,
          70.91836734693878,
          73.87755102040816,
          76.83673469387755,
          79.79591836734694,
          82.75510204081633,
          85.71428571428572,
          88.6734693877551,
          91.63265306122449,
          94.59183673469389,
          97.55102040816327,
          100.51020408163265,
          103.46938775510205,
          106.42857142857143,
          109.38775510204081,
          112.34693877551021,
          115.3061224489796,
          118.26530612244898,
          121.22448979591837,
          124.18367346938776,
          127.14285714285714,
          130.10204081632654,
          133.0612244897959,
          136.0204081632653,
          138.9795918367347,
          141.9387755102041,
          144.89795918367346,
          147.85714285714286,
          150.81632653061223,
          153.77551020408163,
          156.73469387755102,
          159.69387755102042,
          162.6530612244898,
          165.6122448979592,
          168.57142857142856,
          171.53061224489795,
          174.48979591836735,
          177.44897959183675,
          180.40816326530611,
          183.3673469387755,
          186.32653061224488,
          189.28571428571428,
          192.24489795918367,
          195.20408163265307,
          198.16326530612244,
          201.12244897959184,
          204.08163265306123,
          207.0408163265306,
          210
         ],
         "y": [
          33.03570659349003,
          31.53149231343113,
          30.12138015741916,
          28.802177390650826,
          27.570691278322872,
          26.423729085631983,
          25.35809807777489,
          24.37060551994833,
          23.458058677348998,
          22.61726481517362,
          21.845031198618916,
          21.13816509288161,
          20.493473763158416,
          19.907764474646036,
          19.377844492541193,
          18.900521082040626,
          18.472601508341047,
          18.090893036639176,
          17.752202932131723,
          17.45333846001541,
          17.191106885486946,
          16.96231547374304,
          16.763771489980428,
          16.592282199395832,
          16.444654867185974,
          16.317696758547577,
          16.208215138677303,
          16.11301727277197,
          16.028910426028204,
          15.95270186364273,
          15.881198850812297,
          15.811208652733654,
          15.739538534603497,
          15.662995761618532,
          15.578387598975468,
          15.482521311871082,
          15.372204165501955,
          15.244243425064909,
          15.095446355756664,
          14.922620222773958,
          14.722572291313483,
          14.492109826571863,
          14.228040093745932,
          13.92717035803247,
          13.586307884627928,
          13.202259938729242,
          12.771833785533232,
          12.291836690236323,
          11.75907591803545,
          11.170358734127262
         ]
        },
        {
         "line": {
          "color": "gold",
          "dash": "dash"
         },
         "name": "Errors (Cubic Regression)",
         "type": "scatter",
         "x": [
          null
         ],
         "y": [
          null
         ]
        }
       ],
       "layout": {
        "height": 500,
        "legend": {
         "tracegroupgap": 0
        },
        "margin": {
         "t": 60
        },
        "shapes": [
         {
          "line": {
           "color": "gold",
           "dash": "dash"
          },
          "x0": 105,
          "x1": 105,
          "y0": 26.6,
          "y1": 19.626904160542693
         },
         {
          "line": {
           "color": "gold",
           "dash": "dash"
          },
          "x0": 92,
          "x1": 92,
          "y0": 24,
          "y1": 22.51773917129037
         },
         {
          "line": {
           "color": "gold",
           "dash": "dash"
          },
          "x0": 100,
          "x1": 100,
          "y0": 15,
          "y1": 20.60033042928302
         },
         {
          "line": {
           "color": "gold",
           "dash": "dash"
          },
          "x0": 95,
          "x1": 95,
          "y0": 19,
          "y1": 21.743718128536365
         },
         {
          "line": {
           "color": "gold",
           "dash": "dash"
          },
          "x0": 96,
          "x1": 96,
          "y0": 25.5,
          "y1": 21.500704412334372
         },
         {
          "line": {
           "color": "gold",
           "dash": "dash"
          },
          "x0": 120,
          "x1": 120,
          "y0": 18.1,
          "y1": 17.572381039424855
         },
         {
          "line": {
           "color": "gold",
           "dash": "dash"
          },
          "x0": 170,
          "x1": 170,
          "y0": 15.5,
          "y1": 15.431265985740026
         },
         {
          "line": {
           "color": "gold",
           "dash": "dash"
          },
          "x0": 65,
          "x1": 65,
          "y0": 32,
          "y1": 33.03570659349003
         },
         {
          "line": {
           "color": "gold",
           "dash": "dash"
          },
          "x0": 175,
          "x1": 175,
          "y0": 14,
          "y1": 15.22016431544425
         },
         {
          "line": {
           "color": "gold",
           "dash": "dash"
          },
          "x0": 80,
          "x1": 80,
          "y0": 27.4,
          "y1": 26.347662707349542
         },
         {
          "line": {
           "color": "gold",
           "dash": "dash"
          },
          "x0": 130,
          "x1": 130,
          "y0": 18,
          "y1": 16.770149131623867
         },
         {
          "line": {
           "color": "gold",
           "dash": "dash"
          },
          "x0": 88,
          "x1": 88,
          "y0": 20.2,
          "y1": 23.65932016652735
         },
         {
          "line": {
           "color": "gold",
           "dash": "dash"
          },
          "x0": 88,
          "x1": 88,
          "y0": 19,
          "y1": 23.65932016652735
         },
         {
          "line": {
           "color": "gold",
           "dash": "dash"
          },
          "x0": 81,
          "x1": 81,
          "y0": 25,
          "y1": 25.980494275531335
         },
         {
          "line": {
           "color": "gold",
           "dash": "dash"
          },
          "x0": 190,
          "x1": 190,
          "y0": 15.5,
          "y1": 14.158906646669834
         },
         {
          "line": {
           "color": "gold",
           "dash": "dash"
          },
          "x0": 150,
          "x1": 150,
          "y0": 16,
          "y1": 15.973119298377966
         },
         {
          "line": {
           "color": "gold",
           "dash": "dash"
          },
          "x0": 69,
          "x1": 69,
          "y0": 26,
          "y1": 31.024957524209444
         },
         {
          "line": {
           "color": "gold",
           "dash": "dash"
          },
          "x0": 90,
          "x1": 90,
          "y0": 20.2,
          "y1": 23.07246854810022
         },
         {
          "line": {
           "color": "gold",
           "dash": "dash"
          },
          "x0": 85,
          "x1": 85,
          "y0": 38,
          "y1": 24.601982977772124
         },
         {
          "line": {
           "color": "gold",
           "dash": "dash"
          },
          "x0": 70,
          "x1": 70,
          "y0": 32,
          "y1": 30.549123225411005
         },
         {
          "line": {
           "color": "gold",
           "dash": "dash"
          },
          "x0": 90,
          "x1": 90,
          "y0": 18,
          "y1": 23.07246854810022
         },
         {
          "line": {
           "color": "gold",
           "dash": "dash"
          },
          "x0": 88,
          "x1": 88,
          "y0": 25.1,
          "y1": 23.65932016652735
         },
         {
          "line": {
           "color": "gold",
           "dash": "dash"
          },
          "x0": 74,
          "x1": 74,
          "y0": 31.6,
          "y1": 28.749501594752633
         },
         {
          "line": {
           "color": "gold",
           "dash": "dash"
          },
          "x0": 72,
          "x1": 72,
          "y0": 32.4,
          "y1": 29.628815717811502
         },
         {
          "line": {
           "color": "gold",
           "dash": "dash"
          },
          "x0": 210,
          "x1": 210,
          "y0": 11,
          "y1": 11.170358734127262
         },
         {
          "line": {
           "color": "gold",
           "dash": "dash"
          },
          "x0": 93,
          "x1": 93,
          "y0": 26,
          "y1": 22.25211229769599
         },
         {
          "line": {
           "color": "gold",
           "dash": "dash"
          },
          "x0": 85,
          "x1": 85,
          "y0": 19,
          "y1": 24.601982977772124
         },
         {
          "line": {
           "color": "gold",
           "dash": "dash"
          },
          "x0": 150,
          "x1": 150,
          "y0": 14,
          "y1": 15.973119298377966
         },
         {
          "line": {
           "color": "gold",
           "dash": "dash"
          },
          "x0": 65,
          "x1": 65,
          "y0": 37,
          "y1": 33.03570659349003
         },
         {
          "line": {
           "color": "gold",
           "dash": "dash"
          },
          "x0": 76,
          "x1": 76,
          "y0": 22,
          "y1": 27.910195173687384
         }
        ],
        "template": {
         "data": {
          "bar": [
           {
            "error_x": {
             "color": "#2a3f5f"
            },
            "error_y": {
             "color": "#2a3f5f"
            },
            "marker": {
             "line": {
              "color": "#E5ECF6",
              "width": 0.5
             },
             "pattern": {
              "fillmode": "overlay",
              "size": 10,
              "solidity": 0.2
             }
            },
            "type": "bar"
           }
          ],
          "barpolar": [
           {
            "marker": {
             "line": {
              "color": "#E5ECF6",
              "width": 0.5
             },
             "pattern": {
              "fillmode": "overlay",
              "size": 10,
              "solidity": 0.2
             }
            },
            "type": "barpolar"
           }
          ],
          "carpet": [
           {
            "aaxis": {
             "endlinecolor": "#2a3f5f",
             "gridcolor": "white",
             "linecolor": "white",
             "minorgridcolor": "white",
             "startlinecolor": "#2a3f5f"
            },
            "baxis": {
             "endlinecolor": "#2a3f5f",
             "gridcolor": "white",
             "linecolor": "white",
             "minorgridcolor": "white",
             "startlinecolor": "#2a3f5f"
            },
            "type": "carpet"
           }
          ],
          "choropleth": [
           {
            "colorbar": {
             "outlinewidth": 0,
             "ticks": ""
            },
            "type": "choropleth"
           }
          ],
          "contour": [
           {
            "colorbar": {
             "outlinewidth": 0,
             "ticks": ""
            },
            "colorscale": [
             [
              0,
              "#0d0887"
             ],
             [
              0.1111111111111111,
              "#46039f"
             ],
             [
              0.2222222222222222,
              "#7201a8"
             ],
             [
              0.3333333333333333,
              "#9c179e"
             ],
             [
              0.4444444444444444,
              "#bd3786"
             ],
             [
              0.5555555555555556,
              "#d8576b"
             ],
             [
              0.6666666666666666,
              "#ed7953"
             ],
             [
              0.7777777777777778,
              "#fb9f3a"
             ],
             [
              0.8888888888888888,
              "#fdca26"
             ],
             [
              1,
              "#f0f921"
             ]
            ],
            "type": "contour"
           }
          ],
          "contourcarpet": [
           {
            "colorbar": {
             "outlinewidth": 0,
             "ticks": ""
            },
            "type": "contourcarpet"
           }
          ],
          "heatmap": [
           {
            "colorbar": {
             "outlinewidth": 0,
             "ticks": ""
            },
            "colorscale": [
             [
              0,
              "#0d0887"
             ],
             [
              0.1111111111111111,
              "#46039f"
             ],
             [
              0.2222222222222222,
              "#7201a8"
             ],
             [
              0.3333333333333333,
              "#9c179e"
             ],
             [
              0.4444444444444444,
              "#bd3786"
             ],
             [
              0.5555555555555556,
              "#d8576b"
             ],
             [
              0.6666666666666666,
              "#ed7953"
             ],
             [
              0.7777777777777778,
              "#fb9f3a"
             ],
             [
              0.8888888888888888,
              "#fdca26"
             ],
             [
              1,
              "#f0f921"
             ]
            ],
            "type": "heatmap"
           }
          ],
          "heatmapgl": [
           {
            "colorbar": {
             "outlinewidth": 0,
             "ticks": ""
            },
            "colorscale": [
             [
              0,
              "#0d0887"
             ],
             [
              0.1111111111111111,
              "#46039f"
             ],
             [
              0.2222222222222222,
              "#7201a8"
             ],
             [
              0.3333333333333333,
              "#9c179e"
             ],
             [
              0.4444444444444444,
              "#bd3786"
             ],
             [
              0.5555555555555556,
              "#d8576b"
             ],
             [
              0.6666666666666666,
              "#ed7953"
             ],
             [
              0.7777777777777778,
              "#fb9f3a"
             ],
             [
              0.8888888888888888,
              "#fdca26"
             ],
             [
              1,
              "#f0f921"
             ]
            ],
            "type": "heatmapgl"
           }
          ],
          "histogram": [
           {
            "marker": {
             "pattern": {
              "fillmode": "overlay",
              "size": 10,
              "solidity": 0.2
             }
            },
            "type": "histogram"
           }
          ],
          "histogram2d": [
           {
            "colorbar": {
             "outlinewidth": 0,
             "ticks": ""
            },
            "colorscale": [
             [
              0,
              "#0d0887"
             ],
             [
              0.1111111111111111,
              "#46039f"
             ],
             [
              0.2222222222222222,
              "#7201a8"
             ],
             [
              0.3333333333333333,
              "#9c179e"
             ],
             [
              0.4444444444444444,
              "#bd3786"
             ],
             [
              0.5555555555555556,
              "#d8576b"
             ],
             [
              0.6666666666666666,
              "#ed7953"
             ],
             [
              0.7777777777777778,
              "#fb9f3a"
             ],
             [
              0.8888888888888888,
              "#fdca26"
             ],
             [
              1,
              "#f0f921"
             ]
            ],
            "type": "histogram2d"
           }
          ],
          "histogram2dcontour": [
           {
            "colorbar": {
             "outlinewidth": 0,
             "ticks": ""
            },
            "colorscale": [
             [
              0,
              "#0d0887"
             ],
             [
              0.1111111111111111,
              "#46039f"
             ],
             [
              0.2222222222222222,
              "#7201a8"
             ],
             [
              0.3333333333333333,
              "#9c179e"
             ],
             [
              0.4444444444444444,
              "#bd3786"
             ],
             [
              0.5555555555555556,
              "#d8576b"
             ],
             [
              0.6666666666666666,
              "#ed7953"
             ],
             [
              0.7777777777777778,
              "#fb9f3a"
             ],
             [
              0.8888888888888888,
              "#fdca26"
             ],
             [
              1,
              "#f0f921"
             ]
            ],
            "type": "histogram2dcontour"
           }
          ],
          "mesh3d": [
           {
            "colorbar": {
             "outlinewidth": 0,
             "ticks": ""
            },
            "type": "mesh3d"
           }
          ],
          "parcoords": [
           {
            "line": {
             "colorbar": {
              "outlinewidth": 0,
              "ticks": ""
             }
            },
            "type": "parcoords"
           }
          ],
          "pie": [
           {
            "automargin": true,
            "type": "pie"
           }
          ],
          "scatter": [
           {
            "fillpattern": {
             "fillmode": "overlay",
             "size": 10,
             "solidity": 0.2
            },
            "type": "scatter"
           }
          ],
          "scatter3d": [
           {
            "line": {
             "colorbar": {
              "outlinewidth": 0,
              "ticks": ""
             }
            },
            "marker": {
             "colorbar": {
              "outlinewidth": 0,
              "ticks": ""
             }
            },
            "type": "scatter3d"
           }
          ],
          "scattercarpet": [
           {
            "marker": {
             "colorbar": {
              "outlinewidth": 0,
              "ticks": ""
             }
            },
            "type": "scattercarpet"
           }
          ],
          "scattergeo": [
           {
            "marker": {
             "colorbar": {
              "outlinewidth": 0,
              "ticks": ""
             }
            },
            "type": "scattergeo"
           }
          ],
          "scattergl": [
           {
            "marker": {
             "colorbar": {
              "outlinewidth": 0,
              "ticks": ""
             }
            },
            "type": "scattergl"
           }
          ],
          "scattermapbox": [
           {
            "marker": {
             "colorbar": {
              "outlinewidth": 0,
              "ticks": ""
             }
            },
            "type": "scattermapbox"
           }
          ],
          "scatterpolar": [
           {
            "marker": {
             "colorbar": {
              "outlinewidth": 0,
              "ticks": ""
             }
            },
            "type": "scatterpolar"
           }
          ],
          "scatterpolargl": [
           {
            "marker": {
             "colorbar": {
              "outlinewidth": 0,
              "ticks": ""
             }
            },
            "type": "scatterpolargl"
           }
          ],
          "scatterternary": [
           {
            "marker": {
             "colorbar": {
              "outlinewidth": 0,
              "ticks": ""
             }
            },
            "type": "scatterternary"
           }
          ],
          "surface": [
           {
            "colorbar": {
             "outlinewidth": 0,
             "ticks": ""
            },
            "colorscale": [
             [
              0,
              "#0d0887"
             ],
             [
              0.1111111111111111,
              "#46039f"
             ],
             [
              0.2222222222222222,
              "#7201a8"
             ],
             [
              0.3333333333333333,
              "#9c179e"
             ],
             [
              0.4444444444444444,
              "#bd3786"
             ],
             [
              0.5555555555555556,
              "#d8576b"
             ],
             [
              0.6666666666666666,
              "#ed7953"
             ],
             [
              0.7777777777777778,
              "#fb9f3a"
             ],
             [
              0.8888888888888888,
              "#fdca26"
             ],
             [
              1,
              "#f0f921"
             ]
            ],
            "type": "surface"
           }
          ],
          "table": [
           {
            "cells": {
             "fill": {
              "color": "#EBF0F8"
             },
             "line": {
              "color": "white"
             }
            },
            "header": {
             "fill": {
              "color": "#C8D4E3"
             },
             "line": {
              "color": "white"
             }
            },
            "type": "table"
           }
          ]
         },
         "layout": {
          "annotationdefaults": {
           "arrowcolor": "#2a3f5f",
           "arrowhead": 0,
           "arrowwidth": 1
          },
          "autotypenumbers": "strict",
          "coloraxis": {
           "colorbar": {
            "outlinewidth": 0,
            "ticks": ""
           }
          },
          "colorscale": {
           "diverging": [
            [
             0,
             "#8e0152"
            ],
            [
             0.1,
             "#c51b7d"
            ],
            [
             0.2,
             "#de77ae"
            ],
            [
             0.3,
             "#f1b6da"
            ],
            [
             0.4,
             "#fde0ef"
            ],
            [
             0.5,
             "#f7f7f7"
            ],
            [
             0.6,
             "#e6f5d0"
            ],
            [
             0.7,
             "#b8e186"
            ],
            [
             0.8,
             "#7fbc41"
            ],
            [
             0.9,
             "#4d9221"
            ],
            [
             1,
             "#276419"
            ]
           ],
           "sequential": [
            [
             0,
             "#0d0887"
            ],
            [
             0.1111111111111111,
             "#46039f"
            ],
            [
             0.2222222222222222,
             "#7201a8"
            ],
            [
             0.3333333333333333,
             "#9c179e"
            ],
            [
             0.4444444444444444,
             "#bd3786"
            ],
            [
             0.5555555555555556,
             "#d8576b"
            ],
            [
             0.6666666666666666,
             "#ed7953"
            ],
            [
             0.7777777777777778,
             "#fb9f3a"
            ],
            [
             0.8888888888888888,
             "#fdca26"
            ],
            [
             1,
             "#f0f921"
            ]
           ],
           "sequentialminus": [
            [
             0,
             "#0d0887"
            ],
            [
             0.1111111111111111,
             "#46039f"
            ],
            [
             0.2222222222222222,
             "#7201a8"
            ],
            [
             0.3333333333333333,
             "#9c179e"
            ],
            [
             0.4444444444444444,
             "#bd3786"
            ],
            [
             0.5555555555555556,
             "#d8576b"
            ],
            [
             0.6666666666666666,
             "#ed7953"
            ],
            [
             0.7777777777777778,
             "#fb9f3a"
            ],
            [
             0.8888888888888888,
             "#fdca26"
            ],
            [
             1,
             "#f0f921"
            ]
           ]
          },
          "colorway": [
           "#636efa",
           "#EF553B",
           "#00cc96",
           "#ab63fa",
           "#FFA15A",
           "#19d3f3",
           "#FF6692",
           "#B6E880",
           "#FF97FF",
           "#FECB52"
          ],
          "font": {
           "color": "#2a3f5f"
          },
          "geo": {
           "bgcolor": "white",
           "lakecolor": "white",
           "landcolor": "#E5ECF6",
           "showlakes": true,
           "showland": true,
           "subunitcolor": "white"
          },
          "hoverlabel": {
           "align": "left"
          },
          "hovermode": "closest",
          "mapbox": {
           "style": "light"
          },
          "paper_bgcolor": "white",
          "plot_bgcolor": "#E5ECF6",
          "polar": {
           "angularaxis": {
            "gridcolor": "white",
            "linecolor": "white",
            "ticks": ""
           },
           "bgcolor": "#E5ECF6",
           "radialaxis": {
            "gridcolor": "white",
            "linecolor": "white",
            "ticks": ""
           }
          },
          "scene": {
           "xaxis": {
            "backgroundcolor": "#E5ECF6",
            "gridcolor": "white",
            "gridwidth": 2,
            "linecolor": "white",
            "showbackground": true,
            "ticks": "",
            "zerolinecolor": "white"
           },
           "yaxis": {
            "backgroundcolor": "#E5ECF6",
            "gridcolor": "white",
            "gridwidth": 2,
            "linecolor": "white",
            "showbackground": true,
            "ticks": "",
            "zerolinecolor": "white"
           },
           "zaxis": {
            "backgroundcolor": "#E5ECF6",
            "gridcolor": "white",
            "gridwidth": 2,
            "linecolor": "white",
            "showbackground": true,
            "ticks": "",
            "zerolinecolor": "white"
           }
          },
          "shapedefaults": {
           "line": {
            "color": "#2a3f5f"
           }
          },
          "ternary": {
           "aaxis": {
            "gridcolor": "white",
            "linecolor": "white",
            "ticks": ""
           },
           "baxis": {
            "gridcolor": "white",
            "linecolor": "white",
            "ticks": ""
           },
           "bgcolor": "#E5ECF6",
           "caxis": {
            "gridcolor": "white",
            "linecolor": "white",
            "ticks": ""
           }
          },
          "title": {
           "x": 0.05
          },
          "xaxis": {
           "automargin": true,
           "gridcolor": "white",
           "linecolor": "white",
           "ticks": "",
           "title": {
            "standoff": 15
           },
           "zerolinecolor": "white",
           "zerolinewidth": 2
          },
          "yaxis": {
           "automargin": true,
           "gridcolor": "white",
           "linecolor": "white",
           "ticks": "",
           "title": {
            "standoff": 15
           },
           "zerolinecolor": "white",
           "zerolinewidth": 2
          }
         }
        },
        "title": {
         "text": "RMSE (Cubic Regression) = 4.11"
        },
        "width": 700,
        "xaxis": {
         "anchor": "y",
         "domain": [
          0,
          1
         ],
         "title": {
          "text": "horsepower"
         }
        },
        "yaxis": {
         "anchor": "x",
         "domain": [
          0,
          1
         ],
         "title": {
          "text": "mpg"
         }
        }
       }
      },
      "text/html": [
       "<div>                            <div id=\"63d809ac-ba2a-4e4f-bc7c-360a1454bae8\" class=\"plotly-graph-div\" style=\"height:500px; width:700px;\"></div>            <script type=\"text/javascript\">                require([\"plotly\"], function(Plotly) {                    window.PLOTLYENV=window.PLOTLYENV || {};                                    if (document.getElementById(\"63d809ac-ba2a-4e4f-bc7c-360a1454bae8\")) {                    Plotly.newPlot(                        \"63d809ac-ba2a-4e4f-bc7c-360a1454bae8\",                        [{\"customdata\":[[\"oldsmobile cutlass ls\"],[\"ford fairmont futura\"],[\"chevrolet nova\"],[\"plymouth valiant custom\"],[\"plymouth arrow gs\"],[\"amc concord d\\u002fl\"],[\"chevrolet monte carlo landau\"],[\"toyota corolla 1200\"],[\"pontiac catalina brougham\"],[\"amc spirit dl\"],[\"chevrolet chevelle malibu\"],[\"ford granada gl\"],[\"ford torino 500\"],[\"opel 1900\"],[\"chrysler cordoba\"],[\"amc rebel sst\"],[\"renault 12 (sw)\"],[\"amc concord dl 6\"],[\"oldsmobile cutlass ciera (diesel)\"],[\"datsun b-210\"],[\"maxda rx3\"],[\"ford fairmont (man)\"],[\"mazda 626\"],[\"honda accord\"],[\"dodge d200\"],[\"subaru\"],[\"ford pinto\"],[\"plymouth fury gran sedan\"],[\"datsun 210 mpg\"],[\"volkswagen 411 (sw)\"]],\"hovertemplate\":\"horsepower=%{x}\\u003cbr\\u003empg=%{y}\\u003cbr\\u003ename=%{customdata[0]}\\u003cextra\\u003e\\u003c\\u002fextra\\u003e\",\"legendgroup\":\"\",\"marker\":{\"color\":\"#636efa\",\"symbol\":\"circle\"},\"mode\":\"markers\",\"name\":\"\",\"orientation\":\"v\",\"showlegend\":false,\"x\":[105,92,100,95,96,120,170,65,175,80,130,88,88,81,190,150,69,90,85,70,90,88,74,72,210,93,85,150,65,76],\"xaxis\":\"x\",\"y\":[26.6,24.0,15.0,19.0,25.5,18.1,15.5,32.0,14.0,27.4,18.0,20.2,19.0,25.0,15.5,16.0,26.0,20.2,38.0,32.0,18.0,25.1,31.6,32.4,11.0,26.0,19.0,14.0,37.0,22.0],\"yaxis\":\"y\",\"type\":\"scatter\"},{\"line\":{\"color\":\"darkblue\"},\"name\":\"Cubic Regression\",\"x\":[65.0,67.95918367346938,70.91836734693878,73.87755102040816,76.83673469387755,79.79591836734694,82.75510204081633,85.71428571428572,88.6734693877551,91.63265306122449,94.59183673469389,97.55102040816327,100.51020408163265,103.46938775510205,106.42857142857143,109.38775510204081,112.34693877551021,115.3061224489796,118.26530612244898,121.22448979591837,124.18367346938776,127.14285714285714,130.10204081632654,133.0612244897959,136.0204081632653,138.9795918367347,141.9387755102041,144.89795918367346,147.85714285714286,150.81632653061223,153.77551020408163,156.73469387755102,159.69387755102042,162.6530612244898,165.6122448979592,168.57142857142856,171.53061224489795,174.48979591836735,177.44897959183675,180.40816326530611,183.3673469387755,186.32653061224488,189.28571428571428,192.24489795918367,195.20408163265307,198.16326530612244,201.12244897959184,204.08163265306123,207.0408163265306,210.0],\"y\":[33.03570659349003,31.53149231343113,30.12138015741916,28.802177390650826,27.570691278322872,26.423729085631983,25.35809807777489,24.37060551994833,23.458058677348998,22.61726481517362,21.845031198618916,21.13816509288161,20.493473763158416,19.907764474646036,19.377844492541193,18.900521082040626,18.472601508341047,18.090893036639176,17.752202932131723,17.45333846001541,17.191106885486946,16.96231547374304,16.763771489980428,16.592282199395832,16.444654867185974,16.317696758547577,16.208215138677303,16.11301727277197,16.028910426028204,15.95270186364273,15.881198850812297,15.811208652733654,15.739538534603497,15.662995761618532,15.578387598975468,15.482521311871082,15.372204165501955,15.244243425064909,15.095446355756664,14.922620222773958,14.722572291313483,14.492109826571863,14.228040093745932,13.92717035803247,13.586307884627928,13.202259938729242,12.771833785533232,12.291836690236323,11.75907591803545,11.170358734127262],\"type\":\"scatter\"},{\"line\":{\"color\":\"gold\",\"dash\":\"dash\"},\"name\":\"Errors (Cubic Regression)\",\"x\":[null],\"y\":[null],\"type\":\"scatter\"}],                        {\"template\":{\"data\":{\"histogram2dcontour\":[{\"type\":\"histogram2dcontour\",\"colorbar\":{\"outlinewidth\":0,\"ticks\":\"\"},\"colorscale\":[[0.0,\"#0d0887\"],[0.1111111111111111,\"#46039f\"],[0.2222222222222222,\"#7201a8\"],[0.3333333333333333,\"#9c179e\"],[0.4444444444444444,\"#bd3786\"],[0.5555555555555556,\"#d8576b\"],[0.6666666666666666,\"#ed7953\"],[0.7777777777777778,\"#fb9f3a\"],[0.8888888888888888,\"#fdca26\"],[1.0,\"#f0f921\"]]}],\"choropleth\":[{\"type\":\"choropleth\",\"colorbar\":{\"outlinewidth\":0,\"ticks\":\"\"}}],\"histogram2d\":[{\"type\":\"histogram2d\",\"colorbar\":{\"outlinewidth\":0,\"ticks\":\"\"},\"colorscale\":[[0.0,\"#0d0887\"],[0.1111111111111111,\"#46039f\"],[0.2222222222222222,\"#7201a8\"],[0.3333333333333333,\"#9c179e\"],[0.4444444444444444,\"#bd3786\"],[0.5555555555555556,\"#d8576b\"],[0.6666666666666666,\"#ed7953\"],[0.7777777777777778,\"#fb9f3a\"],[0.8888888888888888,\"#fdca26\"],[1.0,\"#f0f921\"]]}],\"heatmap\":[{\"type\":\"heatmap\",\"colorbar\":{\"outlinewidth\":0,\"ticks\":\"\"},\"colorscale\":[[0.0,\"#0d0887\"],[0.1111111111111111,\"#46039f\"],[0.2222222222222222,\"#7201a8\"],[0.3333333333333333,\"#9c179e\"],[0.4444444444444444,\"#bd3786\"],[0.5555555555555556,\"#d8576b\"],[0.6666666666666666,\"#ed7953\"],[0.7777777777777778,\"#fb9f3a\"],[0.8888888888888888,\"#fdca26\"],[1.0,\"#f0f921\"]]}],\"heatmapgl\":[{\"type\":\"heatmapgl\",\"colorbar\":{\"outlinewidth\":0,\"ticks\":\"\"},\"colorscale\":[[0.0,\"#0d0887\"],[0.1111111111111111,\"#46039f\"],[0.2222222222222222,\"#7201a8\"],[0.3333333333333333,\"#9c179e\"],[0.4444444444444444,\"#bd3786\"],[0.5555555555555556,\"#d8576b\"],[0.6666666666666666,\"#ed7953\"],[0.7777777777777778,\"#fb9f3a\"],[0.8888888888888888,\"#fdca26\"],[1.0,\"#f0f921\"]]}],\"contourcarpet\":[{\"type\":\"contourcarpet\",\"colorbar\":{\"outlinewidth\":0,\"ticks\":\"\"}}],\"contour\":[{\"type\":\"contour\",\"colorbar\":{\"outlinewidth\":0,\"ticks\":\"\"},\"colorscale\":[[0.0,\"#0d0887\"],[0.1111111111111111,\"#46039f\"],[0.2222222222222222,\"#7201a8\"],[0.3333333333333333,\"#9c179e\"],[0.4444444444444444,\"#bd3786\"],[0.5555555555555556,\"#d8576b\"],[0.6666666666666666,\"#ed7953\"],[0.7777777777777778,\"#fb9f3a\"],[0.8888888888888888,\"#fdca26\"],[1.0,\"#f0f921\"]]}],\"surface\":[{\"type\":\"surface\",\"colorbar\":{\"outlinewidth\":0,\"ticks\":\"\"},\"colorscale\":[[0.0,\"#0d0887\"],[0.1111111111111111,\"#46039f\"],[0.2222222222222222,\"#7201a8\"],[0.3333333333333333,\"#9c179e\"],[0.4444444444444444,\"#bd3786\"],[0.5555555555555556,\"#d8576b\"],[0.6666666666666666,\"#ed7953\"],[0.7777777777777778,\"#fb9f3a\"],[0.8888888888888888,\"#fdca26\"],[1.0,\"#f0f921\"]]}],\"mesh3d\":[{\"type\":\"mesh3d\",\"colorbar\":{\"outlinewidth\":0,\"ticks\":\"\"}}],\"scatter\":[{\"fillpattern\":{\"fillmode\":\"overlay\",\"size\":10,\"solidity\":0.2},\"type\":\"scatter\"}],\"parcoords\":[{\"type\":\"parcoords\",\"line\":{\"colorbar\":{\"outlinewidth\":0,\"ticks\":\"\"}}}],\"scatterpolargl\":[{\"type\":\"scatterpolargl\",\"marker\":{\"colorbar\":{\"outlinewidth\":0,\"ticks\":\"\"}}}],\"bar\":[{\"error_x\":{\"color\":\"#2a3f5f\"},\"error_y\":{\"color\":\"#2a3f5f\"},\"marker\":{\"line\":{\"color\":\"#E5ECF6\",\"width\":0.5},\"pattern\":{\"fillmode\":\"overlay\",\"size\":10,\"solidity\":0.2}},\"type\":\"bar\"}],\"scattergeo\":[{\"type\":\"scattergeo\",\"marker\":{\"colorbar\":{\"outlinewidth\":0,\"ticks\":\"\"}}}],\"scatterpolar\":[{\"type\":\"scatterpolar\",\"marker\":{\"colorbar\":{\"outlinewidth\":0,\"ticks\":\"\"}}}],\"histogram\":[{\"marker\":{\"pattern\":{\"fillmode\":\"overlay\",\"size\":10,\"solidity\":0.2}},\"type\":\"histogram\"}],\"scattergl\":[{\"type\":\"scattergl\",\"marker\":{\"colorbar\":{\"outlinewidth\":0,\"ticks\":\"\"}}}],\"scatter3d\":[{\"type\":\"scatter3d\",\"line\":{\"colorbar\":{\"outlinewidth\":0,\"ticks\":\"\"}},\"marker\":{\"colorbar\":{\"outlinewidth\":0,\"ticks\":\"\"}}}],\"scattermapbox\":[{\"type\":\"scattermapbox\",\"marker\":{\"colorbar\":{\"outlinewidth\":0,\"ticks\":\"\"}}}],\"scatterternary\":[{\"type\":\"scatterternary\",\"marker\":{\"colorbar\":{\"outlinewidth\":0,\"ticks\":\"\"}}}],\"scattercarpet\":[{\"type\":\"scattercarpet\",\"marker\":{\"colorbar\":{\"outlinewidth\":0,\"ticks\":\"\"}}}],\"carpet\":[{\"aaxis\":{\"endlinecolor\":\"#2a3f5f\",\"gridcolor\":\"white\",\"linecolor\":\"white\",\"minorgridcolor\":\"white\",\"startlinecolor\":\"#2a3f5f\"},\"baxis\":{\"endlinecolor\":\"#2a3f5f\",\"gridcolor\":\"white\",\"linecolor\":\"white\",\"minorgridcolor\":\"white\",\"startlinecolor\":\"#2a3f5f\"},\"type\":\"carpet\"}],\"table\":[{\"cells\":{\"fill\":{\"color\":\"#EBF0F8\"},\"line\":{\"color\":\"white\"}},\"header\":{\"fill\":{\"color\":\"#C8D4E3\"},\"line\":{\"color\":\"white\"}},\"type\":\"table\"}],\"barpolar\":[{\"marker\":{\"line\":{\"color\":\"#E5ECF6\",\"width\":0.5},\"pattern\":{\"fillmode\":\"overlay\",\"size\":10,\"solidity\":0.2}},\"type\":\"barpolar\"}],\"pie\":[{\"automargin\":true,\"type\":\"pie\"}]},\"layout\":{\"autotypenumbers\":\"strict\",\"colorway\":[\"#636efa\",\"#EF553B\",\"#00cc96\",\"#ab63fa\",\"#FFA15A\",\"#19d3f3\",\"#FF6692\",\"#B6E880\",\"#FF97FF\",\"#FECB52\"],\"font\":{\"color\":\"#2a3f5f\"},\"hovermode\":\"closest\",\"hoverlabel\":{\"align\":\"left\"},\"paper_bgcolor\":\"white\",\"plot_bgcolor\":\"#E5ECF6\",\"polar\":{\"bgcolor\":\"#E5ECF6\",\"angularaxis\":{\"gridcolor\":\"white\",\"linecolor\":\"white\",\"ticks\":\"\"},\"radialaxis\":{\"gridcolor\":\"white\",\"linecolor\":\"white\",\"ticks\":\"\"}},\"ternary\":{\"bgcolor\":\"#E5ECF6\",\"aaxis\":{\"gridcolor\":\"white\",\"linecolor\":\"white\",\"ticks\":\"\"},\"baxis\":{\"gridcolor\":\"white\",\"linecolor\":\"white\",\"ticks\":\"\"},\"caxis\":{\"gridcolor\":\"white\",\"linecolor\":\"white\",\"ticks\":\"\"}},\"coloraxis\":{\"colorbar\":{\"outlinewidth\":0,\"ticks\":\"\"}},\"colorscale\":{\"sequential\":[[0.0,\"#0d0887\"],[0.1111111111111111,\"#46039f\"],[0.2222222222222222,\"#7201a8\"],[0.3333333333333333,\"#9c179e\"],[0.4444444444444444,\"#bd3786\"],[0.5555555555555556,\"#d8576b\"],[0.6666666666666666,\"#ed7953\"],[0.7777777777777778,\"#fb9f3a\"],[0.8888888888888888,\"#fdca26\"],[1.0,\"#f0f921\"]],\"sequentialminus\":[[0.0,\"#0d0887\"],[0.1111111111111111,\"#46039f\"],[0.2222222222222222,\"#7201a8\"],[0.3333333333333333,\"#9c179e\"],[0.4444444444444444,\"#bd3786\"],[0.5555555555555556,\"#d8576b\"],[0.6666666666666666,\"#ed7953\"],[0.7777777777777778,\"#fb9f3a\"],[0.8888888888888888,\"#fdca26\"],[1.0,\"#f0f921\"]],\"diverging\":[[0,\"#8e0152\"],[0.1,\"#c51b7d\"],[0.2,\"#de77ae\"],[0.3,\"#f1b6da\"],[0.4,\"#fde0ef\"],[0.5,\"#f7f7f7\"],[0.6,\"#e6f5d0\"],[0.7,\"#b8e186\"],[0.8,\"#7fbc41\"],[0.9,\"#4d9221\"],[1,\"#276419\"]]},\"xaxis\":{\"gridcolor\":\"white\",\"linecolor\":\"white\",\"ticks\":\"\",\"title\":{\"standoff\":15},\"zerolinecolor\":\"white\",\"automargin\":true,\"zerolinewidth\":2},\"yaxis\":{\"gridcolor\":\"white\",\"linecolor\":\"white\",\"ticks\":\"\",\"title\":{\"standoff\":15},\"zerolinecolor\":\"white\",\"automargin\":true,\"zerolinewidth\":2},\"scene\":{\"xaxis\":{\"backgroundcolor\":\"#E5ECF6\",\"gridcolor\":\"white\",\"linecolor\":\"white\",\"showbackground\":true,\"ticks\":\"\",\"zerolinecolor\":\"white\",\"gridwidth\":2},\"yaxis\":{\"backgroundcolor\":\"#E5ECF6\",\"gridcolor\":\"white\",\"linecolor\":\"white\",\"showbackground\":true,\"ticks\":\"\",\"zerolinecolor\":\"white\",\"gridwidth\":2},\"zaxis\":{\"backgroundcolor\":\"#E5ECF6\",\"gridcolor\":\"white\",\"linecolor\":\"white\",\"showbackground\":true,\"ticks\":\"\",\"zerolinecolor\":\"white\",\"gridwidth\":2}},\"shapedefaults\":{\"line\":{\"color\":\"#2a3f5f\"}},\"annotationdefaults\":{\"arrowcolor\":\"#2a3f5f\",\"arrowhead\":0,\"arrowwidth\":1},\"geo\":{\"bgcolor\":\"white\",\"landcolor\":\"#E5ECF6\",\"subunitcolor\":\"white\",\"showland\":true,\"showlakes\":true,\"lakecolor\":\"white\"},\"title\":{\"x\":0.05},\"mapbox\":{\"style\":\"light\"}}},\"xaxis\":{\"anchor\":\"y\",\"domain\":[0.0,1.0],\"title\":{\"text\":\"horsepower\"}},\"yaxis\":{\"anchor\":\"x\",\"domain\":[0.0,1.0],\"title\":{\"text\":\"mpg\"}},\"legend\":{\"tracegroupgap\":0},\"margin\":{\"t\":60},\"shapes\":[{\"line\":{\"color\":\"gold\",\"dash\":\"dash\"},\"x0\":105,\"x1\":105,\"y0\":26.6,\"y1\":19.626904160542693},{\"line\":{\"color\":\"gold\",\"dash\":\"dash\"},\"x0\":92,\"x1\":92,\"y0\":24.0,\"y1\":22.51773917129037},{\"line\":{\"color\":\"gold\",\"dash\":\"dash\"},\"x0\":100,\"x1\":100,\"y0\":15.0,\"y1\":20.60033042928302},{\"line\":{\"color\":\"gold\",\"dash\":\"dash\"},\"x0\":95,\"x1\":95,\"y0\":19.0,\"y1\":21.743718128536365},{\"line\":{\"color\":\"gold\",\"dash\":\"dash\"},\"x0\":96,\"x1\":96,\"y0\":25.5,\"y1\":21.500704412334372},{\"line\":{\"color\":\"gold\",\"dash\":\"dash\"},\"x0\":120,\"x1\":120,\"y0\":18.1,\"y1\":17.572381039424855},{\"line\":{\"color\":\"gold\",\"dash\":\"dash\"},\"x0\":170,\"x1\":170,\"y0\":15.5,\"y1\":15.431265985740026},{\"line\":{\"color\":\"gold\",\"dash\":\"dash\"},\"x0\":65,\"x1\":65,\"y0\":32.0,\"y1\":33.03570659349003},{\"line\":{\"color\":\"gold\",\"dash\":\"dash\"},\"x0\":175,\"x1\":175,\"y0\":14.0,\"y1\":15.22016431544425},{\"line\":{\"color\":\"gold\",\"dash\":\"dash\"},\"x0\":80,\"x1\":80,\"y0\":27.4,\"y1\":26.347662707349542},{\"line\":{\"color\":\"gold\",\"dash\":\"dash\"},\"x0\":130,\"x1\":130,\"y0\":18.0,\"y1\":16.770149131623867},{\"line\":{\"color\":\"gold\",\"dash\":\"dash\"},\"x0\":88,\"x1\":88,\"y0\":20.2,\"y1\":23.65932016652735},{\"line\":{\"color\":\"gold\",\"dash\":\"dash\"},\"x0\":88,\"x1\":88,\"y0\":19.0,\"y1\":23.65932016652735},{\"line\":{\"color\":\"gold\",\"dash\":\"dash\"},\"x0\":81,\"x1\":81,\"y0\":25.0,\"y1\":25.980494275531335},{\"line\":{\"color\":\"gold\",\"dash\":\"dash\"},\"x0\":190,\"x1\":190,\"y0\":15.5,\"y1\":14.158906646669834},{\"line\":{\"color\":\"gold\",\"dash\":\"dash\"},\"x0\":150,\"x1\":150,\"y0\":16.0,\"y1\":15.973119298377966},{\"line\":{\"color\":\"gold\",\"dash\":\"dash\"},\"x0\":69,\"x1\":69,\"y0\":26.0,\"y1\":31.024957524209444},{\"line\":{\"color\":\"gold\",\"dash\":\"dash\"},\"x0\":90,\"x1\":90,\"y0\":20.2,\"y1\":23.07246854810022},{\"line\":{\"color\":\"gold\",\"dash\":\"dash\"},\"x0\":85,\"x1\":85,\"y0\":38.0,\"y1\":24.601982977772124},{\"line\":{\"color\":\"gold\",\"dash\":\"dash\"},\"x0\":70,\"x1\":70,\"y0\":32.0,\"y1\":30.549123225411005},{\"line\":{\"color\":\"gold\",\"dash\":\"dash\"},\"x0\":90,\"x1\":90,\"y0\":18.0,\"y1\":23.07246854810022},{\"line\":{\"color\":\"gold\",\"dash\":\"dash\"},\"x0\":88,\"x1\":88,\"y0\":25.1,\"y1\":23.65932016652735},{\"line\":{\"color\":\"gold\",\"dash\":\"dash\"},\"x0\":74,\"x1\":74,\"y0\":31.6,\"y1\":28.749501594752633},{\"line\":{\"color\":\"gold\",\"dash\":\"dash\"},\"x0\":72,\"x1\":72,\"y0\":32.4,\"y1\":29.628815717811502},{\"line\":{\"color\":\"gold\",\"dash\":\"dash\"},\"x0\":210,\"x1\":210,\"y0\":11.0,\"y1\":11.170358734127262},{\"line\":{\"color\":\"gold\",\"dash\":\"dash\"},\"x0\":93,\"x1\":93,\"y0\":26.0,\"y1\":22.25211229769599},{\"line\":{\"color\":\"gold\",\"dash\":\"dash\"},\"x0\":85,\"x1\":85,\"y0\":19.0,\"y1\":24.601982977772124},{\"line\":{\"color\":\"gold\",\"dash\":\"dash\"},\"x0\":150,\"x1\":150,\"y0\":14.0,\"y1\":15.973119298377966},{\"line\":{\"color\":\"gold\",\"dash\":\"dash\"},\"x0\":65,\"x1\":65,\"y0\":37.0,\"y1\":33.03570659349003},{\"line\":{\"color\":\"gold\",\"dash\":\"dash\"},\"x0\":76,\"x1\":76,\"y0\":22.0,\"y1\":27.910195173687384}],\"width\":700,\"height\":500,\"title\":{\"text\":\"RMSE (Cubic Regression) = 4.11\"}},                        {\"responsive\": true}                    ).then(function(){\n",
       "                            \n",
       "var gd = document.getElementById('63d809ac-ba2a-4e4f-bc7c-360a1454bae8');\n",
       "var x = new MutationObserver(function (mutations, observer) {{\n",
       "        var display = window.getComputedStyle(gd).display;\n",
       "        if (!display || display === 'none') {{\n",
       "            console.log([gd, 'removed!']);\n",
       "            Plotly.purge(gd);\n",
       "            observer.disconnect();\n",
       "        }}\n",
       "}});\n",
       "\n",
       "// Listen for the removal of the full notebook cells\n",
       "var notebookContainer = gd.closest('#notebook-container');\n",
       "if (notebookContainer) {{\n",
       "    x.observe(notebookContainer, {childList: true});\n",
       "}}\n",
       "\n",
       "// Listen for the clearing of the current output cell\n",
       "var outputEl = gd.closest('.output');\n",
       "if (outputEl) {{\n",
       "    x.observe(outputEl, {childList: true});\n",
       "}}\n",
       "\n",
       "                        })                };                });            </script>        </div>"
      ]
     },
     "metadata": {},
     "output_type": "display_data"
    }
   ],
   "source": [
    "# plot the cubic regression\n",
    "predictions_cubic = intercept_cubic_reg_1 + slope_cubic_reg_1 * sample['horsepower'] + slope_2_cubic_reg_1 * sample['horsepower']**2 + slope_3_cubic_reg_1 * sample['horsepower']**3\n",
    "predictions_cubic_for_plot = intercept_cubic_reg_1 + slope_cubic_reg_1*xs_for_plot + slope_2_cubic_reg_1*xs_for_plot**2 + slope_3_cubic_reg_1*xs_for_plot**3\n",
    "from statsmodels.tools.eval_measures import rmse as rmse_sm\n",
    "cubic_rmse = rmse_sm(sample['mpg'], predictions_cubic)\n",
    "fig_3 = px.scatter(x='horsepower', y='mpg', data_frame=sample, hover_data='name')  \n",
    "fig_3.add_trace(go.Scatter(x=xs_for_plot,\n",
    "                         y=predictions_cubic_for_plot,\n",
    "                         name='Cubic Regression', line ={'color':'darkblue'}))\n",
    "fig_3.add_trace(go.Scatter(x=[None], y =[None], name='Errors (Cubic Regression)',   line={'dash':'dash', 'color': 'gold'}))\n",
    "for i in np.arange(len(sample)):\n",
    "    fig_3.add_shape(go.layout.Shape(x1=sample.iloc[i]['horsepower'],\n",
    "                                  x0=sample.iloc[i]['horsepower'],\n",
    "                                  y0=sample.iloc[i]['mpg'],\n",
    "                                  y1=predictions_cubic.iloc[i],\n",
    "                                  line={'dash':'dash', 'color': 'gold'}\n",
    "                                  ))\n",
    "cubic_reg_title_string = f'RMSE (Cubic Regression) = {round(cubic_rmse, 2)}'\n",
    "fig_3.update_layout(width=700, height=500,\n",
    "                  title=cubic_reg_title_string)\n",
    "fig_3.show()"
   ]
  },
  {
   "cell_type": "markdown",
   "id": "55033d94",
   "metadata": {},
   "source": [
    "Let's see if the fitted vs residuals plot from the cubic regression is improved vs the other two models (remember, we want to see a *random* distribution of points on this plot (meaning that the model is using all of the systematic predictive information available to it from the data):"
   ]
  },
  {
   "cell_type": "code",
   "execution_count": 66,
   "id": "bea486f8",
   "metadata": {},
   "outputs": [
    {
     "data": {
      "application/vnd.plotly.v1+json": {
       "config": {
        "plotlyServerURL": "https://plot.ly"
       },
       "data": [
        {
         "hovertemplate": "x=%{x}<br>y=%{y}<extra></extra>",
         "legendgroup": "",
         "marker": {
          "color": "red",
          "size": 8,
          "symbol": "x"
         },
         "mode": "markers",
         "name": "",
         "orientation": "v",
         "showlegend": false,
         "type": "scatter",
         "x": [
          19.626904160542693,
          22.51773917129037,
          20.60033042928302,
          21.743718128536365,
          21.500704412334372,
          17.572381039424855,
          15.431265985740026,
          33.03570659349003,
          15.22016431544425,
          26.347662707349542,
          16.770149131623867,
          23.65932016652735,
          23.65932016652735,
          25.980494275531335,
          14.158906646669834,
          15.973119298377966,
          31.024957524209444,
          23.07246854810022,
          24.601982977772124,
          30.549123225411005,
          23.07246854810022,
          23.65932016652735,
          28.749501594752633,
          29.628815717811502,
          11.170358734127262,
          22.25211229769599,
          24.601982977772124,
          15.973119298377966,
          33.03570659349003,
          27.910195173687384
         ],
         "xaxis": "x",
         "y": [
          6.973095839457308,
          1.4822608287096308,
          -5.600330429283019,
          -2.743718128536365,
          3.999295587665628,
          0.5276189605751469,
          0.06873401425997372,
          -1.0357065934900334,
          -1.2201643154442507,
          1.0523372926504564,
          1.2298508683761327,
          -3.459320166527352,
          -4.659320166527351,
          -0.9804942755313348,
          1.3410933533301659,
          0.026880701622033598,
          -5.024957524209444,
          -2.872468548100219,
          13.398017022227876,
          1.4508767745889948,
          -5.072468548100218,
          1.4406798334726503,
          2.850498405247368,
          2.7711842821884964,
          -0.17035873412726232,
          3.747887702304009,
          -5.601982977772124,
          -1.9731192983779664,
          3.9642934065099666,
          -5.910195173687384
         ],
         "yaxis": "y"
        },
        {
         "hovertemplate": "<b>LOWESS trendline</b><br><br>x=%{x}<br>y=%{y} <b>(trend)</b><extra></extra>",
         "legendgroup": "",
         "marker": {
          "color": "red",
          "size": 8,
          "symbol": "x"
         },
         "mode": "lines",
         "name": "",
         "showlegend": false,
         "type": "scatter",
         "x": [
          11.170358734127262,
          14.158906646669834,
          15.22016431544425,
          15.431265985740026,
          15.973119298377966,
          15.973119298377966,
          16.770149131623867,
          17.572381039424855,
          19.626904160542693,
          20.60033042928302,
          21.500704412334372,
          21.743718128536365,
          22.25211229769599,
          22.51773917129037,
          23.07246854810022,
          23.07246854810022,
          23.65932016652735,
          23.65932016652735,
          23.65932016652735,
          24.601982977772124,
          24.601982977772124,
          25.980494275531335,
          26.347662707349542,
          27.910195173687384,
          28.749501594752633,
          29.628815717811502,
          30.549123225411005,
          31.024957524209444,
          33.03570659349003,
          33.03570659349003
         ],
         "xaxis": "x",
         "y": [
          -0.36370887213280684,
          -0.05685608799071334,
          0.07359766845856995,
          0.09901247326818606,
          0.16111005054360636,
          0.16111005054360636,
          0.24359811864656028,
          0.284391405831051,
          0.4504146560097537,
          0.3074531028327414,
          -0.03742927902094575,
          -0.29057023851156205,
          -0.7020139412019736,
          -0.8629404504328821,
          -1.175545540327491,
          -1.175545540327491,
          -1.4516964371787842,
          -1.4516964371787842,
          -1.4516964371787842,
          -1.5799759196036052,
          -1.5799759196036052,
          -1.287201849700664,
          -1.0662605048262634,
          -0.6287012014898598,
          -0.3768057106454769,
          -0.05211388924991084,
          0.297605944539004,
          0.4726385422454903,
          1.1493574073629982,
          1.1493574073629982
         ],
         "yaxis": "y"
        }
       ],
       "layout": {
        "height": 500,
        "legend": {
         "tracegroupgap": 0
        },
        "margin": {
         "t": 60
        },
        "template": {
         "data": {
          "bar": [
           {
            "error_x": {
             "color": "#2a3f5f"
            },
            "error_y": {
             "color": "#2a3f5f"
            },
            "marker": {
             "line": {
              "color": "#E5ECF6",
              "width": 0.5
             },
             "pattern": {
              "fillmode": "overlay",
              "size": 10,
              "solidity": 0.2
             }
            },
            "type": "bar"
           }
          ],
          "barpolar": [
           {
            "marker": {
             "line": {
              "color": "#E5ECF6",
              "width": 0.5
             },
             "pattern": {
              "fillmode": "overlay",
              "size": 10,
              "solidity": 0.2
             }
            },
            "type": "barpolar"
           }
          ],
          "carpet": [
           {
            "aaxis": {
             "endlinecolor": "#2a3f5f",
             "gridcolor": "white",
             "linecolor": "white",
             "minorgridcolor": "white",
             "startlinecolor": "#2a3f5f"
            },
            "baxis": {
             "endlinecolor": "#2a3f5f",
             "gridcolor": "white",
             "linecolor": "white",
             "minorgridcolor": "white",
             "startlinecolor": "#2a3f5f"
            },
            "type": "carpet"
           }
          ],
          "choropleth": [
           {
            "colorbar": {
             "outlinewidth": 0,
             "ticks": ""
            },
            "type": "choropleth"
           }
          ],
          "contour": [
           {
            "colorbar": {
             "outlinewidth": 0,
             "ticks": ""
            },
            "colorscale": [
             [
              0,
              "#0d0887"
             ],
             [
              0.1111111111111111,
              "#46039f"
             ],
             [
              0.2222222222222222,
              "#7201a8"
             ],
             [
              0.3333333333333333,
              "#9c179e"
             ],
             [
              0.4444444444444444,
              "#bd3786"
             ],
             [
              0.5555555555555556,
              "#d8576b"
             ],
             [
              0.6666666666666666,
              "#ed7953"
             ],
             [
              0.7777777777777778,
              "#fb9f3a"
             ],
             [
              0.8888888888888888,
              "#fdca26"
             ],
             [
              1,
              "#f0f921"
             ]
            ],
            "type": "contour"
           }
          ],
          "contourcarpet": [
           {
            "colorbar": {
             "outlinewidth": 0,
             "ticks": ""
            },
            "type": "contourcarpet"
           }
          ],
          "heatmap": [
           {
            "colorbar": {
             "outlinewidth": 0,
             "ticks": ""
            },
            "colorscale": [
             [
              0,
              "#0d0887"
             ],
             [
              0.1111111111111111,
              "#46039f"
             ],
             [
              0.2222222222222222,
              "#7201a8"
             ],
             [
              0.3333333333333333,
              "#9c179e"
             ],
             [
              0.4444444444444444,
              "#bd3786"
             ],
             [
              0.5555555555555556,
              "#d8576b"
             ],
             [
              0.6666666666666666,
              "#ed7953"
             ],
             [
              0.7777777777777778,
              "#fb9f3a"
             ],
             [
              0.8888888888888888,
              "#fdca26"
             ],
             [
              1,
              "#f0f921"
             ]
            ],
            "type": "heatmap"
           }
          ],
          "heatmapgl": [
           {
            "colorbar": {
             "outlinewidth": 0,
             "ticks": ""
            },
            "colorscale": [
             [
              0,
              "#0d0887"
             ],
             [
              0.1111111111111111,
              "#46039f"
             ],
             [
              0.2222222222222222,
              "#7201a8"
             ],
             [
              0.3333333333333333,
              "#9c179e"
             ],
             [
              0.4444444444444444,
              "#bd3786"
             ],
             [
              0.5555555555555556,
              "#d8576b"
             ],
             [
              0.6666666666666666,
              "#ed7953"
             ],
             [
              0.7777777777777778,
              "#fb9f3a"
             ],
             [
              0.8888888888888888,
              "#fdca26"
             ],
             [
              1,
              "#f0f921"
             ]
            ],
            "type": "heatmapgl"
           }
          ],
          "histogram": [
           {
            "marker": {
             "pattern": {
              "fillmode": "overlay",
              "size": 10,
              "solidity": 0.2
             }
            },
            "type": "histogram"
           }
          ],
          "histogram2d": [
           {
            "colorbar": {
             "outlinewidth": 0,
             "ticks": ""
            },
            "colorscale": [
             [
              0,
              "#0d0887"
             ],
             [
              0.1111111111111111,
              "#46039f"
             ],
             [
              0.2222222222222222,
              "#7201a8"
             ],
             [
              0.3333333333333333,
              "#9c179e"
             ],
             [
              0.4444444444444444,
              "#bd3786"
             ],
             [
              0.5555555555555556,
              "#d8576b"
             ],
             [
              0.6666666666666666,
              "#ed7953"
             ],
             [
              0.7777777777777778,
              "#fb9f3a"
             ],
             [
              0.8888888888888888,
              "#fdca26"
             ],
             [
              1,
              "#f0f921"
             ]
            ],
            "type": "histogram2d"
           }
          ],
          "histogram2dcontour": [
           {
            "colorbar": {
             "outlinewidth": 0,
             "ticks": ""
            },
            "colorscale": [
             [
              0,
              "#0d0887"
             ],
             [
              0.1111111111111111,
              "#46039f"
             ],
             [
              0.2222222222222222,
              "#7201a8"
             ],
             [
              0.3333333333333333,
              "#9c179e"
             ],
             [
              0.4444444444444444,
              "#bd3786"
             ],
             [
              0.5555555555555556,
              "#d8576b"
             ],
             [
              0.6666666666666666,
              "#ed7953"
             ],
             [
              0.7777777777777778,
              "#fb9f3a"
             ],
             [
              0.8888888888888888,
              "#fdca26"
             ],
             [
              1,
              "#f0f921"
             ]
            ],
            "type": "histogram2dcontour"
           }
          ],
          "mesh3d": [
           {
            "colorbar": {
             "outlinewidth": 0,
             "ticks": ""
            },
            "type": "mesh3d"
           }
          ],
          "parcoords": [
           {
            "line": {
             "colorbar": {
              "outlinewidth": 0,
              "ticks": ""
             }
            },
            "type": "parcoords"
           }
          ],
          "pie": [
           {
            "automargin": true,
            "type": "pie"
           }
          ],
          "scatter": [
           {
            "fillpattern": {
             "fillmode": "overlay",
             "size": 10,
             "solidity": 0.2
            },
            "type": "scatter"
           }
          ],
          "scatter3d": [
           {
            "line": {
             "colorbar": {
              "outlinewidth": 0,
              "ticks": ""
             }
            },
            "marker": {
             "colorbar": {
              "outlinewidth": 0,
              "ticks": ""
             }
            },
            "type": "scatter3d"
           }
          ],
          "scattercarpet": [
           {
            "marker": {
             "colorbar": {
              "outlinewidth": 0,
              "ticks": ""
             }
            },
            "type": "scattercarpet"
           }
          ],
          "scattergeo": [
           {
            "marker": {
             "colorbar": {
              "outlinewidth": 0,
              "ticks": ""
             }
            },
            "type": "scattergeo"
           }
          ],
          "scattergl": [
           {
            "marker": {
             "colorbar": {
              "outlinewidth": 0,
              "ticks": ""
             }
            },
            "type": "scattergl"
           }
          ],
          "scattermapbox": [
           {
            "marker": {
             "colorbar": {
              "outlinewidth": 0,
              "ticks": ""
             }
            },
            "type": "scattermapbox"
           }
          ],
          "scatterpolar": [
           {
            "marker": {
             "colorbar": {
              "outlinewidth": 0,
              "ticks": ""
             }
            },
            "type": "scatterpolar"
           }
          ],
          "scatterpolargl": [
           {
            "marker": {
             "colorbar": {
              "outlinewidth": 0,
              "ticks": ""
             }
            },
            "type": "scatterpolargl"
           }
          ],
          "scatterternary": [
           {
            "marker": {
             "colorbar": {
              "outlinewidth": 0,
              "ticks": ""
             }
            },
            "type": "scatterternary"
           }
          ],
          "surface": [
           {
            "colorbar": {
             "outlinewidth": 0,
             "ticks": ""
            },
            "colorscale": [
             [
              0,
              "#0d0887"
             ],
             [
              0.1111111111111111,
              "#46039f"
             ],
             [
              0.2222222222222222,
              "#7201a8"
             ],
             [
              0.3333333333333333,
              "#9c179e"
             ],
             [
              0.4444444444444444,
              "#bd3786"
             ],
             [
              0.5555555555555556,
              "#d8576b"
             ],
             [
              0.6666666666666666,
              "#ed7953"
             ],
             [
              0.7777777777777778,
              "#fb9f3a"
             ],
             [
              0.8888888888888888,
              "#fdca26"
             ],
             [
              1,
              "#f0f921"
             ]
            ],
            "type": "surface"
           }
          ],
          "table": [
           {
            "cells": {
             "fill": {
              "color": "#EBF0F8"
             },
             "line": {
              "color": "white"
             }
            },
            "header": {
             "fill": {
              "color": "#C8D4E3"
             },
             "line": {
              "color": "white"
             }
            },
            "type": "table"
           }
          ]
         },
         "layout": {
          "annotationdefaults": {
           "arrowcolor": "#2a3f5f",
           "arrowhead": 0,
           "arrowwidth": 1
          },
          "autotypenumbers": "strict",
          "coloraxis": {
           "colorbar": {
            "outlinewidth": 0,
            "ticks": ""
           }
          },
          "colorscale": {
           "diverging": [
            [
             0,
             "#8e0152"
            ],
            [
             0.1,
             "#c51b7d"
            ],
            [
             0.2,
             "#de77ae"
            ],
            [
             0.3,
             "#f1b6da"
            ],
            [
             0.4,
             "#fde0ef"
            ],
            [
             0.5,
             "#f7f7f7"
            ],
            [
             0.6,
             "#e6f5d0"
            ],
            [
             0.7,
             "#b8e186"
            ],
            [
             0.8,
             "#7fbc41"
            ],
            [
             0.9,
             "#4d9221"
            ],
            [
             1,
             "#276419"
            ]
           ],
           "sequential": [
            [
             0,
             "#0d0887"
            ],
            [
             0.1111111111111111,
             "#46039f"
            ],
            [
             0.2222222222222222,
             "#7201a8"
            ],
            [
             0.3333333333333333,
             "#9c179e"
            ],
            [
             0.4444444444444444,
             "#bd3786"
            ],
            [
             0.5555555555555556,
             "#d8576b"
            ],
            [
             0.6666666666666666,
             "#ed7953"
            ],
            [
             0.7777777777777778,
             "#fb9f3a"
            ],
            [
             0.8888888888888888,
             "#fdca26"
            ],
            [
             1,
             "#f0f921"
            ]
           ],
           "sequentialminus": [
            [
             0,
             "#0d0887"
            ],
            [
             0.1111111111111111,
             "#46039f"
            ],
            [
             0.2222222222222222,
             "#7201a8"
            ],
            [
             0.3333333333333333,
             "#9c179e"
            ],
            [
             0.4444444444444444,
             "#bd3786"
            ],
            [
             0.5555555555555556,
             "#d8576b"
            ],
            [
             0.6666666666666666,
             "#ed7953"
            ],
            [
             0.7777777777777778,
             "#fb9f3a"
            ],
            [
             0.8888888888888888,
             "#fdca26"
            ],
            [
             1,
             "#f0f921"
            ]
           ]
          },
          "colorway": [
           "#636efa",
           "#EF553B",
           "#00cc96",
           "#ab63fa",
           "#FFA15A",
           "#19d3f3",
           "#FF6692",
           "#B6E880",
           "#FF97FF",
           "#FECB52"
          ],
          "font": {
           "color": "#2a3f5f"
          },
          "geo": {
           "bgcolor": "white",
           "lakecolor": "white",
           "landcolor": "#E5ECF6",
           "showlakes": true,
           "showland": true,
           "subunitcolor": "white"
          },
          "hoverlabel": {
           "align": "left"
          },
          "hovermode": "closest",
          "mapbox": {
           "style": "light"
          },
          "paper_bgcolor": "white",
          "plot_bgcolor": "#E5ECF6",
          "polar": {
           "angularaxis": {
            "gridcolor": "white",
            "linecolor": "white",
            "ticks": ""
           },
           "bgcolor": "#E5ECF6",
           "radialaxis": {
            "gridcolor": "white",
            "linecolor": "white",
            "ticks": ""
           }
          },
          "scene": {
           "xaxis": {
            "backgroundcolor": "#E5ECF6",
            "gridcolor": "white",
            "gridwidth": 2,
            "linecolor": "white",
            "showbackground": true,
            "ticks": "",
            "zerolinecolor": "white"
           },
           "yaxis": {
            "backgroundcolor": "#E5ECF6",
            "gridcolor": "white",
            "gridwidth": 2,
            "linecolor": "white",
            "showbackground": true,
            "ticks": "",
            "zerolinecolor": "white"
           },
           "zaxis": {
            "backgroundcolor": "#E5ECF6",
            "gridcolor": "white",
            "gridwidth": 2,
            "linecolor": "white",
            "showbackground": true,
            "ticks": "",
            "zerolinecolor": "white"
           }
          },
          "shapedefaults": {
           "line": {
            "color": "#2a3f5f"
           }
          },
          "ternary": {
           "aaxis": {
            "gridcolor": "white",
            "linecolor": "white",
            "ticks": ""
           },
           "baxis": {
            "gridcolor": "white",
            "linecolor": "white",
            "ticks": ""
           },
           "bgcolor": "#E5ECF6",
           "caxis": {
            "gridcolor": "white",
            "linecolor": "white",
            "ticks": ""
           }
          },
          "title": {
           "x": 0.05
          },
          "xaxis": {
           "automargin": true,
           "gridcolor": "white",
           "linecolor": "white",
           "ticks": "",
           "title": {
            "standoff": 15
           },
           "zerolinecolor": "white",
           "zerolinewidth": 2
          },
          "yaxis": {
           "automargin": true,
           "gridcolor": "white",
           "linecolor": "white",
           "ticks": "",
           "title": {
            "standoff": 15
           },
           "zerolinecolor": "white",
           "zerolinewidth": 2
          }
         }
        },
        "title": {
         "text": "Fitted vs Residuals Plot (Cubic Regression)"
        },
        "width": 500,
        "xaxis": {
         "anchor": "y",
         "domain": [
          0,
          1
         ],
         "title": {
          "text": "Predictions"
         }
        },
        "yaxis": {
         "anchor": "x",
         "domain": [
          0,
          1
         ],
         "title": {
          "text": "Errors"
         }
        }
       }
      },
      "text/html": [
       "<div>                            <div id=\"9a1bb8ff-bc5a-449f-bdf6-bd9c168150f4\" class=\"plotly-graph-div\" style=\"height:500px; width:500px;\"></div>            <script type=\"text/javascript\">                require([\"plotly\"], function(Plotly) {                    window.PLOTLYENV=window.PLOTLYENV || {};                                    if (document.getElementById(\"9a1bb8ff-bc5a-449f-bdf6-bd9c168150f4\")) {                    Plotly.newPlot(                        \"9a1bb8ff-bc5a-449f-bdf6-bd9c168150f4\",                        [{\"hovertemplate\":\"x=%{x}\\u003cbr\\u003ey=%{y}\\u003cextra\\u003e\\u003c\\u002fextra\\u003e\",\"legendgroup\":\"\",\"marker\":{\"color\":\"red\",\"symbol\":\"x\",\"size\":8},\"mode\":\"markers\",\"name\":\"\",\"orientation\":\"v\",\"showlegend\":false,\"x\":[19.626904160542693,22.51773917129037,20.60033042928302,21.743718128536365,21.500704412334372,17.572381039424855,15.431265985740026,33.03570659349003,15.22016431544425,26.347662707349542,16.770149131623867,23.65932016652735,23.65932016652735,25.980494275531335,14.158906646669834,15.973119298377966,31.024957524209444,23.07246854810022,24.601982977772124,30.549123225411005,23.07246854810022,23.65932016652735,28.749501594752633,29.628815717811502,11.170358734127262,22.25211229769599,24.601982977772124,15.973119298377966,33.03570659349003,27.910195173687384],\"xaxis\":\"x\",\"y\":[6.973095839457308,1.4822608287096308,-5.600330429283019,-2.743718128536365,3.999295587665628,0.5276189605751469,0.06873401425997372,-1.0357065934900334,-1.2201643154442507,1.0523372926504564,1.2298508683761327,-3.459320166527352,-4.659320166527351,-0.9804942755313348,1.3410933533301659,0.026880701622033598,-5.024957524209444,-2.872468548100219,13.398017022227876,1.4508767745889948,-5.072468548100218,1.4406798334726503,2.850498405247368,2.7711842821884964,-0.17035873412726232,3.747887702304009,-5.601982977772124,-1.9731192983779664,3.9642934065099666,-5.910195173687384],\"yaxis\":\"y\",\"type\":\"scatter\"},{\"hovertemplate\":\"\\u003cb\\u003eLOWESS trendline\\u003c\\u002fb\\u003e\\u003cbr\\u003e\\u003cbr\\u003ex=%{x}\\u003cbr\\u003ey=%{y} \\u003cb\\u003e(trend)\\u003c\\u002fb\\u003e\\u003cextra\\u003e\\u003c\\u002fextra\\u003e\",\"legendgroup\":\"\",\"marker\":{\"color\":\"red\",\"symbol\":\"x\",\"size\":8},\"mode\":\"lines\",\"name\":\"\",\"showlegend\":false,\"x\":[11.170358734127262,14.158906646669834,15.22016431544425,15.431265985740026,15.973119298377966,15.973119298377966,16.770149131623867,17.572381039424855,19.626904160542693,20.60033042928302,21.500704412334372,21.743718128536365,22.25211229769599,22.51773917129037,23.07246854810022,23.07246854810022,23.65932016652735,23.65932016652735,23.65932016652735,24.601982977772124,24.601982977772124,25.980494275531335,26.347662707349542,27.910195173687384,28.749501594752633,29.628815717811502,30.549123225411005,31.024957524209444,33.03570659349003,33.03570659349003],\"xaxis\":\"x\",\"y\":[-0.36370887213280684,-0.05685608799071334,0.07359766845856995,0.09901247326818606,0.16111005054360636,0.16111005054360636,0.24359811864656028,0.284391405831051,0.4504146560097537,0.3074531028327414,-0.03742927902094575,-0.29057023851156205,-0.7020139412019736,-0.8629404504328821,-1.175545540327491,-1.175545540327491,-1.4516964371787842,-1.4516964371787842,-1.4516964371787842,-1.5799759196036052,-1.5799759196036052,-1.287201849700664,-1.0662605048262634,-0.6287012014898598,-0.3768057106454769,-0.05211388924991084,0.297605944539004,0.4726385422454903,1.1493574073629982,1.1493574073629982],\"yaxis\":\"y\",\"type\":\"scatter\"}],                        {\"template\":{\"data\":{\"histogram2dcontour\":[{\"type\":\"histogram2dcontour\",\"colorbar\":{\"outlinewidth\":0,\"ticks\":\"\"},\"colorscale\":[[0.0,\"#0d0887\"],[0.1111111111111111,\"#46039f\"],[0.2222222222222222,\"#7201a8\"],[0.3333333333333333,\"#9c179e\"],[0.4444444444444444,\"#bd3786\"],[0.5555555555555556,\"#d8576b\"],[0.6666666666666666,\"#ed7953\"],[0.7777777777777778,\"#fb9f3a\"],[0.8888888888888888,\"#fdca26\"],[1.0,\"#f0f921\"]]}],\"choropleth\":[{\"type\":\"choropleth\",\"colorbar\":{\"outlinewidth\":0,\"ticks\":\"\"}}],\"histogram2d\":[{\"type\":\"histogram2d\",\"colorbar\":{\"outlinewidth\":0,\"ticks\":\"\"},\"colorscale\":[[0.0,\"#0d0887\"],[0.1111111111111111,\"#46039f\"],[0.2222222222222222,\"#7201a8\"],[0.3333333333333333,\"#9c179e\"],[0.4444444444444444,\"#bd3786\"],[0.5555555555555556,\"#d8576b\"],[0.6666666666666666,\"#ed7953\"],[0.7777777777777778,\"#fb9f3a\"],[0.8888888888888888,\"#fdca26\"],[1.0,\"#f0f921\"]]}],\"heatmap\":[{\"type\":\"heatmap\",\"colorbar\":{\"outlinewidth\":0,\"ticks\":\"\"},\"colorscale\":[[0.0,\"#0d0887\"],[0.1111111111111111,\"#46039f\"],[0.2222222222222222,\"#7201a8\"],[0.3333333333333333,\"#9c179e\"],[0.4444444444444444,\"#bd3786\"],[0.5555555555555556,\"#d8576b\"],[0.6666666666666666,\"#ed7953\"],[0.7777777777777778,\"#fb9f3a\"],[0.8888888888888888,\"#fdca26\"],[1.0,\"#f0f921\"]]}],\"heatmapgl\":[{\"type\":\"heatmapgl\",\"colorbar\":{\"outlinewidth\":0,\"ticks\":\"\"},\"colorscale\":[[0.0,\"#0d0887\"],[0.1111111111111111,\"#46039f\"],[0.2222222222222222,\"#7201a8\"],[0.3333333333333333,\"#9c179e\"],[0.4444444444444444,\"#bd3786\"],[0.5555555555555556,\"#d8576b\"],[0.6666666666666666,\"#ed7953\"],[0.7777777777777778,\"#fb9f3a\"],[0.8888888888888888,\"#fdca26\"],[1.0,\"#f0f921\"]]}],\"contourcarpet\":[{\"type\":\"contourcarpet\",\"colorbar\":{\"outlinewidth\":0,\"ticks\":\"\"}}],\"contour\":[{\"type\":\"contour\",\"colorbar\":{\"outlinewidth\":0,\"ticks\":\"\"},\"colorscale\":[[0.0,\"#0d0887\"],[0.1111111111111111,\"#46039f\"],[0.2222222222222222,\"#7201a8\"],[0.3333333333333333,\"#9c179e\"],[0.4444444444444444,\"#bd3786\"],[0.5555555555555556,\"#d8576b\"],[0.6666666666666666,\"#ed7953\"],[0.7777777777777778,\"#fb9f3a\"],[0.8888888888888888,\"#fdca26\"],[1.0,\"#f0f921\"]]}],\"surface\":[{\"type\":\"surface\",\"colorbar\":{\"outlinewidth\":0,\"ticks\":\"\"},\"colorscale\":[[0.0,\"#0d0887\"],[0.1111111111111111,\"#46039f\"],[0.2222222222222222,\"#7201a8\"],[0.3333333333333333,\"#9c179e\"],[0.4444444444444444,\"#bd3786\"],[0.5555555555555556,\"#d8576b\"],[0.6666666666666666,\"#ed7953\"],[0.7777777777777778,\"#fb9f3a\"],[0.8888888888888888,\"#fdca26\"],[1.0,\"#f0f921\"]]}],\"mesh3d\":[{\"type\":\"mesh3d\",\"colorbar\":{\"outlinewidth\":0,\"ticks\":\"\"}}],\"scatter\":[{\"fillpattern\":{\"fillmode\":\"overlay\",\"size\":10,\"solidity\":0.2},\"type\":\"scatter\"}],\"parcoords\":[{\"type\":\"parcoords\",\"line\":{\"colorbar\":{\"outlinewidth\":0,\"ticks\":\"\"}}}],\"scatterpolargl\":[{\"type\":\"scatterpolargl\",\"marker\":{\"colorbar\":{\"outlinewidth\":0,\"ticks\":\"\"}}}],\"bar\":[{\"error_x\":{\"color\":\"#2a3f5f\"},\"error_y\":{\"color\":\"#2a3f5f\"},\"marker\":{\"line\":{\"color\":\"#E5ECF6\",\"width\":0.5},\"pattern\":{\"fillmode\":\"overlay\",\"size\":10,\"solidity\":0.2}},\"type\":\"bar\"}],\"scattergeo\":[{\"type\":\"scattergeo\",\"marker\":{\"colorbar\":{\"outlinewidth\":0,\"ticks\":\"\"}}}],\"scatterpolar\":[{\"type\":\"scatterpolar\",\"marker\":{\"colorbar\":{\"outlinewidth\":0,\"ticks\":\"\"}}}],\"histogram\":[{\"marker\":{\"pattern\":{\"fillmode\":\"overlay\",\"size\":10,\"solidity\":0.2}},\"type\":\"histogram\"}],\"scattergl\":[{\"type\":\"scattergl\",\"marker\":{\"colorbar\":{\"outlinewidth\":0,\"ticks\":\"\"}}}],\"scatter3d\":[{\"type\":\"scatter3d\",\"line\":{\"colorbar\":{\"outlinewidth\":0,\"ticks\":\"\"}},\"marker\":{\"colorbar\":{\"outlinewidth\":0,\"ticks\":\"\"}}}],\"scattermapbox\":[{\"type\":\"scattermapbox\",\"marker\":{\"colorbar\":{\"outlinewidth\":0,\"ticks\":\"\"}}}],\"scatterternary\":[{\"type\":\"scatterternary\",\"marker\":{\"colorbar\":{\"outlinewidth\":0,\"ticks\":\"\"}}}],\"scattercarpet\":[{\"type\":\"scattercarpet\",\"marker\":{\"colorbar\":{\"outlinewidth\":0,\"ticks\":\"\"}}}],\"carpet\":[{\"aaxis\":{\"endlinecolor\":\"#2a3f5f\",\"gridcolor\":\"white\",\"linecolor\":\"white\",\"minorgridcolor\":\"white\",\"startlinecolor\":\"#2a3f5f\"},\"baxis\":{\"endlinecolor\":\"#2a3f5f\",\"gridcolor\":\"white\",\"linecolor\":\"white\",\"minorgridcolor\":\"white\",\"startlinecolor\":\"#2a3f5f\"},\"type\":\"carpet\"}],\"table\":[{\"cells\":{\"fill\":{\"color\":\"#EBF0F8\"},\"line\":{\"color\":\"white\"}},\"header\":{\"fill\":{\"color\":\"#C8D4E3\"},\"line\":{\"color\":\"white\"}},\"type\":\"table\"}],\"barpolar\":[{\"marker\":{\"line\":{\"color\":\"#E5ECF6\",\"width\":0.5},\"pattern\":{\"fillmode\":\"overlay\",\"size\":10,\"solidity\":0.2}},\"type\":\"barpolar\"}],\"pie\":[{\"automargin\":true,\"type\":\"pie\"}]},\"layout\":{\"autotypenumbers\":\"strict\",\"colorway\":[\"#636efa\",\"#EF553B\",\"#00cc96\",\"#ab63fa\",\"#FFA15A\",\"#19d3f3\",\"#FF6692\",\"#B6E880\",\"#FF97FF\",\"#FECB52\"],\"font\":{\"color\":\"#2a3f5f\"},\"hovermode\":\"closest\",\"hoverlabel\":{\"align\":\"left\"},\"paper_bgcolor\":\"white\",\"plot_bgcolor\":\"#E5ECF6\",\"polar\":{\"bgcolor\":\"#E5ECF6\",\"angularaxis\":{\"gridcolor\":\"white\",\"linecolor\":\"white\",\"ticks\":\"\"},\"radialaxis\":{\"gridcolor\":\"white\",\"linecolor\":\"white\",\"ticks\":\"\"}},\"ternary\":{\"bgcolor\":\"#E5ECF6\",\"aaxis\":{\"gridcolor\":\"white\",\"linecolor\":\"white\",\"ticks\":\"\"},\"baxis\":{\"gridcolor\":\"white\",\"linecolor\":\"white\",\"ticks\":\"\"},\"caxis\":{\"gridcolor\":\"white\",\"linecolor\":\"white\",\"ticks\":\"\"}},\"coloraxis\":{\"colorbar\":{\"outlinewidth\":0,\"ticks\":\"\"}},\"colorscale\":{\"sequential\":[[0.0,\"#0d0887\"],[0.1111111111111111,\"#46039f\"],[0.2222222222222222,\"#7201a8\"],[0.3333333333333333,\"#9c179e\"],[0.4444444444444444,\"#bd3786\"],[0.5555555555555556,\"#d8576b\"],[0.6666666666666666,\"#ed7953\"],[0.7777777777777778,\"#fb9f3a\"],[0.8888888888888888,\"#fdca26\"],[1.0,\"#f0f921\"]],\"sequentialminus\":[[0.0,\"#0d0887\"],[0.1111111111111111,\"#46039f\"],[0.2222222222222222,\"#7201a8\"],[0.3333333333333333,\"#9c179e\"],[0.4444444444444444,\"#bd3786\"],[0.5555555555555556,\"#d8576b\"],[0.6666666666666666,\"#ed7953\"],[0.7777777777777778,\"#fb9f3a\"],[0.8888888888888888,\"#fdca26\"],[1.0,\"#f0f921\"]],\"diverging\":[[0,\"#8e0152\"],[0.1,\"#c51b7d\"],[0.2,\"#de77ae\"],[0.3,\"#f1b6da\"],[0.4,\"#fde0ef\"],[0.5,\"#f7f7f7\"],[0.6,\"#e6f5d0\"],[0.7,\"#b8e186\"],[0.8,\"#7fbc41\"],[0.9,\"#4d9221\"],[1,\"#276419\"]]},\"xaxis\":{\"gridcolor\":\"white\",\"linecolor\":\"white\",\"ticks\":\"\",\"title\":{\"standoff\":15},\"zerolinecolor\":\"white\",\"automargin\":true,\"zerolinewidth\":2},\"yaxis\":{\"gridcolor\":\"white\",\"linecolor\":\"white\",\"ticks\":\"\",\"title\":{\"standoff\":15},\"zerolinecolor\":\"white\",\"automargin\":true,\"zerolinewidth\":2},\"scene\":{\"xaxis\":{\"backgroundcolor\":\"#E5ECF6\",\"gridcolor\":\"white\",\"linecolor\":\"white\",\"showbackground\":true,\"ticks\":\"\",\"zerolinecolor\":\"white\",\"gridwidth\":2},\"yaxis\":{\"backgroundcolor\":\"#E5ECF6\",\"gridcolor\":\"white\",\"linecolor\":\"white\",\"showbackground\":true,\"ticks\":\"\",\"zerolinecolor\":\"white\",\"gridwidth\":2},\"zaxis\":{\"backgroundcolor\":\"#E5ECF6\",\"gridcolor\":\"white\",\"linecolor\":\"white\",\"showbackground\":true,\"ticks\":\"\",\"zerolinecolor\":\"white\",\"gridwidth\":2}},\"shapedefaults\":{\"line\":{\"color\":\"#2a3f5f\"}},\"annotationdefaults\":{\"arrowcolor\":\"#2a3f5f\",\"arrowhead\":0,\"arrowwidth\":1},\"geo\":{\"bgcolor\":\"white\",\"landcolor\":\"#E5ECF6\",\"subunitcolor\":\"white\",\"showland\":true,\"showlakes\":true,\"lakecolor\":\"white\"},\"title\":{\"x\":0.05},\"mapbox\":{\"style\":\"light\"}}},\"xaxis\":{\"anchor\":\"y\",\"domain\":[0.0,1.0],\"title\":{\"text\":\"Predictions\"}},\"yaxis\":{\"anchor\":\"x\",\"domain\":[0.0,1.0],\"title\":{\"text\":\"Errors\"}},\"legend\":{\"tracegroupgap\":0},\"margin\":{\"t\":60},\"width\":500,\"height\":500,\"title\":{\"text\":\"Fitted vs Residuals Plot (Cubic Regression)\"}},                        {\"responsive\": true}                    ).then(function(){\n",
       "                            \n",
       "var gd = document.getElementById('9a1bb8ff-bc5a-449f-bdf6-bd9c168150f4');\n",
       "var x = new MutationObserver(function (mutations, observer) {{\n",
       "        var display = window.getComputedStyle(gd).display;\n",
       "        if (!display || display === 'none') {{\n",
       "            console.log([gd, 'removed!']);\n",
       "            Plotly.purge(gd);\n",
       "            observer.disconnect();\n",
       "        }}\n",
       "}});\n",
       "\n",
       "// Listen for the removal of the full notebook cells\n",
       "var notebookContainer = gd.closest('#notebook-container');\n",
       "if (notebookContainer) {{\n",
       "    x.observe(notebookContainer, {childList: true});\n",
       "}}\n",
       "\n",
       "// Listen for the clearing of the current output cell\n",
       "var outputEl = gd.closest('.output');\n",
       "if (outputEl) {{\n",
       "    x.observe(outputEl, {childList: true});\n",
       "}}\n",
       "\n",
       "                        })                };                });            </script>        </div>"
      ]
     },
     "metadata": {},
     "output_type": "display_data"
    }
   ],
   "source": [
    "# fitted vs residual plot with trendline, (cubic regression)\n",
    "errors_cubic =  sample['mpg'] - predictions_cubic\n",
    "fig = px.scatter(x=predictions_cubic, y=errors_cubic, trendline='lowess')\n",
    "fig.update_layout(width=500, height=500, xaxis_title='Predictions',\n",
    "    yaxis_title='Errors', title=\"Fitted vs Residuals Plot (Cubic Regression)\")\n",
    "fig.update_traces(marker=dict(symbol='x', size=8, color='red'))\n",
    "fig.show()"
   ]
  },
  {
   "cell_type": "markdown",
   "id": "598080af",
   "metadata": {},
   "source": [
    "Again, that looks better, certainly better than for the linear model. However, we'd like a more formal way of comparing the models, than just graphically inspecting plots... (graphical inspection is still an important step, however)."
   ]
  },
  {
   "cell_type": "markdown",
   "id": "70d51833",
   "metadata": {},
   "source": [
    "## Back to the \"Two Cultures\" on Model-Building\n",
    "\n",
    "So, currently we have three models: linear, quadratic, and cubic. All predicting `mpg ~ horsepower`, but using different degrees of curvature to describe the relationship.\n",
    "\n",
    "We need to do some model comparison here to work out which model is best - (in fact, perhaps a model with an even higher degree polynomial would be better...)\n",
    "\n",
    "You'll remember that we cannot judge this by goodness-of-fit alone - a better fitting model is not always the best model. If the better fitting comes from extra complexity, this can lead to overfitting - the model \"latches on\" to noise that is specific to the data it was trained on, and generalizes poorly to other data from the same population or data-generating process.\n",
    "\n",
    "Polynomial regression models more complex than linear regression models: the benefit of this is that it gives us a more flexible curve, the downside is that it uses more parameters, and can lead to overfitting.\n",
    "\n",
    "Let's remind ourselves of the different parameter estimates we've obtained from the three models:"
   ]
  },
  {
   "cell_type": "code",
   "execution_count": 67,
   "id": "ec6483db",
   "metadata": {},
   "outputs": [
    {
     "data": {
      "text/plain": [
       "Intercept     36.818341\n",
       "horsepower    -0.134134\n",
       "dtype: float64"
      ]
     },
     "execution_count": 67,
     "metadata": {},
     "output_type": "execute_result"
    }
   ],
   "source": [
    "# view the linear regression parameter estimates\n",
    "lin_reg_1_sm.params"
   ]
  },
  {
   "cell_type": "code",
   "execution_count": 68,
   "id": "4409bc42",
   "metadata": {},
   "outputs": [
    {
     "data": {
      "text/plain": [
       "Intercept             57.596567\n",
       "horsepower            -0.500247\n",
       "I(horsepower ** 2)     0.001410\n",
       "dtype: float64"
      ]
     },
     "execution_count": 68,
     "metadata": {},
     "output_type": "execute_result"
    }
   ],
   "source": [
    "# view the quadratic regression parameter estimates\n",
    "quadratic_reg_1_sm.params"
   ]
  },
  {
   "cell_type": "code",
   "execution_count": 69,
   "id": "229a2666",
   "metadata": {},
   "outputs": [
    {
     "data": {
      "text/plain": [
       "Intercept             96.244472\n",
       "horsepower            -1.507065\n",
       "I(horsepower ** 2)     0.009560\n",
       "I(horsepower ** 3)    -0.000021\n",
       "dtype: float64"
      ]
     },
     "execution_count": 69,
     "metadata": {},
     "output_type": "execute_result"
    }
   ],
   "source": [
    "# view the cubic regression parameter estimates\n",
    "cubic_reg_1.params"
   ]
  },
  {
   "cell_type": "markdown",
   "id": "ce7d4d29",
   "metadata": {},
   "source": [
    "To help us visualise the problem with overfitting, remember the \"thought experiment I mentioned earlier? E.g. we imagine that the full data set is the total population of car models available on a specific island, and that the data we have been fitting our models to is a random sample of data from the population?\n",
    "\n",
    "To see how overfitting misrepresents the underlying population data, let's **use the `max_degree` slider on the graph below to fit a high order polynomial, and click the `show_pop` checkbox**. This will show the full data against our sample data.\n",
    "\n",
    "Using the higher degree polynomials we can clearly see overfitting - the line tracks the specific points in our sample very well, but is a poor representation of the underlying population data (the translucent blue points):"
   ]
  },
  {
   "cell_type": "code",
   "execution_count": 70,
   "id": "46a158e5",
   "metadata": {},
   "outputs": [
    {
     "data": {
      "application/vnd.jupyter.widget-view+json": {
       "model_id": "0f82d9e13da34881839744c175df0c14",
       "version_major": 2,
       "version_minor": 0
      },
      "text/plain": [
       "interactive(children=(IntSlider(value=3, description='max_degree', max=10, min=1), Checkbox(value=False, descr…"
      ]
     },
     "metadata": {},
     "output_type": "display_data"
    }
   ],
   "source": [
    "interact(how_many_degrees, max_degree=(1, 10, 1));"
   ]
  },
  {
   "cell_type": "markdown",
   "id": "8a171e48",
   "metadata": {},
   "source": [
    "However, remember, in a typical data analysis situation, we cannot see the population data (or, said another way, we cannot view in full the \"true\" data-generating process). We need to identify which of our three models (linear, quadratic, cubic) is the most *parsimonious* - has the best balance of goodness-of-fit and complexity, and is least likely to suffer from overfitting."
   ]
  },
  {
   "cell_type": "markdown",
   "id": "fb2c9fb4",
   "metadata": {},
   "source": [
    "### Avoiding overfitting, the classical statistics way\n",
    "\n",
    "We saw the Akaike Information Criterion (AIC) method of comparing models on the [Logistic Regression as a GLM](https://ds.lis.2i2c.cloud/hub/user-redirect/git-pull?repo=https%3A//github.com/pxr687/glm_logistic_pages) page:\n",
    "\n",
    ">This metric:\n",
    "\n",
    ">- Penalizes complexity (more predictors), rewards parsimony - getting good fit with lower number of predictors\n",
    "\n",
    ">- Works with linear regression too! - look at statsmodels output (we'll come back to how this works later)\n",
    "\n",
    ">- Lower (or more negative) AIC is better\n",
    "\n",
    "This is a more \"Culture One\" style of model building/model comparison, and relies on the *likelihood* of each model.\n",
    "\n",
    "As mentioned earlier, polynomial terms can be added to all types of generalized linear model - the general notation for which is below (notice the $d$ in the exponent of the final predictor variable:\n",
    "\n",
    "$\\Large f(\\hat{\\mu}_i) = b_0 + b_1 x_{1i} + b_2 x_{2i} + ... b_k x_{ki}^d$\n",
    "\n",
    "The models we have fit on this page are all instances of generalized linear models - they all use the *identity* link function (meaning the predictions are generated on the scale of the original data, without the sort of transformations we use in logistic regression). \n",
    "\n",
    "All generalized linear models can also be fit from the *maximum likelihood point of view* - for the models we've fit on this page we used the RMSE cost function, which does not give us a likelihood score. However, there are different cost functions (which will produce the same parameter estimates) which do give us a likelihood score. This likelihood score goes into computing the AIC for each model. So where $k$ is the number of predictors in the model, and $L$ is the likelihood of the model:\n",
    "\n",
    "$ \\text{AIC} = 2k-2\\ln({\\hat {L}}) $\n",
    "\n",
    "Let's use the AIC of our models to find the most parsimonious (according to this method!).\n",
    "\n",
    "Remember, we can access the `aic` attribute of the fitted `statsmodels` models:"
   ]
  },
  {
   "cell_type": "code",
   "execution_count": null,
   "id": "e5fa99a0",
   "metadata": {},
   "outputs": [],
   "source": [
    "# show the aic of the linear regression model\n",
    "lin_reg_1_sm.aic"
   ]
  },
  {
   "cell_type": "code",
   "execution_count": null,
   "id": "6a2b0017",
   "metadata": {},
   "outputs": [],
   "source": [
    "# show all the model AICs, for comparison\n",
    "jupyprint(f\"The AIC of the linear regression model, `mpg ~ horsepower` is: {round(lin_reg_1_sm.aic, 2)}\")\n",
    "jupyprint(f\"The AIC of the quadratic regression model, `mpg ~ horsepower` is: {round(quadratic_reg_1_sm.aic, 2)}\")\n",
    "jupyprint(f\"The AIC of the cubic regression model, `mpg ~ horsepower` is: {round(cubic_reg_1.aic, 2)}\")"
   ]
  },
  {
   "cell_type": "markdown",
   "id": "5799f9f6",
   "metadata": {},
   "source": [
    "Following an AIC-based model building strategy, we should prefer the cubic regression model because it has the lowest AIC - the extra parameters are worth the extra complexity."
   ]
  },
  {
   "cell_type": "markdown",
   "id": "b81acc0b",
   "metadata": {},
   "source": [
    "### Avoiding overfitting, the machine learning way\n",
    "\n",
    "For a more \"Culture Two\" approach to the model selection we need to do here we can use (k-fold) cross-validation. As we've seen, this involves [splitting the data into multiple different test/train splits](https://jakevdp.github.io/PythonDataScienceHandbook/figures/05.03-5-fold-CV.png).\n",
    "\n",
    "We then average the model's predictive performance across the different cross-validation \"folds\" - this gives us a more stable estimate of how the model will perform with unseen data, and so can prevent overfitting and help us find the \"best\" model.\n",
    "\n",
    "The `sklearn` syntax is a bit more convoluted for polynomial regression (relative to performing polynomial regression using `statsmodels`.\n",
    "\n",
    "First, we have to make a pipeline object using the following command:\n",
    "\n",
    "`make_pipeline(PolynomialFeatures(), LinearRegression())`\n",
    "\n",
    "We can read this in English as \"compile a pipeline where we generate a set vectors raised to different polynomials, and then combine them together in a linear model\". This can be slightly confusing, but it implements exactly the same process as we've seen using `statsmodels` and `minimize`.\n",
    "\n",
    "The code cell below makes the relevant imports, and initializes the pipeline we'll need for polynomial regression:"
   ]
  },
  {
   "cell_type": "code",
   "execution_count": null,
   "id": "c9bd0c18",
   "metadata": {},
   "outputs": [],
   "source": [
    "from sklearn.pipeline import make_pipeline\n",
    "from sklearn.linear_model import LinearRegression\n",
    "from sklearn.preprocessing import PolynomialFeatures\n",
    "\n",
    "# make a quadratic regression model\n",
    "quadratic_reg = make_pipeline(PolynomialFeatures(degree=2),\n",
    "                              LinearRegression())"
   ]
  },
  {
   "cell_type": "markdown",
   "id": "8a679349",
   "metadata": {},
   "source": [
    "Let's break down what each part of the pipeline does.\n",
    "\n",
    "The `PolynomialFeatures` takes a predictor vector (or collection of predictor vectors) and will add extra vectors, raised to a specified value of $d$. The following code takes the `horsepower` variable from the `sample` dataframe, and adds a predictor vector containing the values of `horsepower` squared (notice the `degree=2` argument):"
   ]
  },
  {
   "cell_type": "code",
   "execution_count": null,
   "id": "f28e4020",
   "metadata": {},
   "outputs": [],
   "source": [
    "# add a predictor vector containing the values of `horsepower` squared\n",
    "PolynomialFeatures(degree=2).fit_transform(sample[['horsepower']])"
   ]
  },
  {
   "cell_type": "markdown",
   "id": "b131820e",
   "metadata": {},
   "source": [
    "The output of the code cell above contains three vectors."
   ]
  },
  {
   "cell_type": "code",
   "execution_count": null,
   "id": "6bd11e4b",
   "metadata": {},
   "outputs": [],
   "source": [
    "PolynomialFeatures(degree=2).fit_transform(sample[['horsepower']]).shape"
   ]
  },
  {
   "cell_type": "markdown",
   "id": "8d361b5e",
   "metadata": {},
   "source": [
    "The first is a column of 1s. This results from raising the `horsepower` values to the power of 0:"
   ]
  },
  {
   "cell_type": "code",
   "execution_count": null,
   "id": "fe03d1eb",
   "metadata": {},
   "outputs": [],
   "source": [
    "# the first column from the output of PolynomialFeatures\n",
    "PolynomialFeatures(degree=2).fit_transform(sample[['horsepower']])[:, 0]"
   ]
  },
  {
   "cell_type": "code",
   "execution_count": null,
   "id": "76108e84",
   "metadata": {},
   "outputs": [],
   "source": [
    "# the sample['horsepower'] values raised to the power of 0\n",
    "sample['horsepower'].values**0"
   ]
  },
  {
   "cell_type": "markdown",
   "id": "0cd818db",
   "metadata": {},
   "source": [
    "The middle column is just the `horsepower` values raised to the power of 1 (e.g. the horsepower values themselves):"
   ]
  },
  {
   "cell_type": "code",
   "execution_count": null,
   "id": "76d44fd3",
   "metadata": {},
   "outputs": [],
   "source": [
    "# the second column of the PolynomialFeatures output\n",
    "PolynomialFeatures(degree=2).fit_transform(sample[['horsepower']])[:, 1]"
   ]
  },
  {
   "cell_type": "code",
   "execution_count": null,
   "id": "5f9fa0c0",
   "metadata": {},
   "outputs": [],
   "source": [
    "# show the `horsepower` values\n",
    "sample['horsepower'].values"
   ]
  },
  {
   "cell_type": "markdown",
   "id": "5ae4a80a",
   "metadata": {},
   "source": [
    "The final column is the `horsepower` scores raised to the power of 2 (as we specified `degree=2`):"
   ]
  },
  {
   "cell_type": "code",
   "execution_count": null,
   "id": "00b41806",
   "metadata": {},
   "outputs": [],
   "source": [
    "# the final column of the PolynomialFeatures output\n",
    "PolynomialFeatures(degree=2).fit_transform(sample[['horsepower']])[:, 2]"
   ]
  },
  {
   "cell_type": "code",
   "execution_count": null,
   "id": "674e1e8b",
   "metadata": {},
   "outputs": [],
   "source": [
    "# the `horsepower` values squared\n",
    "sample['horsepower'].values**2"
   ]
  },
  {
   "cell_type": "markdown",
   "id": "ca82020c",
   "metadata": {},
   "source": [
    "Remember that the pipeline we made was generated with:\n",
    "\n",
    "`quadratic_reg = make_pipeline(PolynomialFeatures(degree=2), \n",
    "                               LinearRegression())`\n",
    "\n",
    "The `PolynomialFeatures` portion creates the predictor vectors we've just seen, we can then use the LinearRegression part to find the best-fitting slopes and intercepts, using those features:"
   ]
  },
  {
   "cell_type": "code",
   "execution_count": null,
   "id": "207ffe89",
   "metadata": {},
   "outputs": [],
   "source": [
    "quadratic_fitted_values = quadratic_reg.fit(X=sample[['horsepower']],\n",
    "                                            y=sample['mpg']).predict(sample[['horsepower']])\n",
    "\n",
    "quadratic_fitted_values"
   ]
  },
  {
   "cell_type": "markdown",
   "id": "b5255a9b",
   "metadata": {},
   "source": [
    "Let's look at these fitted values graphically - we can see that it is the same quadaratic regression curve we obtained from `minimize`/`statsmodels`:"
   ]
  },
  {
   "cell_type": "code",
   "execution_count": null,
   "id": "e97edc65",
   "metadata": {},
   "outputs": [],
   "source": [
    "# show graphically \n",
    "fig = go.Figure()\n",
    "fig.add_scatter(x=sample['horsepower'],\n",
    "                y=sample['mpg'],\n",
    "                mode='markers',\n",
    "                name='sample data',\n",
    "                marker={'color':'red'})\n",
    "\n",
    "fig.update_layout(xaxis_title=\"horsepower\",\n",
    "                  yaxis_title=\"mpg\")\n",
    "\n",
    "fig.add_scatter(x=sample['horsepower'],\n",
    "                y=quadratic_fitted_values,\n",
    "                mode='markers',\n",
    "                name='quadratic regression model fitted values',\n",
    "                marker={'color':'blue'})\n",
    "\n",
    "fig.update_layout(width=700, height=600)"
   ]
  },
  {
   "cell_type": "markdown",
   "id": "9bf1e223",
   "metadata": {},
   "source": [
    "Let's convince ourselves that the fitted values are in fact the same, via `statsmodels` and via `sklearn`:"
   ]
  },
  {
   "cell_type": "code",
   "execution_count": null,
   "id": "b6fe43d4",
   "metadata": {},
   "outputs": [],
   "source": [
    "# show that this is the same model as fitted via statsmodels\n",
    "np.isclose(quadratic_reg_1_sm.predict(), quadratic_fitted_values)"
   ]
  },
  {
   "cell_type": "markdown",
   "id": "5f98ed6d",
   "metadata": {},
   "source": [
    "By using this process, we can set up pipelines for polynomial regression models with different degrees (e.g. different values of `d`).\n",
    "\n",
    "We can then compare the cross-validation performance of each model, to select the value of `d` which obtains a good fit, with the lowest risk of overfitting:"
   ]
  },
  {
   "cell_type": "code",
   "execution_count": null,
   "id": "baf85416",
   "metadata": {},
   "outputs": [],
   "source": [
    "# cross-validation with the quadratic model\n",
    "from sklearn.model_selection import cross_val_score\n",
    "\n",
    "# for various reasons, `sklearn` prefers to return the negative RMSE, multiplying by -1 will convert to RMSE\n",
    "quadratic_rmses = -1 * cross_val_score(quadratic_reg, # the quadratic regression pipeline object\n",
    "                                       X=sample[['horsepower']], # our predictor vector\n",
    "                                       y=sample['mpg'],  # our target vector\n",
    "                                       cv=5, # how many cross-validation folds to use\n",
    "                                       scoring='neg_root_mean_squared_error') # the scoring metric \n",
    "\n",
    "jupyprint(f\"Quadratic model cross-validation RMSE scores: {arraytex(np.atleast_2d(quadratic_rmses.round(2)).T)}\")\n",
    "jupyprint(f\"Quadratic model cross-validation mean RMSE: **{quadratic_rmses.mean().round(2)}**\")"
   ]
  },
  {
   "cell_type": "markdown",
   "id": "cb67bbb5",
   "metadata": {},
   "source": [
    "We can repeat this process for the cubic model..."
   ]
  },
  {
   "cell_type": "code",
   "execution_count": null,
   "id": "a9871dc6",
   "metadata": {},
   "outputs": [],
   "source": [
    "# make a cubic regression model pipeline (notice `degree=3`)\n",
    "cubic_reg = make_pipeline(PolynomialFeatures(degree=3), LinearRegression())\n",
    "\n",
    "# for various reasons, `sklearn` prefers to return the negative RMSE, multiplying by -1 will convert to RMSE\n",
    "cubic_rmses = -1 * cross_val_score(cubic_reg, # the cubic regression pipeline object\n",
    "                                   X=sample[['horsepower']], # our predictor vector\n",
    "                                   y=sample['mpg'], # our target vector\n",
    "                                   cv=5, # how many cross-validation folds to use\n",
    "                                   scoring='neg_root_mean_squared_error') # the scoring metric \n",
    "jupyprint(f\"Cubic model cross-validation RMSE scores: {arraytex(np.atleast_2d(cubic_rmses.round(2)).T)}\")\n",
    "jupyprint(f\"Cubic model cross-validation mean RMSE: **{cubic_rmses.mean().round(2)}**\")"
   ]
  },
  {
   "cell_type": "markdown",
   "id": "06668d29",
   "metadata": {},
   "source": [
    "We can continue this process to higher order polynomials (e.g. higher values of $d$).\n",
    "\n",
    "E.g. for quartic regression, which contains an $x_{i}^4$ predictor (e.g. $d==4$):"
   ]
  },
  {
   "cell_type": "code",
   "execution_count": null,
   "id": "73df8d58",
   "metadata": {},
   "outputs": [],
   "source": [
    "# make a quartic regression model\n",
    "quartic_reg = make_pipeline(PolynomialFeatures(degree=4), LinearRegression())\n",
    "\n",
    "quartic_rmses = -1 * cross_val_score(quartic_reg,\n",
    "                                   X=sample[['horsepower']],\n",
    "                                   y=sample['mpg'], \n",
    "                                   cv=5, \n",
    "                                   scoring='neg_root_mean_squared_error')\n",
    "jupyprint(f\"Quartic model cross-validation RMSE scores: {arraytex(np.atleast_2d(quartic_rmses.round(2)).T)}\")\n",
    "jupyprint(f\"Quartic model cross-validation mean RMSE: **{quartic_rmses.mean().round(2)}**\")"
   ]
  },
  {
   "cell_type": "markdown",
   "id": "8bf113b0",
   "metadata": {},
   "source": [
    "Now, we could write a for loop here, to make numerous polynomial regression models, and then to plot their cross-validation scores, to see which model will likely have the best fit whilst avoiding overfitting.\n",
    "\n",
    "This is a good idea, and in fact sklearn has convenient way of doing this, using the `validation_curve` function.\n",
    "\n",
    "This can be used to create a deceptively simpler graph for a very complex process.\n",
    "\n",
    "Let's go through the code step-by-step...:"
   ]
  },
  {
   "cell_type": "code",
   "execution_count": null,
   "id": "f3aa60f4",
   "metadata": {},
   "outputs": [],
   "source": [
    "# validation curve\n",
    "\n",
    "# code adapted from: https://jakevdp.github.io/PythonDataScienceHandbook/05.03-hyperparameters-and-model-validation.html\n",
    "# and here: https://scipy-lectures.org/packages/scikit-learn/auto_examples/plot_bias_variance.html\n",
    "\n",
    "from sklearn.model_selection import validation_curve\n",
    "\n",
    "# make a polynomial regression pipeline object\n",
    "polynomial_reg = make_pipeline(PolynomialFeatures(), LinearRegression())\n",
    "\n",
    "# set the degrees (values of d) to iterate over\n",
    "degree = np.arange(1, 8)\n",
    "\n",
    "# compute a validation curve\n",
    "train, validation = validation_curve(estimator=polynomial_reg, # the polynomial regression pipeline\n",
    "                                     X=sample[['horsepower']], # our feature/predictor vector\n",
    "                                     y=sample['mpg'], # our target/outcome vector\n",
    "                                     param_name='polynomialfeatures__degree', # the name of the parameter to vary, in this case \"d\"\n",
    "                                     param_range=degree, # the range of parameter values to vary over\n",
    "                                     cv=5, # how many cross-validation folds to use, for each value of d\n",
    "                                     scoring=\"neg_root_mean_squared_error\") # the scoring metric to use\n",
    "\n",
    "# plot the validation curve (notice the `-np.mean()`, this reverse negative RMSE back to RMSE)\n",
    "plt.plot(degree, -np.mean(train, axis=1),label='training score')\n",
    "plt.plot(degree, -np.mean(validation, axis=1), label='validation score')\n",
    "plt.legend()\n",
    "plt.xlabel('Polynomial Degree')\n",
    "plt.ylabel('RMSE');"
   ]
  },
  {
   "cell_type": "markdown",
   "id": "4b529240",
   "metadata": {},
   "source": [
    "The x-axis shows us the different values of $d$ that we have iterated over.\n",
    "\n",
    "For each value of $d$ a 5-fold cross-validation has been performed.\n",
    "\n",
    "The blue line shows the average performance of the model on the *training* data, averaged across all of the cross-validation folds.\n",
    "\n",
    "The orange line shows the average performance of the model on the *test* data, averaged across all of the cross-validation folds.\n",
    "\n",
    "We can see overfitting in action here. As we move along the x-axis we keep getting better performance on the training data, but as we get past $d == 4$ the performance on the validation data gets much worse (e.g. much higher RMSE).\n",
    "\n",
    "We can see that the lowest RMSE on the validation data occurs for the third degree polynomial, meaning that via this model-building strategy, that is the model we should prefer.\n",
    "\n",
    "We can see the overfitting get even more apparent if we repeat the process including even higher order polynomials:"
   ]
  },
  {
   "cell_type": "code",
   "execution_count": null,
   "id": "453a15b8",
   "metadata": {},
   "outputs": [],
   "source": [
    "# loop over some higher polynomials\n",
    "degree = np.arange(1, 10)\n",
    "\n",
    "train, validation = validation_curve(estimator=polynomial_reg ,\n",
    "                                     X=sample[['horsepower']],\n",
    "                                     y=sample['mpg'],\n",
    "                                     param_name='polynomialfeatures__degree',\n",
    "                                     param_range=degree,\n",
    "                                     cv=5,\n",
    "                                     scoring=\"neg_root_mean_squared_error\")\n",
    "\n",
    "plt.plot(degree, -np.mean(train, 1),label='training score')\n",
    "plt.plot(degree, -np.mean(validation, 1), label='validation score')\n",
    "plt.xticks(degree)\n",
    "plt.legend()\n",
    "plt.xlabel('Polynomial Degree')\n",
    "plt.ylabel('RMSE');"
   ]
  },
  {
   "cell_type": "markdown",
   "id": "f97ef4f5",
   "metadata": {},
   "source": [
    "This is not the normal way of showing validation curves - here we have \"reversed\" the negative root mean squared error that `sklearn` returns, to convert it back to RMSE.\n",
    "\n",
    "Typically, `sklearn` returns the scoring metrics from the perspective that \"higher is better\" e.g. for negative RMSE, a higher value indicates *less* error.\n",
    "\n",
    "There are a huge number of scoring metrics that `sklearn` can use for these validation curves, you'll notice that for any \"error\" metrics, these are given as negatives (to make higher values \"better\"):\n",
    "\n",
    "`{'neg_mean_absolute_error', 'neg_mean_absolute_percentage_error', 'neg_mean_squared_log_error', 'precision_samples', 'recall_micro', 'roc_auc_ovr', 'homogeneity_score', 'roc_auc_ovo', 'fowlkes_mallows_score', 'f1_samples', 'precision_micro', 'average_precision', 'precision_macro', 'recall_samples', 'jaccard_micro', 'mutual_info_score', 'neg_mean_squared_error', 'roc_auc', 'neg_log_loss', 'recall_weighted', 'adjusted_rand_score', 'neg_mean_poisson_deviance', 'matthews_corrcoef', 'adjusted_mutual_info_score', 'f1', 'accuracy', 'recall', 'f1_micro', 'top_k_accuracy', 'neg_negative_likelihood_ratio', 'f1_macro', 'jaccard', 'roc_auc_ovr_weighted', 'completeness_score', 'jaccard_macro', 'neg_root_mean_squared_error', 'balanced_accuracy', 'roc_auc_ovo_weighted', 'explained_variance', 'r2', 'recall_macro', 'precision', 'precision_weighted', 'v_measure_score', 'neg_brier_score', 'rand_score', 'max_error', 'positive_likelihood_ratio', 'f1_weighted', 'normalized_mutual_info_score', 'jaccard_samples', 'neg_median_absolute_error', 'neg_mean_gamma_deviance', 'jaccard_weighted'}`\n",
    "\n",
    "So, this is the normal way the validation curve would look (e.g. without reversing the negative RMSE). This gives us the same information, just flipped:"
   ]
  },
  {
   "cell_type": "code",
   "execution_count": null,
   "id": "5aeaef9d",
   "metadata": {},
   "outputs": [],
   "source": [
    "degree = np.arange(1, 8)\n",
    "\n",
    "train, validation = validation_curve(estimator=polynomial_reg,\n",
    "                                     X=sample[['horsepower']],\n",
    "                                     y=sample['mpg'],\n",
    "                                     param_name='polynomialfeatures__degree',\n",
    "                                     param_range=degree,\n",
    "                                     cv=5,\n",
    "                                     scoring=\"neg_root_mean_squared_error\")\n",
    "\n",
    "plt.plot(degree, np.mean(train, 1),label='training score')\n",
    "plt.plot(degree, np.mean(validation, 1), label='validation score')\n",
    "plt.legend()\n",
    "plt.xlabel('Polynomial Degree')\n",
    "plt.ylabel('Negative RMSE');"
   ]
  },
  {
   "cell_type": "markdown",
   "id": "1662745f",
   "metadata": {},
   "source": [
    "This way of showing the curves makes more intuitive sense when thinking about metrics for which higher is naturally better, like R squared:"
   ]
  },
  {
   "cell_type": "code",
   "execution_count": null,
   "id": "f3c6dcc7",
   "metadata": {},
   "outputs": [],
   "source": [
    "# show a validation curve using the R squared metric\n",
    "train, validation = validation_curve(estimator=polynomial_reg,\n",
    "                                     X=sample[['horsepower']],\n",
    "                                     y=sample['mpg'],\n",
    "                                     param_name='polynomialfeatures__degree',\n",
    "                                     param_range=degree,\n",
    "                                     cv=3,\n",
    "                                     scoring=\"r2\")\n",
    "\n",
    "plt.plot(degree, np.mean(train, 1),label='training score')\n",
    "plt.plot(degree, np.mean(validation, 1), label='validation score')\n",
    "plt.legend()\n",
    "plt.xlabel('Polynomial Degree')\n",
    "plt.ylabel('R Squared');"
   ]
  },
  {
   "cell_type": "markdown",
   "id": "20c89693",
   "metadata": {},
   "source": [
    "### Polynomial Regression in 3D"
   ]
  },
  {
   "cell_type": "code",
   "execution_count": null,
   "id": "739f6aa4",
   "metadata": {},
   "outputs": [],
   "source": [
    "# view sample df\n",
    "sample"
   ]
  },
  {
   "cell_type": "code",
   "execution_count": null,
   "id": "e0eced32",
   "metadata": {},
   "outputs": [],
   "source": [
    "# show a 3D scatter, `mpg ~ horsepower + acceleration`\n",
    "px.scatter_3d(sample, 'horsepower','acceleration', 'mpg')"
   ]
  },
  {
   "cell_type": "code",
   "execution_count": null,
   "id": "2e01f5b8",
   "metadata": {},
   "outputs": [],
   "source": [
    "# fit a quadratic regression, including acceleration as an additional predictor\n",
    "quadratic_with_acceleration = smf.ols('mpg ~ horsepower + I(horsepower**2) + acceleration', data = sample).fit()\n",
    "\n",
    "quadratic_with_acceleration.summary()"
   ]
  },
  {
   "cell_type": "code",
   "execution_count": null,
   "id": "b08d56e8",
   "metadata": {},
   "outputs": [],
   "source": [
    "# show a 3D plot of the 3D quadratic regression\n",
    "plotly_3D_polynomial(sample, 'horsepower', 'acceleration', 'mpg', [],\n",
    "                        quadratic_with_acceleration.params['horsepower'], \n",
    "                     quadratic_with_acceleration.params['acceleration'], \n",
    "                    quadratic_with_acceleration.params['Intercept'],\n",
    "                     [quadratic_with_acceleration.params['I(horsepower ** 2)']])"
   ]
  },
  {
   "cell_type": "code",
   "execution_count": null,
   "id": "0ca36f22",
   "metadata": {},
   "outputs": [],
   "source": [
    "# fit a cubic regression, \n",
    "cubic_with_acceleration = smf.ols('mpg ~ horsepower + I(horsepower**2) + I(horsepower**3) + acceleration', data = sample).fit()\n",
    "\n",
    "cubic_with_acceleration.summary()"
   ]
  },
  {
   "cell_type": "code",
   "execution_count": null,
   "id": "83087488",
   "metadata": {},
   "outputs": [],
   "source": [
    "# show a 3D plot of the cubic regression\n",
    "plotly_3D_polynomial(sample, 'horsepower', 'acceleration', 'mpg', [],\n",
    "                        cubic_with_acceleration.params['horsepower'], \n",
    "                     cubic_with_acceleration.params['acceleration'], \n",
    "                    cubic_with_acceleration.params['Intercept'],\n",
    "                     [cubic_with_acceleration.params['I(horsepower ** 2)'],\n",
    "                     cubic_with_acceleration.params['I(horsepower ** 3)']])"
   ]
  }
 ],
 "metadata": {
  "jupytext": {
   "formats": "ipynb,Rmd"
  },
  "kernelspec": {
   "display_name": "Python 3 (ipykernel)",
   "language": "python",
   "name": "python3"
  },
  "language_info": {
   "codemirror_mode": {
    "name": "ipython",
    "version": 3
   },
   "file_extension": ".py",
   "mimetype": "text/x-python",
   "name": "python",
   "nbconvert_exporter": "python",
   "pygments_lexer": "ipython3",
   "version": "3.11.1"
  }
 },
 "nbformat": 4,
 "nbformat_minor": 5
}
