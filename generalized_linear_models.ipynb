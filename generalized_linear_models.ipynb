{
 "cells": [
  {
   "cell_type": "markdown",
   "id": "d1ae42be",
   "metadata": {},
   "source": [
    "## Generalized Linear Models"
   ]
  },
  {
   "cell_type": "code",
   "execution_count": 1,
   "id": "1028b970",
   "metadata": {},
   "outputs": [],
   "source": [
    "import numpy as np\n",
    "import matplotlib.pyplot as plt\n",
    "from jupyprint import jupyprint, arraytex"
   ]
  },
  {
   "cell_type": "markdown",
   "id": "b3dd1d00",
   "metadata": {},
   "source": [
    "By now you are very familiar with the linear regression: its purpose, its fitting procedure, and its mathematical notation.\n",
    "\n",
    "In the language of Culture One, you'll see linear regression referred to as the foundational statistical model.\n",
    "\n",
    "In the language of Culture Two, you'll see linear regression referred to as one of the foundational machine learning algorithms.\n",
    "\n",
    "If you think of the linear regression model as a tool, today we are going to look at extensions and generalizations which turn it into a full Swiss Army Knife.\n",
    "\n",
    "The benefit of extending the linear model apparatus is that we preserve the interpretable parameters, even when we generalize it so that it can be used more flexibly with different types of data sets.\n",
    "\n",
    "To explore how these extensions and generalizations work, let's revist the now familiar mathematical notation for the linear regression model.\n",
    "\n",
    "So, where there are $k$ predictor variables, the linear regression model is:\n",
    "\n",
    "$ \\Large \\hat{y_i} = b_0 + b_1 x_{1i} + ... b_k x_{ki} $\n",
    "\n",
    "Let's keep it simple for now and use just one predictor (but it all generalizes to multiple predictors also):\n",
    "\n",
    "$ \\Large \\hat{y_i} = b_0 + b_1 x_{i} $\n",
    "\n",
    "Another way of writing this - which makes it easier to understand the generalizations of the model - is to use the notation of conditional probability, which is:\n",
    "\n",
    "$ \\Large E(y_i|x_{i}) = b_0 + b_1 x_{i} $\n",
    "\n",
    "In english this reads as:\n",
    "\n",
    "- \"the expected value of $y_i$, given the value of $x_i$ is equal to $b_0 + b_1 x_{i}$\" \n",
    "- ... or ...\n",
    "- \"the expected value of $y_i$ is a linear function of $x_i$ with the slope $b_1$ and the intercept $b_0$\".\n",
    "\n",
    "Let's represent \"$E(y_i|x_{1i})$\" using the symbol \"$\\hat{\\mu}_i$\" (this symbol is called \"mu\", and the \"hat\" symbol indicates that this is a prediction from a model rather than a raw data value).\n",
    "\n",
    "Using this new notation, we can now write the linear regression model as:\n",
    "\n",
    "$ \\Large \\hat{\\mu}_i = b_0 + b_1 x_{1i} $\n",
    "\n",
    "Now let's write a really boring python function, called $f()$:"
   ]
  },
  {
   "cell_type": "code",
   "execution_count": 2,
   "id": "fe12791c",
   "metadata": {},
   "outputs": [],
   "source": [
    "def f(mu):\n",
    "    \n",
    "    result = mu * 1\n",
    "    \n",
    "    return result"
   ]
  },
  {
   "cell_type": "markdown",
   "id": "5408492b",
   "metadata": {},
   "source": [
    "<b>Question: </b> just from looking at the function, which of these would be true:\n",
    "\n",
    "$ \\Large \\hat{\\mu}_i \\neq f(\\hat{\\mu}_i)$\n",
    "\n",
    "or\n",
    "\n",
    "$ \\Large \\hat{\\mu}_i == f(\\hat{\\mu}_i)$\n",
    "\n",
    "\n",
    "Let's test this out with some simulated data, and a simulated slope and intercept."
   ]
  },
  {
   "cell_type": "code",
   "execution_count": 3,
   "id": "1dffc5b4",
   "metadata": {},
   "outputs": [],
   "source": [
    "# our simulated predictor variable scores\n",
    "x = np.array([4, 6, 9, 2, 6, 7, 3, 3, 6, 7])\n",
    "\n",
    "# simulated intercept\n",
    "b_0 = 1\n",
    "\n",
    "# simulated slope\n",
    "b_1 = 2"
   ]
  },
  {
   "cell_type": "markdown",
   "id": "4cffd77a",
   "metadata": {},
   "source": [
    "Let's calculate mu ($\\hat{\\mu}$) using our simulated data and parameters:"
   ]
  },
  {
   "cell_type": "code",
   "execution_count": 4,
   "id": "cc17d179",
   "metadata": {},
   "outputs": [
    {
     "data": {
      "text/plain": [
       "array([ 9, 13, 19,  5, 13, 15,  7,  7, 13, 15])"
      ]
     },
     "execution_count": 4,
     "metadata": {},
     "output_type": "execute_result"
    }
   ],
   "source": [
    "# calculate mu\n",
    "mu = b_0 + b_1 * x\n",
    "\n",
    "mu"
   ]
  },
  {
   "cell_type": "code",
   "execution_count": 5,
   "id": "86265cd7",
   "metadata": {},
   "outputs": [
    {
     "data": {
      "text/markdown": [
       "$\\Large \\hat{\\mu}_i = b_0 + b_1 x_{1i} $"
      ],
      "text/plain": [
       "<IPython.core.display.Markdown object>"
      ]
     },
     "metadata": {},
     "output_type": "display_data"
    }
   ],
   "source": [
    "# print the formalism of the mu calculation\n",
    "jupyprint(\"$\\Large \\hat{\\mu}_i = b_0 + b_1 x_{1i} $\")"
   ]
  },
  {
   "cell_type": "code",
   "execution_count": 6,
   "id": "5df67430",
   "metadata": {},
   "outputs": [
    {
     "data": {
      "text/markdown": [
       "$\\Large \\hat{\\mu_i} = 1 + 2 * \\begin{bmatrix}{} 4 \\\\ 6 \\\\ 9 \\\\ 2 \\\\ 6 \\\\ 7 \\\\ 3 \\\\ 3 \\\\ 6 \\\\ 7 \\\\ \\end{bmatrix} $"
      ],
      "text/plain": [
       "<IPython.core.display.Markdown object>"
      ]
     },
     "metadata": {},
     "output_type": "display_data"
    }
   ],
   "source": [
    "# show the calculation showing the values of our simulated data/slope/intercept\n",
    "jupyprint(\"$\\Large \\hat{\\mu_i} =\"+f\" {b_0} + {b_1} * {arraytex(np.atleast_2d(x).T)} $\")"
   ]
  },
  {
   "cell_type": "code",
   "execution_count": 7,
   "id": "3e4d6137",
   "metadata": {},
   "outputs": [
    {
     "data": {
      "text/markdown": [
       "$\\Large \\begin{bmatrix}{} 9 \\\\ 13 \\\\ 19 \\\\ 5 \\\\ 13 \\\\ 15 \\\\ 7 \\\\ 7 \\\\ 13 \\\\ 15 \\\\ \\end{bmatrix} = 1 + 2 * \\begin{bmatrix}{} 4 \\\\ 6 \\\\ 9 \\\\ 2 \\\\ 6 \\\\ 7 \\\\ 3 \\\\ 3 \\\\ 6 \\\\ 7 \\\\ \\end{bmatrix} $"
      ],
      "text/plain": [
       "<IPython.core.display.Markdown object>"
      ]
     },
     "metadata": {},
     "output_type": "display_data"
    }
   ],
   "source": [
    "# show the values of the mu vector\n",
    "jupyprint(f\"$\\Large {arraytex(np.atleast_2d(mu).T)} = {b_0} + {b_1} * {arraytex(np.atleast_2d(x).T)} $\")"
   ]
  },
  {
   "cell_type": "markdown",
   "id": "b4954b3b",
   "metadata": {},
   "source": [
    "Let's investigate the correct answer to the question of which of these statements is true:\n",
    "\n",
    "$ \\Large \\hat{\\mu}_i \\neq f(\\hat{\\mu}_i)$\n",
    "\n",
    "or\n",
    "\n",
    "$ \\Large \\hat{\\mu}_i == f(\\hat{\\mu}_i)$"
   ]
  },
  {
   "cell_type": "code",
   "execution_count": 8,
   "id": "5bd7c38c",
   "metadata": {},
   "outputs": [
    {
     "data": {
      "text/plain": [
       "array([ 9, 13, 19,  5, 13, 15,  7,  7, 13, 15])"
      ]
     },
     "execution_count": 8,
     "metadata": {},
     "output_type": "execute_result"
    }
   ],
   "source": [
    "# see what our f() function does, when applied to the mu vector\n",
    "f(mu)"
   ]
  },
  {
   "cell_type": "code",
   "execution_count": 9,
   "id": "a76c0355",
   "metadata": {},
   "outputs": [
    {
     "data": {
      "text/plain": [
       "array([ 9, 13, 19,  5, 13, 15,  7,  7, 13, 15])"
      ]
     },
     "execution_count": 9,
     "metadata": {},
     "output_type": "execute_result"
    }
   ],
   "source": [
    "# show the original mu vector\n",
    "mu"
   ]
  },
  {
   "cell_type": "code",
   "execution_count": 10,
   "id": "e97e052d",
   "metadata": {},
   "outputs": [
    {
     "data": {
      "text/plain": [
       "True"
      ]
     },
     "execution_count": 10,
     "metadata": {},
     "output_type": "execute_result"
    }
   ],
   "source": [
    "# are all the values the same?\n",
    "all(f(mu) == mu)"
   ]
  },
  {
   "cell_type": "markdown",
   "id": "0b338ee8",
   "metadata": {},
   "source": [
    "Let's call $f()$, as we defined it above, the \"identity function\", because whatever input we give it, it returns the same value(s) as its output.\n",
    "\n",
    "This is the *key thing to take away from this page*: **generalized linear models are just linear models where $f()$ is some other, more complex function than the identity function**.\n",
    "\n",
    "$\\Large f(\\hat{\\mu}_i) = b_0 + b_1 x_{i} $\n",
    "\n",
    "$\\Large f(\\hat{\\mu}_i) = b_0 + b_1 x_{1i} + b_2 x_{2i} + ... b_k x_{ki}$\n",
    "\n",
    "What this allows is to use the slope/intercept framework of linear regression (and its associated interpreations) with different types of outcome variable.\n",
    "\n",
    "E.g. linear regression is used for numeric outcome variables, and it produces predictions which range from $-\\infty$ to $\\infty$\n",
    "\n",
    "Some outcome variables do not cover this range e.g. dummy-coded categorical variables which take values only of 0 or 1 (though there are many others).\n",
    "\n",
    "We can use generalized linear models with these other types of variable\n",
    "\n",
    "We just need a function, $f()$ which *maps* or *links* linear predictions on the $-\\infty$ to $\\infty$ scale to the actual scale of the outcome variable. We can then use the linear model (slope and intercept) framework very flexibly, with many different types of outcome variable. \n",
    "\n",
    "We can include categorical predictors etc. just as we can in linear regression - the *linear* aspect of the framework is the same - it is flexible and highly interpretable.\n",
    "\n",
    "One way of thinking of these models is that there is *some scale on which the model predictions form a straight line* (or plane/hyperplane, in the case of multiple predictors.\n",
    "\n",
    "The table below shows some different types of generalized linear model:\n",
    "\n",
    "| Model type               | Range of predicted values | Example Outcome Variable  |Link name     | Link function $f(\\mu)$|\n",
    "|--------------------------|------------------------|------------------|-----------------------|-----------------------|\n",
    "| Linear Regression        | (-∞, ∞)                | Income           |Identity       | 1 * $μ$               |\n",
    "| Logistic Regression      | {0, 1}                 | Died/Survived    |Logit            | $ln(\\frac{μ} {1 – μ})$|\n",
    "| Poisson Regression       | 0, 1, 2, …  int(∞)     | Number of children|Log              | $ln(μ) $              |\n",
    "| Gamma Regression         | (0, ∞)                 | Waiting times     |Inverse          | $\\frac{1}{μ} $                |\n",
    "\n",
    "\n",
    "We will now turn our attention to Logistic Regression - which we've seen before- but against the backdrop of the **generalized linear model framework** just outlined."
   ]
  },
  {
   "cell_type": "code",
   "execution_count": null,
   "id": "15649b68",
   "metadata": {},
   "outputs": [],
   "source": []
  }
 ],
 "metadata": {
  "jupytext": {
   "formats": "ipynb,Rmd"
  },
  "kernelspec": {
   "display_name": "Python 3 (ipykernel)",
   "language": "python",
   "name": "python3"
  },
  "language_info": {
   "codemirror_mode": {
    "name": "ipython",
    "version": 3
   },
   "file_extension": ".py",
   "mimetype": "text/x-python",
   "name": "python",
   "nbconvert_exporter": "python",
   "pygments_lexer": "ipython3",
   "version": "3.11.1"
  }
 },
 "nbformat": 4,
 "nbformat_minor": 5
}
